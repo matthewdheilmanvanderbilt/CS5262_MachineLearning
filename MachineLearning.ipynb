{
  "nbformat": 4,
  "nbformat_minor": 0,
  "metadata": {
    "colab": {
      "provenance": [],
      "authorship_tag": "ABX9TyPEF4u6KzTlUQiFAlcuWqBo",
      "include_colab_link": true
    },
    "kernelspec": {
      "name": "python3",
      "display_name": "Python 3"
    },
    "language_info": {
      "name": "python"
    }
  },
  "cells": [
    {
      "cell_type": "markdown",
      "metadata": {
        "id": "view-in-github",
        "colab_type": "text"
      },
      "source": [
        "<a href=\"https://colab.research.google.com/github/matthewdheilmanvanderbilt/CS5262_MachineLearning/blob/main/MachineLearning.ipynb\" target=\"_parent\"><img src=\"https://colab.research.google.com/assets/colab-badge.svg\" alt=\"Open In Colab\"/></a>"
      ]
    },
    {
      "cell_type": "markdown",
      "source": [
        "# Background\n",
        "\n",
        "## Introduction\n",
        "This project fullfils the first set of assignments for the Vanderbilt CS5265-50 (Foundations of Machine Learning) class.  The project consists of delivering a machine learning application.  The building of the project will be done over the course of seven (7) weeks. \n",
        "\n",
        "The purpose of the project is to:\n",
        "1.   Setup the environment for the machine learning assignment\n",
        "1.   Learn how to setup and use Google Colab\n",
        "1.   Apply literate coding techniques in solving an analytical problem\n",
        "1.   Learn to use pandas to solve a data exploration problem\n",
        "\n",
        "The author of this project is Matt Heilman.  The professor is Dana Zheng.  The professor has asked the author to select a dataset will meet the following guidelines:\n",
        "*   Tabular/structured/2D (i.e. rows and columns)\n",
        "*   $\\geq$ 5000 samples/records/rows, but no more than 50k rows\n",
        "*   $\\geq$ 7 features/variables/columns, but no more than 25 columns\n",
        "*   Independence between data points (rows in your data)\n",
        "*   Identify a dataset that you can use for a binary classification task directly or after transformation\n",
        "*   Diverse data types for your columns:\n",
        "*   Continuous variables (e.g., measurements such as weight, temperature, etc)\n",
        "*   Count variables (e.g., age, number of people in a classroom, etc)\n",
        "*   Categorical variables (e.g., gender, type of Operating Systems, degrees of severity, etc)\n",
        "\n",
        "## Literature Review\n",
        "\n",
        "## Research Gap\n",
        "The author of this project has no machine learning education or experience.  This project, and the author's knowledge of machine learning, will evolve over the next few weeks.  At this point, the author is too ignorant to know what research gaps exist and this section will be updated before the final deliverable.\n",
        "\n",
        "## Challenges\n",
        "\n",
        "# Project Description\n",
        "\n",
        "## Project Topic\n",
        "\n",
        "## Methodology\n",
        "\n",
        "The following methodology will use used:\n",
        "1.   Problem Definition - Define the problem to be solved.\n",
        "1.   Data Exploration - Exploratory Data Analysis and an investigation of what data is available and when it's available.\n",
        "1.   Feature Enginnering - Take raw data and make alterations (combining, finding interatctions, recasting it, etc.)\n",
        "1.   Modeling - Create the actual model.\n",
        "1.   Assessment - Determine if the model is worth the investment/cost.\n",
        "\n",
        "\n",
        "The following data science process will be used:\n",
        "1.   Collection\n",
        "1.   Cleaning\n",
        "1.   Exploratory Data Analysis\n",
        "1.   Model Building\n",
        "1.   Deployment\n",
        "\n",
        "I have not seen the future assignments and I'm not sure if we will be working all the way through #5 Deployment. \n",
        "\n",
        "## Data Sources\n",
        "\n",
        "### Original Dataset\n",
        "The dataset is the Heart Disease Health Indicators Dataset available on Kaggle.com.  A full description of the dataset is available at: https://www.kaggle.com/datasets/alexteboul/heart-disease-health-indicators-dataset.  The dataset is available at: https://www.kaggle.com/datasets/alexteboul/heart-disease-health-indicators-dataset/download?datasetVersionNumber=3\n",
        "\n",
        "This dataset originally come from 441,455 survey responses, aquired in 2015, from the Behavioral Risk Factor Surveillance System (BRFSS).  The dataset consisted of 330 features.  The BRFSS is the USA's premier system of health-related telephone surveys that collect state data aobut U.S. residents regarding their health-related risk behaviors, chronic health conditions, and the use of preventative services (https://www.cdc.gov/brfss/about/index.htm).  The original dataset is available at: https://www.kaggle.com/datasets/cdc/behavioral-risk-factor-surveillance-system\n",
        "\n",
        "### Dataset for Project\n",
        "Alex Teboul cleansed the BRFF to allow for analysis of heart disease.  The details of the cleansing are located at: https://www.kaggle.com/code/alexteboul/heart-disease-health-indicators-dataset-notebook/notebook\n",
        "\n",
        "The cleansing consisted of reducing the dataset from 441,455 rows to 253,680 rows.  The feature were reduced from 330 to 22 features.  The features that remained are designated by Alex Teboul as important risk feactors for heart disease that research in the field has identified.\n",
        "\n",
        "## Anticipated Outcome(s)\n",
        "\n",
        "# Performance Metrics"
      ],
      "metadata": {
        "id": "ok06CYUp4d4o"
      }
    }
  ]
}