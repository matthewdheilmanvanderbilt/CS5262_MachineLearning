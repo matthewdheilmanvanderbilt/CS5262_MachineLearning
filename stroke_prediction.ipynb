{
  "nbformat": 4,
  "nbformat_minor": 0,
  "metadata": {
    "colab": {
      "provenance": [],
      "authorship_tag": "ABX9TyNNsh/6CIb30aOk1KbagDqZ",
      "include_colab_link": true
    },
    "kernelspec": {
      "name": "python3",
      "display_name": "Python 3"
    },
    "language_info": {
      "name": "python"
    }
  },
  "cells": [
    {
      "cell_type": "markdown",
      "metadata": {
        "id": "view-in-github",
        "colab_type": "text"
      },
      "source": [
        "<a href=\"https://colab.research.google.com/github/matthewdheilmanvanderbilt/CS5262_MachineLearning/blob/establish-an-initial-pipeline-with-learning/stroke_prediction.ipynb\" target=\"_parent\"><img src=\"https://colab.research.google.com/assets/colab-badge.svg\" alt=\"Open In Colab\"/></a>"
      ]
    },
    {
      "cell_type": "markdown",
      "source": [
        "# Background\n",
        "This project will be used to fulfill the first set of assignments for the Vanderbilt CS5265-50 (Foundations of Machine Learning) class.  The project consists of delivering a machine learning application.  The building of the project will be done over the course of seven (7) weeks. \n",
        "\n",
        "The purpose of the project is to:\n",
        "1.   Setup the environment for the machine learning assignment\n",
        "1.   Learn how to setup and use Google Colab\n",
        "1.   Apply literate coding techniques in solving an analytical problem\n",
        "1.   Learn to use pandas to solve a data exploration problem\n",
        "\n",
        "The author of this project is Matt Heilman.  The professor is Dana Zheng.  The professor has asked the author to select a dataset will meet the following guidelines:\n",
        "*   Tabular/structured/2D (i.e., rows and columns)\n",
        "*   $\\geq$ 5000 samples/records/rows, but no more than 50k rows\n",
        "*   $\\geq$ 7 features/variables/columns, but no more than 25 columns\n",
        "*   Independence between data points (rows in your data)\n",
        "*   Identify a dataset that you can use for a binary classification task directly or after transformation\n",
        "*   Diverse data types for your columns:\n",
        "*   Continuous variables (e.g., measurements such as weight, temperature, etc.)\n",
        "*   Count variables (e.g., age, number of people in a classroom, etc.)\n",
        "*   Categorical variables (e.g., gender, type of Operating Systems, degrees of severity, etc.)\n",
        "\n",
        "## Introduction\n",
        "Stoke is the leading cause of death in the United States (1).  It is the second largest cause of death worldwide (2).  Strokes are a major cause of serious disability for adults (1).  Every year, more than 795,000 people have strokes int he US (3).  Stokes related costs in the US were nearly \\\\$56.6 billion between 2018 and 2019 (3).   The US has the highest average cost per patient for stroke treatment of \\\\$59,900 (5).\n",
        "\n",
        "The CDC estimates 80% of stokes are preventable (4).  High blood pressure is the single most important treatable factor (4).  Other factors include life-style changes and medicine (6). \n",
        "\n",
        "## Literature Review\n",
        "\n",
        "\n",
        "1.   The CDC website was consulted for high level statistics on strokes.\n",
        "2.   Publicly available journal articles from NIH were also used. \n",
        "\n",
        "All references/citations are listed in the References section (below).\n",
        "\n",
        "\n",
        "## Research Gap\n",
        "There are no gaps in the research of strokes, their causes, their prevention, and their costs.  There is a significant amount of peer reviewed journal articles available.   \n",
        "\n",
        "## Challenges\n",
        "The author of this project has no machine learning education or experience.  This project, and the author's knowledge of machine learning, will evolve over the next few weeks.  At this point, the author is too ignorant to know what research gaps exist and this section will be updated before the final deliverable.\n",
        "\n",
        "# Project Description\n",
        "\n",
        "## Project Topic (Problem Formulation)\n",
        "This project will attempt to predict if a person has a risk of a stroke.  Strokes are preventable and the monetary cost to prevent a stroke pail in comparison to the treatment cost after a person suffers a stroke.  If all strokes could be eliminated in the US, there is a potential savings of $56 billion per year.\n",
        "\n",
        "## Methodology\n",
        "\n",
        "The following methodology will use used:\n",
        "1.   Problem Definition - Define the problem to be solved.\n",
        "1.   Data Exploration - Exploratory Data Analysis and an investigation of what data is available and when it's available.\n",
        "1.   Feature Engineering - Take raw data and make alterations (combining, finding interactions, recasting it, etc.)\n",
        "1.   Modeling - Create the actual model.\n",
        "1.   Assessment - Determine if the model is worth the investment/cost.\n",
        "\n",
        "\n",
        "The following data science process will be used:\n",
        "1.   Collection\n",
        "1.   Cleaning\n",
        "1.   Exploratory Data Analysis\n",
        "1.   Model Building\n",
        "1.   Deployment\n",
        "\n",
        "I have not seen the future assignments and I'm not sure if we will be working all the way through #5 Deployment. \n",
        "\n",
        "\n",
        "## Anticipated Outcome(s)\n",
        "The author anticipates the model will reflect the research that as done by the CDC, specifically that high blood pressure will be the leading indicator of stroke risk.  \n",
        "\n",
        "The author anticipates he will be able to develop a model that allows him to determine which risks have higher weightings for stoke risk.\n",
        "\n",
        "## Questions to Answer in EDA\n",
        "Question 1 - Can I use EDA to predict the features that will have the highest weight/score when the machine learning finds the best model?\n",
        "\n",
        "Question 2 - How clean is the BMI?  BMI is notorious for being inaccurate because it relies on people to measure height and weight.  Issue arise when people use different units (i.e. cm and lbs.) and with people who can't measure well (wheelchairs, walkers, etc.).\n",
        "\n",
        "Question 3 - How much garbage data is out there (i.e. missing columns, bad data, etc.)?  \n",
        "\n",
        "Question 4 - Are there enough stroke victims to make a prediction?  The future lectures (or the professor) talked about balanced data.  This question may actually be: Do I have balanced data and if it, do I need to do something with it?  \n",
        "\n",
        "Question 5 - What Panda methods (graphs/plots/functions) represent that data the best?\n",
        "\n",
        "# Performance Metrics\n",
        "I've attempted to read ahead (Week 4) to determine if I could determine performance metrics that I could use.  The lectures were a little too advanced for me (area under the curve, model scores, F0, RMSC, confusion matrix, regression metrics, etc.).\n",
        "\n",
        "I found a page from neptune.ai that talked about metrics.  At this point it looks like I will be calculating True Positives, True Negatives, False Positives, and False Negatives. I. can use this information to form a confusion matrix, the precision, recall, and F1-score.  \n",
        "\n",
        "There appears to be some way of calculating the value of the model.  Professor Spencer-Smith lectured that value is the best metric to use (not F0, AUC, RMSC).  For this exercise a positive ROI would be a good goal for this initial assignment.  \n",
        "\n",
        "The value can be looked at from various stakeholders:\n",
        "\n",
        "\n",
        "*   Payers: Payers and insurance companies will want to significantly reduce the number of strokes.  If they can identify members (patients) with stroke risks, they can educate and incentivize the member to reduce their stroke.\n",
        "*   People (patients/members): Strokes can be fatal or debilitating.  People find value in staying healthy.  \n",
        "*   Providers: Providers make money from strokes.  They may be less likely to find value in preventing strokes as it will affect their revenue in a negative way.\n",
        "\n"
      ],
      "metadata": {
        "id": "ok06CYUp4d4o"
      }
    },
    {
      "cell_type": "markdown",
      "source": [
        "# Load Libraries\n",
        "Load the standard libraries for loading data and performing the exploratory data analysis"
      ],
      "metadata": {
        "id": "pefszpB3bCqA"
      }
    },
    {
      "cell_type": "code",
      "source": [
        "#tables and visualization\n",
        "import pandas as pd\n",
        "import numpy as np\n",
        "import seaborn as sns\n",
        "import matplotlib.pyplot as plt\n",
        "\n",
        "#machine learning lbs\n",
        "from sklearn.svm import SVC\n",
        "from sklearn import preprocessing\n",
        "from sklearn.preprocessing import StandardScaler, OneHotEncoder, LabelBinarizer\n",
        "from sklearn.compose import ColumnTransformer, make_column_selector\n",
        "from sklearn.impute import SimpleImputer\n",
        "from sklearn.datasets import make_classification\n",
        "from sklearn.model_selection import train_test_split, GridSearchCV\n",
        "from sklearn.pipeline import Pipeline\n",
        "from sklearn.linear_model import LogisticRegression\n",
        "from sklearn import config_context\n",
        "from sklearn.metrics import classification_report, confusion_matrix, ConfusionMatrixDisplay\n",
        "from sklearn.ensemble import RandomForestRegressor, RandomForestClassifier"
      ],
      "metadata": {
        "id": "eNNhOth8almG"
      },
      "execution_count": 78,
      "outputs": []
    },
    {
      "cell_type": "markdown",
      "source": [
        "# Load Data\n",
        "Load the data using pandas and read it as a pandas dataframe"
      ],
      "metadata": {
        "id": "Le5uVLK-bafu"
      }
    },
    {
      "cell_type": "code",
      "source": [
        "responses = pd.read_csv('https://raw.githubusercontent.com/matthewdheilmanvanderbilt/CS5262_MachineLearning/main/healthcare-dataset-stroke-data.csv')\n",
        "display(responses.head()) # prints the heading of the dataframe and 5 rows\n",
        "responses.info() # summary of the dataframe"
      ],
      "metadata": {
        "colab": {
          "base_uri": "https://localhost:8080/",
          "height": 536
        },
        "id": "P3sI2awpbp4z",
        "outputId": "62137c11-9906-4ce8-9daf-8f1c2fb57954"
      },
      "execution_count": 79,
      "outputs": [
        {
          "output_type": "display_data",
          "data": {
            "text/plain": [
              "      id  gender   age  hypertension  heart_disease ever_married  \\\n",
              "0   9046    Male  67.0             0              1          Yes   \n",
              "1  51676  Female  61.0             0              0          Yes   \n",
              "2  31112    Male  80.0             0              1          Yes   \n",
              "3  60182  Female  49.0             0              0          Yes   \n",
              "4   1665  Female  79.0             1              0          Yes   \n",
              "\n",
              "       work_type Residence_type  avg_glucose_level   bmi   smoking_status  \\\n",
              "0        Private          Urban             228.69  36.6  formerly smoked   \n",
              "1  Self-employed          Rural             202.21   NaN     never smoked   \n",
              "2        Private          Rural             105.92  32.5     never smoked   \n",
              "3        Private          Urban             171.23  34.4           smokes   \n",
              "4  Self-employed          Rural             174.12  24.0     never smoked   \n",
              "\n",
              "   stroke  \n",
              "0       1  \n",
              "1       1  \n",
              "2       1  \n",
              "3       1  \n",
              "4       1  "
            ],
            "text/html": [
              "\n",
              "  <div id=\"df-82e2ee4a-a0a9-44dd-89a8-91b33b4188f5\">\n",
              "    <div class=\"colab-df-container\">\n",
              "      <div>\n",
              "<style scoped>\n",
              "    .dataframe tbody tr th:only-of-type {\n",
              "        vertical-align: middle;\n",
              "    }\n",
              "\n",
              "    .dataframe tbody tr th {\n",
              "        vertical-align: top;\n",
              "    }\n",
              "\n",
              "    .dataframe thead th {\n",
              "        text-align: right;\n",
              "    }\n",
              "</style>\n",
              "<table border=\"1\" class=\"dataframe\">\n",
              "  <thead>\n",
              "    <tr style=\"text-align: right;\">\n",
              "      <th></th>\n",
              "      <th>id</th>\n",
              "      <th>gender</th>\n",
              "      <th>age</th>\n",
              "      <th>hypertension</th>\n",
              "      <th>heart_disease</th>\n",
              "      <th>ever_married</th>\n",
              "      <th>work_type</th>\n",
              "      <th>Residence_type</th>\n",
              "      <th>avg_glucose_level</th>\n",
              "      <th>bmi</th>\n",
              "      <th>smoking_status</th>\n",
              "      <th>stroke</th>\n",
              "    </tr>\n",
              "  </thead>\n",
              "  <tbody>\n",
              "    <tr>\n",
              "      <th>0</th>\n",
              "      <td>9046</td>\n",
              "      <td>Male</td>\n",
              "      <td>67.0</td>\n",
              "      <td>0</td>\n",
              "      <td>1</td>\n",
              "      <td>Yes</td>\n",
              "      <td>Private</td>\n",
              "      <td>Urban</td>\n",
              "      <td>228.69</td>\n",
              "      <td>36.6</td>\n",
              "      <td>formerly smoked</td>\n",
              "      <td>1</td>\n",
              "    </tr>\n",
              "    <tr>\n",
              "      <th>1</th>\n",
              "      <td>51676</td>\n",
              "      <td>Female</td>\n",
              "      <td>61.0</td>\n",
              "      <td>0</td>\n",
              "      <td>0</td>\n",
              "      <td>Yes</td>\n",
              "      <td>Self-employed</td>\n",
              "      <td>Rural</td>\n",
              "      <td>202.21</td>\n",
              "      <td>NaN</td>\n",
              "      <td>never smoked</td>\n",
              "      <td>1</td>\n",
              "    </tr>\n",
              "    <tr>\n",
              "      <th>2</th>\n",
              "      <td>31112</td>\n",
              "      <td>Male</td>\n",
              "      <td>80.0</td>\n",
              "      <td>0</td>\n",
              "      <td>1</td>\n",
              "      <td>Yes</td>\n",
              "      <td>Private</td>\n",
              "      <td>Rural</td>\n",
              "      <td>105.92</td>\n",
              "      <td>32.5</td>\n",
              "      <td>never smoked</td>\n",
              "      <td>1</td>\n",
              "    </tr>\n",
              "    <tr>\n",
              "      <th>3</th>\n",
              "      <td>60182</td>\n",
              "      <td>Female</td>\n",
              "      <td>49.0</td>\n",
              "      <td>0</td>\n",
              "      <td>0</td>\n",
              "      <td>Yes</td>\n",
              "      <td>Private</td>\n",
              "      <td>Urban</td>\n",
              "      <td>171.23</td>\n",
              "      <td>34.4</td>\n",
              "      <td>smokes</td>\n",
              "      <td>1</td>\n",
              "    </tr>\n",
              "    <tr>\n",
              "      <th>4</th>\n",
              "      <td>1665</td>\n",
              "      <td>Female</td>\n",
              "      <td>79.0</td>\n",
              "      <td>1</td>\n",
              "      <td>0</td>\n",
              "      <td>Yes</td>\n",
              "      <td>Self-employed</td>\n",
              "      <td>Rural</td>\n",
              "      <td>174.12</td>\n",
              "      <td>24.0</td>\n",
              "      <td>never smoked</td>\n",
              "      <td>1</td>\n",
              "    </tr>\n",
              "  </tbody>\n",
              "</table>\n",
              "</div>\n",
              "      <button class=\"colab-df-convert\" onclick=\"convertToInteractive('df-82e2ee4a-a0a9-44dd-89a8-91b33b4188f5')\"\n",
              "              title=\"Convert this dataframe to an interactive table.\"\n",
              "              style=\"display:none;\">\n",
              "        \n",
              "  <svg xmlns=\"http://www.w3.org/2000/svg\" height=\"24px\"viewBox=\"0 0 24 24\"\n",
              "       width=\"24px\">\n",
              "    <path d=\"M0 0h24v24H0V0z\" fill=\"none\"/>\n",
              "    <path d=\"M18.56 5.44l.94 2.06.94-2.06 2.06-.94-2.06-.94-.94-2.06-.94 2.06-2.06.94zm-11 1L8.5 8.5l.94-2.06 2.06-.94-2.06-.94L8.5 2.5l-.94 2.06-2.06.94zm10 10l.94 2.06.94-2.06 2.06-.94-2.06-.94-.94-2.06-.94 2.06-2.06.94z\"/><path d=\"M17.41 7.96l-1.37-1.37c-.4-.4-.92-.59-1.43-.59-.52 0-1.04.2-1.43.59L10.3 9.45l-7.72 7.72c-.78.78-.78 2.05 0 2.83L4 21.41c.39.39.9.59 1.41.59.51 0 1.02-.2 1.41-.59l7.78-7.78 2.81-2.81c.8-.78.8-2.07 0-2.86zM5.41 20L4 18.59l7.72-7.72 1.47 1.35L5.41 20z\"/>\n",
              "  </svg>\n",
              "      </button>\n",
              "      \n",
              "  <style>\n",
              "    .colab-df-container {\n",
              "      display:flex;\n",
              "      flex-wrap:wrap;\n",
              "      gap: 12px;\n",
              "    }\n",
              "\n",
              "    .colab-df-convert {\n",
              "      background-color: #E8F0FE;\n",
              "      border: none;\n",
              "      border-radius: 50%;\n",
              "      cursor: pointer;\n",
              "      display: none;\n",
              "      fill: #1967D2;\n",
              "      height: 32px;\n",
              "      padding: 0 0 0 0;\n",
              "      width: 32px;\n",
              "    }\n",
              "\n",
              "    .colab-df-convert:hover {\n",
              "      background-color: #E2EBFA;\n",
              "      box-shadow: 0px 1px 2px rgba(60, 64, 67, 0.3), 0px 1px 3px 1px rgba(60, 64, 67, 0.15);\n",
              "      fill: #174EA6;\n",
              "    }\n",
              "\n",
              "    [theme=dark] .colab-df-convert {\n",
              "      background-color: #3B4455;\n",
              "      fill: #D2E3FC;\n",
              "    }\n",
              "\n",
              "    [theme=dark] .colab-df-convert:hover {\n",
              "      background-color: #434B5C;\n",
              "      box-shadow: 0px 1px 3px 1px rgba(0, 0, 0, 0.15);\n",
              "      filter: drop-shadow(0px 1px 2px rgba(0, 0, 0, 0.3));\n",
              "      fill: #FFFFFF;\n",
              "    }\n",
              "  </style>\n",
              "\n",
              "      <script>\n",
              "        const buttonEl =\n",
              "          document.querySelector('#df-82e2ee4a-a0a9-44dd-89a8-91b33b4188f5 button.colab-df-convert');\n",
              "        buttonEl.style.display =\n",
              "          google.colab.kernel.accessAllowed ? 'block' : 'none';\n",
              "\n",
              "        async function convertToInteractive(key) {\n",
              "          const element = document.querySelector('#df-82e2ee4a-a0a9-44dd-89a8-91b33b4188f5');\n",
              "          const dataTable =\n",
              "            await google.colab.kernel.invokeFunction('convertToInteractive',\n",
              "                                                     [key], {});\n",
              "          if (!dataTable) return;\n",
              "\n",
              "          const docLinkHtml = 'Like what you see? Visit the ' +\n",
              "            '<a target=\"_blank\" href=https://colab.research.google.com/notebooks/data_table.ipynb>data table notebook</a>'\n",
              "            + ' to learn more about interactive tables.';\n",
              "          element.innerHTML = '';\n",
              "          dataTable['output_type'] = 'display_data';\n",
              "          await google.colab.output.renderOutput(dataTable, element);\n",
              "          const docLink = document.createElement('div');\n",
              "          docLink.innerHTML = docLinkHtml;\n",
              "          element.appendChild(docLink);\n",
              "        }\n",
              "      </script>\n",
              "    </div>\n",
              "  </div>\n",
              "  "
            ]
          },
          "metadata": {}
        },
        {
          "output_type": "stream",
          "name": "stdout",
          "text": [
            "<class 'pandas.core.frame.DataFrame'>\n",
            "RangeIndex: 5110 entries, 0 to 5109\n",
            "Data columns (total 12 columns):\n",
            " #   Column             Non-Null Count  Dtype  \n",
            "---  ------             --------------  -----  \n",
            " 0   id                 5110 non-null   int64  \n",
            " 1   gender             5110 non-null   object \n",
            " 2   age                5110 non-null   float64\n",
            " 3   hypertension       5110 non-null   int64  \n",
            " 4   heart_disease      5110 non-null   int64  \n",
            " 5   ever_married       5110 non-null   object \n",
            " 6   work_type          5110 non-null   object \n",
            " 7   Residence_type     5110 non-null   object \n",
            " 8   avg_glucose_level  5110 non-null   float64\n",
            " 9   bmi                4909 non-null   float64\n",
            " 10  smoking_status     5110 non-null   object \n",
            " 11  stroke             5110 non-null   int64  \n",
            "dtypes: float64(3), int64(4), object(5)\n",
            "memory usage: 479.2+ KB\n"
          ]
        }
      ]
    },
    {
      "cell_type": "markdown",
      "source": [
        "# Exploratory Data Analysis & Data Cleansing\n",
        "Performing some simple exploratory data analysis & cleanse data as needed"
      ],
      "metadata": {
        "id": "0JUoq7fHdaan"
      }
    },
    {
      "cell_type": "markdown",
      "source": [
        "### Look for missing values"
      ],
      "metadata": {
        "id": "vGBgdtxD6BqH"
      }
    },
    {
      "cell_type": "code",
      "source": [
        "responses.isna().sum()  # Check how many missing values are in each column\n",
        "\n"
      ],
      "metadata": {
        "colab": {
          "base_uri": "https://localhost:8080/"
        },
        "id": "6L4ZuS3uddWG",
        "outputId": "84c349cb-522f-403c-89c4-71b4e7f0a976"
      },
      "execution_count": 80,
      "outputs": [
        {
          "output_type": "execute_result",
          "data": {
            "text/plain": [
              "id                     0\n",
              "gender                 0\n",
              "age                    0\n",
              "hypertension           0\n",
              "heart_disease          0\n",
              "ever_married           0\n",
              "work_type              0\n",
              "Residence_type         0\n",
              "avg_glucose_level      0\n",
              "bmi                  201\n",
              "smoking_status         0\n",
              "stroke                 0\n",
              "dtype: int64"
            ]
          },
          "metadata": {},
          "execution_count": 80
        }
      ]
    },
    {
      "cell_type": "markdown",
      "source": [
        "#### Drop the records with a null/nan BMI"
      ],
      "metadata": {
        "id": "ccu07wqk0Fzt"
      }
    },
    {
      "cell_type": "code",
      "source": [
        "responses = responses.dropna(subset=['bmi'])"
      ],
      "metadata": {
        "id": "WqF1e8J60I4U"
      },
      "execution_count": 81,
      "outputs": []
    },
    {
      "cell_type": "markdown",
      "source": [
        "### Examine Stroke\n"
      ],
      "metadata": {
        "id": "a_MQlGWU6OhT"
      }
    },
    {
      "cell_type": "code",
      "source": [
        "display(responses['stroke'].value_counts())\n",
        "display(responses['stroke'].value_counts()[1] / responses['stroke'].value_counts()[0])"
      ],
      "metadata": {
        "id": "ynDD8wHKcvC9",
        "outputId": "a2fec8c5-a453-420b-8ad5-f44575c94215",
        "colab": {
          "base_uri": "https://localhost:8080/",
          "height": 86
        }
      },
      "execution_count": 82,
      "outputs": [
        {
          "output_type": "display_data",
          "data": {
            "text/plain": [
              "0    4700\n",
              "1     209\n",
              "Name: stroke, dtype: int64"
            ]
          },
          "metadata": {}
        },
        {
          "output_type": "display_data",
          "data": {
            "text/plain": [
              "0.044468085106382976"
            ]
          },
          "metadata": {}
        }
      ]
    },
    {
      "cell_type": "markdown",
      "source": [
        "Only 5% of patients have had a stroke.  This data is not well balanced.  "
      ],
      "metadata": {
        "id": "w_hjNNhVNf4k"
      }
    },
    {
      "cell_type": "markdown",
      "source": [
        "### Examine Gender"
      ],
      "metadata": {
        "id": "8HI5YL_pcqY0"
      }
    },
    {
      "cell_type": "code",
      "source": [
        "responses.gender.unique()\n",
        "\n",
        "# Creating a pie chart to visualize proportions of the genders in this data\n",
        "display(responses['gender'].value_counts())\n",
        "\n"
      ],
      "metadata": {
        "colab": {
          "base_uri": "https://localhost:8080/",
          "height": 86
        },
        "id": "HeluZzWPeM5e",
        "outputId": "16c86b85-1e33-45d9-e3c3-b649e78a9130"
      },
      "execution_count": 83,
      "outputs": [
        {
          "output_type": "display_data",
          "data": {
            "text/plain": [
              "Female    2897\n",
              "Male      2011\n",
              "Other        1\n",
              "Name: gender, dtype: int64"
            ]
          },
          "metadata": {}
        }
      ]
    },
    {
      "cell_type": "markdown",
      "source": [
        "#### Data Cleansing -  Remove the 'Other' gender.  There is only one 'Other' gender and it can be considered an outlier and not needed.  "
      ],
      "metadata": {
        "id": "hBVIAEd9zrNm"
      }
    },
    {
      "cell_type": "code",
      "source": [
        "responses.drop(responses[responses['gender'] == 'Other'].index, inplace = True)"
      ],
      "metadata": {
        "id": "0KQpcn2c0CVm"
      },
      "execution_count": 84,
      "outputs": []
    },
    {
      "cell_type": "markdown",
      "source": [
        "#### Look at strokes by gender"
      ],
      "metadata": {
        "id": "Yb0xnS3ps9KW"
      }
    },
    {
      "cell_type": "code",
      "source": [
        "#plt.pie(gender_counts, labels=gender_counts.index, shadow = True)\n",
        "sns.countplot(data=responses, hue='stroke', x='gender', orient='h')"
      ],
      "metadata": {
        "colab": {
          "base_uri": "https://localhost:8080/",
          "height": 466
        },
        "id": "0YzRZwtAtJLi",
        "outputId": "8d424436-432d-4a94-ddfc-1a051b574497"
      },
      "execution_count": 85,
      "outputs": [
        {
          "output_type": "execute_result",
          "data": {
            "text/plain": [
              "<Axes: xlabel='gender', ylabel='count'>"
            ]
          },
          "metadata": {},
          "execution_count": 85
        },
        {
          "output_type": "display_data",
          "data": {
            "text/plain": [
              "<Figure size 640x480 with 1 Axes>"
            ],
            "image/png": "[encoded data removed]"
          },
          "metadata": {}
        }
      ]
    },
    {
      "cell_type": "code",
      "source": [
        "male_strokes =  (len(responses[(responses['gender'] == 'Male') & (responses['stroke'] == 1) ]))\n",
        "all_males = (len(responses[(responses['gender'] == 'Male')]))\n",
        "female_strokes =  (len(responses[(responses['gender'] == 'Female') & (responses['stroke'] == 1) ]))\n",
        "all_females =  (len(responses[(responses['gender'] == 'Female')]))\n",
        "\n",
        "display (male_strokes/all_males)\n",
        "display (female_strokes/all_females)"
      ],
      "metadata": {
        "colab": {
          "base_uri": "https://localhost:8080/",
          "height": 52
        },
        "id": "nxmsP1KUY8DY",
        "outputId": "43d256d2-d019-41f6-d1be-29293d2805dc"
      },
      "execution_count": 86,
      "outputs": [
        {
          "output_type": "display_data",
          "data": {
            "text/plain": [
              "0.044256588761810045"
            ]
          },
          "metadata": {}
        },
        {
          "output_type": "display_data",
          "data": {
            "text/plain": [
              "0.04142216085605799"
            ]
          },
          "metadata": {}
        }
      ]
    },
    {
      "cell_type": "markdown",
      "source": [
        "The percentage of men and women who have strokes are 5%."
      ],
      "metadata": {
        "id": "kGNYtkeGN6A1"
      }
    },
    {
      "cell_type": "markdown",
      "source": [
        "### Examine Age"
      ],
      "metadata": {
        "id": "Guuk3jrJ6X_Y"
      }
    },
    {
      "cell_type": "code",
      "source": [
        "age = responses.age.unique()\n",
        "print(sorted(age))"
      ],
      "metadata": {
        "colab": {
          "base_uri": "https://localhost:8080/"
        },
        "id": "VEOr9nU7eLzK",
        "outputId": "63cb5918-2909-4d06-aec8-a76d7b39c0ab"
      },
      "execution_count": 87,
      "outputs": [
        {
          "output_type": "stream",
          "name": "stdout",
          "text": [
            "[0.08, 0.16, 0.24, 0.32, 0.4, 0.48, 0.56, 0.64, 0.72, 0.8, 0.88, 1.0, 1.08, 1.16, 1.24, 1.32, 1.4, 1.48, 1.56, 1.64, 1.72, 1.8, 1.88, 2.0, 3.0, 4.0, 5.0, 6.0, 7.0, 8.0, 9.0, 10.0, 11.0, 12.0, 13.0, 14.0, 15.0, 16.0, 17.0, 18.0, 19.0, 20.0, 21.0, 22.0, 23.0, 24.0, 25.0, 26.0, 27.0, 28.0, 29.0, 30.0, 31.0, 32.0, 33.0, 34.0, 35.0, 36.0, 37.0, 38.0, 39.0, 40.0, 41.0, 42.0, 43.0, 44.0, 45.0, 46.0, 47.0, 48.0, 49.0, 50.0, 51.0, 52.0, 53.0, 54.0, 55.0, 56.0, 57.0, 58.0, 59.0, 60.0, 61.0, 62.0, 63.0, 64.0, 65.0, 66.0, 67.0, 68.0, 69.0, 70.0, 71.0, 72.0, 73.0, 74.0, 75.0, 76.0, 77.0, 78.0, 79.0, 80.0, 81.0, 82.0]\n"
          ]
        }
      ]
    },
    {
      "cell_type": "markdown",
      "source": [
        "Ages below 2 years have fractional/decimal values."
      ],
      "metadata": {
        "id": "7FUjjtMWOGvq"
      }
    },
    {
      "cell_type": "code",
      "source": [
        "#age_counts = responses['age'].value_counts()\n",
        "#display(age_counts)\n",
        "\n",
        "age_counts = responses[(responses['age'] < 1) | ( (responses['age'] > 1) & (responses['age'] < 2))]\n",
        "non_int_age_count = age_counts['age'].value_counts()\n",
        "display(non_int_age_count)\n",
        "non_int_age_count.sum()\n"
      ],
      "metadata": {
        "id": "ovP0Jxcs6_yG",
        "outputId": "7763291f-a698-4f69-dee2-551e1ea171aa",
        "colab": {
          "base_uri": "https://localhost:8080/",
          "height": 434
        }
      },
      "execution_count": 88,
      "outputs": [
        {
          "output_type": "display_data",
          "data": {
            "text/plain": [
              "1.80    8\n",
              "1.64    8\n",
              "1.24    8\n",
              "1.08    7\n",
              "1.88    7\n",
              "1.32    6\n",
              "1.72    6\n",
              "1.48    6\n",
              "0.72    5\n",
              "0.32    5\n",
              "0.56    5\n",
              "0.24    5\n",
              "0.88    5\n",
              "0.80    4\n",
              "0.64    4\n",
              "1.56    4\n",
              "1.16    4\n",
              "1.40    3\n",
              "0.16    3\n",
              "0.40    2\n",
              "0.08    2\n",
              "0.48    2\n",
              "Name: age, dtype: int64"
            ]
          },
          "metadata": {}
        },
        {
          "output_type": "execute_result",
          "data": {
            "text/plain": [
              "109"
            ]
          },
          "metadata": {},
          "execution_count": 88
        }
      ]
    },
    {
      "cell_type": "markdown",
      "source": [
        "There are 115 values that have decimal values.  Round them in Feature Engineering"
      ],
      "metadata": {
        "id": "4b-pQAuGONux"
      }
    },
    {
      "cell_type": "code",
      "source": [
        "responses.hist(column=['age'])"
      ],
      "metadata": {
        "id": "qJ74i7SO8Bbc",
        "outputId": "0dd4b872-7274-40c0-d6b9-3e86c74b7412",
        "colab": {
          "base_uri": "https://localhost:8080/",
          "height": 469
        }
      },
      "execution_count": 89,
      "outputs": [
        {
          "output_type": "execute_result",
          "data": {
            "text/plain": [
              "array([[<Axes: title={'center': 'age'}>]], dtype=object)"
            ]
          },
          "metadata": {},
          "execution_count": 89
        },
        {
          "output_type": "display_data",
          "data": {
            "text/plain": [
              "<Figure size 640x480 with 1 Axes>"
            ],
            "image/png": "[encoded data removed]"
          },
          "metadata": {}
        }
      ]
    },
    {
      "cell_type": "markdown",
      "source": [
        "There is pretty even distribution of ages in this data."
      ],
      "metadata": {
        "id": "GTpt7ksTOZjJ"
      }
    },
    {
      "cell_type": "code",
      "source": [
        "sns.stripplot(data=responses, x=\"stroke\", y=\"age\") #Do we see more stroke after a certain age?"
      ],
      "metadata": {
        "id": "8nCygCG5UC_o",
        "outputId": "5795ecc4-a806-49c1-fa6c-ecf4a832a166",
        "colab": {
          "base_uri": "https://localhost:8080/",
          "height": 466
        }
      },
      "execution_count": 90,
      "outputs": [
        {
          "output_type": "execute_result",
          "data": {
            "text/plain": [
              "<Axes: xlabel='stroke', ylabel='age'>"
            ]
          },
          "metadata": {},
          "execution_count": 90
        },
        {
          "output_type": "display_data",
          "data": {
            "text/plain": [
              "<Figure size 640x480 with 1 Axes>"
            ],
            "image/png": "[encoded data removed]"
          },
          "metadata": {}
        }
      ]
    },
    {
      "cell_type": "code",
      "source": [
        "sns.boxplot(y='age', x='stroke', data=responses)"
      ],
      "metadata": {
        "colab": {
          "base_uri": "https://localhost:8080/",
          "height": 466
        },
        "id": "FTwv_Y3AEHbm",
        "outputId": "d8649f09-07a5-4a1d-a7ed-923bc7e5726e"
      },
      "execution_count": 91,
      "outputs": [
        {
          "output_type": "execute_result",
          "data": {
            "text/plain": [
              "<Axes: xlabel='stroke', ylabel='age'>"
            ]
          },
          "metadata": {},
          "execution_count": 91
        },
        {
          "output_type": "display_data",
          "data": {
            "text/plain": [
              "<Figure size 640x480 with 1 Axes>"
            ],
            "image/png": "[encoded data removed]"
          },
          "metadata": {}
        }
      ]
    },
    {
      "cell_type": "markdown",
      "source": [
        "Older people appear to have a higher incidence of stroke.  The risk appears to start at 40 and become larger after 60.  There are 3 outliers (below 40).  I propose to drop these, but will verify with the professor."
      ],
      "metadata": {
        "id": "Td5D8wdOOecy"
      }
    },
    {
      "cell_type": "markdown",
      "source": [
        "### Examine Hypertension\n",
        "\n",
        "\n",
        "\n"
      ],
      "metadata": {
        "id": "dtAnRByIf9X3"
      }
    },
    {
      "cell_type": "code",
      "source": [
        "responses['hypertension'].value_counts()"
      ],
      "metadata": {
        "colab": {
          "base_uri": "https://localhost:8080/"
        },
        "id": "5C1QghzCgewr",
        "outputId": "c44b1e67-4c3b-41d9-9ef5-04ada4addcf1"
      },
      "execution_count": 92,
      "outputs": [
        {
          "output_type": "execute_result",
          "data": {
            "text/plain": [
              "0    4457\n",
              "1     451\n",
              "Name: hypertension, dtype: int64"
            ]
          },
          "metadata": {},
          "execution_count": 92
        }
      ]
    },
    {
      "cell_type": "markdown",
      "source": [
        "This is not a balanced dataset."
      ],
      "metadata": {
        "id": "EKiG9yNEt7La"
      }
    },
    {
      "cell_type": "code",
      "source": [
        "sns.countplot(data=responses, x='hypertension', hue='stroke')"
      ],
      "metadata": {
        "colab": {
          "base_uri": "https://localhost:8080/",
          "height": 466
        },
        "id": "sNOzF5sugrSb",
        "outputId": "a22191bd-96d6-4a07-bbeb-f7fcfee5de07"
      },
      "execution_count": 93,
      "outputs": [
        {
          "output_type": "execute_result",
          "data": {
            "text/plain": [
              "<Axes: xlabel='hypertension', ylabel='count'>"
            ]
          },
          "metadata": {},
          "execution_count": 93
        },
        {
          "output_type": "display_data",
          "data": {
            "text/plain": [
              "<Figure size 640x480 with 1 Axes>"
            ],
            "image/png": "[encoded data removed]"
          },
          "metadata": {}
        }
      ]
    },
    {
      "cell_type": "code",
      "source": [
        "strokes_by_hypertension_stroke = responses.groupby(['hypertension', 'stroke']).agg({'stroke': 'count'})\n",
        "strokes_by_hypertension = responses.groupby(['hypertension']).agg({'stroke': 'count'})\n",
        "display(strokes_by_hypertension_stroke)\n",
        "display (strokes_by_hypertension_stroke.div(strokes_by_hypertension, level='hypertension')*100)"
      ],
      "metadata": {
        "colab": {
          "base_uri": "https://localhost:8080/",
          "height": 395
        },
        "id": "Yc7q1jPcgy1B",
        "outputId": "98815bb7-7fa7-47ce-8686-ab591ddfcdb0"
      },
      "execution_count": 94,
      "outputs": [
        {
          "output_type": "display_data",
          "data": {
            "text/plain": [
              "                     stroke\n",
              "hypertension stroke        \n",
              "0            0         4308\n",
              "             1          149\n",
              "1            0          391\n",
              "             1           60"
            ],
            "text/html": [
              "\n",
              "  <div id=\"df-b770d7e4-5974-44b4-aaae-edde8cf0af1b\">\n",
              "    <div class=\"colab-df-container\">\n",
              "      <div>\n",
              "<style scoped>\n",
              "    .dataframe tbody tr th:only-of-type {\n",
              "        vertical-align: middle;\n",
              "    }\n",
              "\n",
              "    .dataframe tbody tr th {\n",
              "        vertical-align: top;\n",
              "    }\n",
              "\n",
              "    .dataframe thead th {\n",
              "        text-align: right;\n",
              "    }\n",
              "</style>\n",
              "<table border=\"1\" class=\"dataframe\">\n",
              "  <thead>\n",
              "    <tr style=\"text-align: right;\">\n",
              "      <th></th>\n",
              "      <th></th>\n",
              "      <th>stroke</th>\n",
              "    </tr>\n",
              "    <tr>\n",
              "      <th>hypertension</th>\n",
              "      <th>stroke</th>\n",
              "      <th></th>\n",
              "    </tr>\n",
              "  </thead>\n",
              "  <tbody>\n",
              "    <tr>\n",
              "      <th rowspan=\"2\" valign=\"top\">0</th>\n",
              "      <th>0</th>\n",
              "      <td>4308</td>\n",
              "    </tr>\n",
              "    <tr>\n",
              "      <th>1</th>\n",
              "      <td>149</td>\n",
              "    </tr>\n",
              "    <tr>\n",
              "      <th rowspan=\"2\" valign=\"top\">1</th>\n",
              "      <th>0</th>\n",
              "      <td>391</td>\n",
              "    </tr>\n",
              "    <tr>\n",
              "      <th>1</th>\n",
              "      <td>60</td>\n",
              "    </tr>\n",
              "  </tbody>\n",
              "</table>\n",
              "</div>\n",
              "      <button class=\"colab-df-convert\" onclick=\"convertToInteractive('df-b770d7e4-5974-44b4-aaae-edde8cf0af1b')\"\n",
              "              title=\"Convert this dataframe to an interactive table.\"\n",
              "              style=\"display:none;\">\n",
              "        \n",
              "  <svg xmlns=\"http://www.w3.org/2000/svg\" height=\"24px\"viewBox=\"0 0 24 24\"\n",
              "       width=\"24px\">\n",
              "    <path d=\"M0 0h24v24H0V0z\" fill=\"none\"/>\n",
              "    <path d=\"M18.56 5.44l.94 2.06.94-2.06 2.06-.94-2.06-.94-.94-2.06-.94 2.06-2.06.94zm-11 1L8.5 8.5l.94-2.06 2.06-.94-2.06-.94L8.5 2.5l-.94 2.06-2.06.94zm10 10l.94 2.06.94-2.06 2.06-.94-2.06-.94-.94-2.06-.94 2.06-2.06.94z\"/><path d=\"M17.41 7.96l-1.37-1.37c-.4-.4-.92-.59-1.43-.59-.52 0-1.04.2-1.43.59L10.3 9.45l-7.72 7.72c-.78.78-.78 2.05 0 2.83L4 21.41c.39.39.9.59 1.41.59.51 0 1.02-.2 1.41-.59l7.78-7.78 2.81-2.81c.8-.78.8-2.07 0-2.86zM5.41 20L4 18.59l7.72-7.72 1.47 1.35L5.41 20z\"/>\n",
              "  </svg>\n",
              "      </button>\n",
              "      \n",
              "  <style>\n",
              "    .colab-df-container {\n",
              "      display:flex;\n",
              "      flex-wrap:wrap;\n",
              "      gap: 12px;\n",
              "    }\n",
              "\n",
              "    .colab-df-convert {\n",
              "      background-color: #E8F0FE;\n",
              "      border: none;\n",
              "      border-radius: 50%;\n",
              "      cursor: pointer;\n",
              "      display: none;\n",
              "      fill: #1967D2;\n",
              "      height: 32px;\n",
              "      padding: 0 0 0 0;\n",
              "      width: 32px;\n",
              "    }\n",
              "\n",
              "    .colab-df-convert:hover {\n",
              "      background-color: #E2EBFA;\n",
              "      box-shadow: 0px 1px 2px rgba(60, 64, 67, 0.3), 0px 1px 3px 1px rgba(60, 64, 67, 0.15);\n",
              "      fill: #174EA6;\n",
              "    }\n",
              "\n",
              "    [theme=dark] .colab-df-convert {\n",
              "      background-color: #3B4455;\n",
              "      fill: #D2E3FC;\n",
              "    }\n",
              "\n",
              "    [theme=dark] .colab-df-convert:hover {\n",
              "      background-color: #434B5C;\n",
              "      box-shadow: 0px 1px 3px 1px rgba(0, 0, 0, 0.15);\n",
              "      filter: drop-shadow(0px 1px 2px rgba(0, 0, 0, 0.3));\n",
              "      fill: #FFFFFF;\n",
              "    }\n",
              "  </style>\n",
              "\n",
              "      <script>\n",
              "        const buttonEl =\n",
              "          document.querySelector('#df-b770d7e4-5974-44b4-aaae-edde8cf0af1b button.colab-df-convert');\n",
              "        buttonEl.style.display =\n",
              "          google.colab.kernel.accessAllowed ? 'block' : 'none';\n",
              "\n",
              "        async function convertToInteractive(key) {\n",
              "          const element = document.querySelector('#df-b770d7e4-5974-44b4-aaae-edde8cf0af1b');\n",
              "          const dataTable =\n",
              "            await google.colab.kernel.invokeFunction('convertToInteractive',\n",
              "                                                     [key], {});\n",
              "          if (!dataTable) return;\n",
              "\n",
              "          const docLinkHtml = 'Like what you see? Visit the ' +\n",
              "            '<a target=\"_blank\" href=https://colab.research.google.com/notebooks/data_table.ipynb>data table notebook</a>'\n",
              "            + ' to learn more about interactive tables.';\n",
              "          element.innerHTML = '';\n",
              "          dataTable['output_type'] = 'display_data';\n",
              "          await google.colab.output.renderOutput(dataTable, element);\n",
              "          const docLink = document.createElement('div');\n",
              "          docLink.innerHTML = docLinkHtml;\n",
              "          element.appendChild(docLink);\n",
              "        }\n",
              "      </script>\n",
              "    </div>\n",
              "  </div>\n",
              "  "
            ]
          },
          "metadata": {}
        },
        {
          "output_type": "display_data",
          "data": {
            "text/plain": [
              "                        stroke\n",
              "hypertension stroke           \n",
              "0            0       96.656944\n",
              "             1        3.343056\n",
              "1            0       86.696231\n",
              "             1       13.303769"
            ],
            "text/html": [
              "\n",
              "  <div id=\"df-d759ac06-aa4f-45a2-99a2-b741eec87a0c\">\n",
              "    <div class=\"colab-df-container\">\n",
              "      <div>\n",
              "<style scoped>\n",
              "    .dataframe tbody tr th:only-of-type {\n",
              "        vertical-align: middle;\n",
              "    }\n",
              "\n",
              "    .dataframe tbody tr th {\n",
              "        vertical-align: top;\n",
              "    }\n",
              "\n",
              "    .dataframe thead th {\n",
              "        text-align: right;\n",
              "    }\n",
              "</style>\n",
              "<table border=\"1\" class=\"dataframe\">\n",
              "  <thead>\n",
              "    <tr style=\"text-align: right;\">\n",
              "      <th></th>\n",
              "      <th></th>\n",
              "      <th>stroke</th>\n",
              "    </tr>\n",
              "    <tr>\n",
              "      <th>hypertension</th>\n",
              "      <th>stroke</th>\n",
              "      <th></th>\n",
              "    </tr>\n",
              "  </thead>\n",
              "  <tbody>\n",
              "    <tr>\n",
              "      <th rowspan=\"2\" valign=\"top\">0</th>\n",
              "      <th>0</th>\n",
              "      <td>96.656944</td>\n",
              "    </tr>\n",
              "    <tr>\n",
              "      <th>1</th>\n",
              "      <td>3.343056</td>\n",
              "    </tr>\n",
              "    <tr>\n",
              "      <th rowspan=\"2\" valign=\"top\">1</th>\n",
              "      <th>0</th>\n",
              "      <td>86.696231</td>\n",
              "    </tr>\n",
              "    <tr>\n",
              "      <th>1</th>\n",
              "      <td>13.303769</td>\n",
              "    </tr>\n",
              "  </tbody>\n",
              "</table>\n",
              "</div>\n",
              "      <button class=\"colab-df-convert\" onclick=\"convertToInteractive('df-d759ac06-aa4f-45a2-99a2-b741eec87a0c')\"\n",
              "              title=\"Convert this dataframe to an interactive table.\"\n",
              "              style=\"display:none;\">\n",
              "        \n",
              "  <svg xmlns=\"http://www.w3.org/2000/svg\" height=\"24px\"viewBox=\"0 0 24 24\"\n",
              "       width=\"24px\">\n",
              "    <path d=\"M0 0h24v24H0V0z\" fill=\"none\"/>\n",
              "    <path d=\"M18.56 5.44l.94 2.06.94-2.06 2.06-.94-2.06-.94-.94-2.06-.94 2.06-2.06.94zm-11 1L8.5 8.5l.94-2.06 2.06-.94-2.06-.94L8.5 2.5l-.94 2.06-2.06.94zm10 10l.94 2.06.94-2.06 2.06-.94-2.06-.94-.94-2.06-.94 2.06-2.06.94z\"/><path d=\"M17.41 7.96l-1.37-1.37c-.4-.4-.92-.59-1.43-.59-.52 0-1.04.2-1.43.59L10.3 9.45l-7.72 7.72c-.78.78-.78 2.05 0 2.83L4 21.41c.39.39.9.59 1.41.59.51 0 1.02-.2 1.41-.59l7.78-7.78 2.81-2.81c.8-.78.8-2.07 0-2.86zM5.41 20L4 18.59l7.72-7.72 1.47 1.35L5.41 20z\"/>\n",
              "  </svg>\n",
              "      </button>\n",
              "      \n",
              "  <style>\n",
              "    .colab-df-container {\n",
              "      display:flex;\n",
              "      flex-wrap:wrap;\n",
              "      gap: 12px;\n",
              "    }\n",
              "\n",
              "    .colab-df-convert {\n",
              "      background-color: #E8F0FE;\n",
              "      border: none;\n",
              "      border-radius: 50%;\n",
              "      cursor: pointer;\n",
              "      display: none;\n",
              "      fill: #1967D2;\n",
              "      height: 32px;\n",
              "      padding: 0 0 0 0;\n",
              "      width: 32px;\n",
              "    }\n",
              "\n",
              "    .colab-df-convert:hover {\n",
              "      background-color: #E2EBFA;\n",
              "      box-shadow: 0px 1px 2px rgba(60, 64, 67, 0.3), 0px 1px 3px 1px rgba(60, 64, 67, 0.15);\n",
              "      fill: #174EA6;\n",
              "    }\n",
              "\n",
              "    [theme=dark] .colab-df-convert {\n",
              "      background-color: #3B4455;\n",
              "      fill: #D2E3FC;\n",
              "    }\n",
              "\n",
              "    [theme=dark] .colab-df-convert:hover {\n",
              "      background-color: #434B5C;\n",
              "      box-shadow: 0px 1px 3px 1px rgba(0, 0, 0, 0.15);\n",
              "      filter: drop-shadow(0px 1px 2px rgba(0, 0, 0, 0.3));\n",
              "      fill: #FFFFFF;\n",
              "    }\n",
              "  </style>\n",
              "\n",
              "      <script>\n",
              "        const buttonEl =\n",
              "          document.querySelector('#df-d759ac06-aa4f-45a2-99a2-b741eec87a0c button.colab-df-convert');\n",
              "        buttonEl.style.display =\n",
              "          google.colab.kernel.accessAllowed ? 'block' : 'none';\n",
              "\n",
              "        async function convertToInteractive(key) {\n",
              "          const element = document.querySelector('#df-d759ac06-aa4f-45a2-99a2-b741eec87a0c');\n",
              "          const dataTable =\n",
              "            await google.colab.kernel.invokeFunction('convertToInteractive',\n",
              "                                                     [key], {});\n",
              "          if (!dataTable) return;\n",
              "\n",
              "          const docLinkHtml = 'Like what you see? Visit the ' +\n",
              "            '<a target=\"_blank\" href=https://colab.research.google.com/notebooks/data_table.ipynb>data table notebook</a>'\n",
              "            + ' to learn more about interactive tables.';\n",
              "          element.innerHTML = '';\n",
              "          dataTable['output_type'] = 'display_data';\n",
              "          await google.colab.output.renderOutput(dataTable, element);\n",
              "          const docLink = document.createElement('div');\n",
              "          docLink.innerHTML = docLinkHtml;\n",
              "          element.appendChild(docLink);\n",
              "        }\n",
              "      </script>\n",
              "    </div>\n",
              "  </div>\n",
              "  "
            ]
          },
          "metadata": {}
        }
      ]
    },
    {
      "cell_type": "code",
      "source": [
        "sns.FacetGrid(responses, col = \"stroke\").map(plt.scatter, \"hypertension\", \"age\", alpha =0.6).add_legend()"
      ],
      "metadata": {
        "colab": {
          "base_uri": "https://localhost:8080/",
          "height": 324
        },
        "id": "1Rf0XNO2m_oI",
        "outputId": "8d6cb19b-1a77-4ec4-9f73-ebd6f41635cf"
      },
      "execution_count": 95,
      "outputs": [
        {
          "output_type": "execute_result",
          "data": {
            "text/plain": [
              "<seaborn.axisgrid.FacetGrid at 0x7f3e01dea710>"
            ]
          },
          "metadata": {},
          "execution_count": 95
        },
        {
          "output_type": "display_data",
          "data": {
            "text/plain": [
              "<Figure size 611.111x300 with 2 Axes>"
            ],
            "image/png": "[encoded data removed]"
          },
          "metadata": {}
        }
      ]
    },
    {
      "cell_type": "code",
      "source": [],
      "metadata": {
        "id": "JJcZY3meliNS"
      },
      "execution_count": 95,
      "outputs": []
    },
    {
      "cell_type": "code",
      "source": [
        "sns.violinplot(x=\"hypertension\", y=\"age\",   data=responses)"
      ],
      "metadata": {
        "colab": {
          "base_uri": "https://localhost:8080/",
          "height": 466
        },
        "id": "GOVH10fOlue7",
        "outputId": "36e7f376-15a2-484e-c857-2d9dec88c304"
      },
      "execution_count": 96,
      "outputs": [
        {
          "output_type": "execute_result",
          "data": {
            "text/plain": [
              "<Axes: xlabel='hypertension', ylabel='age'>"
            ]
          },
          "metadata": {},
          "execution_count": 96
        },
        {
          "output_type": "display_data",
          "data": {
            "text/plain": [
              "<Figure size 640x480 with 1 Axes>"
            ],
            "image/png": "[encoded data removed]"
          },
          "metadata": {}
        }
      ]
    },
    {
      "cell_type": "markdown",
      "source": [
        "### Examine Heart Disease"
      ],
      "metadata": {
        "id": "g_Xj8g7Df-CJ"
      }
    },
    {
      "cell_type": "code",
      "source": [
        "responses['heart_disease'].value_counts()"
      ],
      "metadata": {
        "colab": {
          "base_uri": "https://localhost:8080/"
        },
        "id": "eBOrs4DAlTeM",
        "outputId": "5eb5b525-c7e8-4988-c4b0-24e0430db7d1"
      },
      "execution_count": 97,
      "outputs": [
        {
          "output_type": "execute_result",
          "data": {
            "text/plain": [
              "0    4665\n",
              "1     243\n",
              "Name: heart_disease, dtype: int64"
            ]
          },
          "metadata": {},
          "execution_count": 97
        }
      ]
    },
    {
      "cell_type": "markdown",
      "source": [
        "This is not a balanced dataset."
      ],
      "metadata": {
        "id": "DwokPHyKuAQ3"
      }
    },
    {
      "cell_type": "code",
      "source": [
        "sns.countplot(data=responses, x='heart_disease', hue='stroke')"
      ],
      "metadata": {
        "colab": {
          "base_uri": "https://localhost:8080/",
          "height": 467
        },
        "id": "Ksk97dMZlYb6",
        "outputId": "9d97c2d3-8fee-4b12-9e78-373b272e1ed7"
      },
      "execution_count": 98,
      "outputs": [
        {
          "output_type": "execute_result",
          "data": {
            "text/plain": [
              "<Axes: xlabel='heart_disease', ylabel='count'>"
            ]
          },
          "metadata": {},
          "execution_count": 98
        },
        {
          "output_type": "display_data",
          "data": {
            "text/plain": [
              "<Figure size 640x480 with 1 Axes>"
            ],
            "image/png": "[encoded data removed]"
          },
          "metadata": {}
        }
      ]
    },
    {
      "cell_type": "code",
      "source": [
        "strokes_by_heart_disease_stroke = responses.groupby(['heart_disease', 'stroke']).agg({'stroke': 'count'})\n",
        "strokes_by_heart_disease = responses.groupby(['heart_disease']).agg({'stroke': 'count'})\n",
        "display(strokes_by_heart_disease_stroke)\n",
        "display (strokes_by_heart_disease_stroke.div(strokes_by_heart_disease, level='heart_disease')*100)"
      ],
      "metadata": {
        "colab": {
          "base_uri": "https://localhost:8080/",
          "height": 395
        },
        "id": "v0SIXyvBnMtv",
        "outputId": "603afb2c-9748-4182-a56f-e9e5b536fa2a"
      },
      "execution_count": 99,
      "outputs": [
        {
          "output_type": "display_data",
          "data": {
            "text/plain": [
              "                      stroke\n",
              "heart_disease stroke        \n",
              "0             0         4496\n",
              "              1          169\n",
              "1             0          203\n",
              "              1           40"
            ],
            "text/html": [
              "\n",
              "  <div id=\"df-c5a06750-55f0-4819-aadb-cb2b5b647510\">\n",
              "    <div class=\"colab-df-container\">\n",
              "      <div>\n",
              "<style scoped>\n",
              "    .dataframe tbody tr th:only-of-type {\n",
              "        vertical-align: middle;\n",
              "    }\n",
              "\n",
              "    .dataframe tbody tr th {\n",
              "        vertical-align: top;\n",
              "    }\n",
              "\n",
              "    .dataframe thead th {\n",
              "        text-align: right;\n",
              "    }\n",
              "</style>\n",
              "<table border=\"1\" class=\"dataframe\">\n",
              "  <thead>\n",
              "    <tr style=\"text-align: right;\">\n",
              "      <th></th>\n",
              "      <th></th>\n",
              "      <th>stroke</th>\n",
              "    </tr>\n",
              "    <tr>\n",
              "      <th>heart_disease</th>\n",
              "      <th>stroke</th>\n",
              "      <th></th>\n",
              "    </tr>\n",
              "  </thead>\n",
              "  <tbody>\n",
              "    <tr>\n",
              "      <th rowspan=\"2\" valign=\"top\">0</th>\n",
              "      <th>0</th>\n",
              "      <td>4496</td>\n",
              "    </tr>\n",
              "    <tr>\n",
              "      <th>1</th>\n",
              "      <td>169</td>\n",
              "    </tr>\n",
              "    <tr>\n",
              "      <th rowspan=\"2\" valign=\"top\">1</th>\n",
              "      <th>0</th>\n",
              "      <td>203</td>\n",
              "    </tr>\n",
              "    <tr>\n",
              "      <th>1</th>\n",
              "      <td>40</td>\n",
              "    </tr>\n",
              "  </tbody>\n",
              "</table>\n",
              "</div>\n",
              "      <button class=\"colab-df-convert\" onclick=\"convertToInteractive('df-c5a06750-55f0-4819-aadb-cb2b5b647510')\"\n",
              "              title=\"Convert this dataframe to an interactive table.\"\n",
              "              style=\"display:none;\">\n",
              "        \n",
              "  <svg xmlns=\"http://www.w3.org/2000/svg\" height=\"24px\"viewBox=\"0 0 24 24\"\n",
              "       width=\"24px\">\n",
              "    <path d=\"M0 0h24v24H0V0z\" fill=\"none\"/>\n",
              "    <path d=\"M18.56 5.44l.94 2.06.94-2.06 2.06-.94-2.06-.94-.94-2.06-.94 2.06-2.06.94zm-11 1L8.5 8.5l.94-2.06 2.06-.94-2.06-.94L8.5 2.5l-.94 2.06-2.06.94zm10 10l.94 2.06.94-2.06 2.06-.94-2.06-.94-.94-2.06-.94 2.06-2.06.94z\"/><path d=\"M17.41 7.96l-1.37-1.37c-.4-.4-.92-.59-1.43-.59-.52 0-1.04.2-1.43.59L10.3 9.45l-7.72 7.72c-.78.78-.78 2.05 0 2.83L4 21.41c.39.39.9.59 1.41.59.51 0 1.02-.2 1.41-.59l7.78-7.78 2.81-2.81c.8-.78.8-2.07 0-2.86zM5.41 20L4 18.59l7.72-7.72 1.47 1.35L5.41 20z\"/>\n",
              "  </svg>\n",
              "      </button>\n",
              "      \n",
              "  <style>\n",
              "    .colab-df-container {\n",
              "      display:flex;\n",
              "      flex-wrap:wrap;\n",
              "      gap: 12px;\n",
              "    }\n",
              "\n",
              "    .colab-df-convert {\n",
              "      background-color: #E8F0FE;\n",
              "      border: none;\n",
              "      border-radius: 50%;\n",
              "      cursor: pointer;\n",
              "      display: none;\n",
              "      fill: #1967D2;\n",
              "      height: 32px;\n",
              "      padding: 0 0 0 0;\n",
              "      width: 32px;\n",
              "    }\n",
              "\n",
              "    .colab-df-convert:hover {\n",
              "      background-color: #E2EBFA;\n",
              "      box-shadow: 0px 1px 2px rgba(60, 64, 67, 0.3), 0px 1px 3px 1px rgba(60, 64, 67, 0.15);\n",
              "      fill: #174EA6;\n",
              "    }\n",
              "\n",
              "    [theme=dark] .colab-df-convert {\n",
              "      background-color: #3B4455;\n",
              "      fill: #D2E3FC;\n",
              "    }\n",
              "\n",
              "    [theme=dark] .colab-df-convert:hover {\n",
              "      background-color: #434B5C;\n",
              "      box-shadow: 0px 1px 3px 1px rgba(0, 0, 0, 0.15);\n",
              "      filter: drop-shadow(0px 1px 2px rgba(0, 0, 0, 0.3));\n",
              "      fill: #FFFFFF;\n",
              "    }\n",
              "  </style>\n",
              "\n",
              "      <script>\n",
              "        const buttonEl =\n",
              "          document.querySelector('#df-c5a06750-55f0-4819-aadb-cb2b5b647510 button.colab-df-convert');\n",
              "        buttonEl.style.display =\n",
              "          google.colab.kernel.accessAllowed ? 'block' : 'none';\n",
              "\n",
              "        async function convertToInteractive(key) {\n",
              "          const element = document.querySelector('#df-c5a06750-55f0-4819-aadb-cb2b5b647510');\n",
              "          const dataTable =\n",
              "            await google.colab.kernel.invokeFunction('convertToInteractive',\n",
              "                                                     [key], {});\n",
              "          if (!dataTable) return;\n",
              "\n",
              "          const docLinkHtml = 'Like what you see? Visit the ' +\n",
              "            '<a target=\"_blank\" href=https://colab.research.google.com/notebooks/data_table.ipynb>data table notebook</a>'\n",
              "            + ' to learn more about interactive tables.';\n",
              "          element.innerHTML = '';\n",
              "          dataTable['output_type'] = 'display_data';\n",
              "          await google.colab.output.renderOutput(dataTable, element);\n",
              "          const docLink = document.createElement('div');\n",
              "          docLink.innerHTML = docLinkHtml;\n",
              "          element.appendChild(docLink);\n",
              "        }\n",
              "      </script>\n",
              "    </div>\n",
              "  </div>\n",
              "  "
            ]
          },
          "metadata": {}
        },
        {
          "output_type": "display_data",
          "data": {
            "text/plain": [
              "                         stroke\n",
              "heart_disease stroke           \n",
              "0             0       96.377278\n",
              "              1        3.622722\n",
              "1             0       83.539095\n",
              "              1       16.460905"
            ],
            "text/html": [
              "\n",
              "  <div id=\"df-6d0b2b05-0dc5-4935-83e2-291fc1cb1eee\">\n",
              "    <div class=\"colab-df-container\">\n",
              "      <div>\n",
              "<style scoped>\n",
              "    .dataframe tbody tr th:only-of-type {\n",
              "        vertical-align: middle;\n",
              "    }\n",
              "\n",
              "    .dataframe tbody tr th {\n",
              "        vertical-align: top;\n",
              "    }\n",
              "\n",
              "    .dataframe thead th {\n",
              "        text-align: right;\n",
              "    }\n",
              "</style>\n",
              "<table border=\"1\" class=\"dataframe\">\n",
              "  <thead>\n",
              "    <tr style=\"text-align: right;\">\n",
              "      <th></th>\n",
              "      <th></th>\n",
              "      <th>stroke</th>\n",
              "    </tr>\n",
              "    <tr>\n",
              "      <th>heart_disease</th>\n",
              "      <th>stroke</th>\n",
              "      <th></th>\n",
              "    </tr>\n",
              "  </thead>\n",
              "  <tbody>\n",
              "    <tr>\n",
              "      <th rowspan=\"2\" valign=\"top\">0</th>\n",
              "      <th>0</th>\n",
              "      <td>96.377278</td>\n",
              "    </tr>\n",
              "    <tr>\n",
              "      <th>1</th>\n",
              "      <td>3.622722</td>\n",
              "    </tr>\n",
              "    <tr>\n",
              "      <th rowspan=\"2\" valign=\"top\">1</th>\n",
              "      <th>0</th>\n",
              "      <td>83.539095</td>\n",
              "    </tr>\n",
              "    <tr>\n",
              "      <th>1</th>\n",
              "      <td>16.460905</td>\n",
              "    </tr>\n",
              "  </tbody>\n",
              "</table>\n",
              "</div>\n",
              "      <button class=\"colab-df-convert\" onclick=\"convertToInteractive('df-6d0b2b05-0dc5-4935-83e2-291fc1cb1eee')\"\n",
              "              title=\"Convert this dataframe to an interactive table.\"\n",
              "              style=\"display:none;\">\n",
              "        \n",
              "  <svg xmlns=\"http://www.w3.org/2000/svg\" height=\"24px\"viewBox=\"0 0 24 24\"\n",
              "       width=\"24px\">\n",
              "    <path d=\"M0 0h24v24H0V0z\" fill=\"none\"/>\n",
              "    <path d=\"M18.56 5.44l.94 2.06.94-2.06 2.06-.94-2.06-.94-.94-2.06-.94 2.06-2.06.94zm-11 1L8.5 8.5l.94-2.06 2.06-.94-2.06-.94L8.5 2.5l-.94 2.06-2.06.94zm10 10l.94 2.06.94-2.06 2.06-.94-2.06-.94-.94-2.06-.94 2.06-2.06.94z\"/><path d=\"M17.41 7.96l-1.37-1.37c-.4-.4-.92-.59-1.43-.59-.52 0-1.04.2-1.43.59L10.3 9.45l-7.72 7.72c-.78.78-.78 2.05 0 2.83L4 21.41c.39.39.9.59 1.41.59.51 0 1.02-.2 1.41-.59l7.78-7.78 2.81-2.81c.8-.78.8-2.07 0-2.86zM5.41 20L4 18.59l7.72-7.72 1.47 1.35L5.41 20z\"/>\n",
              "  </svg>\n",
              "      </button>\n",
              "      \n",
              "  <style>\n",
              "    .colab-df-container {\n",
              "      display:flex;\n",
              "      flex-wrap:wrap;\n",
              "      gap: 12px;\n",
              "    }\n",
              "\n",
              "    .colab-df-convert {\n",
              "      background-color: #E8F0FE;\n",
              "      border: none;\n",
              "      border-radius: 50%;\n",
              "      cursor: pointer;\n",
              "      display: none;\n",
              "      fill: #1967D2;\n",
              "      height: 32px;\n",
              "      padding: 0 0 0 0;\n",
              "      width: 32px;\n",
              "    }\n",
              "\n",
              "    .colab-df-convert:hover {\n",
              "      background-color: #E2EBFA;\n",
              "      box-shadow: 0px 1px 2px rgba(60, 64, 67, 0.3), 0px 1px 3px 1px rgba(60, 64, 67, 0.15);\n",
              "      fill: #174EA6;\n",
              "    }\n",
              "\n",
              "    [theme=dark] .colab-df-convert {\n",
              "      background-color: #3B4455;\n",
              "      fill: #D2E3FC;\n",
              "    }\n",
              "\n",
              "    [theme=dark] .colab-df-convert:hover {\n",
              "      background-color: #434B5C;\n",
              "      box-shadow: 0px 1px 3px 1px rgba(0, 0, 0, 0.15);\n",
              "      filter: drop-shadow(0px 1px 2px rgba(0, 0, 0, 0.3));\n",
              "      fill: #FFFFFF;\n",
              "    }\n",
              "  </style>\n",
              "\n",
              "      <script>\n",
              "        const buttonEl =\n",
              "          document.querySelector('#df-6d0b2b05-0dc5-4935-83e2-291fc1cb1eee button.colab-df-convert');\n",
              "        buttonEl.style.display =\n",
              "          google.colab.kernel.accessAllowed ? 'block' : 'none';\n",
              "\n",
              "        async function convertToInteractive(key) {\n",
              "          const element = document.querySelector('#df-6d0b2b05-0dc5-4935-83e2-291fc1cb1eee');\n",
              "          const dataTable =\n",
              "            await google.colab.kernel.invokeFunction('convertToInteractive',\n",
              "                                                     [key], {});\n",
              "          if (!dataTable) return;\n",
              "\n",
              "          const docLinkHtml = 'Like what you see? Visit the ' +\n",
              "            '<a target=\"_blank\" href=https://colab.research.google.com/notebooks/data_table.ipynb>data table notebook</a>'\n",
              "            + ' to learn more about interactive tables.';\n",
              "          element.innerHTML = '';\n",
              "          dataTable['output_type'] = 'display_data';\n",
              "          await google.colab.output.renderOutput(dataTable, element);\n",
              "          const docLink = document.createElement('div');\n",
              "          docLink.innerHTML = docLinkHtml;\n",
              "          element.appendChild(docLink);\n",
              "        }\n",
              "      </script>\n",
              "    </div>\n",
              "  </div>\n",
              "  "
            ]
          },
          "metadata": {}
        }
      ]
    },
    {
      "cell_type": "code",
      "source": [
        "sns.violinplot(x=\"heart_disease\", y=\"age\",   data=responses)"
      ],
      "metadata": {
        "colab": {
          "base_uri": "https://localhost:8080/",
          "height": 467
        },
        "id": "KfXg16C_nVb7",
        "outputId": "69273fc2-ad64-4dfe-a4ef-1ea8324832a8"
      },
      "execution_count": 100,
      "outputs": [
        {
          "output_type": "execute_result",
          "data": {
            "text/plain": [
              "<Axes: xlabel='heart_disease', ylabel='age'>"
            ]
          },
          "metadata": {},
          "execution_count": 100
        },
        {
          "output_type": "display_data",
          "data": {
            "text/plain": [
              "<Figure size 640x480 with 1 Axes>"
            ],
            "image/png": "[encoded data removed]"
          },
          "metadata": {}
        }
      ]
    },
    {
      "cell_type": "code",
      "source": [
        "sns.FacetGrid(responses, col = \"stroke\").map(plt.scatter, \"heart_disease\", \"age\", alpha =0.6).add_legend()"
      ],
      "metadata": {
        "colab": {
          "base_uri": "https://localhost:8080/",
          "height": 324
        },
        "id": "-J_mO-ZFna24",
        "outputId": "5c8112c2-022c-4979-87d6-812d839c7a02"
      },
      "execution_count": 101,
      "outputs": [
        {
          "output_type": "execute_result",
          "data": {
            "text/plain": [
              "<seaborn.axisgrid.FacetGrid at 0x7f3e01c8c550>"
            ]
          },
          "metadata": {},
          "execution_count": 101
        },
        {
          "output_type": "display_data",
          "data": {
            "text/plain": [
              "<Figure size 611.111x300 with 2 Axes>"
            ],
            "image/png": "[encoded data removed]"
          },
          "metadata": {}
        }
      ]
    },
    {
      "cell_type": "markdown",
      "source": [
        "### Examine Work Type"
      ],
      "metadata": {
        "id": "l3E8V_8Wf5m2"
      }
    },
    {
      "cell_type": "code",
      "source": [
        "responses['work_type'].value_counts()"
      ],
      "metadata": {
        "id": "lH8WacY4Se7v",
        "outputId": "0ec600b6-67ea-40bf-9ce9-bc4ea13cfdc2",
        "colab": {
          "base_uri": "https://localhost:8080/"
        }
      },
      "execution_count": 102,
      "outputs": [
        {
          "output_type": "execute_result",
          "data": {
            "text/plain": [
              "Private          2810\n",
              "Self-employed     775\n",
              "children          671\n",
              "Govt_job          630\n",
              "Never_worked       22\n",
              "Name: work_type, dtype: int64"
            ]
          },
          "metadata": {},
          "execution_count": 102
        }
      ]
    },
    {
      "cell_type": "markdown",
      "source": [
        "This is not a balanced dataset.  Without a SME, I am unable to combine or drop any of these classifications."
      ],
      "metadata": {
        "id": "2un_k_vKuDGH"
      }
    },
    {
      "cell_type": "code",
      "source": [
        "sns.stripplot(data=responses, x=\"stroke\", y=\"work_type\") "
      ],
      "metadata": {
        "id": "Q7nBZaZdTcKv",
        "outputId": "ed1f3a12-f0d4-4b12-923b-657ef1c398ac",
        "colab": {
          "base_uri": "https://localhost:8080/",
          "height": 466
        }
      },
      "execution_count": 103,
      "outputs": [
        {
          "output_type": "execute_result",
          "data": {
            "text/plain": [
              "<Axes: xlabel='stroke', ylabel='work_type'>"
            ]
          },
          "metadata": {},
          "execution_count": 103
        },
        {
          "output_type": "display_data",
          "data": {
            "text/plain": [
              "<Figure size 640x480 with 1 Axes>"
            ],
            "image/png": "[encoded data removed]"
          },
          "metadata": {}
        }
      ]
    },
    {
      "cell_type": "code",
      "source": [
        "sns.countplot(data=responses, x='work_type', hue='stroke')"
      ],
      "metadata": {
        "colab": {
          "base_uri": "https://localhost:8080/",
          "height": 467
        },
        "id": "YXUHbCoLhwtu",
        "outputId": "4733fc7f-da3b-4996-b422-b8c334bd637e"
      },
      "execution_count": 104,
      "outputs": [
        {
          "output_type": "execute_result",
          "data": {
            "text/plain": [
              "<Axes: xlabel='work_type', ylabel='count'>"
            ]
          },
          "metadata": {},
          "execution_count": 104
        },
        {
          "output_type": "display_data",
          "data": {
            "text/plain": [
              "<Figure size 640x480 with 1 Axes>"
            ],
            "image/png": "[encoded data removed]"
          },
          "metadata": {}
        }
      ]
    },
    {
      "cell_type": "markdown",
      "source": [
        "There appears to be a lower incidence of stroke amount individuals who raise children or have never worked."
      ],
      "metadata": {
        "id": "-MuRR6ebO94h"
      }
    },
    {
      "cell_type": "code",
      "source": [
        "strokes_by_work_type_stroke = responses.groupby(['work_type', 'stroke']).agg({'stroke': 'count'})\n",
        "strokes_by_work_type = responses.groupby(['work_type']).agg({'stroke': 'count'})\n",
        "display(strokes_by_work_type_stroke)\n",
        "display (strokes_by_work_type_stroke.div(strokes_by_work_type, level='work_type')*100)"
      ],
      "metadata": {
        "colab": {
          "base_uri": "https://localhost:8080/",
          "height": 709
        },
        "id": "ie4467xHFWBY",
        "outputId": "5384f5ba-afa6-4e67-c53d-75ca39b4185e"
      },
      "execution_count": 105,
      "outputs": [
        {
          "output_type": "display_data",
          "data": {
            "text/plain": [
              "                      stroke\n",
              "work_type     stroke        \n",
              "Govt_job      0          602\n",
              "              1           28\n",
              "Never_worked  0           22\n",
              "Private       0         2683\n",
              "              1          127\n",
              "Self-employed 0          722\n",
              "              1           53\n",
              "children      0          670\n",
              "              1            1"
            ],
            "text/html": [
              "\n",
              "  <div id=\"df-46edd2d0-6c42-40bb-9304-884a6821c54d\">\n",
              "    <div class=\"colab-df-container\">\n",
              "      <div>\n",
              "<style scoped>\n",
              "    .dataframe tbody tr th:only-of-type {\n",
              "        vertical-align: middle;\n",
              "    }\n",
              "\n",
              "    .dataframe tbody tr th {\n",
              "        vertical-align: top;\n",
              "    }\n",
              "\n",
              "    .dataframe thead th {\n",
              "        text-align: right;\n",
              "    }\n",
              "</style>\n",
              "<table border=\"1\" class=\"dataframe\">\n",
              "  <thead>\n",
              "    <tr style=\"text-align: right;\">\n",
              "      <th></th>\n",
              "      <th></th>\n",
              "      <th>stroke</th>\n",
              "    </tr>\n",
              "    <tr>\n",
              "      <th>work_type</th>\n",
              "      <th>stroke</th>\n",
              "      <th></th>\n",
              "    </tr>\n",
              "  </thead>\n",
              "  <tbody>\n",
              "    <tr>\n",
              "      <th rowspan=\"2\" valign=\"top\">Govt_job</th>\n",
              "      <th>0</th>\n",
              "      <td>602</td>\n",
              "    </tr>\n",
              "    <tr>\n",
              "      <th>1</th>\n",
              "      <td>28</td>\n",
              "    </tr>\n",
              "    <tr>\n",
              "      <th>Never_worked</th>\n",
              "      <th>0</th>\n",
              "      <td>22</td>\n",
              "    </tr>\n",
              "    <tr>\n",
              "      <th rowspan=\"2\" valign=\"top\">Private</th>\n",
              "      <th>0</th>\n",
              "      <td>2683</td>\n",
              "    </tr>\n",
              "    <tr>\n",
              "      <th>1</th>\n",
              "      <td>127</td>\n",
              "    </tr>\n",
              "    <tr>\n",
              "      <th rowspan=\"2\" valign=\"top\">Self-employed</th>\n",
              "      <th>0</th>\n",
              "      <td>722</td>\n",
              "    </tr>\n",
              "    <tr>\n",
              "      <th>1</th>\n",
              "      <td>53</td>\n",
              "    </tr>\n",
              "    <tr>\n",
              "      <th rowspan=\"2\" valign=\"top\">children</th>\n",
              "      <th>0</th>\n",
              "      <td>670</td>\n",
              "    </tr>\n",
              "    <tr>\n",
              "      <th>1</th>\n",
              "      <td>1</td>\n",
              "    </tr>\n",
              "  </tbody>\n",
              "</table>\n",
              "</div>\n",
              "      <button class=\"colab-df-convert\" onclick=\"convertToInteractive('df-46edd2d0-6c42-40bb-9304-884a6821c54d')\"\n",
              "              title=\"Convert this dataframe to an interactive table.\"\n",
              "              style=\"display:none;\">\n",
              "        \n",
              "  <svg xmlns=\"http://www.w3.org/2000/svg\" height=\"24px\"viewBox=\"0 0 24 24\"\n",
              "       width=\"24px\">\n",
              "    <path d=\"M0 0h24v24H0V0z\" fill=\"none\"/>\n",
              "    <path d=\"M18.56 5.44l.94 2.06.94-2.06 2.06-.94-2.06-.94-.94-2.06-.94 2.06-2.06.94zm-11 1L8.5 8.5l.94-2.06 2.06-.94-2.06-.94L8.5 2.5l-.94 2.06-2.06.94zm10 10l.94 2.06.94-2.06 2.06-.94-2.06-.94-.94-2.06-.94 2.06-2.06.94z\"/><path d=\"M17.41 7.96l-1.37-1.37c-.4-.4-.92-.59-1.43-.59-.52 0-1.04.2-1.43.59L10.3 9.45l-7.72 7.72c-.78.78-.78 2.05 0 2.83L4 21.41c.39.39.9.59 1.41.59.51 0 1.02-.2 1.41-.59l7.78-7.78 2.81-2.81c.8-.78.8-2.07 0-2.86zM5.41 20L4 18.59l7.72-7.72 1.47 1.35L5.41 20z\"/>\n",
              "  </svg>\n",
              "      </button>\n",
              "      \n",
              "  <style>\n",
              "    .colab-df-container {\n",
              "      display:flex;\n",
              "      flex-wrap:wrap;\n",
              "      gap: 12px;\n",
              "    }\n",
              "\n",
              "    .colab-df-convert {\n",
              "      background-color: #E8F0FE;\n",
              "      border: none;\n",
              "      border-radius: 50%;\n",
              "      cursor: pointer;\n",
              "      display: none;\n",
              "      fill: #1967D2;\n",
              "      height: 32px;\n",
              "      padding: 0 0 0 0;\n",
              "      width: 32px;\n",
              "    }\n",
              "\n",
              "    .colab-df-convert:hover {\n",
              "      background-color: #E2EBFA;\n",
              "      box-shadow: 0px 1px 2px rgba(60, 64, 67, 0.3), 0px 1px 3px 1px rgba(60, 64, 67, 0.15);\n",
              "      fill: #174EA6;\n",
              "    }\n",
              "\n",
              "    [theme=dark] .colab-df-convert {\n",
              "      background-color: #3B4455;\n",
              "      fill: #D2E3FC;\n",
              "    }\n",
              "\n",
              "    [theme=dark] .colab-df-convert:hover {\n",
              "      background-color: #434B5C;\n",
              "      box-shadow: 0px 1px 3px 1px rgba(0, 0, 0, 0.15);\n",
              "      filter: drop-shadow(0px 1px 2px rgba(0, 0, 0, 0.3));\n",
              "      fill: #FFFFFF;\n",
              "    }\n",
              "  </style>\n",
              "\n",
              "      <script>\n",
              "        const buttonEl =\n",
              "          document.querySelector('#df-46edd2d0-6c42-40bb-9304-884a6821c54d button.colab-df-convert');\n",
              "        buttonEl.style.display =\n",
              "          google.colab.kernel.accessAllowed ? 'block' : 'none';\n",
              "\n",
              "        async function convertToInteractive(key) {\n",
              "          const element = document.querySelector('#df-46edd2d0-6c42-40bb-9304-884a6821c54d');\n",
              "          const dataTable =\n",
              "            await google.colab.kernel.invokeFunction('convertToInteractive',\n",
              "                                                     [key], {});\n",
              "          if (!dataTable) return;\n",
              "\n",
              "          const docLinkHtml = 'Like what you see? Visit the ' +\n",
              "            '<a target=\"_blank\" href=https://colab.research.google.com/notebooks/data_table.ipynb>data table notebook</a>'\n",
              "            + ' to learn more about interactive tables.';\n",
              "          element.innerHTML = '';\n",
              "          dataTable['output_type'] = 'display_data';\n",
              "          await google.colab.output.renderOutput(dataTable, element);\n",
              "          const docLink = document.createElement('div');\n",
              "          docLink.innerHTML = docLinkHtml;\n",
              "          element.appendChild(docLink);\n",
              "        }\n",
              "      </script>\n",
              "    </div>\n",
              "  </div>\n",
              "  "
            ]
          },
          "metadata": {}
        },
        {
          "output_type": "display_data",
          "data": {
            "text/plain": [
              "                          stroke\n",
              "work_type     stroke            \n",
              "Govt_job      0        95.555556\n",
              "              1         4.444444\n",
              "Never_worked  0       100.000000\n",
              "Private       0        95.480427\n",
              "              1         4.519573\n",
              "Self-employed 0        93.161290\n",
              "              1         6.838710\n",
              "children      0        99.850969\n",
              "              1         0.149031"
            ],
            "text/html": [
              "\n",
              "  <div id=\"df-a446fa4f-1579-41f6-90b1-a01d1c828269\">\n",
              "    <div class=\"colab-df-container\">\n",
              "      <div>\n",
              "<style scoped>\n",
              "    .dataframe tbody tr th:only-of-type {\n",
              "        vertical-align: middle;\n",
              "    }\n",
              "\n",
              "    .dataframe tbody tr th {\n",
              "        vertical-align: top;\n",
              "    }\n",
              "\n",
              "    .dataframe thead th {\n",
              "        text-align: right;\n",
              "    }\n",
              "</style>\n",
              "<table border=\"1\" class=\"dataframe\">\n",
              "  <thead>\n",
              "    <tr style=\"text-align: right;\">\n",
              "      <th></th>\n",
              "      <th></th>\n",
              "      <th>stroke</th>\n",
              "    </tr>\n",
              "    <tr>\n",
              "      <th>work_type</th>\n",
              "      <th>stroke</th>\n",
              "      <th></th>\n",
              "    </tr>\n",
              "  </thead>\n",
              "  <tbody>\n",
              "    <tr>\n",
              "      <th rowspan=\"2\" valign=\"top\">Govt_job</th>\n",
              "      <th>0</th>\n",
              "      <td>95.555556</td>\n",
              "    </tr>\n",
              "    <tr>\n",
              "      <th>1</th>\n",
              "      <td>4.444444</td>\n",
              "    </tr>\n",
              "    <tr>\n",
              "      <th>Never_worked</th>\n",
              "      <th>0</th>\n",
              "      <td>100.000000</td>\n",
              "    </tr>\n",
              "    <tr>\n",
              "      <th rowspan=\"2\" valign=\"top\">Private</th>\n",
              "      <th>0</th>\n",
              "      <td>95.480427</td>\n",
              "    </tr>\n",
              "    <tr>\n",
              "      <th>1</th>\n",
              "      <td>4.519573</td>\n",
              "    </tr>\n",
              "    <tr>\n",
              "      <th rowspan=\"2\" valign=\"top\">Self-employed</th>\n",
              "      <th>0</th>\n",
              "      <td>93.161290</td>\n",
              "    </tr>\n",
              "    <tr>\n",
              "      <th>1</th>\n",
              "      <td>6.838710</td>\n",
              "    </tr>\n",
              "    <tr>\n",
              "      <th rowspan=\"2\" valign=\"top\">children</th>\n",
              "      <th>0</th>\n",
              "      <td>99.850969</td>\n",
              "    </tr>\n",
              "    <tr>\n",
              "      <th>1</th>\n",
              "      <td>0.149031</td>\n",
              "    </tr>\n",
              "  </tbody>\n",
              "</table>\n",
              "</div>\n",
              "      <button class=\"colab-df-convert\" onclick=\"convertToInteractive('df-a446fa4f-1579-41f6-90b1-a01d1c828269')\"\n",
              "              title=\"Convert this dataframe to an interactive table.\"\n",
              "              style=\"display:none;\">\n",
              "        \n",
              "  <svg xmlns=\"http://www.w3.org/2000/svg\" height=\"24px\"viewBox=\"0 0 24 24\"\n",
              "       width=\"24px\">\n",
              "    <path d=\"M0 0h24v24H0V0z\" fill=\"none\"/>\n",
              "    <path d=\"M18.56 5.44l.94 2.06.94-2.06 2.06-.94-2.06-.94-.94-2.06-.94 2.06-2.06.94zm-11 1L8.5 8.5l.94-2.06 2.06-.94-2.06-.94L8.5 2.5l-.94 2.06-2.06.94zm10 10l.94 2.06.94-2.06 2.06-.94-2.06-.94-.94-2.06-.94 2.06-2.06.94z\"/><path d=\"M17.41 7.96l-1.37-1.37c-.4-.4-.92-.59-1.43-.59-.52 0-1.04.2-1.43.59L10.3 9.45l-7.72 7.72c-.78.78-.78 2.05 0 2.83L4 21.41c.39.39.9.59 1.41.59.51 0 1.02-.2 1.41-.59l7.78-7.78 2.81-2.81c.8-.78.8-2.07 0-2.86zM5.41 20L4 18.59l7.72-7.72 1.47 1.35L5.41 20z\"/>\n",
              "  </svg>\n",
              "      </button>\n",
              "      \n",
              "  <style>\n",
              "    .colab-df-container {\n",
              "      display:flex;\n",
              "      flex-wrap:wrap;\n",
              "      gap: 12px;\n",
              "    }\n",
              "\n",
              "    .colab-df-convert {\n",
              "      background-color: #E8F0FE;\n",
              "      border: none;\n",
              "      border-radius: 50%;\n",
              "      cursor: pointer;\n",
              "      display: none;\n",
              "      fill: #1967D2;\n",
              "      height: 32px;\n",
              "      padding: 0 0 0 0;\n",
              "      width: 32px;\n",
              "    }\n",
              "\n",
              "    .colab-df-convert:hover {\n",
              "      background-color: #E2EBFA;\n",
              "      box-shadow: 0px 1px 2px rgba(60, 64, 67, 0.3), 0px 1px 3px 1px rgba(60, 64, 67, 0.15);\n",
              "      fill: #174EA6;\n",
              "    }\n",
              "\n",
              "    [theme=dark] .colab-df-convert {\n",
              "      background-color: #3B4455;\n",
              "      fill: #D2E3FC;\n",
              "    }\n",
              "\n",
              "    [theme=dark] .colab-df-convert:hover {\n",
              "      background-color: #434B5C;\n",
              "      box-shadow: 0px 1px 3px 1px rgba(0, 0, 0, 0.15);\n",
              "      filter: drop-shadow(0px 1px 2px rgba(0, 0, 0, 0.3));\n",
              "      fill: #FFFFFF;\n",
              "    }\n",
              "  </style>\n",
              "\n",
              "      <script>\n",
              "        const buttonEl =\n",
              "          document.querySelector('#df-a446fa4f-1579-41f6-90b1-a01d1c828269 button.colab-df-convert');\n",
              "        buttonEl.style.display =\n",
              "          google.colab.kernel.accessAllowed ? 'block' : 'none';\n",
              "\n",
              "        async function convertToInteractive(key) {\n",
              "          const element = document.querySelector('#df-a446fa4f-1579-41f6-90b1-a01d1c828269');\n",
              "          const dataTable =\n",
              "            await google.colab.kernel.invokeFunction('convertToInteractive',\n",
              "                                                     [key], {});\n",
              "          if (!dataTable) return;\n",
              "\n",
              "          const docLinkHtml = 'Like what you see? Visit the ' +\n",
              "            '<a target=\"_blank\" href=https://colab.research.google.com/notebooks/data_table.ipynb>data table notebook</a>'\n",
              "            + ' to learn more about interactive tables.';\n",
              "          element.innerHTML = '';\n",
              "          dataTable['output_type'] = 'display_data';\n",
              "          await google.colab.output.renderOutput(dataTable, element);\n",
              "          const docLink = document.createElement('div');\n",
              "          docLink.innerHTML = docLinkHtml;\n",
              "          element.appendChild(docLink);\n",
              "        }\n",
              "      </script>\n",
              "    </div>\n",
              "  </div>\n",
              "  "
            ]
          },
          "metadata": {}
        }
      ]
    },
    {
      "cell_type": "code",
      "source": [
        "sns.stripplot(data=responses, x=\"work_type\", y=\"age\") #Do we see more stroke after a certain age?"
      ],
      "metadata": {
        "id": "fxTITIXQUm4n",
        "outputId": "5cc8b6bb-9bfa-4c7a-c2e0-10069899605a",
        "colab": {
          "base_uri": "https://localhost:8080/",
          "height": 467
        }
      },
      "execution_count": 106,
      "outputs": [
        {
          "output_type": "execute_result",
          "data": {
            "text/plain": [
              "<Axes: xlabel='work_type', ylabel='age'>"
            ]
          },
          "metadata": {},
          "execution_count": 106
        },
        {
          "output_type": "display_data",
          "data": {
            "text/plain": [
              "<Figure size 640x480 with 1 Axes>"
            ],
            "image/png": "[encoded data removed]"
          },
          "metadata": {}
        }
      ]
    },
    {
      "cell_type": "markdown",
      "source": [
        "The relationship between not having a stroke and either not having children or never worked appears to be a function of age, not work type.  People who don't work, or are raising children, are 20 or younger, which is a group already identified as not being at risk for a stroke."
      ],
      "metadata": {
        "id": "qtSsldG6PFnO"
      }
    },
    {
      "cell_type": "markdown",
      "source": [
        "### Examine BMI"
      ],
      "metadata": {
        "id": "7XswtcBEU7Cn"
      }
    },
    {
      "cell_type": "code",
      "source": [
        "responses.hist(column=['bmi'])"
      ],
      "metadata": {
        "colab": {
          "base_uri": "https://localhost:8080/",
          "height": 469
        },
        "id": "KxLEvptvnhPa",
        "outputId": "352e3e03-5c1e-480b-9f23-de3f8f40807d"
      },
      "execution_count": 107,
      "outputs": [
        {
          "output_type": "execute_result",
          "data": {
            "text/plain": [
              "array([[<Axes: title={'center': 'bmi'}>]], dtype=object)"
            ]
          },
          "metadata": {},
          "execution_count": 107
        },
        {
          "output_type": "display_data",
          "data": {
            "text/plain": [
              "<Figure size 640x480 with 1 Axes>"
            ],
            "image/png": "[encoded data removed]"
          },
          "metadata": {}
        }
      ]
    },
    {
      "cell_type": "markdown",
      "source": [
        "There are outliers to this data.  I will convert this to classifications that are inline with CDC classifications to allow the machine learning algorithms to more easily use this data.  This will be performed in Feature Engineering."
      ],
      "metadata": {
        "id": "FOmKmkTPuO1J"
      }
    },
    {
      "cell_type": "code",
      "source": [
        "sns.boxplot(y='bmi', data=responses)"
      ],
      "metadata": {
        "colab": {
          "base_uri": "https://localhost:8080/",
          "height": 428
        },
        "id": "3G-KDMKFpFHw",
        "outputId": "dd8a9789-83ed-4d53-eb17-061c822d492a"
      },
      "execution_count": 108,
      "outputs": [
        {
          "output_type": "execute_result",
          "data": {
            "text/plain": [
              "<Axes: ylabel='bmi'>"
            ]
          },
          "metadata": {},
          "execution_count": 108
        },
        {
          "output_type": "display_data",
          "data": {
            "text/plain": [
              "<Figure size 640x480 with 1 Axes>"
            ],
            "image/png": "[encoded data removed]"
          },
          "metadata": {}
        }
      ]
    },
    {
      "cell_type": "code",
      "source": [
        "sns.boxplot(y='bmi', x='stroke', data=responses)"
      ],
      "metadata": {
        "colab": {
          "base_uri": "https://localhost:8080/",
          "height": 466
        },
        "id": "oMa55Qn3hWMn",
        "outputId": "0fb43b5c-71ad-42b0-9328-1084b10b01b6"
      },
      "execution_count": 109,
      "outputs": [
        {
          "output_type": "execute_result",
          "data": {
            "text/plain": [
              "<Axes: xlabel='stroke', ylabel='bmi'>"
            ]
          },
          "metadata": {},
          "execution_count": 109
        },
        {
          "output_type": "display_data",
          "data": {
            "text/plain": [
              "<Figure size 640x480 with 1 Axes>"
            ],
            "image/png": "[encoded data removed]"
          },
          "metadata": {}
        }
      ]
    },
    {
      "cell_type": "code",
      "source": [
        "sns.histplot(responses, x='bmi', kde=True)"
      ],
      "metadata": {
        "colab": {
          "base_uri": "https://localhost:8080/",
          "height": 466
        },
        "id": "jlcC_hiapFAK",
        "outputId": "cbb6c60f-0ef0-4a42-e452-b81fb5b834ae"
      },
      "execution_count": 110,
      "outputs": [
        {
          "output_type": "execute_result",
          "data": {
            "text/plain": [
              "<Axes: xlabel='bmi', ylabel='Count'>"
            ]
          },
          "metadata": {},
          "execution_count": 110
        },
        {
          "output_type": "display_data",
          "data": {
            "text/plain": [
              "<Figure size 640x480 with 1 Axes>"
            ],
            "image/png": "[encoded data removed]"
          },
          "metadata": {}
        }
      ]
    },
    {
      "cell_type": "markdown",
      "source": [
        "### Calculate the mean, standard deviation, 3sd's, and 2sd's."
      ],
      "metadata": {
        "id": "vqqtWREaR-_o"
      }
    },
    {
      "cell_type": "code",
      "source": [
        "\n",
        "bmi_mean = (responses['bmi'].mean())\n",
        "bmi_stddev = ( responses['bmi'].std())\n",
        "bmi_3_stddev =  (responses['bmi'].mean() + (responses['bmi'].std() * 3), responses['bmi'].mean() + (responses['bmi'].std() * -3))\n",
        "bmi_2_stddev =  (responses['bmi'].mean() + (responses['bmi'].std() * 2), responses['bmi'].mean() + (responses['bmi'].std() * -2))\n",
        "display (bmi_mean, bmi_stddev, bmi_3_stddev, bmi_2_stddev)"
      ],
      "metadata": {
        "colab": {
          "base_uri": "https://localhost:8080/",
          "height": 86
        },
        "id": "pXGQx7dnpvzj",
        "outputId": "a34e58b1-1ffa-4bef-fc4a-7c2dbd3f8ca1"
      },
      "execution_count": 111,
      "outputs": [
        {
          "output_type": "display_data",
          "data": {
            "text/plain": [
              "28.894559902200488"
            ]
          },
          "metadata": {}
        },
        {
          "output_type": "display_data",
          "data": {
            "text/plain": [
              "7.854319913144672"
            ]
          },
          "metadata": {}
        },
        {
          "output_type": "display_data",
          "data": {
            "text/plain": [
              "(52.457519641634505, 5.33160016276647)"
            ]
          },
          "metadata": {}
        },
        {
          "output_type": "display_data",
          "data": {
            "text/plain": [
              "(44.603199728489834, 13.185920075911143)"
            ]
          },
          "metadata": {}
        }
      ]
    },
    {
      "cell_type": "markdown",
      "source": [
        "### Evaluate Residence Type"
      ],
      "metadata": {
        "id": "5jHpcPWTVEhl"
      }
    },
    {
      "cell_type": "markdown",
      "source": [],
      "metadata": {
        "id": "AeYbBeFvjLe4"
      }
    },
    {
      "cell_type": "code",
      "source": [
        "responses['Residence_type'].value_counts()"
      ],
      "metadata": {
        "colab": {
          "base_uri": "https://localhost:8080/"
        },
        "id": "dvUO9THmjQ3j",
        "outputId": "2ca52de5-b604-44c4-e88e-1f528d86da2f"
      },
      "execution_count": 112,
      "outputs": [
        {
          "output_type": "execute_result",
          "data": {
            "text/plain": [
              "Urban    2490\n",
              "Rural    2418\n",
              "Name: Residence_type, dtype: int64"
            ]
          },
          "metadata": {},
          "execution_count": 112
        }
      ]
    },
    {
      "cell_type": "markdown",
      "source": [
        "Balanced data."
      ],
      "metadata": {
        "id": "J9zdD3b3uehO"
      }
    },
    {
      "cell_type": "code",
      "source": [
        "responses.groupby([\"Residence_type\", \"stroke\"]).size()"
      ],
      "metadata": {
        "colab": {
          "base_uri": "https://localhost:8080/"
        },
        "id": "GlEyWDWujmkA",
        "outputId": "5d9c99af-7ed1-4744-c1a0-a104760be03d"
      },
      "execution_count": 113,
      "outputs": [
        {
          "output_type": "execute_result",
          "data": {
            "text/plain": [
              "Residence_type  stroke\n",
              "Rural           0         2318\n",
              "                1          100\n",
              "Urban           0         2381\n",
              "                1          109\n",
              "dtype: int64"
            ]
          },
          "metadata": {},
          "execution_count": 113
        }
      ]
    },
    {
      "cell_type": "code",
      "source": [
        "sns.countplot(data=responses, x='Residence_type', hue='stroke')"
      ],
      "metadata": {
        "id": "f3_ksHpxVFLo",
        "outputId": "df01bc19-b1d9-4870-da52-389e3f7574eb",
        "colab": {
          "base_uri": "https://localhost:8080/",
          "height": 472
        }
      },
      "execution_count": 114,
      "outputs": [
        {
          "output_type": "execute_result",
          "data": {
            "text/plain": [
              "<Axes: xlabel='Residence_type', ylabel='count'>"
            ]
          },
          "metadata": {},
          "execution_count": 114
        },
        {
          "output_type": "display_data",
          "data": {
            "text/plain": [
              "<Figure size 640x480 with 1 Axes>"
            ],
            "image/png": "[encoded data removed]"
          },
          "metadata": {}
        }
      ]
    },
    {
      "cell_type": "markdown",
      "source": [
        "### Examine Average Blood Glucose Levels"
      ],
      "metadata": {
        "id": "wKPxr6HekEi1"
      }
    },
    {
      "cell_type": "code",
      "source": [
        "responses.hist(column=['avg_glucose_level'])"
      ],
      "metadata": {
        "colab": {
          "base_uri": "https://localhost:8080/",
          "height": 469
        },
        "id": "XVV8u37Yj2Y-",
        "outputId": "6f2c70dd-e44c-4a4a-d87a-59383743ea17"
      },
      "execution_count": 115,
      "outputs": [
        {
          "output_type": "execute_result",
          "data": {
            "text/plain": [
              "array([[<Axes: title={'center': 'avg_glucose_level'}>]], dtype=object)"
            ]
          },
          "metadata": {},
          "execution_count": 115
        },
        {
          "output_type": "display_data",
          "data": {
            "text/plain": [
              "<Figure size 640x480 with 1 Axes>"
            ],
            "image/png": "[encoded data removed]"
          },
          "metadata": {}
        }
      ]
    },
    {
      "cell_type": "markdown",
      "source": [
        "There are outliers to this data.  I will convert this to classifications that are inline with CDC classifications to allow the machine learning algorithms to more easily use this data.  This will be performed in Feature Engineering."
      ],
      "metadata": {
        "id": "LoEenkucuiZD"
      }
    },
    {
      "cell_type": "code",
      "source": [
        "sns.boxplot(y='avg_glucose_level', x='stroke', data=responses)"
      ],
      "metadata": {
        "colab": {
          "base_uri": "https://localhost:8080/",
          "height": 466
        },
        "id": "gRf-N6IWkQrQ",
        "outputId": "6aab65d3-48ab-4f0c-f8e0-b38fccc5e16d"
      },
      "execution_count": 116,
      "outputs": [
        {
          "output_type": "execute_result",
          "data": {
            "text/plain": [
              "<Axes: xlabel='stroke', ylabel='avg_glucose_level'>"
            ]
          },
          "metadata": {},
          "execution_count": 116
        },
        {
          "output_type": "display_data",
          "data": {
            "text/plain": [
              "<Figure size 640x480 with 1 Axes>"
            ],
            "image/png": "[encoded data removed]"
          },
          "metadata": {}
        }
      ]
    },
    {
      "cell_type": "markdown",
      "source": [
        "### Examine Smoking Status"
      ],
      "metadata": {
        "id": "H9k7VdiokpyW"
      }
    },
    {
      "cell_type": "code",
      "source": [
        "responses['smoking_status'].value_counts()"
      ],
      "metadata": {
        "colab": {
          "base_uri": "https://localhost:8080/"
        },
        "id": "Lk0b2cftlD0v",
        "outputId": "7c9b5cd2-c2d4-401c-aebb-f9fd4cd7f8ef"
      },
      "execution_count": 117,
      "outputs": [
        {
          "output_type": "execute_result",
          "data": {
            "text/plain": [
              "never smoked       1852\n",
              "Unknown            1483\n",
              "formerly smoked     836\n",
              "smokes              737\n",
              "Name: smoking_status, dtype: int64"
            ]
          },
          "metadata": {},
          "execution_count": 117
        }
      ]
    },
    {
      "cell_type": "code",
      "source": [
        "sns.countplot(data=responses, x='smoking_status')"
      ],
      "metadata": {
        "colab": {
          "base_uri": "https://localhost:8080/",
          "height": 467
        },
        "id": "R8BjaPyblDlZ",
        "outputId": "1265bf3d-01bc-4ffd-f8d9-c3e816ddd167"
      },
      "execution_count": 118,
      "outputs": [
        {
          "output_type": "execute_result",
          "data": {
            "text/plain": [
              "<Axes: xlabel='smoking_status', ylabel='count'>"
            ]
          },
          "metadata": {},
          "execution_count": 118
        },
        {
          "output_type": "display_data",
          "data": {
            "text/plain": [
              "<Figure size 640x480 with 1 Axes>"
            ],
            "image/png": "[encoded data removed]"
          },
          "metadata": {}
        }
      ]
    },
    {
      "cell_type": "code",
      "source": [
        "\n",
        "\n",
        "strokes_by_smoking_status_stroke = responses.groupby(['smoking_status', 'stroke']).agg({'stroke': 'count'})\n",
        "strokes_by_smoking_status = responses.groupby(['smoking_status']).agg({'stroke': 'count'})\n",
        "display(strokes_by_smoking_status_stroke)\n",
        "display (strokes_by_smoking_status_stroke.div(strokes_by_smoking_status, level='smoking_status')*100)\n",
        "\n"
      ],
      "metadata": {
        "colab": {
          "base_uri": "https://localhost:8080/",
          "height": 646
        },
        "id": "oq_VPGSLkw0Q",
        "outputId": "1870bf70-d08a-4cf4-a792-25643f211c40"
      },
      "execution_count": 119,
      "outputs": [
        {
          "output_type": "display_data",
          "data": {
            "text/plain": [
              "                        stroke\n",
              "smoking_status  stroke        \n",
              "Unknown         0         1454\n",
              "                1           29\n",
              "formerly smoked 0          779\n",
              "                1           57\n",
              "never smoked    0         1768\n",
              "                1           84\n",
              "smokes          0          698\n",
              "                1           39"
            ],
            "text/html": [
              "\n",
              "  <div id=\"df-8418a39d-0197-49e4-91bd-166f999d79a8\">\n",
              "    <div class=\"colab-df-container\">\n",
              "      <div>\n",
              "<style scoped>\n",
              "    .dataframe tbody tr th:only-of-type {\n",
              "        vertical-align: middle;\n",
              "    }\n",
              "\n",
              "    .dataframe tbody tr th {\n",
              "        vertical-align: top;\n",
              "    }\n",
              "\n",
              "    .dataframe thead th {\n",
              "        text-align: right;\n",
              "    }\n",
              "</style>\n",
              "<table border=\"1\" class=\"dataframe\">\n",
              "  <thead>\n",
              "    <tr style=\"text-align: right;\">\n",
              "      <th></th>\n",
              "      <th></th>\n",
              "      <th>stroke</th>\n",
              "    </tr>\n",
              "    <tr>\n",
              "      <th>smoking_status</th>\n",
              "      <th>stroke</th>\n",
              "      <th></th>\n",
              "    </tr>\n",
              "  </thead>\n",
              "  <tbody>\n",
              "    <tr>\n",
              "      <th rowspan=\"2\" valign=\"top\">Unknown</th>\n",
              "      <th>0</th>\n",
              "      <td>1454</td>\n",
              "    </tr>\n",
              "    <tr>\n",
              "      <th>1</th>\n",
              "      <td>29</td>\n",
              "    </tr>\n",
              "    <tr>\n",
              "      <th rowspan=\"2\" valign=\"top\">formerly smoked</th>\n",
              "      <th>0</th>\n",
              "      <td>779</td>\n",
              "    </tr>\n",
              "    <tr>\n",
              "      <th>1</th>\n",
              "      <td>57</td>\n",
              "    </tr>\n",
              "    <tr>\n",
              "      <th rowspan=\"2\" valign=\"top\">never smoked</th>\n",
              "      <th>0</th>\n",
              "      <td>1768</td>\n",
              "    </tr>\n",
              "    <tr>\n",
              "      <th>1</th>\n",
              "      <td>84</td>\n",
              "    </tr>\n",
              "    <tr>\n",
              "      <th rowspan=\"2\" valign=\"top\">smokes</th>\n",
              "      <th>0</th>\n",
              "      <td>698</td>\n",
              "    </tr>\n",
              "    <tr>\n",
              "      <th>1</th>\n",
              "      <td>39</td>\n",
              "    </tr>\n",
              "  </tbody>\n",
              "</table>\n",
              "</div>\n",
              "      <button class=\"colab-df-convert\" onclick=\"convertToInteractive('df-8418a39d-0197-49e4-91bd-166f999d79a8')\"\n",
              "              title=\"Convert this dataframe to an interactive table.\"\n",
              "              style=\"display:none;\">\n",
              "        \n",
              "  <svg xmlns=\"http://www.w3.org/2000/svg\" height=\"24px\"viewBox=\"0 0 24 24\"\n",
              "       width=\"24px\">\n",
              "    <path d=\"M0 0h24v24H0V0z\" fill=\"none\"/>\n",
              "    <path d=\"M18.56 5.44l.94 2.06.94-2.06 2.06-.94-2.06-.94-.94-2.06-.94 2.06-2.06.94zm-11 1L8.5 8.5l.94-2.06 2.06-.94-2.06-.94L8.5 2.5l-.94 2.06-2.06.94zm10 10l.94 2.06.94-2.06 2.06-.94-2.06-.94-.94-2.06-.94 2.06-2.06.94z\"/><path d=\"M17.41 7.96l-1.37-1.37c-.4-.4-.92-.59-1.43-.59-.52 0-1.04.2-1.43.59L10.3 9.45l-7.72 7.72c-.78.78-.78 2.05 0 2.83L4 21.41c.39.39.9.59 1.41.59.51 0 1.02-.2 1.41-.59l7.78-7.78 2.81-2.81c.8-.78.8-2.07 0-2.86zM5.41 20L4 18.59l7.72-7.72 1.47 1.35L5.41 20z\"/>\n",
              "  </svg>\n",
              "      </button>\n",
              "      \n",
              "  <style>\n",
              "    .colab-df-container {\n",
              "      display:flex;\n",
              "      flex-wrap:wrap;\n",
              "      gap: 12px;\n",
              "    }\n",
              "\n",
              "    .colab-df-convert {\n",
              "      background-color: #E8F0FE;\n",
              "      border: none;\n",
              "      border-radius: 50%;\n",
              "      cursor: pointer;\n",
              "      display: none;\n",
              "      fill: #1967D2;\n",
              "      height: 32px;\n",
              "      padding: 0 0 0 0;\n",
              "      width: 32px;\n",
              "    }\n",
              "\n",
              "    .colab-df-convert:hover {\n",
              "      background-color: #E2EBFA;\n",
              "      box-shadow: 0px 1px 2px rgba(60, 64, 67, 0.3), 0px 1px 3px 1px rgba(60, 64, 67, 0.15);\n",
              "      fill: #174EA6;\n",
              "    }\n",
              "\n",
              "    [theme=dark] .colab-df-convert {\n",
              "      background-color: #3B4455;\n",
              "      fill: #D2E3FC;\n",
              "    }\n",
              "\n",
              "    [theme=dark] .colab-df-convert:hover {\n",
              "      background-color: #434B5C;\n",
              "      box-shadow: 0px 1px 3px 1px rgba(0, 0, 0, 0.15);\n",
              "      filter: drop-shadow(0px 1px 2px rgba(0, 0, 0, 0.3));\n",
              "      fill: #FFFFFF;\n",
              "    }\n",
              "  </style>\n",
              "\n",
              "      <script>\n",
              "        const buttonEl =\n",
              "          document.querySelector('#df-8418a39d-0197-49e4-91bd-166f999d79a8 button.colab-df-convert');\n",
              "        buttonEl.style.display =\n",
              "          google.colab.kernel.accessAllowed ? 'block' : 'none';\n",
              "\n",
              "        async function convertToInteractive(key) {\n",
              "          const element = document.querySelector('#df-8418a39d-0197-49e4-91bd-166f999d79a8');\n",
              "          const dataTable =\n",
              "            await google.colab.kernel.invokeFunction('convertToInteractive',\n",
              "                                                     [key], {});\n",
              "          if (!dataTable) return;\n",
              "\n",
              "          const docLinkHtml = 'Like what you see? Visit the ' +\n",
              "            '<a target=\"_blank\" href=https://colab.research.google.com/notebooks/data_table.ipynb>data table notebook</a>'\n",
              "            + ' to learn more about interactive tables.';\n",
              "          element.innerHTML = '';\n",
              "          dataTable['output_type'] = 'display_data';\n",
              "          await google.colab.output.renderOutput(dataTable, element);\n",
              "          const docLink = document.createElement('div');\n",
              "          docLink.innerHTML = docLinkHtml;\n",
              "          element.appendChild(docLink);\n",
              "        }\n",
              "      </script>\n",
              "    </div>\n",
              "  </div>\n",
              "  "
            ]
          },
          "metadata": {}
        },
        {
          "output_type": "display_data",
          "data": {
            "text/plain": [
              "                           stroke\n",
              "smoking_status  stroke           \n",
              "Unknown         0       98.044504\n",
              "                1        1.955496\n",
              "formerly smoked 0       93.181818\n",
              "                1        6.818182\n",
              "never smoked    0       95.464363\n",
              "                1        4.535637\n",
              "smokes          0       94.708277\n",
              "                1        5.291723"
            ],
            "text/html": [
              "\n",
              "  <div id=\"df-6edefc45-6689-49f0-9eaa-256d434c1f7a\">\n",
              "    <div class=\"colab-df-container\">\n",
              "      <div>\n",
              "<style scoped>\n",
              "    .dataframe tbody tr th:only-of-type {\n",
              "        vertical-align: middle;\n",
              "    }\n",
              "\n",
              "    .dataframe tbody tr th {\n",
              "        vertical-align: top;\n",
              "    }\n",
              "\n",
              "    .dataframe thead th {\n",
              "        text-align: right;\n",
              "    }\n",
              "</style>\n",
              "<table border=\"1\" class=\"dataframe\">\n",
              "  <thead>\n",
              "    <tr style=\"text-align: right;\">\n",
              "      <th></th>\n",
              "      <th></th>\n",
              "      <th>stroke</th>\n",
              "    </tr>\n",
              "    <tr>\n",
              "      <th>smoking_status</th>\n",
              "      <th>stroke</th>\n",
              "      <th></th>\n",
              "    </tr>\n",
              "  </thead>\n",
              "  <tbody>\n",
              "    <tr>\n",
              "      <th rowspan=\"2\" valign=\"top\">Unknown</th>\n",
              "      <th>0</th>\n",
              "      <td>98.044504</td>\n",
              "    </tr>\n",
              "    <tr>\n",
              "      <th>1</th>\n",
              "      <td>1.955496</td>\n",
              "    </tr>\n",
              "    <tr>\n",
              "      <th rowspan=\"2\" valign=\"top\">formerly smoked</th>\n",
              "      <th>0</th>\n",
              "      <td>93.181818</td>\n",
              "    </tr>\n",
              "    <tr>\n",
              "      <th>1</th>\n",
              "      <td>6.818182</td>\n",
              "    </tr>\n",
              "    <tr>\n",
              "      <th rowspan=\"2\" valign=\"top\">never smoked</th>\n",
              "      <th>0</th>\n",
              "      <td>95.464363</td>\n",
              "    </tr>\n",
              "    <tr>\n",
              "      <th>1</th>\n",
              "      <td>4.535637</td>\n",
              "    </tr>\n",
              "    <tr>\n",
              "      <th rowspan=\"2\" valign=\"top\">smokes</th>\n",
              "      <th>0</th>\n",
              "      <td>94.708277</td>\n",
              "    </tr>\n",
              "    <tr>\n",
              "      <th>1</th>\n",
              "      <td>5.291723</td>\n",
              "    </tr>\n",
              "  </tbody>\n",
              "</table>\n",
              "</div>\n",
              "      <button class=\"colab-df-convert\" onclick=\"convertToInteractive('df-6edefc45-6689-49f0-9eaa-256d434c1f7a')\"\n",
              "              title=\"Convert this dataframe to an interactive table.\"\n",
              "              style=\"display:none;\">\n",
              "        \n",
              "  <svg xmlns=\"http://www.w3.org/2000/svg\" height=\"24px\"viewBox=\"0 0 24 24\"\n",
              "       width=\"24px\">\n",
              "    <path d=\"M0 0h24v24H0V0z\" fill=\"none\"/>\n",
              "    <path d=\"M18.56 5.44l.94 2.06.94-2.06 2.06-.94-2.06-.94-.94-2.06-.94 2.06-2.06.94zm-11 1L8.5 8.5l.94-2.06 2.06-.94-2.06-.94L8.5 2.5l-.94 2.06-2.06.94zm10 10l.94 2.06.94-2.06 2.06-.94-2.06-.94-.94-2.06-.94 2.06-2.06.94z\"/><path d=\"M17.41 7.96l-1.37-1.37c-.4-.4-.92-.59-1.43-.59-.52 0-1.04.2-1.43.59L10.3 9.45l-7.72 7.72c-.78.78-.78 2.05 0 2.83L4 21.41c.39.39.9.59 1.41.59.51 0 1.02-.2 1.41-.59l7.78-7.78 2.81-2.81c.8-.78.8-2.07 0-2.86zM5.41 20L4 18.59l7.72-7.72 1.47 1.35L5.41 20z\"/>\n",
              "  </svg>\n",
              "      </button>\n",
              "      \n",
              "  <style>\n",
              "    .colab-df-container {\n",
              "      display:flex;\n",
              "      flex-wrap:wrap;\n",
              "      gap: 12px;\n",
              "    }\n",
              "\n",
              "    .colab-df-convert {\n",
              "      background-color: #E8F0FE;\n",
              "      border: none;\n",
              "      border-radius: 50%;\n",
              "      cursor: pointer;\n",
              "      display: none;\n",
              "      fill: #1967D2;\n",
              "      height: 32px;\n",
              "      padding: 0 0 0 0;\n",
              "      width: 32px;\n",
              "    }\n",
              "\n",
              "    .colab-df-convert:hover {\n",
              "      background-color: #E2EBFA;\n",
              "      box-shadow: 0px 1px 2px rgba(60, 64, 67, 0.3), 0px 1px 3px 1px rgba(60, 64, 67, 0.15);\n",
              "      fill: #174EA6;\n",
              "    }\n",
              "\n",
              "    [theme=dark] .colab-df-convert {\n",
              "      background-color: #3B4455;\n",
              "      fill: #D2E3FC;\n",
              "    }\n",
              "\n",
              "    [theme=dark] .colab-df-convert:hover {\n",
              "      background-color: #434B5C;\n",
              "      box-shadow: 0px 1px 3px 1px rgba(0, 0, 0, 0.15);\n",
              "      filter: drop-shadow(0px 1px 2px rgba(0, 0, 0, 0.3));\n",
              "      fill: #FFFFFF;\n",
              "    }\n",
              "  </style>\n",
              "\n",
              "      <script>\n",
              "        const buttonEl =\n",
              "          document.querySelector('#df-6edefc45-6689-49f0-9eaa-256d434c1f7a button.colab-df-convert');\n",
              "        buttonEl.style.display =\n",
              "          google.colab.kernel.accessAllowed ? 'block' : 'none';\n",
              "\n",
              "        async function convertToInteractive(key) {\n",
              "          const element = document.querySelector('#df-6edefc45-6689-49f0-9eaa-256d434c1f7a');\n",
              "          const dataTable =\n",
              "            await google.colab.kernel.invokeFunction('convertToInteractive',\n",
              "                                                     [key], {});\n",
              "          if (!dataTable) return;\n",
              "\n",
              "          const docLinkHtml = 'Like what you see? Visit the ' +\n",
              "            '<a target=\"_blank\" href=https://colab.research.google.com/notebooks/data_table.ipynb>data table notebook</a>'\n",
              "            + ' to learn more about interactive tables.';\n",
              "          element.innerHTML = '';\n",
              "          dataTable['output_type'] = 'display_data';\n",
              "          await google.colab.output.renderOutput(dataTable, element);\n",
              "          const docLink = document.createElement('div');\n",
              "          docLink.innerHTML = docLinkHtml;\n",
              "          element.appendChild(docLink);\n",
              "        }\n",
              "      </script>\n",
              "    </div>\n",
              "  </div>\n",
              "  "
            ]
          },
          "metadata": {}
        }
      ]
    },
    {
      "cell_type": "code",
      "source": [
        "sns.countplot(data=responses, x='smoking_status', hue='stroke')"
      ],
      "metadata": {
        "colab": {
          "base_uri": "https://localhost:8080/",
          "height": 467
        },
        "id": "cJsPoEvSk5Ty",
        "outputId": "8f0028c1-6724-4da1-ef78-bab23693189a"
      },
      "execution_count": 120,
      "outputs": [
        {
          "output_type": "execute_result",
          "data": {
            "text/plain": [
              "<Axes: xlabel='smoking_status', ylabel='count'>"
            ]
          },
          "metadata": {},
          "execution_count": 120
        },
        {
          "output_type": "display_data",
          "data": {
            "text/plain": [
              "<Figure size 640x480 with 1 Axes>"
            ],
            "image/png": "[encoded data removed]"
          },
          "metadata": {}
        }
      ]
    },
    {
      "cell_type": "markdown",
      "source": [
        "### Evaluate Ever Married\n"
      ],
      "metadata": {
        "id": "RIfZjtchldnY"
      }
    },
    {
      "cell_type": "code",
      "source": [
        "responses['ever_married'].value_counts()"
      ],
      "metadata": {
        "colab": {
          "base_uri": "https://localhost:8080/"
        },
        "id": "quikg466li0q",
        "outputId": "df858c13-de84-4318-ecab-c44ac7c3bd50"
      },
      "execution_count": 121,
      "outputs": [
        {
          "output_type": "execute_result",
          "data": {
            "text/plain": [
              "Yes    3204\n",
              "No     1704\n",
              "Name: ever_married, dtype: int64"
            ]
          },
          "metadata": {},
          "execution_count": 121
        }
      ]
    },
    {
      "cell_type": "code",
      "source": [
        "\n",
        "\n",
        "strokes_by_ever_smoked_stroke = responses.groupby(['ever_married', 'stroke']).agg({'stroke': 'count'})\n",
        "strokes_by_ever_smoked = responses.groupby(['ever_married']).agg({'stroke': 'count'})\n",
        "display(strokes_by_ever_smoked_stroke)\n",
        "display (strokes_by_ever_smoked_stroke.div(strokes_by_ever_smoked, level='ever_married')*100)"
      ],
      "metadata": {
        "colab": {
          "base_uri": "https://localhost:8080/",
          "height": 395
        },
        "id": "EbmZ3-cIloFx",
        "outputId": "7a4153e2-e271-48d7-8e1b-90feb1e4969c"
      },
      "execution_count": 122,
      "outputs": [
        {
          "output_type": "display_data",
          "data": {
            "text/plain": [
              "                     stroke\n",
              "ever_married stroke        \n",
              "No           0         1681\n",
              "             1           23\n",
              "Yes          0         3018\n",
              "             1          186"
            ],
            "text/html": [
              "\n",
              "  <div id=\"df-390705d4-ae65-45a5-8436-5c973dee4d54\">\n",
              "    <div class=\"colab-df-container\">\n",
              "      <div>\n",
              "<style scoped>\n",
              "    .dataframe tbody tr th:only-of-type {\n",
              "        vertical-align: middle;\n",
              "    }\n",
              "\n",
              "    .dataframe tbody tr th {\n",
              "        vertical-align: top;\n",
              "    }\n",
              "\n",
              "    .dataframe thead th {\n",
              "        text-align: right;\n",
              "    }\n",
              "</style>\n",
              "<table border=\"1\" class=\"dataframe\">\n",
              "  <thead>\n",
              "    <tr style=\"text-align: right;\">\n",
              "      <th></th>\n",
              "      <th></th>\n",
              "      <th>stroke</th>\n",
              "    </tr>\n",
              "    <tr>\n",
              "      <th>ever_married</th>\n",
              "      <th>stroke</th>\n",
              "      <th></th>\n",
              "    </tr>\n",
              "  </thead>\n",
              "  <tbody>\n",
              "    <tr>\n",
              "      <th rowspan=\"2\" valign=\"top\">No</th>\n",
              "      <th>0</th>\n",
              "      <td>1681</td>\n",
              "    </tr>\n",
              "    <tr>\n",
              "      <th>1</th>\n",
              "      <td>23</td>\n",
              "    </tr>\n",
              "    <tr>\n",
              "      <th rowspan=\"2\" valign=\"top\">Yes</th>\n",
              "      <th>0</th>\n",
              "      <td>3018</td>\n",
              "    </tr>\n",
              "    <tr>\n",
              "      <th>1</th>\n",
              "      <td>186</td>\n",
              "    </tr>\n",
              "  </tbody>\n",
              "</table>\n",
              "</div>\n",
              "      <button class=\"colab-df-convert\" onclick=\"convertToInteractive('df-390705d4-ae65-45a5-8436-5c973dee4d54')\"\n",
              "              title=\"Convert this dataframe to an interactive table.\"\n",
              "              style=\"display:none;\">\n",
              "        \n",
              "  <svg xmlns=\"http://www.w3.org/2000/svg\" height=\"24px\"viewBox=\"0 0 24 24\"\n",
              "       width=\"24px\">\n",
              "    <path d=\"M0 0h24v24H0V0z\" fill=\"none\"/>\n",
              "    <path d=\"M18.56 5.44l.94 2.06.94-2.06 2.06-.94-2.06-.94-.94-2.06-.94 2.06-2.06.94zm-11 1L8.5 8.5l.94-2.06 2.06-.94-2.06-.94L8.5 2.5l-.94 2.06-2.06.94zm10 10l.94 2.06.94-2.06 2.06-.94-2.06-.94-.94-2.06-.94 2.06-2.06.94z\"/><path d=\"M17.41 7.96l-1.37-1.37c-.4-.4-.92-.59-1.43-.59-.52 0-1.04.2-1.43.59L10.3 9.45l-7.72 7.72c-.78.78-.78 2.05 0 2.83L4 21.41c.39.39.9.59 1.41.59.51 0 1.02-.2 1.41-.59l7.78-7.78 2.81-2.81c.8-.78.8-2.07 0-2.86zM5.41 20L4 18.59l7.72-7.72 1.47 1.35L5.41 20z\"/>\n",
              "  </svg>\n",
              "      </button>\n",
              "      \n",
              "  <style>\n",
              "    .colab-df-container {\n",
              "      display:flex;\n",
              "      flex-wrap:wrap;\n",
              "      gap: 12px;\n",
              "    }\n",
              "\n",
              "    .colab-df-convert {\n",
              "      background-color: #E8F0FE;\n",
              "      border: none;\n",
              "      border-radius: 50%;\n",
              "      cursor: pointer;\n",
              "      display: none;\n",
              "      fill: #1967D2;\n",
              "      height: 32px;\n",
              "      padding: 0 0 0 0;\n",
              "      width: 32px;\n",
              "    }\n",
              "\n",
              "    .colab-df-convert:hover {\n",
              "      background-color: #E2EBFA;\n",
              "      box-shadow: 0px 1px 2px rgba(60, 64, 67, 0.3), 0px 1px 3px 1px rgba(60, 64, 67, 0.15);\n",
              "      fill: #174EA6;\n",
              "    }\n",
              "\n",
              "    [theme=dark] .colab-df-convert {\n",
              "      background-color: #3B4455;\n",
              "      fill: #D2E3FC;\n",
              "    }\n",
              "\n",
              "    [theme=dark] .colab-df-convert:hover {\n",
              "      background-color: #434B5C;\n",
              "      box-shadow: 0px 1px 3px 1px rgba(0, 0, 0, 0.15);\n",
              "      filter: drop-shadow(0px 1px 2px rgba(0, 0, 0, 0.3));\n",
              "      fill: #FFFFFF;\n",
              "    }\n",
              "  </style>\n",
              "\n",
              "      <script>\n",
              "        const buttonEl =\n",
              "          document.querySelector('#df-390705d4-ae65-45a5-8436-5c973dee4d54 button.colab-df-convert');\n",
              "        buttonEl.style.display =\n",
              "          google.colab.kernel.accessAllowed ? 'block' : 'none';\n",
              "\n",
              "        async function convertToInteractive(key) {\n",
              "          const element = document.querySelector('#df-390705d4-ae65-45a5-8436-5c973dee4d54');\n",
              "          const dataTable =\n",
              "            await google.colab.kernel.invokeFunction('convertToInteractive',\n",
              "                                                     [key], {});\n",
              "          if (!dataTable) return;\n",
              "\n",
              "          const docLinkHtml = 'Like what you see? Visit the ' +\n",
              "            '<a target=\"_blank\" href=https://colab.research.google.com/notebooks/data_table.ipynb>data table notebook</a>'\n",
              "            + ' to learn more about interactive tables.';\n",
              "          element.innerHTML = '';\n",
              "          dataTable['output_type'] = 'display_data';\n",
              "          await google.colab.output.renderOutput(dataTable, element);\n",
              "          const docLink = document.createElement('div');\n",
              "          docLink.innerHTML = docLinkHtml;\n",
              "          element.appendChild(docLink);\n",
              "        }\n",
              "      </script>\n",
              "    </div>\n",
              "  </div>\n",
              "  "
            ]
          },
          "metadata": {}
        },
        {
          "output_type": "display_data",
          "data": {
            "text/plain": [
              "                        stroke\n",
              "ever_married stroke           \n",
              "No           0       98.650235\n",
              "             1        1.349765\n",
              "Yes          0       94.194757\n",
              "             1        5.805243"
            ],
            "text/html": [
              "\n",
              "  <div id=\"df-0f33d3d7-3cea-4ca5-800c-57f3135e7071\">\n",
              "    <div class=\"colab-df-container\">\n",
              "      <div>\n",
              "<style scoped>\n",
              "    .dataframe tbody tr th:only-of-type {\n",
              "        vertical-align: middle;\n",
              "    }\n",
              "\n",
              "    .dataframe tbody tr th {\n",
              "        vertical-align: top;\n",
              "    }\n",
              "\n",
              "    .dataframe thead th {\n",
              "        text-align: right;\n",
              "    }\n",
              "</style>\n",
              "<table border=\"1\" class=\"dataframe\">\n",
              "  <thead>\n",
              "    <tr style=\"text-align: right;\">\n",
              "      <th></th>\n",
              "      <th></th>\n",
              "      <th>stroke</th>\n",
              "    </tr>\n",
              "    <tr>\n",
              "      <th>ever_married</th>\n",
              "      <th>stroke</th>\n",
              "      <th></th>\n",
              "    </tr>\n",
              "  </thead>\n",
              "  <tbody>\n",
              "    <tr>\n",
              "      <th rowspan=\"2\" valign=\"top\">No</th>\n",
              "      <th>0</th>\n",
              "      <td>98.650235</td>\n",
              "    </tr>\n",
              "    <tr>\n",
              "      <th>1</th>\n",
              "      <td>1.349765</td>\n",
              "    </tr>\n",
              "    <tr>\n",
              "      <th rowspan=\"2\" valign=\"top\">Yes</th>\n",
              "      <th>0</th>\n",
              "      <td>94.194757</td>\n",
              "    </tr>\n",
              "    <tr>\n",
              "      <th>1</th>\n",
              "      <td>5.805243</td>\n",
              "    </tr>\n",
              "  </tbody>\n",
              "</table>\n",
              "</div>\n",
              "      <button class=\"colab-df-convert\" onclick=\"convertToInteractive('df-0f33d3d7-3cea-4ca5-800c-57f3135e7071')\"\n",
              "              title=\"Convert this dataframe to an interactive table.\"\n",
              "              style=\"display:none;\">\n",
              "        \n",
              "  <svg xmlns=\"http://www.w3.org/2000/svg\" height=\"24px\"viewBox=\"0 0 24 24\"\n",
              "       width=\"24px\">\n",
              "    <path d=\"M0 0h24v24H0V0z\" fill=\"none\"/>\n",
              "    <path d=\"M18.56 5.44l.94 2.06.94-2.06 2.06-.94-2.06-.94-.94-2.06-.94 2.06-2.06.94zm-11 1L8.5 8.5l.94-2.06 2.06-.94-2.06-.94L8.5 2.5l-.94 2.06-2.06.94zm10 10l.94 2.06.94-2.06 2.06-.94-2.06-.94-.94-2.06-.94 2.06-2.06.94z\"/><path d=\"M17.41 7.96l-1.37-1.37c-.4-.4-.92-.59-1.43-.59-.52 0-1.04.2-1.43.59L10.3 9.45l-7.72 7.72c-.78.78-.78 2.05 0 2.83L4 21.41c.39.39.9.59 1.41.59.51 0 1.02-.2 1.41-.59l7.78-7.78 2.81-2.81c.8-.78.8-2.07 0-2.86zM5.41 20L4 18.59l7.72-7.72 1.47 1.35L5.41 20z\"/>\n",
              "  </svg>\n",
              "      </button>\n",
              "      \n",
              "  <style>\n",
              "    .colab-df-container {\n",
              "      display:flex;\n",
              "      flex-wrap:wrap;\n",
              "      gap: 12px;\n",
              "    }\n",
              "\n",
              "    .colab-df-convert {\n",
              "      background-color: #E8F0FE;\n",
              "      border: none;\n",
              "      border-radius: 50%;\n",
              "      cursor: pointer;\n",
              "      display: none;\n",
              "      fill: #1967D2;\n",
              "      height: 32px;\n",
              "      padding: 0 0 0 0;\n",
              "      width: 32px;\n",
              "    }\n",
              "\n",
              "    .colab-df-convert:hover {\n",
              "      background-color: #E2EBFA;\n",
              "      box-shadow: 0px 1px 2px rgba(60, 64, 67, 0.3), 0px 1px 3px 1px rgba(60, 64, 67, 0.15);\n",
              "      fill: #174EA6;\n",
              "    }\n",
              "\n",
              "    [theme=dark] .colab-df-convert {\n",
              "      background-color: #3B4455;\n",
              "      fill: #D2E3FC;\n",
              "    }\n",
              "\n",
              "    [theme=dark] .colab-df-convert:hover {\n",
              "      background-color: #434B5C;\n",
              "      box-shadow: 0px 1px 3px 1px rgba(0, 0, 0, 0.15);\n",
              "      filter: drop-shadow(0px 1px 2px rgba(0, 0, 0, 0.3));\n",
              "      fill: #FFFFFF;\n",
              "    }\n",
              "  </style>\n",
              "\n",
              "      <script>\n",
              "        const buttonEl =\n",
              "          document.querySelector('#df-0f33d3d7-3cea-4ca5-800c-57f3135e7071 button.colab-df-convert');\n",
              "        buttonEl.style.display =\n",
              "          google.colab.kernel.accessAllowed ? 'block' : 'none';\n",
              "\n",
              "        async function convertToInteractive(key) {\n",
              "          const element = document.querySelector('#df-0f33d3d7-3cea-4ca5-800c-57f3135e7071');\n",
              "          const dataTable =\n",
              "            await google.colab.kernel.invokeFunction('convertToInteractive',\n",
              "                                                     [key], {});\n",
              "          if (!dataTable) return;\n",
              "\n",
              "          const docLinkHtml = 'Like what you see? Visit the ' +\n",
              "            '<a target=\"_blank\" href=https://colab.research.google.com/notebooks/data_table.ipynb>data table notebook</a>'\n",
              "            + ' to learn more about interactive tables.';\n",
              "          element.innerHTML = '';\n",
              "          dataTable['output_type'] = 'display_data';\n",
              "          await google.colab.output.renderOutput(dataTable, element);\n",
              "          const docLink = document.createElement('div');\n",
              "          docLink.innerHTML = docLinkHtml;\n",
              "          element.appendChild(docLink);\n",
              "        }\n",
              "      </script>\n",
              "    </div>\n",
              "  </div>\n",
              "  "
            ]
          },
          "metadata": {}
        }
      ]
    },
    {
      "cell_type": "code",
      "source": [
        "sns.countplot(data=responses, x='ever_married', hue='stroke')"
      ],
      "metadata": {
        "colab": {
          "base_uri": "https://localhost:8080/",
          "height": 467
        },
        "id": "fPdFnb2Plu9h",
        "outputId": "1742ac6c-1ef7-4c9d-da06-2fd013e201fb"
      },
      "execution_count": 123,
      "outputs": [
        {
          "output_type": "execute_result",
          "data": {
            "text/plain": [
              "<Axes: xlabel='ever_married', ylabel='count'>"
            ]
          },
          "metadata": {},
          "execution_count": 123
        },
        {
          "output_type": "display_data",
          "data": {
            "text/plain": [
              "<Figure size 640x480 with 1 Axes>"
            ],
            "image/png": "[encoded data removed]"
          },
          "metadata": {}
        }
      ]
    },
    {
      "cell_type": "code",
      "source": [
        "sns.stripplot(data=responses, x=\"ever_married\", y=\"age\") #Do we see more stroke after a certain age?"
      ],
      "metadata": {
        "colab": {
          "base_uri": "https://localhost:8080/",
          "height": 467
        },
        "id": "nw01107Ll1W5",
        "outputId": "042d5ee7-5bf3-4f53-aacd-20f235082bf2"
      },
      "execution_count": 124,
      "outputs": [
        {
          "output_type": "execute_result",
          "data": {
            "text/plain": [
              "<Axes: xlabel='ever_married', ylabel='age'>"
            ]
          },
          "metadata": {},
          "execution_count": 124
        },
        {
          "output_type": "display_data",
          "data": {
            "text/plain": [
              "<Figure size 640x480 with 1 Axes>"
            ],
            "image/png": "[encoded data removed]"
          },
          "metadata": {}
        }
      ]
    },
    {
      "cell_type": "markdown",
      "source": [
        "## EDA Findings & Answered Questions\n",
        "### Question 1 - Can I use EDA to predict the features that will have the highest weight/score when the machine learning finds the best model?\n",
        "\n",
        "Here are my guesses:\n",
        "\n",
        "\n",
        "1. The patient's gender appears to have no bearing on the risk of stroke.  Both sexes have a 5% chance of having a stroke. \n",
        "1.  The patient's residence type appears to have no bearing on the risk of stroke.  \n",
        "1.  The BMI seems to have no bearing on the risk of stroke.  The boxplot shows that the people with strokes are within the same Q1 to Q3 quartiles as those without stroke.  \n",
        "1. Age appears to have a bearing on stroke risk.  Patients generally older than 40 have strokes.  There are 3 outliers of patients under 40 having strokes.  The boxplot shows patients between 60 & 80 generally have strokes.  It also shoes patients between 21 & 59 generally do not have strokes.\n",
        "1. Hypertension seems to be an indicator for stroke.  4% of patients that do not have hypertension had a stroke.  13% of patients that have hypertension had a stroke.  Hypertension is more prevalent among older people, but there seems to be a higher group of people who had strokes that are older and have hypertension, compared to anyone else.  It looks like the combination of age and hypertension may be a factor when considering stroke.\n",
        "1. Heart disease seems to be an indicator for stroke.  4% of patients that do not have heart disease had a stroke.  17% of patients that have heart disease  had a stroke.  Heart disease  is more prevalent among older people, but there seems to be a higher group of people who had strokes that are older and have heart disease , compared to anyone else.  It looks like the combination of age and heart disease  may be a factor when considering stroke.\n",
        "1. Initially it appears that work_type of children and no work was associated with a low risk of stroke.  Upon further investigation, it became clear the ages of those people who aren't working, or raising children, was 20 or under.  This finding appears to be related to age and not work type.  If I remove those two values it appears that those working in government and private sector both have a 5% chance of having a stroke.  9% of self employed patients have had a stroke.  There appears to be a correlation between work type and the probability of having a stroke.  This could be stress related.\n",
        "1. Patients with higher average blood glucose levels have a higher percentage of strokes. \n",
        "1.  Only 2% of patients that are not married have had a stroke. 7% of married patients had a stroke.  That's a 5% higher incidence of stroke.  The issue I see with this assumption is that married people are generally older individuals and unmarried people are generally younger.  I need help on this to determine how to determine if this is a meaningful datapoint. \n",
        "\n",
        "\n",
        "### Question 2 - How clean is the BMI?  BMI is notorious for being inaccurate because it relies on people to measure height and weight.  Issue arise when people use different units (i.e. cm and lbs.) and with people who can't measure well (wheelchairs, walkers, etc.).\n",
        "\n",
        "*   The BMI has a of outliers.  I'm going to go with 2 standard deviations.  This brings the values to 13 to 47.\n",
        "*   The BMI is missing from 210 patients.\n",
        "\n",
        "\n",
        "### Question 3 - How much garbage data is out there (i.e. missing columns, bad data, etc.)?  Suggest ways to deal with it and validate with professor.\n",
        "1. BMI has 201 missing values.  BMI is a problem besides the missing values.  There are values which really cannot be accurate.  \n",
        "1. ever_smoked appears to be bad data.  The 'unknown' values are present in 30% of the records.   5% of patients who never smoked and who currently smoke have had a stroke.  That fact alone suggests smoking has no bearing on strokes.  It's interesting that 8% of patients that quit smoking had a stroke and 3% of patients that didn't answer the question never had a stroke.  This seems like garbage data to me.  Unknown should be somewhere between never smoked and currently smokes.  It also seems unlikely that those who quit smoking are worse off then those who currently smoke.\n",
        "1. There is one 'Other' value in the gender feature.  The entire row/record will be removed.\n",
        "\n",
        "### Question 4 - Are there enough stroke victims to make a prediction?  The future lectures (or the professor) talked about balanced data.  This question may actually be: Do I have balanced data and if it, do I need to do something with it?  \n",
        "\n",
        "The data does not appear to be balanced.  Only 5% of the patients have had a stroke (249 strokes / 4861 non-strokes).  I will stratify the dataframe when I split the train/test data.\n",
        "\n",
        "### Question 5 - What Panda methods (graphs/plots/functions) represent that data the best?\n",
        "\n",
        "I've only researched a subset of the pandas, seaborn, and matplotlib, but I've already found a few trends.\n",
        "1. For hard counts, I use pandas: info and value_counts.  I want to see the actual numbers.  The pie charts and bar graphs are don't show the detail I need.  It's hard to tell that 5% of both genders had a stroke.  Looking at the graphs, it almost looks like females had more strokes.\n",
        "2. For categorical variables, I found using the countplot, with a hue of stroke, really helped to show high level relationships between the feature in question and the incident of stroke.  Having this picture is a great visualization and helps identify trends.  It seemed that I always had to follow up with the textual computation of the data.  I feel both methods are necessary to get a clear picture.  as\n",
        "3. For continuous variables, I found using a histogram showed me how evenly the data was spaced out.   I also found the combination of the stripplot (scatter plot) and the boxplot effective at looking at the data.  I think the boxplot would have worked fine, except for I was not as familiar with the boxplot.  The scatter plot helped me understand the boxplot more.  \n",
        "4. I also found the groupby method extremely effective in finding the percentages of values for categorical variables.\n",
        "5. I found the violin plot interesting to look at hypertension.  Hypertension was observed across all ages.  I wanted to see if hypertension existed more in the upper age groups and this plot was able to show me that."
      ],
      "metadata": {
        "id": "OFcHFTkMmRiT"
      }
    },
    {
      "cell_type": "markdown",
      "source": [
        "# Feature Engineering\n",
        "Create a final list of features from the dataset, based on the EDA.\n"
      ],
      "metadata": {
        "id": "5ADRC7YKdT2g"
      }
    },
    {
      "cell_type": "code",
      "source": [
        "# For testing only: responses = pd.read_csv('https://raw.githubusercontent.com/matthewdheilmanvanderbilt/CS5262_MachineLearning/main/healthcare-dataset-stroke-data.csv')\n",
        "\n",
        "display(responses.shape)"
      ],
      "metadata": {
        "colab": {
          "base_uri": "https://localhost:8080/",
          "height": 34
        },
        "id": "P76C-nwVzuhb",
        "outputId": "e5ee1c77-5b8c-40f1-d09c-a2257a067059"
      },
      "execution_count": 125,
      "outputs": [
        {
          "output_type": "display_data",
          "data": {
            "text/plain": [
              "(4908, 12)"
            ]
          },
          "metadata": {}
        }
      ]
    },
    {
      "cell_type": "markdown",
      "source": [
        "## Remove the unique identifier (id) feature.  It is a unique identifier that overspecifies the data. "
      ],
      "metadata": {
        "id": "1SfHp9fpzyQr"
      }
    },
    {
      "cell_type": "code",
      "source": [
        "responses = responses.drop(columns=['id'])"
      ],
      "metadata": {
        "id": "gEwt8e0qVNIF"
      },
      "execution_count": 126,
      "outputs": []
    },
    {
      "cell_type": "markdown",
      "source": [
        "## Categorize BMI to make it more conducive to machine learning (using CDC values)\n",
        "*  less than 18.5 = underweight\n",
        "*  18.5 to < 25 = healthy\n",
        "*  25.0 to < 30 = overweight\n",
        "*  30 or higher = obese\n"
      ],
      "metadata": {
        "id": "Y0yz3HFP0O4l"
      }
    },
    {
      "cell_type": "code",
      "source": [
        "bmi_bins = [-np.inf,18.5, 25, 30, np.inf]\n",
        "bmi_labels = [\"underweight\",\"healthy\",\"overweight\",\"obese\"]\n",
        "responses['bmi_cat'] = pd.cut(responses['bmi'], bins=bmi_bins, labels=bmi_labels)\n",
        "\n",
        "## Drop the original bmi feature (replaced with categories)\n",
        "responses = responses.drop(columns=['bmi'])"
      ],
      "metadata": {
        "id": "0fLPf8X-0P2a"
      },
      "execution_count": 127,
      "outputs": []
    },
    {
      "cell_type": "markdown",
      "source": [
        "## Categorize blood glucose levels to make it more conducive to machine learning (using CDC values)\n",
        "* less than or equal to 99 mg/dl = normal\n",
        "* 100 to <= 125 = prediabetes\n",
        "* 126 or higher = diabetes\n"
      ],
      "metadata": {
        "id": "d-QFHXSe1BgQ"
      }
    },
    {
      "cell_type": "code",
      "source": [
        "abl_bins = [-np.inf,100, 126, np.inf]\n",
        "abl_labels = [\"normal\",\"prediabetes\",\"diabetes\"]\n",
        "responses['avg_glucose_level_cat'] = pd.cut(responses['avg_glucose_level'], bins=abl_bins, labels=abl_labels)\n",
        "\n",
        "## Drop original average blood level feature (replaced with categories)\n",
        "responses = responses.drop(columns=['avg_glucose_level'])"
      ],
      "metadata": {
        "id": "jRVnLM361IEY"
      },
      "execution_count": 128,
      "outputs": []
    },
    {
      "cell_type": "markdown",
      "source": [
        "## Convert age to integer, rounding the ages below 2 which have decimal values"
      ],
      "metadata": {
        "id": "CPFqKes13iDl"
      }
    },
    {
      "cell_type": "code",
      "source": [
        "responses['age'] = responses['age'].astype(int)"
      ],
      "metadata": {
        "id": "uLDbxoyF77Ua"
      },
      "execution_count": 129,
      "outputs": []
    },
    {
      "cell_type": "markdown",
      "source": [
        "## Display top 5 records to look at the transformed data.  Also look at shape to validate 202 records were removed and one feature removed"
      ],
      "metadata": {
        "id": "1xdbRg1M3mp-"
      }
    },
    {
      "cell_type": "code",
      "source": [
        "display(responses.head())\n",
        "display(responses.shape)"
      ],
      "metadata": {
        "colab": {
          "base_uri": "https://localhost:8080/",
          "height": 224
        },
        "id": "muRp9QZC4Kg-",
        "outputId": "9d2ede05-16c3-4edd-da8e-e05bb04209dc"
      },
      "execution_count": 130,
      "outputs": [
        {
          "output_type": "display_data",
          "data": {
            "text/plain": [
              "   gender  age  hypertension  heart_disease ever_married      work_type  \\\n",
              "0    Male   67             0              1          Yes        Private   \n",
              "2    Male   80             0              1          Yes        Private   \n",
              "3  Female   49             0              0          Yes        Private   \n",
              "4  Female   79             1              0          Yes  Self-employed   \n",
              "5    Male   81             0              0          Yes        Private   \n",
              "\n",
              "  Residence_type   smoking_status  stroke     bmi_cat avg_glucose_level_cat  \n",
              "0          Urban  formerly smoked       1       obese              diabetes  \n",
              "2          Rural     never smoked       1       obese           prediabetes  \n",
              "3          Urban           smokes       1       obese              diabetes  \n",
              "4          Rural     never smoked       1     healthy              diabetes  \n",
              "5          Urban  formerly smoked       1  overweight              diabetes  "
            ],
            "text/html": [
              "\n",
              "  <div id=\"df-5aee93c4-9e1b-412d-8361-87cb41a9349c\">\n",
              "    <div class=\"colab-df-container\">\n",
              "      <div>\n",
              "<style scoped>\n",
              "    .dataframe tbody tr th:only-of-type {\n",
              "        vertical-align: middle;\n",
              "    }\n",
              "\n",
              "    .dataframe tbody tr th {\n",
              "        vertical-align: top;\n",
              "    }\n",
              "\n",
              "    .dataframe thead th {\n",
              "        text-align: right;\n",
              "    }\n",
              "</style>\n",
              "<table border=\"1\" class=\"dataframe\">\n",
              "  <thead>\n",
              "    <tr style=\"text-align: right;\">\n",
              "      <th></th>\n",
              "      <th>gender</th>\n",
              "      <th>age</th>\n",
              "      <th>hypertension</th>\n",
              "      <th>heart_disease</th>\n",
              "      <th>ever_married</th>\n",
              "      <th>work_type</th>\n",
              "      <th>Residence_type</th>\n",
              "      <th>smoking_status</th>\n",
              "      <th>stroke</th>\n",
              "      <th>bmi_cat</th>\n",
              "      <th>avg_glucose_level_cat</th>\n",
              "    </tr>\n",
              "  </thead>\n",
              "  <tbody>\n",
              "    <tr>\n",
              "      <th>0</th>\n",
              "      <td>Male</td>\n",
              "      <td>67</td>\n",
              "      <td>0</td>\n",
              "      <td>1</td>\n",
              "      <td>Yes</td>\n",
              "      <td>Private</td>\n",
              "      <td>Urban</td>\n",
              "      <td>formerly smoked</td>\n",
              "      <td>1</td>\n",
              "      <td>obese</td>\n",
              "      <td>diabetes</td>\n",
              "    </tr>\n",
              "    <tr>\n",
              "      <th>2</th>\n",
              "      <td>Male</td>\n",
              "      <td>80</td>\n",
              "      <td>0</td>\n",
              "      <td>1</td>\n",
              "      <td>Yes</td>\n",
              "      <td>Private</td>\n",
              "      <td>Rural</td>\n",
              "      <td>never smoked</td>\n",
              "      <td>1</td>\n",
              "      <td>obese</td>\n",
              "      <td>prediabetes</td>\n",
              "    </tr>\n",
              "    <tr>\n",
              "      <th>3</th>\n",
              "      <td>Female</td>\n",
              "      <td>49</td>\n",
              "      <td>0</td>\n",
              "      <td>0</td>\n",
              "      <td>Yes</td>\n",
              "      <td>Private</td>\n",
              "      <td>Urban</td>\n",
              "      <td>smokes</td>\n",
              "      <td>1</td>\n",
              "      <td>obese</td>\n",
              "      <td>diabetes</td>\n",
              "    </tr>\n",
              "    <tr>\n",
              "      <th>4</th>\n",
              "      <td>Female</td>\n",
              "      <td>79</td>\n",
              "      <td>1</td>\n",
              "      <td>0</td>\n",
              "      <td>Yes</td>\n",
              "      <td>Self-employed</td>\n",
              "      <td>Rural</td>\n",
              "      <td>never smoked</td>\n",
              "      <td>1</td>\n",
              "      <td>healthy</td>\n",
              "      <td>diabetes</td>\n",
              "    </tr>\n",
              "    <tr>\n",
              "      <th>5</th>\n",
              "      <td>Male</td>\n",
              "      <td>81</td>\n",
              "      <td>0</td>\n",
              "      <td>0</td>\n",
              "      <td>Yes</td>\n",
              "      <td>Private</td>\n",
              "      <td>Urban</td>\n",
              "      <td>formerly smoked</td>\n",
              "      <td>1</td>\n",
              "      <td>overweight</td>\n",
              "      <td>diabetes</td>\n",
              "    </tr>\n",
              "  </tbody>\n",
              "</table>\n",
              "</div>\n",
              "      <button class=\"colab-df-convert\" onclick=\"convertToInteractive('df-5aee93c4-9e1b-412d-8361-87cb41a9349c')\"\n",
              "              title=\"Convert this dataframe to an interactive table.\"\n",
              "              style=\"display:none;\">\n",
              "        \n",
              "  <svg xmlns=\"http://www.w3.org/2000/svg\" height=\"24px\"viewBox=\"0 0 24 24\"\n",
              "       width=\"24px\">\n",
              "    <path d=\"M0 0h24v24H0V0z\" fill=\"none\"/>\n",
              "    <path d=\"M18.56 5.44l.94 2.06.94-2.06 2.06-.94-2.06-.94-.94-2.06-.94 2.06-2.06.94zm-11 1L8.5 8.5l.94-2.06 2.06-.94-2.06-.94L8.5 2.5l-.94 2.06-2.06.94zm10 10l.94 2.06.94-2.06 2.06-.94-2.06-.94-.94-2.06-.94 2.06-2.06.94z\"/><path d=\"M17.41 7.96l-1.37-1.37c-.4-.4-.92-.59-1.43-.59-.52 0-1.04.2-1.43.59L10.3 9.45l-7.72 7.72c-.78.78-.78 2.05 0 2.83L4 21.41c.39.39.9.59 1.41.59.51 0 1.02-.2 1.41-.59l7.78-7.78 2.81-2.81c.8-.78.8-2.07 0-2.86zM5.41 20L4 18.59l7.72-7.72 1.47 1.35L5.41 20z\"/>\n",
              "  </svg>\n",
              "      </button>\n",
              "      \n",
              "  <style>\n",
              "    .colab-df-container {\n",
              "      display:flex;\n",
              "      flex-wrap:wrap;\n",
              "      gap: 12px;\n",
              "    }\n",
              "\n",
              "    .colab-df-convert {\n",
              "      background-color: #E8F0FE;\n",
              "      border: none;\n",
              "      border-radius: 50%;\n",
              "      cursor: pointer;\n",
              "      display: none;\n",
              "      fill: #1967D2;\n",
              "      height: 32px;\n",
              "      padding: 0 0 0 0;\n",
              "      width: 32px;\n",
              "    }\n",
              "\n",
              "    .colab-df-convert:hover {\n",
              "      background-color: #E2EBFA;\n",
              "      box-shadow: 0px 1px 2px rgba(60, 64, 67, 0.3), 0px 1px 3px 1px rgba(60, 64, 67, 0.15);\n",
              "      fill: #174EA6;\n",
              "    }\n",
              "\n",
              "    [theme=dark] .colab-df-convert {\n",
              "      background-color: #3B4455;\n",
              "      fill: #D2E3FC;\n",
              "    }\n",
              "\n",
              "    [theme=dark] .colab-df-convert:hover {\n",
              "      background-color: #434B5C;\n",
              "      box-shadow: 0px 1px 3px 1px rgba(0, 0, 0, 0.15);\n",
              "      filter: drop-shadow(0px 1px 2px rgba(0, 0, 0, 0.3));\n",
              "      fill: #FFFFFF;\n",
              "    }\n",
              "  </style>\n",
              "\n",
              "      <script>\n",
              "        const buttonEl =\n",
              "          document.querySelector('#df-5aee93c4-9e1b-412d-8361-87cb41a9349c button.colab-df-convert');\n",
              "        buttonEl.style.display =\n",
              "          google.colab.kernel.accessAllowed ? 'block' : 'none';\n",
              "\n",
              "        async function convertToInteractive(key) {\n",
              "          const element = document.querySelector('#df-5aee93c4-9e1b-412d-8361-87cb41a9349c');\n",
              "          const dataTable =\n",
              "            await google.colab.kernel.invokeFunction('convertToInteractive',\n",
              "                                                     [key], {});\n",
              "          if (!dataTable) return;\n",
              "\n",
              "          const docLinkHtml = 'Like what you see? Visit the ' +\n",
              "            '<a target=\"_blank\" href=https://colab.research.google.com/notebooks/data_table.ipynb>data table notebook</a>'\n",
              "            + ' to learn more about interactive tables.';\n",
              "          element.innerHTML = '';\n",
              "          dataTable['output_type'] = 'display_data';\n",
              "          await google.colab.output.renderOutput(dataTable, element);\n",
              "          const docLink = document.createElement('div');\n",
              "          docLink.innerHTML = docLinkHtml;\n",
              "          element.appendChild(docLink);\n",
              "        }\n",
              "      </script>\n",
              "    </div>\n",
              "  </div>\n",
              "  "
            ]
          },
          "metadata": {}
        },
        {
          "output_type": "display_data",
          "data": {
            "text/plain": [
              "(4908, 11)"
            ]
          },
          "metadata": {}
        }
      ]
    },
    {
      "cell_type": "markdown",
      "source": [
        "# Train-Test Split\n",
        "* Split the data 75% train and 25% split.  The dataset is small so I'm staying on the lower side of the 25% - 35% train recommendation.\n",
        "* There will be no golden holdout.  I don't have any raw data that I can feed into this later to validate the model.  A holdout is good practice and could be employted before deploying the model to production if raw data could be obtained.\n",
        "* Stratisfy the outcome (stroke) because the data is unbalanced (90%/10%)."
      ],
      "metadata": {
        "id": "mitAvuQ8obdZ"
      }
    },
    {
      "cell_type": "markdown",
      "source": [
        "## Some attempts at rebalancing data\n"
      ],
      "metadata": {
        "id": "sZXvIYhlzHyi"
      }
    },
    {
      "cell_type": "code",
      "source": [
        "#train_0 = responses[responses['stroke'] == 0]\n",
        "#train_1 = responses[responses['stroke'] == 1]\n",
        "#responses = list(np.random.randint(0, len(train_0), len(train_1)))\n",
        "\n",
        "#from imblearn.over_sampling import RandomOverSampler\n",
        "#rs = RandomOverSampler()\n",
        "#X, y = rs.fit_resample(X, y)"
      ],
      "metadata": {
        "id": "KkbHyIGTzMoq"
      },
      "execution_count": 131,
      "outputs": []
    },
    {
      "cell_type": "code",
      "source": [
        "class_column = ['stroke']\n",
        "random_seed = 1234\n",
        "\n",
        "X = responses.drop(columns=class_column)\n",
        "y = responses[class_column]\n",
        "\n",
        "from imblearn.over_sampling import RandomOverSampler\n",
        "rs = RandomOverSampler()\n",
        "\n",
        "X_train, X_test, y_train, y_test = train_test_split(X, y, \n",
        "                                             stratify = y)\n",
        "#X_train, X_test, y_train, y_test = train_test_split(responses.drop(columns=class_column),responses[class_column], test_size=0.35, shuffle = True, random_state=random_seed, stratify=responses[class_column])"
      ],
      "metadata": {
        "id": "02YNXzEDoMdv"
      },
      "execution_count": 132,
      "outputs": []
    },
    {
      "cell_type": "markdown",
      "source": [
        "## Santity Check\n",
        "Quick look to see if the split looks correct"
      ],
      "metadata": {
        "id": "uGtFPANd5XV-"
      }
    },
    {
      "cell_type": "code",
      "source": [
        "display('On X train:')\n",
        "display('X train dimensions: ', X_train.shape)\n",
        "display(X_train.head)\n",
        "X_train.info()\n",
        "\n",
        "\n",
        "display('On X test:')\n",
        "display('X test dimensions: ', X_test.shape)\n",
        "display(X_test.head)\n",
        "X_test.info()\n",
        "\n",
        "display('On y train:')\n",
        "display('y train dimensions: ', y_train.shape)\n",
        "display(y_train.head)\n",
        "y_train.info()\n",
        "\n",
        "display('On y test:')\n",
        "display('X test dimensions: ', y_test.shape)\n",
        "display(y_test.head)\n",
        "y_test.info()\n",
        "\n",
        "\n"
      ],
      "metadata": {
        "colab": {
          "base_uri": "https://localhost:8080/",
          "height": 1000
        },
        "id": "9rlrSo5REHgD",
        "outputId": "ed821946-6450-4edf-bff2-768beaaa3882"
      },
      "execution_count": 133,
      "outputs": [
        {
          "output_type": "display_data",
          "data": {
            "text/plain": [
              "'On X train:'"
            ],
            "application/vnd.google.colaboratory.intrinsic+json": {
              "type": "string"
            }
          },
          "metadata": {}
        },
        {
          "output_type": "display_data",
          "data": {
            "text/plain": [
              "'X train dimensions: '"
            ],
            "application/vnd.google.colaboratory.intrinsic+json": {
              "type": "string"
            }
          },
          "metadata": {}
        },
        {
          "output_type": "display_data",
          "data": {
            "text/plain": [
              "(3681, 10)"
            ]
          },
          "metadata": {}
        },
        {
          "output_type": "display_data",
          "data": {
            "text/plain": [
              "<bound method NDFrame.head of       gender  age  hypertension  heart_disease ever_married      work_type  \\\n",
              "4272  Female   17             0              0           No        Private   \n",
              "3938  Female   15             0              0           No       children   \n",
              "2941  Female   29             0              0          Yes  Self-employed   \n",
              "3850    Male   40             0              0          Yes  Self-employed   \n",
              "1379    Male   39             0              0          Yes        Private   \n",
              "...      ...  ...           ...            ...          ...            ...   \n",
              "3820  Female   61             0              0          Yes        Private   \n",
              "1896  Female   25             0              0           No       Govt_job   \n",
              "419   Female   24             0              0           No        Private   \n",
              "2190    Male   79             1              0          Yes  Self-employed   \n",
              "4048    Male   54             0              0          Yes        Private   \n",
              "\n",
              "     Residence_type   smoking_status      bmi_cat avg_glucose_level_cat  \n",
              "4272          Urban          Unknown   overweight                normal  \n",
              "3938          Rural          Unknown  underweight                normal  \n",
              "2941          Rural          Unknown   overweight                normal  \n",
              "3850          Urban           smokes   overweight                normal  \n",
              "1379          Rural     never smoked      healthy              diabetes  \n",
              "...             ...              ...          ...                   ...  \n",
              "3820          Urban     never smoked   overweight           prediabetes  \n",
              "1896          Rural           smokes        obese                normal  \n",
              "419           Urban     never smoked   overweight                normal  \n",
              "2190          Urban           smokes   overweight                normal  \n",
              "4048          Urban  formerly smoked        obese              diabetes  \n",
              "\n",
              "[3681 rows x 10 columns]>"
            ]
          },
          "metadata": {}
        },
        {
          "output_type": "stream",
          "name": "stdout",
          "text": [
            "<class 'pandas.core.frame.DataFrame'>\n",
            "Int64Index: 3681 entries, 4272 to 4048\n",
            "Data columns (total 10 columns):\n",
            " #   Column                 Non-Null Count  Dtype   \n",
            "---  ------                 --------------  -----   \n",
            " 0   gender                 3681 non-null   object  \n",
            " 1   age                    3681 non-null   int64   \n",
            " 2   hypertension           3681 non-null   int64   \n",
            " 3   heart_disease          3681 non-null   int64   \n",
            " 4   ever_married           3681 non-null   object  \n",
            " 5   work_type              3681 non-null   object  \n",
            " 6   Residence_type         3681 non-null   object  \n",
            " 7   smoking_status         3681 non-null   object  \n",
            " 8   bmi_cat                3681 non-null   category\n",
            " 9   avg_glucose_level_cat  3681 non-null   category\n",
            "dtypes: category(2), int64(3), object(5)\n",
            "memory usage: 266.3+ KB\n"
          ]
        },
        {
          "output_type": "display_data",
          "data": {
            "text/plain": [
              "'On X test:'"
            ],
            "application/vnd.google.colaboratory.intrinsic+json": {
              "type": "string"
            }
          },
          "metadata": {}
        },
        {
          "output_type": "display_data",
          "data": {
            "text/plain": [
              "'X test dimensions: '"
            ],
            "application/vnd.google.colaboratory.intrinsic+json": {
              "type": "string"
            }
          },
          "metadata": {}
        },
        {
          "output_type": "display_data",
          "data": {
            "text/plain": [
              "(1227, 10)"
            ]
          },
          "metadata": {}
        },
        {
          "output_type": "display_data",
          "data": {
            "text/plain": [
              "<bound method NDFrame.head of       gender  age  hypertension  heart_disease ever_married      work_type  \\\n",
              "2155  Female   53             0              0          Yes  Self-employed   \n",
              "2330    Male   42             0              0          Yes        Private   \n",
              "2018    Male   69             1              0          Yes        Private   \n",
              "4086    Male   68             0              1          Yes        Private   \n",
              "3555    Male    9             0              0           No       children   \n",
              "...      ...  ...           ...            ...          ...            ...   \n",
              "4099    Male   80             0              0           No        Private   \n",
              "595   Female   46             0              0          Yes        Private   \n",
              "3105  Female   61             0              0          Yes        Private   \n",
              "361   Female   39             0              0          Yes  Self-employed   \n",
              "2424    Male   37             1              0          Yes        Private   \n",
              "\n",
              "     Residence_type   smoking_status      bmi_cat avg_glucose_level_cat  \n",
              "2155          Rural  formerly smoked        obese                normal  \n",
              "2330          Rural          Unknown        obese                normal  \n",
              "2018          Urban           smokes        obese              diabetes  \n",
              "4086          Rural     never smoked        obese              diabetes  \n",
              "3555          Urban          Unknown  underweight                normal  \n",
              "...             ...              ...          ...                   ...  \n",
              "4099          Urban          Unknown   overweight                normal  \n",
              "595           Rural           smokes        obese              diabetes  \n",
              "3105          Urban           smokes  underweight           prediabetes  \n",
              "361           Rural     never smoked      healthy                normal  \n",
              "2424          Urban     never smoked        obese              diabetes  \n",
              "\n",
              "[1227 rows x 10 columns]>"
            ]
          },
          "metadata": {}
        },
        {
          "output_type": "stream",
          "name": "stdout",
          "text": [
            "<class 'pandas.core.frame.DataFrame'>\n",
            "Int64Index: 1227 entries, 2155 to 2424\n",
            "Data columns (total 10 columns):\n",
            " #   Column                 Non-Null Count  Dtype   \n",
            "---  ------                 --------------  -----   \n",
            " 0   gender                 1227 non-null   object  \n",
            " 1   age                    1227 non-null   int64   \n",
            " 2   hypertension           1227 non-null   int64   \n",
            " 3   heart_disease          1227 non-null   int64   \n",
            " 4   ever_married           1227 non-null   object  \n",
            " 5   work_type              1227 non-null   object  \n",
            " 6   Residence_type         1227 non-null   object  \n",
            " 7   smoking_status         1227 non-null   object  \n",
            " 8   bmi_cat                1227 non-null   category\n",
            " 9   avg_glucose_level_cat  1227 non-null   category\n",
            "dtypes: category(2), int64(3), object(5)\n",
            "memory usage: 89.0+ KB\n"
          ]
        },
        {
          "output_type": "display_data",
          "data": {
            "text/plain": [
              "'On y train:'"
            ],
            "application/vnd.google.colaboratory.intrinsic+json": {
              "type": "string"
            }
          },
          "metadata": {}
        },
        {
          "output_type": "display_data",
          "data": {
            "text/plain": [
              "'y train dimensions: '"
            ],
            "application/vnd.google.colaboratory.intrinsic+json": {
              "type": "string"
            }
          },
          "metadata": {}
        },
        {
          "output_type": "display_data",
          "data": {
            "text/plain": [
              "(3681, 1)"
            ]
          },
          "metadata": {}
        },
        {
          "output_type": "display_data",
          "data": {
            "text/plain": [
              "<bound method NDFrame.head of       stroke\n",
              "4272       0\n",
              "3938       0\n",
              "2941       0\n",
              "3850       0\n",
              "1379       0\n",
              "...      ...\n",
              "3820       0\n",
              "1896       0\n",
              "419        0\n",
              "2190       0\n",
              "4048       0\n",
              "\n",
              "[3681 rows x 1 columns]>"
            ]
          },
          "metadata": {}
        },
        {
          "output_type": "stream",
          "name": "stdout",
          "text": [
            "<class 'pandas.core.frame.DataFrame'>\n",
            "Int64Index: 3681 entries, 4272 to 4048\n",
            "Data columns (total 1 columns):\n",
            " #   Column  Non-Null Count  Dtype\n",
            "---  ------  --------------  -----\n",
            " 0   stroke  3681 non-null   int64\n",
            "dtypes: int64(1)\n",
            "memory usage: 57.5 KB\n"
          ]
        },
        {
          "output_type": "display_data",
          "data": {
            "text/plain": [
              "'On y test:'"
            ],
            "application/vnd.google.colaboratory.intrinsic+json": {
              "type": "string"
            }
          },
          "metadata": {}
        },
        {
          "output_type": "display_data",
          "data": {
            "text/plain": [
              "'X test dimensions: '"
            ],
            "application/vnd.google.colaboratory.intrinsic+json": {
              "type": "string"
            }
          },
          "metadata": {}
        },
        {
          "output_type": "display_data",
          "data": {
            "text/plain": [
              "(1227, 1)"
            ]
          },
          "metadata": {}
        },
        {
          "output_type": "display_data",
          "data": {
            "text/plain": [
              "<bound method NDFrame.head of       stroke\n",
              "2155       0\n",
              "2330       0\n",
              "2018       0\n",
              "4086       0\n",
              "3555       0\n",
              "...      ...\n",
              "4099       0\n",
              "595        0\n",
              "3105       0\n",
              "361        0\n",
              "2424       0\n",
              "\n",
              "[1227 rows x 1 columns]>"
            ]
          },
          "metadata": {}
        },
        {
          "output_type": "stream",
          "name": "stdout",
          "text": [
            "<class 'pandas.core.frame.DataFrame'>\n",
            "Int64Index: 1227 entries, 2155 to 2424\n",
            "Data columns (total 1 columns):\n",
            " #   Column  Non-Null Count  Dtype\n",
            "---  ------  --------------  -----\n",
            " 0   stroke  1227 non-null   int64\n",
            "dtypes: int64(1)\n",
            "memory usage: 19.2 KB\n"
          ]
        }
      ]
    },
    {
      "cell_type": "markdown",
      "source": [
        "# Pipeline\n",
        "1.  I have no values to impute.  I've removed all missing values.  I'm only keeping this statement in here in the event I introduce a different CSV file which is more balanced.\n",
        "1.  I'll need two different pipelines (categorical & numeric). \n",
        "*  I will use a onehot processor for my categorical variables/pipeline (hypertension, heart_disease\tever_married, work_type, Residence_type, smoking_status, stroke, bmi_cat, avg_glucose_level_cat)   \n",
        "*  I will use a standard scaler for my numerical variable/pipeline (age).\n",
        "3. The last step of the pipeline will be to create a model.  This will change from a processing pipeline to a model pipeline.  I'll use the method of Logistic Regression so I can do model fitting.  \n"
      ],
      "metadata": {
        "id": "RpzNmPDxpQES"
      }
    },
    {
      "cell_type": "code",
      "source": [
        "responses.info()\n",
        "\n",
        "# individual pipelines for categorical variables and count variables\n",
        "#cat_pipeline = Pipeline(steps=['onehot_cat', preprocessing.OneHotEncoder(drop='if_binary')])\n",
        "#num_pipeline = Pipeline(steps=['scale_num', preprocessing.StandardScaler()])\n",
        "\n",
        "cat_pipeline = Pipeline(steps=[('cat_impute', SimpleImputer(strategy='most_frequent')),\n",
        "                               ('onehot_cat', OneHotEncoder())])\n",
        "\n",
        "num_pipeline = Pipeline(steps=[('impute_num', SimpleImputer(strategy='mean')),\n",
        "                               ('scale_num', StandardScaler())])\n",
        "\n",
        "#establish preprocessing on the data\n",
        "\n",
        "cat_cols = ['gender', 'hypertension', 'heart_disease', 'ever_married', 'work_type', 'Residence_type', 'smoking_status', 'bmi_cat', 'avg_glucose_level_cat']\n",
        "num_cols = ['age']\n",
        "\n",
        "preproc = ColumnTransformer([('cat_pipe', cat_pipeline, cat_cols),\n",
        "                             ('num_pipe', num_pipeline, num_cols)],\n",
        "                             remainder='passthrough')\n",
        "\n",
        "\n",
        "\n",
        "#generate the whole modeling pipeline with preprossing\n",
        "pipe = Pipeline(steps=[('preproc', preproc),\n",
        "                       ('mdl', LogisticRegression(penalty='elasticnet', solver='saga', tol=0.01))])\n",
        "# Try a random forest model\n",
        "# increase test set\n",
        "\n",
        "# visualization for the steps\n",
        "with config_context(display='diagram'):\n",
        "  display(pipe)\n",
        "\n"
      ],
      "metadata": {
        "colab": {
          "base_uri": "https://localhost:8080/",
          "height": 539
        },
        "id": "K4tPxn8fp0lR",
        "outputId": "7c11eae7-8196-4b1d-c622-499e65f9cebd"
      },
      "execution_count": 134,
      "outputs": [
        {
          "output_type": "stream",
          "name": "stdout",
          "text": [
            "<class 'pandas.core.frame.DataFrame'>\n",
            "Int64Index: 4908 entries, 0 to 5109\n",
            "Data columns (total 11 columns):\n",
            " #   Column                 Non-Null Count  Dtype   \n",
            "---  ------                 --------------  -----   \n",
            " 0   gender                 4908 non-null   object  \n",
            " 1   age                    4908 non-null   int64   \n",
            " 2   hypertension           4908 non-null   int64   \n",
            " 3   heart_disease          4908 non-null   int64   \n",
            " 4   ever_married           4908 non-null   object  \n",
            " 5   work_type              4908 non-null   object  \n",
            " 6   Residence_type         4908 non-null   object  \n",
            " 7   smoking_status         4908 non-null   object  \n",
            " 8   stroke                 4908 non-null   int64   \n",
            " 9   bmi_cat                4908 non-null   category\n",
            " 10  avg_glucose_level_cat  4908 non-null   category\n",
            "dtypes: category(2), int64(4), object(5)\n",
            "memory usage: 393.4+ KB\n"
          ]
        },
        {
          "output_type": "display_data",
          "data": {
            "text/plain": [
              "Pipeline(steps=[('preproc',\n",
              "                 ColumnTransformer(remainder='passthrough',\n",
              "                                   transformers=[('cat_pipe',\n",
              "                                                  Pipeline(steps=[('cat_impute',\n",
              "                                                                   SimpleImputer(strategy='most_frequent')),\n",
              "                                                                  ('onehot_cat',\n",
              "                                                                   OneHotEncoder())]),\n",
              "                                                  ['gender', 'hypertension',\n",
              "                                                   'heart_disease',\n",
              "                                                   'ever_married', 'work_type',\n",
              "                                                   'Residence_type',\n",
              "                                                   'smoking_status', 'bmi_cat',\n",
              "                                                   'avg_glucose_level_cat']),\n",
              "                                                 ('num_pipe',\n",
              "                                                  Pipeline(steps=[('impute_num',\n",
              "                                                                   SimpleImputer()),\n",
              "                                                                  ('scale_num',\n",
              "                                                                   StandardScaler())]),\n",
              "                                                  ['age'])])),\n",
              "                ('mdl',\n",
              "                 LogisticRegression(penalty='elasticnet', solver='saga',\n",
              "                                    tol=0.01))])"
            ],
            "text/html": [
              "<style>#sk-container-id-7 {color: black;background-color: white;}#sk-container-id-7 pre{padding: 0;}#sk-container-id-7 div.sk-toggleable {background-color: white;}#sk-container-id-7 label.sk-toggleable__label {cursor: pointer;display: block;width: 100%;margin-bottom: 0;padding: 0.3em;box-sizing: border-box;text-align: center;}#sk-container-id-7 label.sk-toggleable__label-arrow:before {content: \"▸\";float: left;margin-right: 0.25em;color: #696969;}#sk-container-id-7 label.sk-toggleable__label-arrow:hover:before {color: black;}#sk-container-id-7 div.sk-estimator:hover label.sk-toggleable__label-arrow:before {color: black;}#sk-container-id-7 div.sk-toggleable__content {max-height: 0;max-width: 0;overflow: hidden;text-align: left;background-color: #f0f8ff;}#sk-container-id-7 div.sk-toggleable__content pre {margin: 0.2em;color: black;border-radius: 0.25em;background-color: #f0f8ff;}#sk-container-id-7 input.sk-toggleable__control:checked~div.sk-toggleable__content {max-height: 200px;max-width: 100%;overflow: auto;}#sk-container-id-7 input.sk-toggleable__control:checked~label.sk-toggleable__label-arrow:before {content: \"▾\";}#sk-container-id-7 div.sk-estimator input.sk-toggleable__control:checked~label.sk-toggleable__label {background-color: #d4ebff;}#sk-container-id-7 div.sk-label input.sk-toggleable__control:checked~label.sk-toggleable__label {background-color: #d4ebff;}#sk-container-id-7 input.sk-hidden--visually {border: 0;clip: rect(1px 1px 1px 1px);clip: rect(1px, 1px, 1px, 1px);height: 1px;margin: -1px;overflow: hidden;padding: 0;position: absolute;width: 1px;}#sk-container-id-7 div.sk-estimator {font-family: monospace;background-color: #f0f8ff;border: 1px dotted black;border-radius: 0.25em;box-sizing: border-box;margin-bottom: 0.5em;}#sk-container-id-7 div.sk-estimator:hover {background-color: #d4ebff;}#sk-container-id-7 div.sk-parallel-item::after {content: \"\";width: 100%;border-bottom: 1px solid gray;flex-grow: 1;}#sk-container-id-7 div.sk-label:hover label.sk-toggleable__label {background-color: #d4ebff;}#sk-container-id-7 div.sk-serial::before {content: \"\";position: absolute;border-left: 1px solid gray;box-sizing: border-box;top: 0;bottom: 0;left: 50%;z-index: 0;}#sk-container-id-7 div.sk-serial {display: flex;flex-direction: column;align-items: center;background-color: white;padding-right: 0.2em;padding-left: 0.2em;position: relative;}#sk-container-id-7 div.sk-item {position: relative;z-index: 1;}#sk-container-id-7 div.sk-parallel {display: flex;align-items: stretch;justify-content: center;background-color: white;position: relative;}#sk-container-id-7 div.sk-item::before, #sk-container-id-7 div.sk-parallel-item::before {content: \"\";position: absolute;border-left: 1px solid gray;box-sizing: border-box;top: 0;bottom: 0;left: 50%;z-index: -1;}#sk-container-id-7 div.sk-parallel-item {display: flex;flex-direction: column;z-index: 1;position: relative;background-color: white;}#sk-container-id-7 div.sk-parallel-item:first-child::after {align-self: flex-end;width: 50%;}#sk-container-id-7 div.sk-parallel-item:last-child::after {align-self: flex-start;width: 50%;}#sk-container-id-7 div.sk-parallel-item:only-child::after {width: 0;}#sk-container-id-7 div.sk-dashed-wrapped {border: 1px dashed gray;margin: 0 0.4em 0.5em 0.4em;box-sizing: border-box;padding-bottom: 0.4em;background-color: white;}#sk-container-id-7 div.sk-label label {font-family: monospace;font-weight: bold;display: inline-block;line-height: 1.2em;}#sk-container-id-7 div.sk-label-container {text-align: center;}#sk-container-id-7 div.sk-container {/* jupyter's `normalize.less` sets `[hidden] { display: none; }` but bootstrap.min.css set `[hidden] { display: none !important; }` so we also need the `!important` here to be able to override the default hidden behavior on the sphinx rendered scikit-learn.org. See: https://github.com/scikit-learn/scikit-learn/issues/21755 */display: inline-block !important;position: relative;}#sk-container-id-7 div.sk-text-repr-fallback {display: none;}</style><div id=\"sk-container-id-7\" class=\"sk-top-container\"><div class=\"sk-text-repr-fallback\"><pre>Pipeline(steps=[(&#x27;preproc&#x27;,\n",
              "                 ColumnTransformer(remainder=&#x27;passthrough&#x27;,\n",
              "                                   transformers=[(&#x27;cat_pipe&#x27;,\n",
              "                                                  Pipeline(steps=[(&#x27;cat_impute&#x27;,\n",
              "                                                                   SimpleImputer(strategy=&#x27;most_frequent&#x27;)),\n",
              "                                                                  (&#x27;onehot_cat&#x27;,\n",
              "                                                                   OneHotEncoder())]),\n",
              "                                                  [&#x27;gender&#x27;, &#x27;hypertension&#x27;,\n",
              "                                                   &#x27;heart_disease&#x27;,\n",
              "                                                   &#x27;ever_married&#x27;, &#x27;work_type&#x27;,\n",
              "                                                   &#x27;Residence_type&#x27;,\n",
              "                                                   &#x27;smoking_status&#x27;, &#x27;bmi_cat&#x27;,\n",
              "                                                   &#x27;avg_glucose_level_cat&#x27;]),\n",
              "                                                 (&#x27;num_pipe&#x27;,\n",
              "                                                  Pipeline(steps=[(&#x27;impute_num&#x27;,\n",
              "                                                                   SimpleImputer()),\n",
              "                                                                  (&#x27;scale_num&#x27;,\n",
              "                                                                   StandardScaler())]),\n",
              "                                                  [&#x27;age&#x27;])])),\n",
              "                (&#x27;mdl&#x27;,\n",
              "                 LogisticRegression(penalty=&#x27;elasticnet&#x27;, solver=&#x27;saga&#x27;,\n",
              "                                    tol=0.01))])</pre><b>In a Jupyter environment, please rerun this cell to show the HTML representation or trust the notebook. <br />On GitHub, the HTML representation is unable to render, please try loading this page with nbviewer.org.</b></div><div class=\"sk-container\" hidden><div class=\"sk-item sk-dashed-wrapped\"><div class=\"sk-label-container\"><div class=\"sk-label sk-toggleable\"><input class=\"sk-toggleable__control sk-hidden--visually\" id=\"sk-estimator-id-68\" type=\"checkbox\" ><label for=\"sk-estimator-id-68\" class=\"sk-toggleable__label sk-toggleable__label-arrow\">Pipeline</label><div class=\"sk-toggleable__content\"><pre>Pipeline(steps=[(&#x27;preproc&#x27;,\n",
              "                 ColumnTransformer(remainder=&#x27;passthrough&#x27;,\n",
              "                                   transformers=[(&#x27;cat_pipe&#x27;,\n",
              "                                                  Pipeline(steps=[(&#x27;cat_impute&#x27;,\n",
              "                                                                   SimpleImputer(strategy=&#x27;most_frequent&#x27;)),\n",
              "                                                                  (&#x27;onehot_cat&#x27;,\n",
              "                                                                   OneHotEncoder())]),\n",
              "                                                  [&#x27;gender&#x27;, &#x27;hypertension&#x27;,\n",
              "                                                   &#x27;heart_disease&#x27;,\n",
              "                                                   &#x27;ever_married&#x27;, &#x27;work_type&#x27;,\n",
              "                                                   &#x27;Residence_type&#x27;,\n",
              "                                                   &#x27;smoking_status&#x27;, &#x27;bmi_cat&#x27;,\n",
              "                                                   &#x27;avg_glucose_level_cat&#x27;]),\n",
              "                                                 (&#x27;num_pipe&#x27;,\n",
              "                                                  Pipeline(steps=[(&#x27;impute_num&#x27;,\n",
              "                                                                   SimpleImputer()),\n",
              "                                                                  (&#x27;scale_num&#x27;,\n",
              "                                                                   StandardScaler())]),\n",
              "                                                  [&#x27;age&#x27;])])),\n",
              "                (&#x27;mdl&#x27;,\n",
              "                 LogisticRegression(penalty=&#x27;elasticnet&#x27;, solver=&#x27;saga&#x27;,\n",
              "                                    tol=0.01))])</pre></div></div></div><div class=\"sk-serial\"><div class=\"sk-item sk-dashed-wrapped\"><div class=\"sk-label-container\"><div class=\"sk-label sk-toggleable\"><input class=\"sk-toggleable__control sk-hidden--visually\" id=\"sk-estimator-id-69\" type=\"checkbox\" ><label for=\"sk-estimator-id-69\" class=\"sk-toggleable__label sk-toggleable__label-arrow\">preproc: ColumnTransformer</label><div class=\"sk-toggleable__content\"><pre>ColumnTransformer(remainder=&#x27;passthrough&#x27;,\n",
              "                  transformers=[(&#x27;cat_pipe&#x27;,\n",
              "                                 Pipeline(steps=[(&#x27;cat_impute&#x27;,\n",
              "                                                  SimpleImputer(strategy=&#x27;most_frequent&#x27;)),\n",
              "                                                 (&#x27;onehot_cat&#x27;,\n",
              "                                                  OneHotEncoder())]),\n",
              "                                 [&#x27;gender&#x27;, &#x27;hypertension&#x27;, &#x27;heart_disease&#x27;,\n",
              "                                  &#x27;ever_married&#x27;, &#x27;work_type&#x27;, &#x27;Residence_type&#x27;,\n",
              "                                  &#x27;smoking_status&#x27;, &#x27;bmi_cat&#x27;,\n",
              "                                  &#x27;avg_glucose_level_cat&#x27;]),\n",
              "                                (&#x27;num_pipe&#x27;,\n",
              "                                 Pipeline(steps=[(&#x27;impute_num&#x27;,\n",
              "                                                  SimpleImputer()),\n",
              "                                                 (&#x27;scale_num&#x27;,\n",
              "                                                  StandardScaler())]),\n",
              "                                 [&#x27;age&#x27;])])</pre></div></div></div><div class=\"sk-parallel\"><div class=\"sk-parallel-item\"><div class=\"sk-item\"><div class=\"sk-label-container\"><div class=\"sk-label sk-toggleable\"><input class=\"sk-toggleable__control sk-hidden--visually\" id=\"sk-estimator-id-70\" type=\"checkbox\" ><label for=\"sk-estimator-id-70\" class=\"sk-toggleable__label sk-toggleable__label-arrow\">cat_pipe</label><div class=\"sk-toggleable__content\"><pre>[&#x27;gender&#x27;, &#x27;hypertension&#x27;, &#x27;heart_disease&#x27;, &#x27;ever_married&#x27;, &#x27;work_type&#x27;, &#x27;Residence_type&#x27;, &#x27;smoking_status&#x27;, &#x27;bmi_cat&#x27;, &#x27;avg_glucose_level_cat&#x27;]</pre></div></div></div><div class=\"sk-serial\"><div class=\"sk-item\"><div class=\"sk-serial\"><div class=\"sk-item\"><div class=\"sk-estimator sk-toggleable\"><input class=\"sk-toggleable__control sk-hidden--visually\" id=\"sk-estimator-id-71\" type=\"checkbox\" ><label for=\"sk-estimator-id-71\" class=\"sk-toggleable__label sk-toggleable__label-arrow\">SimpleImputer</label><div class=\"sk-toggleable__content\"><pre>SimpleImputer(strategy=&#x27;most_frequent&#x27;)</pre></div></div></div><div class=\"sk-item\"><div class=\"sk-estimator sk-toggleable\"><input class=\"sk-toggleable__control sk-hidden--visually\" id=\"sk-estimator-id-72\" type=\"checkbox\" ><label for=\"sk-estimator-id-72\" class=\"sk-toggleable__label sk-toggleable__label-arrow\">OneHotEncoder</label><div class=\"sk-toggleable__content\"><pre>OneHotEncoder()</pre></div></div></div></div></div></div></div></div><div class=\"sk-parallel-item\"><div class=\"sk-item\"><div class=\"sk-label-container\"><div class=\"sk-label sk-toggleable\"><input class=\"sk-toggleable__control sk-hidden--visually\" id=\"sk-estimator-id-73\" type=\"checkbox\" ><label for=\"sk-estimator-id-73\" class=\"sk-toggleable__label sk-toggleable__label-arrow\">num_pipe</label><div class=\"sk-toggleable__content\"><pre>[&#x27;age&#x27;]</pre></div></div></div><div class=\"sk-serial\"><div class=\"sk-item\"><div class=\"sk-serial\"><div class=\"sk-item\"><div class=\"sk-estimator sk-toggleable\"><input class=\"sk-toggleable__control sk-hidden--visually\" id=\"sk-estimator-id-74\" type=\"checkbox\" ><label for=\"sk-estimator-id-74\" class=\"sk-toggleable__label sk-toggleable__label-arrow\">SimpleImputer</label><div class=\"sk-toggleable__content\"><pre>SimpleImputer()</pre></div></div></div><div class=\"sk-item\"><div class=\"sk-estimator sk-toggleable\"><input class=\"sk-toggleable__control sk-hidden--visually\" id=\"sk-estimator-id-75\" type=\"checkbox\" ><label for=\"sk-estimator-id-75\" class=\"sk-toggleable__label sk-toggleable__label-arrow\">StandardScaler</label><div class=\"sk-toggleable__content\"><pre>StandardScaler()</pre></div></div></div></div></div></div></div></div><div class=\"sk-parallel-item\"><div class=\"sk-item\"><div class=\"sk-label-container\"><div class=\"sk-label sk-toggleable\"><input class=\"sk-toggleable__control sk-hidden--visually\" id=\"sk-estimator-id-76\" type=\"checkbox\" ><label for=\"sk-estimator-id-76\" class=\"sk-toggleable__label sk-toggleable__label-arrow\">remainder</label><div class=\"sk-toggleable__content\"><pre></pre></div></div></div><div class=\"sk-serial\"><div class=\"sk-item\"><div class=\"sk-estimator sk-toggleable\"><input class=\"sk-toggleable__control sk-hidden--visually\" id=\"sk-estimator-id-77\" type=\"checkbox\" ><label for=\"sk-estimator-id-77\" class=\"sk-toggleable__label sk-toggleable__label-arrow\">passthrough</label><div class=\"sk-toggleable__content\"><pre>passthrough</pre></div></div></div></div></div></div></div></div><div class=\"sk-item\"><div class=\"sk-estimator sk-toggleable\"><input class=\"sk-toggleable__control sk-hidden--visually\" id=\"sk-estimator-id-78\" type=\"checkbox\" ><label for=\"sk-estimator-id-78\" class=\"sk-toggleable__label sk-toggleable__label-arrow\">LogisticRegression</label><div class=\"sk-toggleable__content\"><pre>LogisticRegression(penalty=&#x27;elasticnet&#x27;, solver=&#x27;saga&#x27;, tol=0.01)</pre></div></div></div></div></div></div></div>"
            ]
          },
          "metadata": {}
        }
      ]
    },
    {
      "cell_type": "markdown",
      "source": [
        "## Cross-validation with hyperparameter tuning"
      ],
      "metadata": {
        "id": "vTFJhoBy8JP0"
      }
    },
    {
      "cell_type": "code",
      "source": [
        "# Use the pipeline for cross validation and hyperparameter tuning\n",
        "tuning_grid = {'mdl__l1_ratio' : np.linspace(0,1,5),\n",
        "               'mdl__C': np.logspace(-1, 6, 3) }\n",
        "\n",
        "grid_search = GridSearchCV(pipe, param_grid = tuning_grid, cv = 10, return_train_score=True, n_jobs=-1)"
      ],
      "metadata": {
        "id": "-4vSkHY88GME"
      },
      "execution_count": 135,
      "outputs": []
    },
    {
      "cell_type": "code",
      "source": [
        "tuning_grid"
      ],
      "metadata": {
        "id": "FEl7En-k8o0E",
        "outputId": "de4529eb-d82d-4993-9d69-ed27995c664d",
        "colab": {
          "base_uri": "https://localhost:8080/"
        }
      },
      "execution_count": 136,
      "outputs": [
        {
          "output_type": "execute_result",
          "data": {
            "text/plain": [
              "{'mdl__l1_ratio': array([0.  , 0.25, 0.5 , 0.75, 1.  ]),\n",
              " 'mdl__C': array([1.00000000e-01, 3.16227766e+02, 1.00000000e+06])}"
            ]
          },
          "metadata": {},
          "execution_count": 136
        }
      ]
    },
    {
      "cell_type": "code",
      "source": [
        "# Feed the training set to our training pipeline\n",
        "grid_search.fit(X_train, y_train.values.ravel()) # bulk of training"
      ],
      "metadata": {
        "id": "OcvHTE3y8rUr",
        "outputId": "ba099a80-ea05-48a5-bc39-5dc14c1c3d37",
        "colab": {
          "base_uri": "https://localhost:8080/",
          "height": 253
        }
      },
      "execution_count": 137,
      "outputs": [
        {
          "output_type": "execute_result",
          "data": {
            "text/plain": [
              "GridSearchCV(cv=10,\n",
              "             estimator=Pipeline(steps=[('preproc',\n",
              "                                        ColumnTransformer(remainder='passthrough',\n",
              "                                                          transformers=[('cat_pipe',\n",
              "                                                                         Pipeline(steps=[('cat_impute',\n",
              "                                                                                          SimpleImputer(strategy='most_frequent')),\n",
              "                                                                                         ('onehot_cat',\n",
              "                                                                                          OneHotEncoder())]),\n",
              "                                                                         ['gender',\n",
              "                                                                          'hypertension',\n",
              "                                                                          'heart_disease',\n",
              "                                                                          'ever_married',\n",
              "                                                                          'work_type',\n",
              "                                                                          'Residence_type',\n",
              "                                                                          'smoking_status',\n",
              "                                                                          'bmi_cat',\n",
              "                                                                          'avg_glucose_level_cat']),\n",
              "                                                                        ('num_pipe',\n",
              "                                                                         Pipeline(steps=[('impute_num',\n",
              "                                                                                          SimpleImputer()),\n",
              "                                                                                         ('scale_num',\n",
              "                                                                                          StandardScaler())]),\n",
              "                                                                         ['age'])])),\n",
              "                                       ('mdl',\n",
              "                                        LogisticRegression(penalty='elasticnet',\n",
              "                                                           solver='saga',\n",
              "                                                           tol=0.01))]),\n",
              "             n_jobs=-1,\n",
              "             param_grid={'mdl__C': array([1.00000000e-01, 3.16227766e+02, 1.00000000e+06]),\n",
              "                         'mdl__l1_ratio': array([0.  , 0.25, 0.5 , 0.75, 1.  ])},\n",
              "             return_train_score=True)"
            ],
            "text/html": [
              "<style>#sk-container-id-8 {color: black;background-color: white;}#sk-container-id-8 pre{padding: 0;}#sk-container-id-8 div.sk-toggleable {background-color: white;}#sk-container-id-8 label.sk-toggleable__label {cursor: pointer;display: block;width: 100%;margin-bottom: 0;padding: 0.3em;box-sizing: border-box;text-align: center;}#sk-container-id-8 label.sk-toggleable__label-arrow:before {content: \"▸\";float: left;margin-right: 0.25em;color: #696969;}#sk-container-id-8 label.sk-toggleable__label-arrow:hover:before {color: black;}#sk-container-id-8 div.sk-estimator:hover label.sk-toggleable__label-arrow:before {color: black;}#sk-container-id-8 div.sk-toggleable__content {max-height: 0;max-width: 0;overflow: hidden;text-align: left;background-color: #f0f8ff;}#sk-container-id-8 div.sk-toggleable__content pre {margin: 0.2em;color: black;border-radius: 0.25em;background-color: #f0f8ff;}#sk-container-id-8 input.sk-toggleable__control:checked~div.sk-toggleable__content {max-height: 200px;max-width: 100%;overflow: auto;}#sk-container-id-8 input.sk-toggleable__control:checked~label.sk-toggleable__label-arrow:before {content: \"▾\";}#sk-container-id-8 div.sk-estimator input.sk-toggleable__control:checked~label.sk-toggleable__label {background-color: #d4ebff;}#sk-container-id-8 div.sk-label input.sk-toggleable__control:checked~label.sk-toggleable__label {background-color: #d4ebff;}#sk-container-id-8 input.sk-hidden--visually {border: 0;clip: rect(1px 1px 1px 1px);clip: rect(1px, 1px, 1px, 1px);height: 1px;margin: -1px;overflow: hidden;padding: 0;position: absolute;width: 1px;}#sk-container-id-8 div.sk-estimator {font-family: monospace;background-color: #f0f8ff;border: 1px dotted black;border-radius: 0.25em;box-sizing: border-box;margin-bottom: 0.5em;}#sk-container-id-8 div.sk-estimator:hover {background-color: #d4ebff;}#sk-container-id-8 div.sk-parallel-item::after {content: \"\";width: 100%;border-bottom: 1px solid gray;flex-grow: 1;}#sk-container-id-8 div.sk-label:hover label.sk-toggleable__label {background-color: #d4ebff;}#sk-container-id-8 div.sk-serial::before {content: \"\";position: absolute;border-left: 1px solid gray;box-sizing: border-box;top: 0;bottom: 0;left: 50%;z-index: 0;}#sk-container-id-8 div.sk-serial {display: flex;flex-direction: column;align-items: center;background-color: white;padding-right: 0.2em;padding-left: 0.2em;position: relative;}#sk-container-id-8 div.sk-item {position: relative;z-index: 1;}#sk-container-id-8 div.sk-parallel {display: flex;align-items: stretch;justify-content: center;background-color: white;position: relative;}#sk-container-id-8 div.sk-item::before, #sk-container-id-8 div.sk-parallel-item::before {content: \"\";position: absolute;border-left: 1px solid gray;box-sizing: border-box;top: 0;bottom: 0;left: 50%;z-index: -1;}#sk-container-id-8 div.sk-parallel-item {display: flex;flex-direction: column;z-index: 1;position: relative;background-color: white;}#sk-container-id-8 div.sk-parallel-item:first-child::after {align-self: flex-end;width: 50%;}#sk-container-id-8 div.sk-parallel-item:last-child::after {align-self: flex-start;width: 50%;}#sk-container-id-8 div.sk-parallel-item:only-child::after {width: 0;}#sk-container-id-8 div.sk-dashed-wrapped {border: 1px dashed gray;margin: 0 0.4em 0.5em 0.4em;box-sizing: border-box;padding-bottom: 0.4em;background-color: white;}#sk-container-id-8 div.sk-label label {font-family: monospace;font-weight: bold;display: inline-block;line-height: 1.2em;}#sk-container-id-8 div.sk-label-container {text-align: center;}#sk-container-id-8 div.sk-container {/* jupyter's `normalize.less` sets `[hidden] { display: none; }` but bootstrap.min.css set `[hidden] { display: none !important; }` so we also need the `!important` here to be able to override the default hidden behavior on the sphinx rendered scikit-learn.org. See: https://github.com/scikit-learn/scikit-learn/issues/21755 */display: inline-block !important;position: relative;}#sk-container-id-8 div.sk-text-repr-fallback {display: none;}</style><div id=\"sk-container-id-8\" class=\"sk-top-container\"><div class=\"sk-text-repr-fallback\"><pre>GridSearchCV(cv=10,\n",
              "             estimator=Pipeline(steps=[(&#x27;preproc&#x27;,\n",
              "                                        ColumnTransformer(remainder=&#x27;passthrough&#x27;,\n",
              "                                                          transformers=[(&#x27;cat_pipe&#x27;,\n",
              "                                                                         Pipeline(steps=[(&#x27;cat_impute&#x27;,\n",
              "                                                                                          SimpleImputer(strategy=&#x27;most_frequent&#x27;)),\n",
              "                                                                                         (&#x27;onehot_cat&#x27;,\n",
              "                                                                                          OneHotEncoder())]),\n",
              "                                                                         [&#x27;gender&#x27;,\n",
              "                                                                          &#x27;hypertension&#x27;,\n",
              "                                                                          &#x27;heart_disease&#x27;,\n",
              "                                                                          &#x27;ever_married&#x27;,\n",
              "                                                                          &#x27;work_type&#x27;,\n",
              "                                                                          &#x27;Residence_type&#x27;,\n",
              "                                                                          &#x27;smoking_status&#x27;,\n",
              "                                                                          &#x27;bmi_cat&#x27;,\n",
              "                                                                          &#x27;avg_glucose_level_cat&#x27;]),\n",
              "                                                                        (&#x27;num_pipe&#x27;,\n",
              "                                                                         Pipeline(steps=[(&#x27;impute_num&#x27;,\n",
              "                                                                                          SimpleImputer()),\n",
              "                                                                                         (&#x27;scale_num&#x27;,\n",
              "                                                                                          StandardScaler())]),\n",
              "                                                                         [&#x27;age&#x27;])])),\n",
              "                                       (&#x27;mdl&#x27;,\n",
              "                                        LogisticRegression(penalty=&#x27;elasticnet&#x27;,\n",
              "                                                           solver=&#x27;saga&#x27;,\n",
              "                                                           tol=0.01))]),\n",
              "             n_jobs=-1,\n",
              "             param_grid={&#x27;mdl__C&#x27;: array([1.00000000e-01, 3.16227766e+02, 1.00000000e+06]),\n",
              "                         &#x27;mdl__l1_ratio&#x27;: array([0.  , 0.25, 0.5 , 0.75, 1.  ])},\n",
              "             return_train_score=True)</pre><b>In a Jupyter environment, please rerun this cell to show the HTML representation or trust the notebook. <br />On GitHub, the HTML representation is unable to render, please try loading this page with nbviewer.org.</b></div><div class=\"sk-container\" hidden><div class=\"sk-item sk-dashed-wrapped\"><div class=\"sk-label-container\"><div class=\"sk-label sk-toggleable\"><input class=\"sk-toggleable__control sk-hidden--visually\" id=\"sk-estimator-id-79\" type=\"checkbox\" ><label for=\"sk-estimator-id-79\" class=\"sk-toggleable__label sk-toggleable__label-arrow\">GridSearchCV</label><div class=\"sk-toggleable__content\"><pre>GridSearchCV(cv=10,\n",
              "             estimator=Pipeline(steps=[(&#x27;preproc&#x27;,\n",
              "                                        ColumnTransformer(remainder=&#x27;passthrough&#x27;,\n",
              "                                                          transformers=[(&#x27;cat_pipe&#x27;,\n",
              "                                                                         Pipeline(steps=[(&#x27;cat_impute&#x27;,\n",
              "                                                                                          SimpleImputer(strategy=&#x27;most_frequent&#x27;)),\n",
              "                                                                                         (&#x27;onehot_cat&#x27;,\n",
              "                                                                                          OneHotEncoder())]),\n",
              "                                                                         [&#x27;gender&#x27;,\n",
              "                                                                          &#x27;hypertension&#x27;,\n",
              "                                                                          &#x27;heart_disease&#x27;,\n",
              "                                                                          &#x27;ever_married&#x27;,\n",
              "                                                                          &#x27;work_type&#x27;,\n",
              "                                                                          &#x27;Residence_type&#x27;,\n",
              "                                                                          &#x27;smoking_status&#x27;,\n",
              "                                                                          &#x27;bmi_cat&#x27;,\n",
              "                                                                          &#x27;avg_glucose_level_cat&#x27;]),\n",
              "                                                                        (&#x27;num_pipe&#x27;,\n",
              "                                                                         Pipeline(steps=[(&#x27;impute_num&#x27;,\n",
              "                                                                                          SimpleImputer()),\n",
              "                                                                                         (&#x27;scale_num&#x27;,\n",
              "                                                                                          StandardScaler())]),\n",
              "                                                                         [&#x27;age&#x27;])])),\n",
              "                                       (&#x27;mdl&#x27;,\n",
              "                                        LogisticRegression(penalty=&#x27;elasticnet&#x27;,\n",
              "                                                           solver=&#x27;saga&#x27;,\n",
              "                                                           tol=0.01))]),\n",
              "             n_jobs=-1,\n",
              "             param_grid={&#x27;mdl__C&#x27;: array([1.00000000e-01, 3.16227766e+02, 1.00000000e+06]),\n",
              "                         &#x27;mdl__l1_ratio&#x27;: array([0.  , 0.25, 0.5 , 0.75, 1.  ])},\n",
              "             return_train_score=True)</pre></div></div></div><div class=\"sk-parallel\"><div class=\"sk-parallel-item\"><div class=\"sk-item\"><div class=\"sk-label-container\"><div class=\"sk-label sk-toggleable\"><input class=\"sk-toggleable__control sk-hidden--visually\" id=\"sk-estimator-id-80\" type=\"checkbox\" ><label for=\"sk-estimator-id-80\" class=\"sk-toggleable__label sk-toggleable__label-arrow\">estimator: Pipeline</label><div class=\"sk-toggleable__content\"><pre>Pipeline(steps=[(&#x27;preproc&#x27;,\n",
              "                 ColumnTransformer(remainder=&#x27;passthrough&#x27;,\n",
              "                                   transformers=[(&#x27;cat_pipe&#x27;,\n",
              "                                                  Pipeline(steps=[(&#x27;cat_impute&#x27;,\n",
              "                                                                   SimpleImputer(strategy=&#x27;most_frequent&#x27;)),\n",
              "                                                                  (&#x27;onehot_cat&#x27;,\n",
              "                                                                   OneHotEncoder())]),\n",
              "                                                  [&#x27;gender&#x27;, &#x27;hypertension&#x27;,\n",
              "                                                   &#x27;heart_disease&#x27;,\n",
              "                                                   &#x27;ever_married&#x27;, &#x27;work_type&#x27;,\n",
              "                                                   &#x27;Residence_type&#x27;,\n",
              "                                                   &#x27;smoking_status&#x27;, &#x27;bmi_cat&#x27;,\n",
              "                                                   &#x27;avg_glucose_level_cat&#x27;]),\n",
              "                                                 (&#x27;num_pipe&#x27;,\n",
              "                                                  Pipeline(steps=[(&#x27;impute_num&#x27;,\n",
              "                                                                   SimpleImputer()),\n",
              "                                                                  (&#x27;scale_num&#x27;,\n",
              "                                                                   StandardScaler())]),\n",
              "                                                  [&#x27;age&#x27;])])),\n",
              "                (&#x27;mdl&#x27;,\n",
              "                 LogisticRegression(penalty=&#x27;elasticnet&#x27;, solver=&#x27;saga&#x27;,\n",
              "                                    tol=0.01))])</pre></div></div></div><div class=\"sk-serial\"><div class=\"sk-item\"><div class=\"sk-serial\"><div class=\"sk-item sk-dashed-wrapped\"><div class=\"sk-label-container\"><div class=\"sk-label sk-toggleable\"><input class=\"sk-toggleable__control sk-hidden--visually\" id=\"sk-estimator-id-81\" type=\"checkbox\" ><label for=\"sk-estimator-id-81\" class=\"sk-toggleable__label sk-toggleable__label-arrow\">preproc: ColumnTransformer</label><div class=\"sk-toggleable__content\"><pre>ColumnTransformer(remainder=&#x27;passthrough&#x27;,\n",
              "                  transformers=[(&#x27;cat_pipe&#x27;,\n",
              "                                 Pipeline(steps=[(&#x27;cat_impute&#x27;,\n",
              "                                                  SimpleImputer(strategy=&#x27;most_frequent&#x27;)),\n",
              "                                                 (&#x27;onehot_cat&#x27;,\n",
              "                                                  OneHotEncoder())]),\n",
              "                                 [&#x27;gender&#x27;, &#x27;hypertension&#x27;, &#x27;heart_disease&#x27;,\n",
              "                                  &#x27;ever_married&#x27;, &#x27;work_type&#x27;, &#x27;Residence_type&#x27;,\n",
              "                                  &#x27;smoking_status&#x27;, &#x27;bmi_cat&#x27;,\n",
              "                                  &#x27;avg_glucose_level_cat&#x27;]),\n",
              "                                (&#x27;num_pipe&#x27;,\n",
              "                                 Pipeline(steps=[(&#x27;impute_num&#x27;,\n",
              "                                                  SimpleImputer()),\n",
              "                                                 (&#x27;scale_num&#x27;,\n",
              "                                                  StandardScaler())]),\n",
              "                                 [&#x27;age&#x27;])])</pre></div></div></div><div class=\"sk-parallel\"><div class=\"sk-parallel-item\"><div class=\"sk-item\"><div class=\"sk-label-container\"><div class=\"sk-label sk-toggleable\"><input class=\"sk-toggleable__control sk-hidden--visually\" id=\"sk-estimator-id-82\" type=\"checkbox\" ><label for=\"sk-estimator-id-82\" class=\"sk-toggleable__label sk-toggleable__label-arrow\">cat_pipe</label><div class=\"sk-toggleable__content\"><pre>[&#x27;gender&#x27;, &#x27;hypertension&#x27;, &#x27;heart_disease&#x27;, &#x27;ever_married&#x27;, &#x27;work_type&#x27;, &#x27;Residence_type&#x27;, &#x27;smoking_status&#x27;, &#x27;bmi_cat&#x27;, &#x27;avg_glucose_level_cat&#x27;]</pre></div></div></div><div class=\"sk-serial\"><div class=\"sk-item\"><div class=\"sk-serial\"><div class=\"sk-item\"><div class=\"sk-estimator sk-toggleable\"><input class=\"sk-toggleable__control sk-hidden--visually\" id=\"sk-estimator-id-83\" type=\"checkbox\" ><label for=\"sk-estimator-id-83\" class=\"sk-toggleable__label sk-toggleable__label-arrow\">SimpleImputer</label><div class=\"sk-toggleable__content\"><pre>SimpleImputer(strategy=&#x27;most_frequent&#x27;)</pre></div></div></div><div class=\"sk-item\"><div class=\"sk-estimator sk-toggleable\"><input class=\"sk-toggleable__control sk-hidden--visually\" id=\"sk-estimator-id-84\" type=\"checkbox\" ><label for=\"sk-estimator-id-84\" class=\"sk-toggleable__label sk-toggleable__label-arrow\">OneHotEncoder</label><div class=\"sk-toggleable__content\"><pre>OneHotEncoder()</pre></div></div></div></div></div></div></div></div><div class=\"sk-parallel-item\"><div class=\"sk-item\"><div class=\"sk-label-container\"><div class=\"sk-label sk-toggleable\"><input class=\"sk-toggleable__control sk-hidden--visually\" id=\"sk-estimator-id-85\" type=\"checkbox\" ><label for=\"sk-estimator-id-85\" class=\"sk-toggleable__label sk-toggleable__label-arrow\">num_pipe</label><div class=\"sk-toggleable__content\"><pre>[&#x27;age&#x27;]</pre></div></div></div><div class=\"sk-serial\"><div class=\"sk-item\"><div class=\"sk-serial\"><div class=\"sk-item\"><div class=\"sk-estimator sk-toggleable\"><input class=\"sk-toggleable__control sk-hidden--visually\" id=\"sk-estimator-id-86\" type=\"checkbox\" ><label for=\"sk-estimator-id-86\" class=\"sk-toggleable__label sk-toggleable__label-arrow\">SimpleImputer</label><div class=\"sk-toggleable__content\"><pre>SimpleImputer()</pre></div></div></div><div class=\"sk-item\"><div class=\"sk-estimator sk-toggleable\"><input class=\"sk-toggleable__control sk-hidden--visually\" id=\"sk-estimator-id-87\" type=\"checkbox\" ><label for=\"sk-estimator-id-87\" class=\"sk-toggleable__label sk-toggleable__label-arrow\">StandardScaler</label><div class=\"sk-toggleable__content\"><pre>StandardScaler()</pre></div></div></div></div></div></div></div></div><div class=\"sk-parallel-item\"><div class=\"sk-item\"><div class=\"sk-label-container\"><div class=\"sk-label sk-toggleable\"><input class=\"sk-toggleable__control sk-hidden--visually\" id=\"sk-estimator-id-88\" type=\"checkbox\" ><label for=\"sk-estimator-id-88\" class=\"sk-toggleable__label sk-toggleable__label-arrow\">remainder</label><div class=\"sk-toggleable__content\"><pre></pre></div></div></div><div class=\"sk-serial\"><div class=\"sk-item\"><div class=\"sk-estimator sk-toggleable\"><input class=\"sk-toggleable__control sk-hidden--visually\" id=\"sk-estimator-id-89\" type=\"checkbox\" ><label for=\"sk-estimator-id-89\" class=\"sk-toggleable__label sk-toggleable__label-arrow\">passthrough</label><div class=\"sk-toggleable__content\"><pre>passthrough</pre></div></div></div></div></div></div></div></div><div class=\"sk-item\"><div class=\"sk-estimator sk-toggleable\"><input class=\"sk-toggleable__control sk-hidden--visually\" id=\"sk-estimator-id-90\" type=\"checkbox\" ><label for=\"sk-estimator-id-90\" class=\"sk-toggleable__label sk-toggleable__label-arrow\">LogisticRegression</label><div class=\"sk-toggleable__content\"><pre>LogisticRegression(penalty=&#x27;elasticnet&#x27;, solver=&#x27;saga&#x27;, tol=0.01)</pre></div></div></div></div></div></div></div></div></div></div></div></div>"
            ]
          },
          "metadata": {},
          "execution_count": 137
        }
      ]
    },
    {
      "cell_type": "code",
      "source": [
        "print(grid_search.best_score_)\n",
        "grid_search.best_params_"
      ],
      "metadata": {
        "id": "lrElWGsS88gQ",
        "outputId": "931f71db-2de4-4714-edcb-74fbb734b2bb",
        "colab": {
          "base_uri": "https://localhost:8080/"
        }
      },
      "execution_count": 138,
      "outputs": [
        {
          "output_type": "stream",
          "name": "stdout",
          "text": [
            "0.9573487392482622\n"
          ]
        },
        {
          "output_type": "execute_result",
          "data": {
            "text/plain": [
              "{'mdl__C': 316.22776601683796, 'mdl__l1_ratio': 0.0}"
            ]
          },
          "metadata": {},
          "execution_count": 138
        }
      ]
    },
    {
      "cell_type": "code",
      "source": [
        "pd.DataFrame(grid_search.cv_results_)"
      ],
      "metadata": {
        "id": "Ec8nYGct9ALb",
        "outputId": "0dfee725-e726-45de-8fba-c234776d865d",
        "colab": {
          "base_uri": "https://localhost:8080/",
          "height": 960
        }
      },
      "execution_count": 139,
      "outputs": [
        {
          "output_type": "execute_result",
          "data": {
            "text/plain": [
              "    mean_fit_time  std_fit_time  mean_score_time  std_score_time param_mdl__C  \\\n",
              "0        0.084318      0.010161         0.015522        0.005838          0.1   \n",
              "1        0.091047      0.005874         0.014464        0.002178          0.1   \n",
              "2        0.080540      0.018246         0.010928        0.005500          0.1   \n",
              "3        0.045286      0.002906         0.007903        0.000810          0.1   \n",
              "4        0.043611      0.002453         0.008304        0.000562          0.1   \n",
              "5        0.087295      0.007583         0.008000        0.000804   316.227766   \n",
              "6        0.102883      0.004823         0.009621        0.003323   316.227766   \n",
              "7        0.102403      0.005460         0.008364        0.001104   316.227766   \n",
              "8        0.105605      0.013266         0.008364        0.000734   316.227766   \n",
              "9        0.098499      0.005352         0.007407        0.001043   316.227766   \n",
              "10       0.088967      0.007420         0.007962        0.000771    1000000.0   \n",
              "11       0.098898      0.003065         0.007900        0.000426    1000000.0   \n",
              "12       0.100828      0.006447         0.009592        0.003776    1000000.0   \n",
              "13       0.102357      0.007258         0.008310        0.000728    1000000.0   \n",
              "14       0.096192      0.004940         0.008279        0.000544    1000000.0   \n",
              "\n",
              "   param_mdl__l1_ratio                                             params  \\\n",
              "0                  0.0              {'mdl__C': 0.1, 'mdl__l1_ratio': 0.0}   \n",
              "1                 0.25             {'mdl__C': 0.1, 'mdl__l1_ratio': 0.25}   \n",
              "2                  0.5              {'mdl__C': 0.1, 'mdl__l1_ratio': 0.5}   \n",
              "3                 0.75             {'mdl__C': 0.1, 'mdl__l1_ratio': 0.75}   \n",
              "4                  1.0              {'mdl__C': 0.1, 'mdl__l1_ratio': 1.0}   \n",
              "5                  0.0  {'mdl__C': 316.22776601683796, 'mdl__l1_ratio'...   \n",
              "6                 0.25  {'mdl__C': 316.22776601683796, 'mdl__l1_ratio'...   \n",
              "7                  0.5  {'mdl__C': 316.22776601683796, 'mdl__l1_ratio'...   \n",
              "8                 0.75  {'mdl__C': 316.22776601683796, 'mdl__l1_ratio'...   \n",
              "9                  1.0  {'mdl__C': 316.22776601683796, 'mdl__l1_ratio'...   \n",
              "10                 0.0        {'mdl__C': 1000000.0, 'mdl__l1_ratio': 0.0}   \n",
              "11                0.25       {'mdl__C': 1000000.0, 'mdl__l1_ratio': 0.25}   \n",
              "12                 0.5        {'mdl__C': 1000000.0, 'mdl__l1_ratio': 0.5}   \n",
              "13                0.75       {'mdl__C': 1000000.0, 'mdl__l1_ratio': 0.75}   \n",
              "14                 1.0        {'mdl__C': 1000000.0, 'mdl__l1_ratio': 1.0}   \n",
              "\n",
              "    split0_test_score  split1_test_score  split2_test_score  ...  \\\n",
              "0             0.95664           0.959239           0.959239  ...   \n",
              "1             0.95664           0.959239           0.959239  ...   \n",
              "2             0.95664           0.959239           0.959239  ...   \n",
              "3             0.95664           0.959239           0.959239  ...   \n",
              "4             0.95664           0.959239           0.959239  ...   \n",
              "5             0.95664           0.959239           0.959239  ...   \n",
              "6             0.95664           0.959239           0.959239  ...   \n",
              "7             0.95664           0.959239           0.959239  ...   \n",
              "8             0.95664           0.959239           0.959239  ...   \n",
              "9             0.95664           0.959239           0.959239  ...   \n",
              "10            0.95664           0.959239           0.959239  ...   \n",
              "11            0.95664           0.959239           0.959239  ...   \n",
              "12            0.95664           0.959239           0.959239  ...   \n",
              "13            0.95664           0.959239           0.959239  ...   \n",
              "14            0.95664           0.959239           0.959239  ...   \n",
              "\n",
              "    split2_train_score  split3_train_score  split4_train_score  \\\n",
              "0             0.957139            0.957139            0.957440   \n",
              "1             0.957139            0.957139            0.957440   \n",
              "2             0.957139            0.957139            0.957440   \n",
              "3             0.957139            0.957139            0.957440   \n",
              "4             0.957139            0.957139            0.957440   \n",
              "5             0.957742            0.956837            0.958044   \n",
              "6             0.957742            0.956837            0.958044   \n",
              "7             0.957742            0.956837            0.958044   \n",
              "8             0.957742            0.956837            0.958044   \n",
              "9             0.957742            0.956837            0.958044   \n",
              "10            0.957742            0.956837            0.958044   \n",
              "11            0.957742            0.956837            0.958044   \n",
              "12            0.957742            0.956837            0.958044   \n",
              "13            0.957742            0.956837            0.958044   \n",
              "14            0.957742            0.956837            0.958044   \n",
              "\n",
              "    split5_train_score  split6_train_score  split7_train_score  \\\n",
              "0             0.957440            0.957440            0.957440   \n",
              "1             0.957440            0.957440            0.957440   \n",
              "2             0.957440            0.957440            0.957440   \n",
              "3             0.957440            0.957440            0.957440   \n",
              "4             0.957440            0.957440            0.957440   \n",
              "5             0.957742            0.958044            0.958044   \n",
              "6             0.957742            0.957742            0.958044   \n",
              "7             0.957742            0.958044            0.958044   \n",
              "8             0.957742            0.958044            0.958044   \n",
              "9             0.957742            0.958044            0.958044   \n",
              "10            0.957742            0.958044            0.958044   \n",
              "11            0.957742            0.958044            0.958044   \n",
              "12            0.957742            0.958044            0.958044   \n",
              "13            0.957742            0.958044            0.958044   \n",
              "14            0.957742            0.958044            0.958044   \n",
              "\n",
              "    split8_train_score  split9_train_score  mean_train_score  std_train_score  \n",
              "0             0.957440            0.957440          0.957349         0.000138  \n",
              "1             0.957440            0.957440          0.957349         0.000138  \n",
              "2             0.957440            0.957440          0.957349         0.000138  \n",
              "3             0.957440            0.957440          0.957349         0.000138  \n",
              "4             0.957440            0.957440          0.957349         0.000138  \n",
              "5             0.958044            0.958044          0.957801         0.000376  \n",
              "6             0.958044            0.958044          0.957771         0.000368  \n",
              "7             0.958044            0.958044          0.957801         0.000376  \n",
              "8             0.958044            0.958044          0.957801         0.000376  \n",
              "9             0.958044            0.958044          0.957801         0.000376  \n",
              "10            0.958044            0.958044          0.957801         0.000376  \n",
              "11            0.958044            0.958044          0.957801         0.000376  \n",
              "12            0.958044            0.958044          0.957801         0.000376  \n",
              "13            0.958044            0.958044          0.957801         0.000376  \n",
              "14            0.958044            0.958044          0.957801         0.000376  \n",
              "\n",
              "[15 rows x 32 columns]"
            ],
            "text/html": [
              "\n",
              "  <div id=\"df-74e838f5-53e3-44e1-9e53-6b58bc7bcdd9\">\n",
              "    <div class=\"colab-df-container\">\n",
              "      <div>\n",
              "<style scoped>\n",
              "    .dataframe tbody tr th:only-of-type {\n",
              "        vertical-align: middle;\n",
              "    }\n",
              "\n",
              "    .dataframe tbody tr th {\n",
              "        vertical-align: top;\n",
              "    }\n",
              "\n",
              "    .dataframe thead th {\n",
              "        text-align: right;\n",
              "    }\n",
              "</style>\n",
              "<table border=\"1\" class=\"dataframe\">\n",
              "  <thead>\n",
              "    <tr style=\"text-align: right;\">\n",
              "      <th></th>\n",
              "      <th>mean_fit_time</th>\n",
              "      <th>std_fit_time</th>\n",
              "      <th>mean_score_time</th>\n",
              "      <th>std_score_time</th>\n",
              "      <th>param_mdl__C</th>\n",
              "      <th>param_mdl__l1_ratio</th>\n",
              "      <th>params</th>\n",
              "      <th>split0_test_score</th>\n",
              "      <th>split1_test_score</th>\n",
              "      <th>split2_test_score</th>\n",
              "      <th>...</th>\n",
              "      <th>split2_train_score</th>\n",
              "      <th>split3_train_score</th>\n",
              "      <th>split4_train_score</th>\n",
              "      <th>split5_train_score</th>\n",
              "      <th>split6_train_score</th>\n",
              "      <th>split7_train_score</th>\n",
              "      <th>split8_train_score</th>\n",
              "      <th>split9_train_score</th>\n",
              "      <th>mean_train_score</th>\n",
              "      <th>std_train_score</th>\n",
              "    </tr>\n",
              "  </thead>\n",
              "  <tbody>\n",
              "    <tr>\n",
              "      <th>0</th>\n",
              "      <td>0.084318</td>\n",
              "      <td>0.010161</td>\n",
              "      <td>0.015522</td>\n",
              "      <td>0.005838</td>\n",
              "      <td>0.1</td>\n",
              "      <td>0.0</td>\n",
              "      <td>{'mdl__C': 0.1, 'mdl__l1_ratio': 0.0}</td>\n",
              "      <td>0.95664</td>\n",
              "      <td>0.959239</td>\n",
              "      <td>0.959239</td>\n",
              "      <td>...</td>\n",
              "      <td>0.957139</td>\n",
              "      <td>0.957139</td>\n",
              "      <td>0.957440</td>\n",
              "      <td>0.957440</td>\n",
              "      <td>0.957440</td>\n",
              "      <td>0.957440</td>\n",
              "      <td>0.957440</td>\n",
              "      <td>0.957440</td>\n",
              "      <td>0.957349</td>\n",
              "      <td>0.000138</td>\n",
              "    </tr>\n",
              "    <tr>\n",
              "      <th>1</th>\n",
              "      <td>0.091047</td>\n",
              "      <td>0.005874</td>\n",
              "      <td>0.014464</td>\n",
              "      <td>0.002178</td>\n",
              "      <td>0.1</td>\n",
              "      <td>0.25</td>\n",
              "      <td>{'mdl__C': 0.1, 'mdl__l1_ratio': 0.25}</td>\n",
              "      <td>0.95664</td>\n",
              "      <td>0.959239</td>\n",
              "      <td>0.959239</td>\n",
              "      <td>...</td>\n",
              "      <td>0.957139</td>\n",
              "      <td>0.957139</td>\n",
              "      <td>0.957440</td>\n",
              "      <td>0.957440</td>\n",
              "      <td>0.957440</td>\n",
              "      <td>0.957440</td>\n",
              "      <td>0.957440</td>\n",
              "      <td>0.957440</td>\n",
              "      <td>0.957349</td>\n",
              "      <td>0.000138</td>\n",
              "    </tr>\n",
              "    <tr>\n",
              "      <th>2</th>\n",
              "      <td>0.080540</td>\n",
              "      <td>0.018246</td>\n",
              "      <td>0.010928</td>\n",
              "      <td>0.005500</td>\n",
              "      <td>0.1</td>\n",
              "      <td>0.5</td>\n",
              "      <td>{'mdl__C': 0.1, 'mdl__l1_ratio': 0.5}</td>\n",
              "      <td>0.95664</td>\n",
              "      <td>0.959239</td>\n",
              "      <td>0.959239</td>\n",
              "      <td>...</td>\n",
              "      <td>0.957139</td>\n",
              "      <td>0.957139</td>\n",
              "      <td>0.957440</td>\n",
              "      <td>0.957440</td>\n",
              "      <td>0.957440</td>\n",
              "      <td>0.957440</td>\n",
              "      <td>0.957440</td>\n",
              "      <td>0.957440</td>\n",
              "      <td>0.957349</td>\n",
              "      <td>0.000138</td>\n",
              "    </tr>\n",
              "    <tr>\n",
              "      <th>3</th>\n",
              "      <td>0.045286</td>\n",
              "      <td>0.002906</td>\n",
              "      <td>0.007903</td>\n",
              "      <td>0.000810</td>\n",
              "      <td>0.1</td>\n",
              "      <td>0.75</td>\n",
              "      <td>{'mdl__C': 0.1, 'mdl__l1_ratio': 0.75}</td>\n",
              "      <td>0.95664</td>\n",
              "      <td>0.959239</td>\n",
              "      <td>0.959239</td>\n",
              "      <td>...</td>\n",
              "      <td>0.957139</td>\n",
              "      <td>0.957139</td>\n",
              "      <td>0.957440</td>\n",
              "      <td>0.957440</td>\n",
              "      <td>0.957440</td>\n",
              "      <td>0.957440</td>\n",
              "      <td>0.957440</td>\n",
              "      <td>0.957440</td>\n",
              "      <td>0.957349</td>\n",
              "      <td>0.000138</td>\n",
              "    </tr>\n",
              "    <tr>\n",
              "      <th>4</th>\n",
              "      <td>0.043611</td>\n",
              "      <td>0.002453</td>\n",
              "      <td>0.008304</td>\n",
              "      <td>0.000562</td>\n",
              "      <td>0.1</td>\n",
              "      <td>1.0</td>\n",
              "      <td>{'mdl__C': 0.1, 'mdl__l1_ratio': 1.0}</td>\n",
              "      <td>0.95664</td>\n",
              "      <td>0.959239</td>\n",
              "      <td>0.959239</td>\n",
              "      <td>...</td>\n",
              "      <td>0.957139</td>\n",
              "      <td>0.957139</td>\n",
              "      <td>0.957440</td>\n",
              "      <td>0.957440</td>\n",
              "      <td>0.957440</td>\n",
              "      <td>0.957440</td>\n",
              "      <td>0.957440</td>\n",
              "      <td>0.957440</td>\n",
              "      <td>0.957349</td>\n",
              "      <td>0.000138</td>\n",
              "    </tr>\n",
              "    <tr>\n",
              "      <th>5</th>\n",
              "      <td>0.087295</td>\n",
              "      <td>0.007583</td>\n",
              "      <td>0.008000</td>\n",
              "      <td>0.000804</td>\n",
              "      <td>316.227766</td>\n",
              "      <td>0.0</td>\n",
              "      <td>{'mdl__C': 316.22776601683796, 'mdl__l1_ratio'...</td>\n",
              "      <td>0.95664</td>\n",
              "      <td>0.959239</td>\n",
              "      <td>0.959239</td>\n",
              "      <td>...</td>\n",
              "      <td>0.957742</td>\n",
              "      <td>0.956837</td>\n",
              "      <td>0.958044</td>\n",
              "      <td>0.957742</td>\n",
              "      <td>0.958044</td>\n",
              "      <td>0.958044</td>\n",
              "      <td>0.958044</td>\n",
              "      <td>0.958044</td>\n",
              "      <td>0.957801</td>\n",
              "      <td>0.000376</td>\n",
              "    </tr>\n",
              "    <tr>\n",
              "      <th>6</th>\n",
              "      <td>0.102883</td>\n",
              "      <td>0.004823</td>\n",
              "      <td>0.009621</td>\n",
              "      <td>0.003323</td>\n",
              "      <td>316.227766</td>\n",
              "      <td>0.25</td>\n",
              "      <td>{'mdl__C': 316.22776601683796, 'mdl__l1_ratio'...</td>\n",
              "      <td>0.95664</td>\n",
              "      <td>0.959239</td>\n",
              "      <td>0.959239</td>\n",
              "      <td>...</td>\n",
              "      <td>0.957742</td>\n",
              "      <td>0.956837</td>\n",
              "      <td>0.958044</td>\n",
              "      <td>0.957742</td>\n",
              "      <td>0.957742</td>\n",
              "      <td>0.958044</td>\n",
              "      <td>0.958044</td>\n",
              "      <td>0.958044</td>\n",
              "      <td>0.957771</td>\n",
              "      <td>0.000368</td>\n",
              "    </tr>\n",
              "    <tr>\n",
              "      <th>7</th>\n",
              "      <td>0.102403</td>\n",
              "      <td>0.005460</td>\n",
              "      <td>0.008364</td>\n",
              "      <td>0.001104</td>\n",
              "      <td>316.227766</td>\n",
              "      <td>0.5</td>\n",
              "      <td>{'mdl__C': 316.22776601683796, 'mdl__l1_ratio'...</td>\n",
              "      <td>0.95664</td>\n",
              "      <td>0.959239</td>\n",
              "      <td>0.959239</td>\n",
              "      <td>...</td>\n",
              "      <td>0.957742</td>\n",
              "      <td>0.956837</td>\n",
              "      <td>0.958044</td>\n",
              "      <td>0.957742</td>\n",
              "      <td>0.958044</td>\n",
              "      <td>0.958044</td>\n",
              "      <td>0.958044</td>\n",
              "      <td>0.958044</td>\n",
              "      <td>0.957801</td>\n",
              "      <td>0.000376</td>\n",
              "    </tr>\n",
              "    <tr>\n",
              "      <th>8</th>\n",
              "      <td>0.105605</td>\n",
              "      <td>0.013266</td>\n",
              "      <td>0.008364</td>\n",
              "      <td>0.000734</td>\n",
              "      <td>316.227766</td>\n",
              "      <td>0.75</td>\n",
              "      <td>{'mdl__C': 316.22776601683796, 'mdl__l1_ratio'...</td>\n",
              "      <td>0.95664</td>\n",
              "      <td>0.959239</td>\n",
              "      <td>0.959239</td>\n",
              "      <td>...</td>\n",
              "      <td>0.957742</td>\n",
              "      <td>0.956837</td>\n",
              "      <td>0.958044</td>\n",
              "      <td>0.957742</td>\n",
              "      <td>0.958044</td>\n",
              "      <td>0.958044</td>\n",
              "      <td>0.958044</td>\n",
              "      <td>0.958044</td>\n",
              "      <td>0.957801</td>\n",
              "      <td>0.000376</td>\n",
              "    </tr>\n",
              "    <tr>\n",
              "      <th>9</th>\n",
              "      <td>0.098499</td>\n",
              "      <td>0.005352</td>\n",
              "      <td>0.007407</td>\n",
              "      <td>0.001043</td>\n",
              "      <td>316.227766</td>\n",
              "      <td>1.0</td>\n",
              "      <td>{'mdl__C': 316.22776601683796, 'mdl__l1_ratio'...</td>\n",
              "      <td>0.95664</td>\n",
              "      <td>0.959239</td>\n",
              "      <td>0.959239</td>\n",
              "      <td>...</td>\n",
              "      <td>0.957742</td>\n",
              "      <td>0.956837</td>\n",
              "      <td>0.958044</td>\n",
              "      <td>0.957742</td>\n",
              "      <td>0.958044</td>\n",
              "      <td>0.958044</td>\n",
              "      <td>0.958044</td>\n",
              "      <td>0.958044</td>\n",
              "      <td>0.957801</td>\n",
              "      <td>0.000376</td>\n",
              "    </tr>\n",
              "    <tr>\n",
              "      <th>10</th>\n",
              "      <td>0.088967</td>\n",
              "      <td>0.007420</td>\n",
              "      <td>0.007962</td>\n",
              "      <td>0.000771</td>\n",
              "      <td>1000000.0</td>\n",
              "      <td>0.0</td>\n",
              "      <td>{'mdl__C': 1000000.0, 'mdl__l1_ratio': 0.0}</td>\n",
              "      <td>0.95664</td>\n",
              "      <td>0.959239</td>\n",
              "      <td>0.959239</td>\n",
              "      <td>...</td>\n",
              "      <td>0.957742</td>\n",
              "      <td>0.956837</td>\n",
              "      <td>0.958044</td>\n",
              "      <td>0.957742</td>\n",
              "      <td>0.958044</td>\n",
              "      <td>0.958044</td>\n",
              "      <td>0.958044</td>\n",
              "      <td>0.958044</td>\n",
              "      <td>0.957801</td>\n",
              "      <td>0.000376</td>\n",
              "    </tr>\n",
              "    <tr>\n",
              "      <th>11</th>\n",
              "      <td>0.098898</td>\n",
              "      <td>0.003065</td>\n",
              "      <td>0.007900</td>\n",
              "      <td>0.000426</td>\n",
              "      <td>1000000.0</td>\n",
              "      <td>0.25</td>\n",
              "      <td>{'mdl__C': 1000000.0, 'mdl__l1_ratio': 0.25}</td>\n",
              "      <td>0.95664</td>\n",
              "      <td>0.959239</td>\n",
              "      <td>0.959239</td>\n",
              "      <td>...</td>\n",
              "      <td>0.957742</td>\n",
              "      <td>0.956837</td>\n",
              "      <td>0.958044</td>\n",
              "      <td>0.957742</td>\n",
              "      <td>0.958044</td>\n",
              "      <td>0.958044</td>\n",
              "      <td>0.958044</td>\n",
              "      <td>0.958044</td>\n",
              "      <td>0.957801</td>\n",
              "      <td>0.000376</td>\n",
              "    </tr>\n",
              "    <tr>\n",
              "      <th>12</th>\n",
              "      <td>0.100828</td>\n",
              "      <td>0.006447</td>\n",
              "      <td>0.009592</td>\n",
              "      <td>0.003776</td>\n",
              "      <td>1000000.0</td>\n",
              "      <td>0.5</td>\n",
              "      <td>{'mdl__C': 1000000.0, 'mdl__l1_ratio': 0.5}</td>\n",
              "      <td>0.95664</td>\n",
              "      <td>0.959239</td>\n",
              "      <td>0.959239</td>\n",
              "      <td>...</td>\n",
              "      <td>0.957742</td>\n",
              "      <td>0.956837</td>\n",
              "      <td>0.958044</td>\n",
              "      <td>0.957742</td>\n",
              "      <td>0.958044</td>\n",
              "      <td>0.958044</td>\n",
              "      <td>0.958044</td>\n",
              "      <td>0.958044</td>\n",
              "      <td>0.957801</td>\n",
              "      <td>0.000376</td>\n",
              "    </tr>\n",
              "    <tr>\n",
              "      <th>13</th>\n",
              "      <td>0.102357</td>\n",
              "      <td>0.007258</td>\n",
              "      <td>0.008310</td>\n",
              "      <td>0.000728</td>\n",
              "      <td>1000000.0</td>\n",
              "      <td>0.75</td>\n",
              "      <td>{'mdl__C': 1000000.0, 'mdl__l1_ratio': 0.75}</td>\n",
              "      <td>0.95664</td>\n",
              "      <td>0.959239</td>\n",
              "      <td>0.959239</td>\n",
              "      <td>...</td>\n",
              "      <td>0.957742</td>\n",
              "      <td>0.956837</td>\n",
              "      <td>0.958044</td>\n",
              "      <td>0.957742</td>\n",
              "      <td>0.958044</td>\n",
              "      <td>0.958044</td>\n",
              "      <td>0.958044</td>\n",
              "      <td>0.958044</td>\n",
              "      <td>0.957801</td>\n",
              "      <td>0.000376</td>\n",
              "    </tr>\n",
              "    <tr>\n",
              "      <th>14</th>\n",
              "      <td>0.096192</td>\n",
              "      <td>0.004940</td>\n",
              "      <td>0.008279</td>\n",
              "      <td>0.000544</td>\n",
              "      <td>1000000.0</td>\n",
              "      <td>1.0</td>\n",
              "      <td>{'mdl__C': 1000000.0, 'mdl__l1_ratio': 1.0}</td>\n",
              "      <td>0.95664</td>\n",
              "      <td>0.959239</td>\n",
              "      <td>0.959239</td>\n",
              "      <td>...</td>\n",
              "      <td>0.957742</td>\n",
              "      <td>0.956837</td>\n",
              "      <td>0.958044</td>\n",
              "      <td>0.957742</td>\n",
              "      <td>0.958044</td>\n",
              "      <td>0.958044</td>\n",
              "      <td>0.958044</td>\n",
              "      <td>0.958044</td>\n",
              "      <td>0.957801</td>\n",
              "      <td>0.000376</td>\n",
              "    </tr>\n",
              "  </tbody>\n",
              "</table>\n",
              "<p>15 rows × 32 columns</p>\n",
              "</div>\n",
              "      <button class=\"colab-df-convert\" onclick=\"convertToInteractive('df-74e838f5-53e3-44e1-9e53-6b58bc7bcdd9')\"\n",
              "              title=\"Convert this dataframe to an interactive table.\"\n",
              "              style=\"display:none;\">\n",
              "        \n",
              "  <svg xmlns=\"http://www.w3.org/2000/svg\" height=\"24px\"viewBox=\"0 0 24 24\"\n",
              "       width=\"24px\">\n",
              "    <path d=\"M0 0h24v24H0V0z\" fill=\"none\"/>\n",
              "    <path d=\"M18.56 5.44l.94 2.06.94-2.06 2.06-.94-2.06-.94-.94-2.06-.94 2.06-2.06.94zm-11 1L8.5 8.5l.94-2.06 2.06-.94-2.06-.94L8.5 2.5l-.94 2.06-2.06.94zm10 10l.94 2.06.94-2.06 2.06-.94-2.06-.94-.94-2.06-.94 2.06-2.06.94z\"/><path d=\"M17.41 7.96l-1.37-1.37c-.4-.4-.92-.59-1.43-.59-.52 0-1.04.2-1.43.59L10.3 9.45l-7.72 7.72c-.78.78-.78 2.05 0 2.83L4 21.41c.39.39.9.59 1.41.59.51 0 1.02-.2 1.41-.59l7.78-7.78 2.81-2.81c.8-.78.8-2.07 0-2.86zM5.41 20L4 18.59l7.72-7.72 1.47 1.35L5.41 20z\"/>\n",
              "  </svg>\n",
              "      </button>\n",
              "      \n",
              "  <style>\n",
              "    .colab-df-container {\n",
              "      display:flex;\n",
              "      flex-wrap:wrap;\n",
              "      gap: 12px;\n",
              "    }\n",
              "\n",
              "    .colab-df-convert {\n",
              "      background-color: #E8F0FE;\n",
              "      border: none;\n",
              "      border-radius: 50%;\n",
              "      cursor: pointer;\n",
              "      display: none;\n",
              "      fill: #1967D2;\n",
              "      height: 32px;\n",
              "      padding: 0 0 0 0;\n",
              "      width: 32px;\n",
              "    }\n",
              "\n",
              "    .colab-df-convert:hover {\n",
              "      background-color: #E2EBFA;\n",
              "      box-shadow: 0px 1px 2px rgba(60, 64, 67, 0.3), 0px 1px 3px 1px rgba(60, 64, 67, 0.15);\n",
              "      fill: #174EA6;\n",
              "    }\n",
              "\n",
              "    [theme=dark] .colab-df-convert {\n",
              "      background-color: #3B4455;\n",
              "      fill: #D2E3FC;\n",
              "    }\n",
              "\n",
              "    [theme=dark] .colab-df-convert:hover {\n",
              "      background-color: #434B5C;\n",
              "      box-shadow: 0px 1px 3px 1px rgba(0, 0, 0, 0.15);\n",
              "      filter: drop-shadow(0px 1px 2px rgba(0, 0, 0, 0.3));\n",
              "      fill: #FFFFFF;\n",
              "    }\n",
              "  </style>\n",
              "\n",
              "      <script>\n",
              "        const buttonEl =\n",
              "          document.querySelector('#df-74e838f5-53e3-44e1-9e53-6b58bc7bcdd9 button.colab-df-convert');\n",
              "        buttonEl.style.display =\n",
              "          google.colab.kernel.accessAllowed ? 'block' : 'none';\n",
              "\n",
              "        async function convertToInteractive(key) {\n",
              "          const element = document.querySelector('#df-74e838f5-53e3-44e1-9e53-6b58bc7bcdd9');\n",
              "          const dataTable =\n",
              "            await google.colab.kernel.invokeFunction('convertToInteractive',\n",
              "                                                     [key], {});\n",
              "          if (!dataTable) return;\n",
              "\n",
              "          const docLinkHtml = 'Like what you see? Visit the ' +\n",
              "            '<a target=\"_blank\" href=https://colab.research.google.com/notebooks/data_table.ipynb>data table notebook</a>'\n",
              "            + ' to learn more about interactive tables.';\n",
              "          element.innerHTML = '';\n",
              "          dataTable['output_type'] = 'display_data';\n",
              "          await google.colab.output.renderOutput(dataTable, element);\n",
              "          const docLink = document.createElement('div');\n",
              "          docLink.innerHTML = docLinkHtml;\n",
              "          element.appendChild(docLink);\n",
              "        }\n",
              "      </script>\n",
              "    </div>\n",
              "  </div>\n",
              "  "
            ]
          },
          "metadata": {},
          "execution_count": 139
        }
      ]
    },
    {
      "cell_type": "markdown",
      "source": [
        "## Final Fit\n",
        "The final fit here is already present in the generated model due to the way we set our parameters in the grid search. If we want to look at the performance, we can do so. Here is a non-helpful description of the best model:"
      ],
      "metadata": {
        "id": "rshuE1hC9Cs2"
      }
    },
    {
      "cell_type": "code",
      "source": [
        "grid_search.best_estimator_"
      ],
      "metadata": {
        "id": "WgZbcbvx9Pbu",
        "outputId": "643b0df7-0545-4cd0-de98-d8e3682706a2",
        "colab": {
          "base_uri": "https://localhost:8080/",
          "height": 227
        }
      },
      "execution_count": 140,
      "outputs": [
        {
          "output_type": "execute_result",
          "data": {
            "text/plain": [
              "Pipeline(steps=[('preproc',\n",
              "                 ColumnTransformer(remainder='passthrough',\n",
              "                                   transformers=[('cat_pipe',\n",
              "                                                  Pipeline(steps=[('cat_impute',\n",
              "                                                                   SimpleImputer(strategy='most_frequent')),\n",
              "                                                                  ('onehot_cat',\n",
              "                                                                   OneHotEncoder())]),\n",
              "                                                  ['gender', 'hypertension',\n",
              "                                                   'heart_disease',\n",
              "                                                   'ever_married', 'work_type',\n",
              "                                                   'Residence_type',\n",
              "                                                   'smoking_status', 'bmi_cat',\n",
              "                                                   'avg_glucose_level_cat']),\n",
              "                                                 ('num_pipe',\n",
              "                                                  Pipeline(steps=[('impute_num',\n",
              "                                                                   SimpleImputer()),\n",
              "                                                                  ('scale_num',\n",
              "                                                                   StandardScaler())]),\n",
              "                                                  ['age'])])),\n",
              "                ('mdl',\n",
              "                 LogisticRegression(C=316.22776601683796, l1_ratio=0.0,\n",
              "                                    penalty='elasticnet', solver='saga',\n",
              "                                    tol=0.01))])"
            ],
            "text/html": [
              "<style>#sk-container-id-9 {color: black;background-color: white;}#sk-container-id-9 pre{padding: 0;}#sk-container-id-9 div.sk-toggleable {background-color: white;}#sk-container-id-9 label.sk-toggleable__label {cursor: pointer;display: block;width: 100%;margin-bottom: 0;padding: 0.3em;box-sizing: border-box;text-align: center;}#sk-container-id-9 label.sk-toggleable__label-arrow:before {content: \"▸\";float: left;margin-right: 0.25em;color: #696969;}#sk-container-id-9 label.sk-toggleable__label-arrow:hover:before {color: black;}#sk-container-id-9 div.sk-estimator:hover label.sk-toggleable__label-arrow:before {color: black;}#sk-container-id-9 div.sk-toggleable__content {max-height: 0;max-width: 0;overflow: hidden;text-align: left;background-color: #f0f8ff;}#sk-container-id-9 div.sk-toggleable__content pre {margin: 0.2em;color: black;border-radius: 0.25em;background-color: #f0f8ff;}#sk-container-id-9 input.sk-toggleable__control:checked~div.sk-toggleable__content {max-height: 200px;max-width: 100%;overflow: auto;}#sk-container-id-9 input.sk-toggleable__control:checked~label.sk-toggleable__label-arrow:before {content: \"▾\";}#sk-container-id-9 div.sk-estimator input.sk-toggleable__control:checked~label.sk-toggleable__label {background-color: #d4ebff;}#sk-container-id-9 div.sk-label input.sk-toggleable__control:checked~label.sk-toggleable__label {background-color: #d4ebff;}#sk-container-id-9 input.sk-hidden--visually {border: 0;clip: rect(1px 1px 1px 1px);clip: rect(1px, 1px, 1px, 1px);height: 1px;margin: -1px;overflow: hidden;padding: 0;position: absolute;width: 1px;}#sk-container-id-9 div.sk-estimator {font-family: monospace;background-color: #f0f8ff;border: 1px dotted black;border-radius: 0.25em;box-sizing: border-box;margin-bottom: 0.5em;}#sk-container-id-9 div.sk-estimator:hover {background-color: #d4ebff;}#sk-container-id-9 div.sk-parallel-item::after {content: \"\";width: 100%;border-bottom: 1px solid gray;flex-grow: 1;}#sk-container-id-9 div.sk-label:hover label.sk-toggleable__label {background-color: #d4ebff;}#sk-container-id-9 div.sk-serial::before {content: \"\";position: absolute;border-left: 1px solid gray;box-sizing: border-box;top: 0;bottom: 0;left: 50%;z-index: 0;}#sk-container-id-9 div.sk-serial {display: flex;flex-direction: column;align-items: center;background-color: white;padding-right: 0.2em;padding-left: 0.2em;position: relative;}#sk-container-id-9 div.sk-item {position: relative;z-index: 1;}#sk-container-id-9 div.sk-parallel {display: flex;align-items: stretch;justify-content: center;background-color: white;position: relative;}#sk-container-id-9 div.sk-item::before, #sk-container-id-9 div.sk-parallel-item::before {content: \"\";position: absolute;border-left: 1px solid gray;box-sizing: border-box;top: 0;bottom: 0;left: 50%;z-index: -1;}#sk-container-id-9 div.sk-parallel-item {display: flex;flex-direction: column;z-index: 1;position: relative;background-color: white;}#sk-container-id-9 div.sk-parallel-item:first-child::after {align-self: flex-end;width: 50%;}#sk-container-id-9 div.sk-parallel-item:last-child::after {align-self: flex-start;width: 50%;}#sk-container-id-9 div.sk-parallel-item:only-child::after {width: 0;}#sk-container-id-9 div.sk-dashed-wrapped {border: 1px dashed gray;margin: 0 0.4em 0.5em 0.4em;box-sizing: border-box;padding-bottom: 0.4em;background-color: white;}#sk-container-id-9 div.sk-label label {font-family: monospace;font-weight: bold;display: inline-block;line-height: 1.2em;}#sk-container-id-9 div.sk-label-container {text-align: center;}#sk-container-id-9 div.sk-container {/* jupyter's `normalize.less` sets `[hidden] { display: none; }` but bootstrap.min.css set `[hidden] { display: none !important; }` so we also need the `!important` here to be able to override the default hidden behavior on the sphinx rendered scikit-learn.org. See: https://github.com/scikit-learn/scikit-learn/issues/21755 */display: inline-block !important;position: relative;}#sk-container-id-9 div.sk-text-repr-fallback {display: none;}</style><div id=\"sk-container-id-9\" class=\"sk-top-container\"><div class=\"sk-text-repr-fallback\"><pre>Pipeline(steps=[(&#x27;preproc&#x27;,\n",
              "                 ColumnTransformer(remainder=&#x27;passthrough&#x27;,\n",
              "                                   transformers=[(&#x27;cat_pipe&#x27;,\n",
              "                                                  Pipeline(steps=[(&#x27;cat_impute&#x27;,\n",
              "                                                                   SimpleImputer(strategy=&#x27;most_frequent&#x27;)),\n",
              "                                                                  (&#x27;onehot_cat&#x27;,\n",
              "                                                                   OneHotEncoder())]),\n",
              "                                                  [&#x27;gender&#x27;, &#x27;hypertension&#x27;,\n",
              "                                                   &#x27;heart_disease&#x27;,\n",
              "                                                   &#x27;ever_married&#x27;, &#x27;work_type&#x27;,\n",
              "                                                   &#x27;Residence_type&#x27;,\n",
              "                                                   &#x27;smoking_status&#x27;, &#x27;bmi_cat&#x27;,\n",
              "                                                   &#x27;avg_glucose_level_cat&#x27;]),\n",
              "                                                 (&#x27;num_pipe&#x27;,\n",
              "                                                  Pipeline(steps=[(&#x27;impute_num&#x27;,\n",
              "                                                                   SimpleImputer()),\n",
              "                                                                  (&#x27;scale_num&#x27;,\n",
              "                                                                   StandardScaler())]),\n",
              "                                                  [&#x27;age&#x27;])])),\n",
              "                (&#x27;mdl&#x27;,\n",
              "                 LogisticRegression(C=316.22776601683796, l1_ratio=0.0,\n",
              "                                    penalty=&#x27;elasticnet&#x27;, solver=&#x27;saga&#x27;,\n",
              "                                    tol=0.01))])</pre><b>In a Jupyter environment, please rerun this cell to show the HTML representation or trust the notebook. <br />On GitHub, the HTML representation is unable to render, please try loading this page with nbviewer.org.</b></div><div class=\"sk-container\" hidden><div class=\"sk-item sk-dashed-wrapped\"><div class=\"sk-label-container\"><div class=\"sk-label sk-toggleable\"><input class=\"sk-toggleable__control sk-hidden--visually\" id=\"sk-estimator-id-91\" type=\"checkbox\" ><label for=\"sk-estimator-id-91\" class=\"sk-toggleable__label sk-toggleable__label-arrow\">Pipeline</label><div class=\"sk-toggleable__content\"><pre>Pipeline(steps=[(&#x27;preproc&#x27;,\n",
              "                 ColumnTransformer(remainder=&#x27;passthrough&#x27;,\n",
              "                                   transformers=[(&#x27;cat_pipe&#x27;,\n",
              "                                                  Pipeline(steps=[(&#x27;cat_impute&#x27;,\n",
              "                                                                   SimpleImputer(strategy=&#x27;most_frequent&#x27;)),\n",
              "                                                                  (&#x27;onehot_cat&#x27;,\n",
              "                                                                   OneHotEncoder())]),\n",
              "                                                  [&#x27;gender&#x27;, &#x27;hypertension&#x27;,\n",
              "                                                   &#x27;heart_disease&#x27;,\n",
              "                                                   &#x27;ever_married&#x27;, &#x27;work_type&#x27;,\n",
              "                                                   &#x27;Residence_type&#x27;,\n",
              "                                                   &#x27;smoking_status&#x27;, &#x27;bmi_cat&#x27;,\n",
              "                                                   &#x27;avg_glucose_level_cat&#x27;]),\n",
              "                                                 (&#x27;num_pipe&#x27;,\n",
              "                                                  Pipeline(steps=[(&#x27;impute_num&#x27;,\n",
              "                                                                   SimpleImputer()),\n",
              "                                                                  (&#x27;scale_num&#x27;,\n",
              "                                                                   StandardScaler())]),\n",
              "                                                  [&#x27;age&#x27;])])),\n",
              "                (&#x27;mdl&#x27;,\n",
              "                 LogisticRegression(C=316.22776601683796, l1_ratio=0.0,\n",
              "                                    penalty=&#x27;elasticnet&#x27;, solver=&#x27;saga&#x27;,\n",
              "                                    tol=0.01))])</pre></div></div></div><div class=\"sk-serial\"><div class=\"sk-item sk-dashed-wrapped\"><div class=\"sk-label-container\"><div class=\"sk-label sk-toggleable\"><input class=\"sk-toggleable__control sk-hidden--visually\" id=\"sk-estimator-id-92\" type=\"checkbox\" ><label for=\"sk-estimator-id-92\" class=\"sk-toggleable__label sk-toggleable__label-arrow\">preproc: ColumnTransformer</label><div class=\"sk-toggleable__content\"><pre>ColumnTransformer(remainder=&#x27;passthrough&#x27;,\n",
              "                  transformers=[(&#x27;cat_pipe&#x27;,\n",
              "                                 Pipeline(steps=[(&#x27;cat_impute&#x27;,\n",
              "                                                  SimpleImputer(strategy=&#x27;most_frequent&#x27;)),\n",
              "                                                 (&#x27;onehot_cat&#x27;,\n",
              "                                                  OneHotEncoder())]),\n",
              "                                 [&#x27;gender&#x27;, &#x27;hypertension&#x27;, &#x27;heart_disease&#x27;,\n",
              "                                  &#x27;ever_married&#x27;, &#x27;work_type&#x27;, &#x27;Residence_type&#x27;,\n",
              "                                  &#x27;smoking_status&#x27;, &#x27;bmi_cat&#x27;,\n",
              "                                  &#x27;avg_glucose_level_cat&#x27;]),\n",
              "                                (&#x27;num_pipe&#x27;,\n",
              "                                 Pipeline(steps=[(&#x27;impute_num&#x27;,\n",
              "                                                  SimpleImputer()),\n",
              "                                                 (&#x27;scale_num&#x27;,\n",
              "                                                  StandardScaler())]),\n",
              "                                 [&#x27;age&#x27;])])</pre></div></div></div><div class=\"sk-parallel\"><div class=\"sk-parallel-item\"><div class=\"sk-item\"><div class=\"sk-label-container\"><div class=\"sk-label sk-toggleable\"><input class=\"sk-toggleable__control sk-hidden--visually\" id=\"sk-estimator-id-93\" type=\"checkbox\" ><label for=\"sk-estimator-id-93\" class=\"sk-toggleable__label sk-toggleable__label-arrow\">cat_pipe</label><div class=\"sk-toggleable__content\"><pre>[&#x27;gender&#x27;, &#x27;hypertension&#x27;, &#x27;heart_disease&#x27;, &#x27;ever_married&#x27;, &#x27;work_type&#x27;, &#x27;Residence_type&#x27;, &#x27;smoking_status&#x27;, &#x27;bmi_cat&#x27;, &#x27;avg_glucose_level_cat&#x27;]</pre></div></div></div><div class=\"sk-serial\"><div class=\"sk-item\"><div class=\"sk-serial\"><div class=\"sk-item\"><div class=\"sk-estimator sk-toggleable\"><input class=\"sk-toggleable__control sk-hidden--visually\" id=\"sk-estimator-id-94\" type=\"checkbox\" ><label for=\"sk-estimator-id-94\" class=\"sk-toggleable__label sk-toggleable__label-arrow\">SimpleImputer</label><div class=\"sk-toggleable__content\"><pre>SimpleImputer(strategy=&#x27;most_frequent&#x27;)</pre></div></div></div><div class=\"sk-item\"><div class=\"sk-estimator sk-toggleable\"><input class=\"sk-toggleable__control sk-hidden--visually\" id=\"sk-estimator-id-95\" type=\"checkbox\" ><label for=\"sk-estimator-id-95\" class=\"sk-toggleable__label sk-toggleable__label-arrow\">OneHotEncoder</label><div class=\"sk-toggleable__content\"><pre>OneHotEncoder()</pre></div></div></div></div></div></div></div></div><div class=\"sk-parallel-item\"><div class=\"sk-item\"><div class=\"sk-label-container\"><div class=\"sk-label sk-toggleable\"><input class=\"sk-toggleable__control sk-hidden--visually\" id=\"sk-estimator-id-96\" type=\"checkbox\" ><label for=\"sk-estimator-id-96\" class=\"sk-toggleable__label sk-toggleable__label-arrow\">num_pipe</label><div class=\"sk-toggleable__content\"><pre>[&#x27;age&#x27;]</pre></div></div></div><div class=\"sk-serial\"><div class=\"sk-item\"><div class=\"sk-serial\"><div class=\"sk-item\"><div class=\"sk-estimator sk-toggleable\"><input class=\"sk-toggleable__control sk-hidden--visually\" id=\"sk-estimator-id-97\" type=\"checkbox\" ><label for=\"sk-estimator-id-97\" class=\"sk-toggleable__label sk-toggleable__label-arrow\">SimpleImputer</label><div class=\"sk-toggleable__content\"><pre>SimpleImputer()</pre></div></div></div><div class=\"sk-item\"><div class=\"sk-estimator sk-toggleable\"><input class=\"sk-toggleable__control sk-hidden--visually\" id=\"sk-estimator-id-98\" type=\"checkbox\" ><label for=\"sk-estimator-id-98\" class=\"sk-toggleable__label sk-toggleable__label-arrow\">StandardScaler</label><div class=\"sk-toggleable__content\"><pre>StandardScaler()</pre></div></div></div></div></div></div></div></div><div class=\"sk-parallel-item\"><div class=\"sk-item\"><div class=\"sk-label-container\"><div class=\"sk-label sk-toggleable\"><input class=\"sk-toggleable__control sk-hidden--visually\" id=\"sk-estimator-id-99\" type=\"checkbox\" ><label for=\"sk-estimator-id-99\" class=\"sk-toggleable__label sk-toggleable__label-arrow\">remainder</label><div class=\"sk-toggleable__content\"><pre>[]</pre></div></div></div><div class=\"sk-serial\"><div class=\"sk-item\"><div class=\"sk-estimator sk-toggleable\"><input class=\"sk-toggleable__control sk-hidden--visually\" id=\"sk-estimator-id-100\" type=\"checkbox\" ><label for=\"sk-estimator-id-100\" class=\"sk-toggleable__label sk-toggleable__label-arrow\">passthrough</label><div class=\"sk-toggleable__content\"><pre>passthrough</pre></div></div></div></div></div></div></div></div><div class=\"sk-item\"><div class=\"sk-estimator sk-toggleable\"><input class=\"sk-toggleable__control sk-hidden--visually\" id=\"sk-estimator-id-101\" type=\"checkbox\" ><label for=\"sk-estimator-id-101\" class=\"sk-toggleable__label sk-toggleable__label-arrow\">LogisticRegression</label><div class=\"sk-toggleable__content\"><pre>LogisticRegression(C=316.22776601683796, l1_ratio=0.0, penalty=&#x27;elasticnet&#x27;,\n",
              "                   solver=&#x27;saga&#x27;, tol=0.01)</pre></div></div></div></div></div></div></div>"
            ]
          },
          "metadata": {},
          "execution_count": 140
        }
      ]
    },
    {
      "cell_type": "markdown",
      "source": [
        "## Variable importance\n",
        "Assess the importance in the selected model to reveal any potential insights."
      ],
      "metadata": {
        "id": "ek3ZXrG-9Sob"
      }
    },
    {
      "cell_type": "code",
      "source": [
        "# Printing our target classes\n",
        "grid_search.classes_"
      ],
      "metadata": {
        "id": "yq86orgw9f-L",
        "outputId": "f33c1d4d-d0bb-4b4d-cef5-f3c39a7bfcf8",
        "colab": {
          "base_uri": "https://localhost:8080/"
        }
      },
      "execution_count": 141,
      "outputs": [
        {
          "output_type": "execute_result",
          "data": {
            "text/plain": [
              "array([0, 1])"
            ]
          },
          "metadata": {},
          "execution_count": 141
        }
      ]
    },
    {
      "cell_type": "code",
      "source": [
        "# Get the weights of our features used in the best model (estimator)\n",
        "coefs = grid_search.best_estimator_['mdl'].coef_[0]\n",
        "coefs"
      ],
      "metadata": {
        "id": "S5i3L0iR9mjt",
        "outputId": "1b4d63d0-09c1-4da3-8127-fa1703b67e4c",
        "colab": {
          "base_uri": "https://localhost:8080/"
        }
      },
      "execution_count": 142,
      "outputs": [
        {
          "output_type": "execute_result",
          "data": {
            "text/plain": [
              "array([-0.46977265, -0.44476699, -0.67649614, -0.23804351, -0.7267992 ,\n",
              "       -0.18774045, -0.4430245 , -0.47151514, -0.69725552, -0.15004084,\n",
              "       -0.37343885, -0.79582732,  1.10202288, -0.4149365 , -0.49960315,\n",
              "       -0.58085527, -0.11748228, -0.29701012,  0.08080803,  0.45862811,\n",
              "        0.53146966,  0.31646868, -2.22110609, -0.03044173, -0.57010018,\n",
              "       -0.31399774,  1.73971539])"
            ]
          },
          "metadata": {},
          "execution_count": 142
        }
      ]
    },
    {
      "cell_type": "code",
      "source": [
        "grid_search.best_estimator_.named_steps['preproc'].transformers_"
      ],
      "metadata": {
        "id": "tPWP7Mdf9oos",
        "outputId": "b1ad5fc8-17ec-434e-b508-2a77ecf2f9e4",
        "colab": {
          "base_uri": "https://localhost:8080/"
        }
      },
      "execution_count": 143,
      "outputs": [
        {
          "output_type": "execute_result",
          "data": {
            "text/plain": [
              "[('cat_pipe',\n",
              "  Pipeline(steps=[('cat_impute', SimpleImputer(strategy='most_frequent')),\n",
              "                  ('onehot_cat', OneHotEncoder())]),\n",
              "  ['gender',\n",
              "   'hypertension',\n",
              "   'heart_disease',\n",
              "   'ever_married',\n",
              "   'work_type',\n",
              "   'Residence_type',\n",
              "   'smoking_status',\n",
              "   'bmi_cat',\n",
              "   'avg_glucose_level_cat']),\n",
              " ('num_pipe',\n",
              "  Pipeline(steps=[('impute_num', SimpleImputer()),\n",
              "                  ('scale_num', StandardScaler())]),\n",
              "  ['age'])]"
            ]
          },
          "metadata": {},
          "execution_count": 143
        }
      ]
    },
    {
      "cell_type": "code",
      "source": [
        "# get back the categorical features' original categories - recall that index 0 had the cat_pipe\n",
        "cat_names = grid_search.best_estimator_.named_steps['preproc'].transformers_[0][1].named_steps['onehot_cat'].get_feature_names_out()\n",
        "\n",
        "\n",
        "# get back the numerical features - recall that index 1 was the num_pipe\n",
        "num_names = grid_search.best_estimator_.named_steps['preproc'].transformers_[1][2]\n",
        "\n",
        "# score coefficients into a new dataframe\n",
        "coef_info = pd.DataFrame({'feature_names': np.hstack([cat_names, num_names]), 'feature_imp': coefs})\n",
        "\n",
        "# get sign and magnitude of the weights (coefs)\n",
        "coef_info = coef_info.assign(coef_mag = abs(coef_info['feature_imp']),\n",
        "                             coef_sign = np.sign(coef_info['feature_imp']))\n",
        "\n",
        "# sort the coef_info dataframe and plot with a barplot! \n",
        "coef_info = coef_info.set_index('feature_names').sort_values(by='coef_mag', ascending=False)\n",
        "sns.barplot(y=coef_info.index, x='coef_mag', hue='coef_sign', data=coef_info, orient='h', dodge=False);"
      ],
      "metadata": {
        "id": "20CncaqZ9rkk",
        "outputId": "d691a471-6d70-4a15-93aa-a2a8d9614897",
        "colab": {
          "base_uri": "https://localhost:8080/",
          "height": 450
        }
      },
      "execution_count": 144,
      "outputs": [
        {
          "output_type": "display_data",
          "data": {
            "text/plain": [
              "<Figure size 640x480 with 1 Axes>"
            ],
            "image/png": "[encoded data removed]"
          },
          "metadata": {}
        }
      ]
    },
    {
      "cell_type": "markdown",
      "source": [
        "## Performance metrics on test data\n",
        "Here, we can see the performance of the model, which is pretty good, at least for Radial Velocity and Transit! We can also look into different scores specifically for more insight into the performance."
      ],
      "metadata": {
        "id": "MkF1LRDF97IA"
      }
    },
    {
      "cell_type": "markdown",
      "source": [],
      "metadata": {
        "id": "2rpM5SsT-Agz"
      }
    },
    {
      "cell_type": "code",
      "source": [
        "print(classification_report(y_test, grid_search.best_estimator_.predict(X_test))) # prediction on test set"
      ],
      "metadata": {
        "id": "d0QiZMW091MW",
        "outputId": "0b947a0f-05f2-49ca-9a55-6dfb304df5ba",
        "colab": {
          "base_uri": "https://localhost:8080/"
        }
      },
      "execution_count": 145,
      "outputs": [
        {
          "output_type": "stream",
          "name": "stdout",
          "text": [
            "              precision    recall  f1-score   support\n",
            "\n",
            "           0       0.96      1.00      0.98      1175\n",
            "           1       0.00      0.00      0.00        52\n",
            "\n",
            "    accuracy                           0.96      1227\n",
            "   macro avg       0.48      0.50      0.49      1227\n",
            "weighted avg       0.92      0.96      0.94      1227\n",
            "\n"
          ]
        }
      ]
    },
    {
      "cell_type": "code",
      "source": [
        "cm = confusion_matrix(y_test, grid_search.best_estimator_.predict(X_test))\n",
        "disp = ConfusionMatrixDisplay(confusion_matrix=cm,\n",
        "                               display_labels=grid_search.classes_)\n",
        "\n",
        "disp.plot()\n",
        "\n",
        "plt.show()"
      ],
      "metadata": {
        "id": "QoYM6sgW-B8d",
        "outputId": "3dad8404-1c2d-410b-c990-6e9d96f00bc0",
        "colab": {
          "base_uri": "https://localhost:8080/",
          "height": 449
        }
      },
      "execution_count": 146,
      "outputs": [
        {
          "output_type": "display_data",
          "data": {
            "text/plain": [
              "<Figure size 640x480 with 2 Axes>"
            ],
            "image/png": "[encoded data removed]"
          },
          "metadata": {}
        }
      ]
    },
    {
      "cell_type": "markdown",
      "source": [
        "# Random Forest Testing\n",
        "The above model is not working.  In this section I'll attempt to use a Random Forest."
      ],
      "metadata": {
        "id": "No_XC5yfmMma"
      }
    },
    {
      "cell_type": "code",
      "source": [
        "#generate the whole modeling pipeline with preprossing\n",
        "pipe_forest = Pipeline(steps=[('preproc', preproc),\n",
        "                       (\"clf\", RandomForestClassifier())])\n",
        "# Try a random forest model\n",
        "# increase test set\n",
        "\n",
        "# visualization for the steps\n",
        "with config_context(display='diagram'):\n",
        "  display(pipe_forest)\n",
        "  \n",
        "\n",
        "  \n",
        "# Declare a hyperparameter grid\n",
        "forest_param_grid = {\n",
        "    \"clf__n_estimators\": [100, 500, 1000],\n",
        "    \"clf__max_depth\": [1, 5, 10, 25],\n",
        "    \"clf__max_features\": [*np.arange(0.1, 1.1, 0.1)],\n",
        "}\n",
        "\n",
        "\n",
        "grid_search_forest = GridSearchCV(pipe_forest, param_grid=forest_param_grid, cv=3, n_jobs=-1, verbose=1000)\n",
        "grid_search_forest.fit(X_train, y_train.values.ravel())\n",
        "print(grid_search_forest.score(X_test, y_test))\n",
        "\n",
        "print(grid_search_forest.best_score_)\n",
        "\n",
        "\n"
      ],
      "metadata": {
        "colab": {
          "base_uri": "https://localhost:8080/",
          "height": 279
        },
        "id": "8CJKsyyrmU7o",
        "outputId": "aa6fc187-1fd8-4f61-c654-66bc7fe45114"
      },
      "execution_count": 148,
      "outputs": [
        {
          "output_type": "display_data",
          "data": {
            "text/plain": [
              "Pipeline(steps=[('preproc',\n",
              "                 ColumnTransformer(remainder='passthrough',\n",
              "                                   transformers=[('cat_pipe',\n",
              "                                                  Pipeline(steps=[('cat_impute',\n",
              "                                                                   SimpleImputer(strategy='most_frequent')),\n",
              "                                                                  ('onehot_cat',\n",
              "                                                                   OneHotEncoder())]),\n",
              "                                                  ['gender', 'hypertension',\n",
              "                                                   'heart_disease',\n",
              "                                                   'ever_married', 'work_type',\n",
              "                                                   'Residence_type',\n",
              "                                                   'smoking_status', 'bmi_cat',\n",
              "                                                   'avg_glucose_level_cat']),\n",
              "                                                 ('num_pipe',\n",
              "                                                  Pipeline(steps=[('impute_num',\n",
              "                                                                   SimpleImputer()),\n",
              "                                                                  ('scale_num',\n",
              "                                                                   StandardScaler())]),\n",
              "                                                  ['age'])])),\n",
              "                ('clf', RandomForestClassifier())])"
            ],
            "text/html": [
              "<style>#sk-container-id-11 {color: black;background-color: white;}#sk-container-id-11 pre{padding: 0;}#sk-container-id-11 div.sk-toggleable {background-color: white;}#sk-container-id-11 label.sk-toggleable__label {cursor: pointer;display: block;width: 100%;margin-bottom: 0;padding: 0.3em;box-sizing: border-box;text-align: center;}#sk-container-id-11 label.sk-toggleable__label-arrow:before {content: \"▸\";float: left;margin-right: 0.25em;color: #696969;}#sk-container-id-11 label.sk-toggleable__label-arrow:hover:before {color: black;}#sk-container-id-11 div.sk-estimator:hover label.sk-toggleable__label-arrow:before {color: black;}#sk-container-id-11 div.sk-toggleable__content {max-height: 0;max-width: 0;overflow: hidden;text-align: left;background-color: #f0f8ff;}#sk-container-id-11 div.sk-toggleable__content pre {margin: 0.2em;color: black;border-radius: 0.25em;background-color: #f0f8ff;}#sk-container-id-11 input.sk-toggleable__control:checked~div.sk-toggleable__content {max-height: 200px;max-width: 100%;overflow: auto;}#sk-container-id-11 input.sk-toggleable__control:checked~label.sk-toggleable__label-arrow:before {content: \"▾\";}#sk-container-id-11 div.sk-estimator input.sk-toggleable__control:checked~label.sk-toggleable__label {background-color: #d4ebff;}#sk-container-id-11 div.sk-label input.sk-toggleable__control:checked~label.sk-toggleable__label {background-color: #d4ebff;}#sk-container-id-11 input.sk-hidden--visually {border: 0;clip: rect(1px 1px 1px 1px);clip: rect(1px, 1px, 1px, 1px);height: 1px;margin: -1px;overflow: hidden;padding: 0;position: absolute;width: 1px;}#sk-container-id-11 div.sk-estimator {font-family: monospace;background-color: #f0f8ff;border: 1px dotted black;border-radius: 0.25em;box-sizing: border-box;margin-bottom: 0.5em;}#sk-container-id-11 div.sk-estimator:hover {background-color: #d4ebff;}#sk-container-id-11 div.sk-parallel-item::after {content: \"\";width: 100%;border-bottom: 1px solid gray;flex-grow: 1;}#sk-container-id-11 div.sk-label:hover label.sk-toggleable__label {background-color: #d4ebff;}#sk-container-id-11 div.sk-serial::before {content: \"\";position: absolute;border-left: 1px solid gray;box-sizing: border-box;top: 0;bottom: 0;left: 50%;z-index: 0;}#sk-container-id-11 div.sk-serial {display: flex;flex-direction: column;align-items: center;background-color: white;padding-right: 0.2em;padding-left: 0.2em;position: relative;}#sk-container-id-11 div.sk-item {position: relative;z-index: 1;}#sk-container-id-11 div.sk-parallel {display: flex;align-items: stretch;justify-content: center;background-color: white;position: relative;}#sk-container-id-11 div.sk-item::before, #sk-container-id-11 div.sk-parallel-item::before {content: \"\";position: absolute;border-left: 1px solid gray;box-sizing: border-box;top: 0;bottom: 0;left: 50%;z-index: -1;}#sk-container-id-11 div.sk-parallel-item {display: flex;flex-direction: column;z-index: 1;position: relative;background-color: white;}#sk-container-id-11 div.sk-parallel-item:first-child::after {align-self: flex-end;width: 50%;}#sk-container-id-11 div.sk-parallel-item:last-child::after {align-self: flex-start;width: 50%;}#sk-container-id-11 div.sk-parallel-item:only-child::after {width: 0;}#sk-container-id-11 div.sk-dashed-wrapped {border: 1px dashed gray;margin: 0 0.4em 0.5em 0.4em;box-sizing: border-box;padding-bottom: 0.4em;background-color: white;}#sk-container-id-11 div.sk-label label {font-family: monospace;font-weight: bold;display: inline-block;line-height: 1.2em;}#sk-container-id-11 div.sk-label-container {text-align: center;}#sk-container-id-11 div.sk-container {/* jupyter's `normalize.less` sets `[hidden] { display: none; }` but bootstrap.min.css set `[hidden] { display: none !important; }` so we also need the `!important` here to be able to override the default hidden behavior on the sphinx rendered scikit-learn.org. See: https://github.com/scikit-learn/scikit-learn/issues/21755 */display: inline-block !important;position: relative;}#sk-container-id-11 div.sk-text-repr-fallback {display: none;}</style><div id=\"sk-container-id-11\" class=\"sk-top-container\"><div class=\"sk-text-repr-fallback\"><pre>Pipeline(steps=[(&#x27;preproc&#x27;,\n",
              "                 ColumnTransformer(remainder=&#x27;passthrough&#x27;,\n",
              "                                   transformers=[(&#x27;cat_pipe&#x27;,\n",
              "                                                  Pipeline(steps=[(&#x27;cat_impute&#x27;,\n",
              "                                                                   SimpleImputer(strategy=&#x27;most_frequent&#x27;)),\n",
              "                                                                  (&#x27;onehot_cat&#x27;,\n",
              "                                                                   OneHotEncoder())]),\n",
              "                                                  [&#x27;gender&#x27;, &#x27;hypertension&#x27;,\n",
              "                                                   &#x27;heart_disease&#x27;,\n",
              "                                                   &#x27;ever_married&#x27;, &#x27;work_type&#x27;,\n",
              "                                                   &#x27;Residence_type&#x27;,\n",
              "                                                   &#x27;smoking_status&#x27;, &#x27;bmi_cat&#x27;,\n",
              "                                                   &#x27;avg_glucose_level_cat&#x27;]),\n",
              "                                                 (&#x27;num_pipe&#x27;,\n",
              "                                                  Pipeline(steps=[(&#x27;impute_num&#x27;,\n",
              "                                                                   SimpleImputer()),\n",
              "                                                                  (&#x27;scale_num&#x27;,\n",
              "                                                                   StandardScaler())]),\n",
              "                                                  [&#x27;age&#x27;])])),\n",
              "                (&#x27;clf&#x27;, RandomForestClassifier())])</pre><b>In a Jupyter environment, please rerun this cell to show the HTML representation or trust the notebook. <br />On GitHub, the HTML representation is unable to render, please try loading this page with nbviewer.org.</b></div><div class=\"sk-container\" hidden><div class=\"sk-item sk-dashed-wrapped\"><div class=\"sk-label-container\"><div class=\"sk-label sk-toggleable\"><input class=\"sk-toggleable__control sk-hidden--visually\" id=\"sk-estimator-id-113\" type=\"checkbox\" ><label for=\"sk-estimator-id-113\" class=\"sk-toggleable__label sk-toggleable__label-arrow\">Pipeline</label><div class=\"sk-toggleable__content\"><pre>Pipeline(steps=[(&#x27;preproc&#x27;,\n",
              "                 ColumnTransformer(remainder=&#x27;passthrough&#x27;,\n",
              "                                   transformers=[(&#x27;cat_pipe&#x27;,\n",
              "                                                  Pipeline(steps=[(&#x27;cat_impute&#x27;,\n",
              "                                                                   SimpleImputer(strategy=&#x27;most_frequent&#x27;)),\n",
              "                                                                  (&#x27;onehot_cat&#x27;,\n",
              "                                                                   OneHotEncoder())]),\n",
              "                                                  [&#x27;gender&#x27;, &#x27;hypertension&#x27;,\n",
              "                                                   &#x27;heart_disease&#x27;,\n",
              "                                                   &#x27;ever_married&#x27;, &#x27;work_type&#x27;,\n",
              "                                                   &#x27;Residence_type&#x27;,\n",
              "                                                   &#x27;smoking_status&#x27;, &#x27;bmi_cat&#x27;,\n",
              "                                                   &#x27;avg_glucose_level_cat&#x27;]),\n",
              "                                                 (&#x27;num_pipe&#x27;,\n",
              "                                                  Pipeline(steps=[(&#x27;impute_num&#x27;,\n",
              "                                                                   SimpleImputer()),\n",
              "                                                                  (&#x27;scale_num&#x27;,\n",
              "                                                                   StandardScaler())]),\n",
              "                                                  [&#x27;age&#x27;])])),\n",
              "                (&#x27;clf&#x27;, RandomForestClassifier())])</pre></div></div></div><div class=\"sk-serial\"><div class=\"sk-item sk-dashed-wrapped\"><div class=\"sk-label-container\"><div class=\"sk-label sk-toggleable\"><input class=\"sk-toggleable__control sk-hidden--visually\" id=\"sk-estimator-id-114\" type=\"checkbox\" ><label for=\"sk-estimator-id-114\" class=\"sk-toggleable__label sk-toggleable__label-arrow\">preproc: ColumnTransformer</label><div class=\"sk-toggleable__content\"><pre>ColumnTransformer(remainder=&#x27;passthrough&#x27;,\n",
              "                  transformers=[(&#x27;cat_pipe&#x27;,\n",
              "                                 Pipeline(steps=[(&#x27;cat_impute&#x27;,\n",
              "                                                  SimpleImputer(strategy=&#x27;most_frequent&#x27;)),\n",
              "                                                 (&#x27;onehot_cat&#x27;,\n",
              "                                                  OneHotEncoder())]),\n",
              "                                 [&#x27;gender&#x27;, &#x27;hypertension&#x27;, &#x27;heart_disease&#x27;,\n",
              "                                  &#x27;ever_married&#x27;, &#x27;work_type&#x27;, &#x27;Residence_type&#x27;,\n",
              "                                  &#x27;smoking_status&#x27;, &#x27;bmi_cat&#x27;,\n",
              "                                  &#x27;avg_glucose_level_cat&#x27;]),\n",
              "                                (&#x27;num_pipe&#x27;,\n",
              "                                 Pipeline(steps=[(&#x27;impute_num&#x27;,\n",
              "                                                  SimpleImputer()),\n",
              "                                                 (&#x27;scale_num&#x27;,\n",
              "                                                  StandardScaler())]),\n",
              "                                 [&#x27;age&#x27;])])</pre></div></div></div><div class=\"sk-parallel\"><div class=\"sk-parallel-item\"><div class=\"sk-item\"><div class=\"sk-label-container\"><div class=\"sk-label sk-toggleable\"><input class=\"sk-toggleable__control sk-hidden--visually\" id=\"sk-estimator-id-115\" type=\"checkbox\" ><label for=\"sk-estimator-id-115\" class=\"sk-toggleable__label sk-toggleable__label-arrow\">cat_pipe</label><div class=\"sk-toggleable__content\"><pre>[&#x27;gender&#x27;, &#x27;hypertension&#x27;, &#x27;heart_disease&#x27;, &#x27;ever_married&#x27;, &#x27;work_type&#x27;, &#x27;Residence_type&#x27;, &#x27;smoking_status&#x27;, &#x27;bmi_cat&#x27;, &#x27;avg_glucose_level_cat&#x27;]</pre></div></div></div><div class=\"sk-serial\"><div class=\"sk-item\"><div class=\"sk-serial\"><div class=\"sk-item\"><div class=\"sk-estimator sk-toggleable\"><input class=\"sk-toggleable__control sk-hidden--visually\" id=\"sk-estimator-id-116\" type=\"checkbox\" ><label for=\"sk-estimator-id-116\" class=\"sk-toggleable__label sk-toggleable__label-arrow\">SimpleImputer</label><div class=\"sk-toggleable__content\"><pre>SimpleImputer(strategy=&#x27;most_frequent&#x27;)</pre></div></div></div><div class=\"sk-item\"><div class=\"sk-estimator sk-toggleable\"><input class=\"sk-toggleable__control sk-hidden--visually\" id=\"sk-estimator-id-117\" type=\"checkbox\" ><label for=\"sk-estimator-id-117\" class=\"sk-toggleable__label sk-toggleable__label-arrow\">OneHotEncoder</label><div class=\"sk-toggleable__content\"><pre>OneHotEncoder()</pre></div></div></div></div></div></div></div></div><div class=\"sk-parallel-item\"><div class=\"sk-item\"><div class=\"sk-label-container\"><div class=\"sk-label sk-toggleable\"><input class=\"sk-toggleable__control sk-hidden--visually\" id=\"sk-estimator-id-118\" type=\"checkbox\" ><label for=\"sk-estimator-id-118\" class=\"sk-toggleable__label sk-toggleable__label-arrow\">num_pipe</label><div class=\"sk-toggleable__content\"><pre>[&#x27;age&#x27;]</pre></div></div></div><div class=\"sk-serial\"><div class=\"sk-item\"><div class=\"sk-serial\"><div class=\"sk-item\"><div class=\"sk-estimator sk-toggleable\"><input class=\"sk-toggleable__control sk-hidden--visually\" id=\"sk-estimator-id-119\" type=\"checkbox\" ><label for=\"sk-estimator-id-119\" class=\"sk-toggleable__label sk-toggleable__label-arrow\">SimpleImputer</label><div class=\"sk-toggleable__content\"><pre>SimpleImputer()</pre></div></div></div><div class=\"sk-item\"><div class=\"sk-estimator sk-toggleable\"><input class=\"sk-toggleable__control sk-hidden--visually\" id=\"sk-estimator-id-120\" type=\"checkbox\" ><label for=\"sk-estimator-id-120\" class=\"sk-toggleable__label sk-toggleable__label-arrow\">StandardScaler</label><div class=\"sk-toggleable__content\"><pre>StandardScaler()</pre></div></div></div></div></div></div></div></div><div class=\"sk-parallel-item\"><div class=\"sk-item\"><div class=\"sk-label-container\"><div class=\"sk-label sk-toggleable\"><input class=\"sk-toggleable__control sk-hidden--visually\" id=\"sk-estimator-id-121\" type=\"checkbox\" ><label for=\"sk-estimator-id-121\" class=\"sk-toggleable__label sk-toggleable__label-arrow\">remainder</label><div class=\"sk-toggleable__content\"><pre></pre></div></div></div><div class=\"sk-serial\"><div class=\"sk-item\"><div class=\"sk-estimator sk-toggleable\"><input class=\"sk-toggleable__control sk-hidden--visually\" id=\"sk-estimator-id-122\" type=\"checkbox\" ><label for=\"sk-estimator-id-122\" class=\"sk-toggleable__label sk-toggleable__label-arrow\">passthrough</label><div class=\"sk-toggleable__content\"><pre>passthrough</pre></div></div></div></div></div></div></div></div><div class=\"sk-item\"><div class=\"sk-estimator sk-toggleable\"><input class=\"sk-toggleable__control sk-hidden--visually\" id=\"sk-estimator-id-123\" type=\"checkbox\" ><label for=\"sk-estimator-id-123\" class=\"sk-toggleable__label sk-toggleable__label-arrow\">RandomForestClassifier</label><div class=\"sk-toggleable__content\"><pre>RandomForestClassifier()</pre></div></div></div></div></div></div></div>"
            ]
          },
          "metadata": {}
        },
        {
          "output_type": "stream",
          "name": "stdout",
          "text": [
            "Fitting 3 folds for each of 120 candidates, totalling 360 fits\n",
            "0.9576202118989405\n",
            "0.9576202118989405\n"
          ]
        }
      ]
    },
    {
      "cell_type": "code",
      "source": [
        "grid_search_forest.best_estimator_"
      ],
      "metadata": {
        "colab": {
          "base_uri": "https://localhost:8080/",
          "height": 227
        },
        "id": "llg8vwEQvg_D",
        "outputId": "2ddc8aa0-88e6-444c-acda-4518237e0b33"
      },
      "execution_count": 149,
      "outputs": [
        {
          "output_type": "execute_result",
          "data": {
            "text/plain": [
              "Pipeline(steps=[('preproc',\n",
              "                 ColumnTransformer(remainder='passthrough',\n",
              "                                   transformers=[('cat_pipe',\n",
              "                                                  Pipeline(steps=[('cat_impute',\n",
              "                                                                   SimpleImputer(strategy='most_frequent')),\n",
              "                                                                  ('onehot_cat',\n",
              "                                                                   OneHotEncoder())]),\n",
              "                                                  ['gender', 'hypertension',\n",
              "                                                   'heart_disease',\n",
              "                                                   'ever_married', 'work_type',\n",
              "                                                   'Residence_type',\n",
              "                                                   'smoking_status', 'bmi_cat',\n",
              "                                                   'avg_glucose_level_cat']),\n",
              "                                                 ('num_pipe',\n",
              "                                                  Pipeline(steps=[('impute_num',\n",
              "                                                                   SimpleImputer()),\n",
              "                                                                  ('scale_num',\n",
              "                                                                   StandardScaler())]),\n",
              "                                                  ['age'])])),\n",
              "                ('clf', RandomForestClassifier(max_depth=5, max_features=0.5))])"
            ],
            "text/html": [
              "<style>#sk-container-id-12 {color: black;background-color: white;}#sk-container-id-12 pre{padding: 0;}#sk-container-id-12 div.sk-toggleable {background-color: white;}#sk-container-id-12 label.sk-toggleable__label {cursor: pointer;display: block;width: 100%;margin-bottom: 0;padding: 0.3em;box-sizing: border-box;text-align: center;}#sk-container-id-12 label.sk-toggleable__label-arrow:before {content: \"▸\";float: left;margin-right: 0.25em;color: #696969;}#sk-container-id-12 label.sk-toggleable__label-arrow:hover:before {color: black;}#sk-container-id-12 div.sk-estimator:hover label.sk-toggleable__label-arrow:before {color: black;}#sk-container-id-12 div.sk-toggleable__content {max-height: 0;max-width: 0;overflow: hidden;text-align: left;background-color: #f0f8ff;}#sk-container-id-12 div.sk-toggleable__content pre {margin: 0.2em;color: black;border-radius: 0.25em;background-color: #f0f8ff;}#sk-container-id-12 input.sk-toggleable__control:checked~div.sk-toggleable__content {max-height: 200px;max-width: 100%;overflow: auto;}#sk-container-id-12 input.sk-toggleable__control:checked~label.sk-toggleable__label-arrow:before {content: \"▾\";}#sk-container-id-12 div.sk-estimator input.sk-toggleable__control:checked~label.sk-toggleable__label {background-color: #d4ebff;}#sk-container-id-12 div.sk-label input.sk-toggleable__control:checked~label.sk-toggleable__label {background-color: #d4ebff;}#sk-container-id-12 input.sk-hidden--visually {border: 0;clip: rect(1px 1px 1px 1px);clip: rect(1px, 1px, 1px, 1px);height: 1px;margin: -1px;overflow: hidden;padding: 0;position: absolute;width: 1px;}#sk-container-id-12 div.sk-estimator {font-family: monospace;background-color: #f0f8ff;border: 1px dotted black;border-radius: 0.25em;box-sizing: border-box;margin-bottom: 0.5em;}#sk-container-id-12 div.sk-estimator:hover {background-color: #d4ebff;}#sk-container-id-12 div.sk-parallel-item::after {content: \"\";width: 100%;border-bottom: 1px solid gray;flex-grow: 1;}#sk-container-id-12 div.sk-label:hover label.sk-toggleable__label {background-color: #d4ebff;}#sk-container-id-12 div.sk-serial::before {content: \"\";position: absolute;border-left: 1px solid gray;box-sizing: border-box;top: 0;bottom: 0;left: 50%;z-index: 0;}#sk-container-id-12 div.sk-serial {display: flex;flex-direction: column;align-items: center;background-color: white;padding-right: 0.2em;padding-left: 0.2em;position: relative;}#sk-container-id-12 div.sk-item {position: relative;z-index: 1;}#sk-container-id-12 div.sk-parallel {display: flex;align-items: stretch;justify-content: center;background-color: white;position: relative;}#sk-container-id-12 div.sk-item::before, #sk-container-id-12 div.sk-parallel-item::before {content: \"\";position: absolute;border-left: 1px solid gray;box-sizing: border-box;top: 0;bottom: 0;left: 50%;z-index: -1;}#sk-container-id-12 div.sk-parallel-item {display: flex;flex-direction: column;z-index: 1;position: relative;background-color: white;}#sk-container-id-12 div.sk-parallel-item:first-child::after {align-self: flex-end;width: 50%;}#sk-container-id-12 div.sk-parallel-item:last-child::after {align-self: flex-start;width: 50%;}#sk-container-id-12 div.sk-parallel-item:only-child::after {width: 0;}#sk-container-id-12 div.sk-dashed-wrapped {border: 1px dashed gray;margin: 0 0.4em 0.5em 0.4em;box-sizing: border-box;padding-bottom: 0.4em;background-color: white;}#sk-container-id-12 div.sk-label label {font-family: monospace;font-weight: bold;display: inline-block;line-height: 1.2em;}#sk-container-id-12 div.sk-label-container {text-align: center;}#sk-container-id-12 div.sk-container {/* jupyter's `normalize.less` sets `[hidden] { display: none; }` but bootstrap.min.css set `[hidden] { display: none !important; }` so we also need the `!important` here to be able to override the default hidden behavior on the sphinx rendered scikit-learn.org. See: https://github.com/scikit-learn/scikit-learn/issues/21755 */display: inline-block !important;position: relative;}#sk-container-id-12 div.sk-text-repr-fallback {display: none;}</style><div id=\"sk-container-id-12\" class=\"sk-top-container\"><div class=\"sk-text-repr-fallback\"><pre>Pipeline(steps=[(&#x27;preproc&#x27;,\n",
              "                 ColumnTransformer(remainder=&#x27;passthrough&#x27;,\n",
              "                                   transformers=[(&#x27;cat_pipe&#x27;,\n",
              "                                                  Pipeline(steps=[(&#x27;cat_impute&#x27;,\n",
              "                                                                   SimpleImputer(strategy=&#x27;most_frequent&#x27;)),\n",
              "                                                                  (&#x27;onehot_cat&#x27;,\n",
              "                                                                   OneHotEncoder())]),\n",
              "                                                  [&#x27;gender&#x27;, &#x27;hypertension&#x27;,\n",
              "                                                   &#x27;heart_disease&#x27;,\n",
              "                                                   &#x27;ever_married&#x27;, &#x27;work_type&#x27;,\n",
              "                                                   &#x27;Residence_type&#x27;,\n",
              "                                                   &#x27;smoking_status&#x27;, &#x27;bmi_cat&#x27;,\n",
              "                                                   &#x27;avg_glucose_level_cat&#x27;]),\n",
              "                                                 (&#x27;num_pipe&#x27;,\n",
              "                                                  Pipeline(steps=[(&#x27;impute_num&#x27;,\n",
              "                                                                   SimpleImputer()),\n",
              "                                                                  (&#x27;scale_num&#x27;,\n",
              "                                                                   StandardScaler())]),\n",
              "                                                  [&#x27;age&#x27;])])),\n",
              "                (&#x27;clf&#x27;, RandomForestClassifier(max_depth=5, max_features=0.5))])</pre><b>In a Jupyter environment, please rerun this cell to show the HTML representation or trust the notebook. <br />On GitHub, the HTML representation is unable to render, please try loading this page with nbviewer.org.</b></div><div class=\"sk-container\" hidden><div class=\"sk-item sk-dashed-wrapped\"><div class=\"sk-label-container\"><div class=\"sk-label sk-toggleable\"><input class=\"sk-toggleable__control sk-hidden--visually\" id=\"sk-estimator-id-124\" type=\"checkbox\" ><label for=\"sk-estimator-id-124\" class=\"sk-toggleable__label sk-toggleable__label-arrow\">Pipeline</label><div class=\"sk-toggleable__content\"><pre>Pipeline(steps=[(&#x27;preproc&#x27;,\n",
              "                 ColumnTransformer(remainder=&#x27;passthrough&#x27;,\n",
              "                                   transformers=[(&#x27;cat_pipe&#x27;,\n",
              "                                                  Pipeline(steps=[(&#x27;cat_impute&#x27;,\n",
              "                                                                   SimpleImputer(strategy=&#x27;most_frequent&#x27;)),\n",
              "                                                                  (&#x27;onehot_cat&#x27;,\n",
              "                                                                   OneHotEncoder())]),\n",
              "                                                  [&#x27;gender&#x27;, &#x27;hypertension&#x27;,\n",
              "                                                   &#x27;heart_disease&#x27;,\n",
              "                                                   &#x27;ever_married&#x27;, &#x27;work_type&#x27;,\n",
              "                                                   &#x27;Residence_type&#x27;,\n",
              "                                                   &#x27;smoking_status&#x27;, &#x27;bmi_cat&#x27;,\n",
              "                                                   &#x27;avg_glucose_level_cat&#x27;]),\n",
              "                                                 (&#x27;num_pipe&#x27;,\n",
              "                                                  Pipeline(steps=[(&#x27;impute_num&#x27;,\n",
              "                                                                   SimpleImputer()),\n",
              "                                                                  (&#x27;scale_num&#x27;,\n",
              "                                                                   StandardScaler())]),\n",
              "                                                  [&#x27;age&#x27;])])),\n",
              "                (&#x27;clf&#x27;, RandomForestClassifier(max_depth=5, max_features=0.5))])</pre></div></div></div><div class=\"sk-serial\"><div class=\"sk-item sk-dashed-wrapped\"><div class=\"sk-label-container\"><div class=\"sk-label sk-toggleable\"><input class=\"sk-toggleable__control sk-hidden--visually\" id=\"sk-estimator-id-125\" type=\"checkbox\" ><label for=\"sk-estimator-id-125\" class=\"sk-toggleable__label sk-toggleable__label-arrow\">preproc: ColumnTransformer</label><div class=\"sk-toggleable__content\"><pre>ColumnTransformer(remainder=&#x27;passthrough&#x27;,\n",
              "                  transformers=[(&#x27;cat_pipe&#x27;,\n",
              "                                 Pipeline(steps=[(&#x27;cat_impute&#x27;,\n",
              "                                                  SimpleImputer(strategy=&#x27;most_frequent&#x27;)),\n",
              "                                                 (&#x27;onehot_cat&#x27;,\n",
              "                                                  OneHotEncoder())]),\n",
              "                                 [&#x27;gender&#x27;, &#x27;hypertension&#x27;, &#x27;heart_disease&#x27;,\n",
              "                                  &#x27;ever_married&#x27;, &#x27;work_type&#x27;, &#x27;Residence_type&#x27;,\n",
              "                                  &#x27;smoking_status&#x27;, &#x27;bmi_cat&#x27;,\n",
              "                                  &#x27;avg_glucose_level_cat&#x27;]),\n",
              "                                (&#x27;num_pipe&#x27;,\n",
              "                                 Pipeline(steps=[(&#x27;impute_num&#x27;,\n",
              "                                                  SimpleImputer()),\n",
              "                                                 (&#x27;scale_num&#x27;,\n",
              "                                                  StandardScaler())]),\n",
              "                                 [&#x27;age&#x27;])])</pre></div></div></div><div class=\"sk-parallel\"><div class=\"sk-parallel-item\"><div class=\"sk-item\"><div class=\"sk-label-container\"><div class=\"sk-label sk-toggleable\"><input class=\"sk-toggleable__control sk-hidden--visually\" id=\"sk-estimator-id-126\" type=\"checkbox\" ><label for=\"sk-estimator-id-126\" class=\"sk-toggleable__label sk-toggleable__label-arrow\">cat_pipe</label><div class=\"sk-toggleable__content\"><pre>[&#x27;gender&#x27;, &#x27;hypertension&#x27;, &#x27;heart_disease&#x27;, &#x27;ever_married&#x27;, &#x27;work_type&#x27;, &#x27;Residence_type&#x27;, &#x27;smoking_status&#x27;, &#x27;bmi_cat&#x27;, &#x27;avg_glucose_level_cat&#x27;]</pre></div></div></div><div class=\"sk-serial\"><div class=\"sk-item\"><div class=\"sk-serial\"><div class=\"sk-item\"><div class=\"sk-estimator sk-toggleable\"><input class=\"sk-toggleable__control sk-hidden--visually\" id=\"sk-estimator-id-127\" type=\"checkbox\" ><label for=\"sk-estimator-id-127\" class=\"sk-toggleable__label sk-toggleable__label-arrow\">SimpleImputer</label><div class=\"sk-toggleable__content\"><pre>SimpleImputer(strategy=&#x27;most_frequent&#x27;)</pre></div></div></div><div class=\"sk-item\"><div class=\"sk-estimator sk-toggleable\"><input class=\"sk-toggleable__control sk-hidden--visually\" id=\"sk-estimator-id-128\" type=\"checkbox\" ><label for=\"sk-estimator-id-128\" class=\"sk-toggleable__label sk-toggleable__label-arrow\">OneHotEncoder</label><div class=\"sk-toggleable__content\"><pre>OneHotEncoder()</pre></div></div></div></div></div></div></div></div><div class=\"sk-parallel-item\"><div class=\"sk-item\"><div class=\"sk-label-container\"><div class=\"sk-label sk-toggleable\"><input class=\"sk-toggleable__control sk-hidden--visually\" id=\"sk-estimator-id-129\" type=\"checkbox\" ><label for=\"sk-estimator-id-129\" class=\"sk-toggleable__label sk-toggleable__label-arrow\">num_pipe</label><div class=\"sk-toggleable__content\"><pre>[&#x27;age&#x27;]</pre></div></div></div><div class=\"sk-serial\"><div class=\"sk-item\"><div class=\"sk-serial\"><div class=\"sk-item\"><div class=\"sk-estimator sk-toggleable\"><input class=\"sk-toggleable__control sk-hidden--visually\" id=\"sk-estimator-id-130\" type=\"checkbox\" ><label for=\"sk-estimator-id-130\" class=\"sk-toggleable__label sk-toggleable__label-arrow\">SimpleImputer</label><div class=\"sk-toggleable__content\"><pre>SimpleImputer()</pre></div></div></div><div class=\"sk-item\"><div class=\"sk-estimator sk-toggleable\"><input class=\"sk-toggleable__control sk-hidden--visually\" id=\"sk-estimator-id-131\" type=\"checkbox\" ><label for=\"sk-estimator-id-131\" class=\"sk-toggleable__label sk-toggleable__label-arrow\">StandardScaler</label><div class=\"sk-toggleable__content\"><pre>StandardScaler()</pre></div></div></div></div></div></div></div></div><div class=\"sk-parallel-item\"><div class=\"sk-item\"><div class=\"sk-label-container\"><div class=\"sk-label sk-toggleable\"><input class=\"sk-toggleable__control sk-hidden--visually\" id=\"sk-estimator-id-132\" type=\"checkbox\" ><label for=\"sk-estimator-id-132\" class=\"sk-toggleable__label sk-toggleable__label-arrow\">remainder</label><div class=\"sk-toggleable__content\"><pre>[]</pre></div></div></div><div class=\"sk-serial\"><div class=\"sk-item\"><div class=\"sk-estimator sk-toggleable\"><input class=\"sk-toggleable__control sk-hidden--visually\" id=\"sk-estimator-id-133\" type=\"checkbox\" ><label for=\"sk-estimator-id-133\" class=\"sk-toggleable__label sk-toggleable__label-arrow\">passthrough</label><div class=\"sk-toggleable__content\"><pre>passthrough</pre></div></div></div></div></div></div></div></div><div class=\"sk-item\"><div class=\"sk-estimator sk-toggleable\"><input class=\"sk-toggleable__control sk-hidden--visually\" id=\"sk-estimator-id-134\" type=\"checkbox\" ><label for=\"sk-estimator-id-134\" class=\"sk-toggleable__label sk-toggleable__label-arrow\">RandomForestClassifier</label><div class=\"sk-toggleable__content\"><pre>RandomForestClassifier(max_depth=5, max_features=0.5)</pre></div></div></div></div></div></div></div>"
            ]
          },
          "metadata": {},
          "execution_count": 149
        }
      ]
    },
    {
      "cell_type": "code",
      "source": [
        "pd.DataFrame(grid_search_forest.cv_results_)"
      ],
      "metadata": {
        "colab": {
          "base_uri": "https://localhost:8080/",
          "height": 1000
        },
        "id": "km5kromYvzlU",
        "outputId": "bfc75d25-457a-4375-f02f-a18b30998cdf"
      },
      "execution_count": 150,
      "outputs": [
        {
          "output_type": "execute_result",
          "data": {
            "text/plain": [
              "     mean_fit_time  std_fit_time  mean_score_time  std_score_time  \\\n",
              "0         0.222778      0.009439         0.033703        0.006502   \n",
              "1         0.993587      0.014369         0.104692        0.004501   \n",
              "2         2.376023      0.367946         0.276929        0.059383   \n",
              "3         0.303747      0.102455         0.037997        0.008546   \n",
              "4         1.002759      0.007784         0.103838        0.000547   \n",
              "..             ...           ...              ...             ...   \n",
              "115       2.900757      0.439462         0.184723        0.044044   \n",
              "116       4.574105      0.084649         0.233970        0.006145   \n",
              "117       0.507476      0.017284         0.032986        0.001555   \n",
              "118       3.092324      0.500659         0.120723        0.003202   \n",
              "119       4.364548      0.635580         0.225922        0.050155   \n",
              "\n",
              "    param_clf__max_depth param_clf__max_features param_clf__n_estimators  \\\n",
              "0                      1                     0.1                     100   \n",
              "1                      1                     0.1                     500   \n",
              "2                      1                     0.1                    1000   \n",
              "3                      1                     0.2                     100   \n",
              "4                      1                     0.2                     500   \n",
              "..                   ...                     ...                     ...   \n",
              "115                   25                     0.9                     500   \n",
              "116                   25                     0.9                    1000   \n",
              "117                   25                     1.0                     100   \n",
              "118                   25                     1.0                     500   \n",
              "119                   25                     1.0                    1000   \n",
              "\n",
              "                                                params  split0_test_score  \\\n",
              "0    {'clf__max_depth': 1, 'clf__max_features': 0.1...           0.957620   \n",
              "1    {'clf__max_depth': 1, 'clf__max_features': 0.1...           0.957620   \n",
              "2    {'clf__max_depth': 1, 'clf__max_features': 0.1...           0.957620   \n",
              "3    {'clf__max_depth': 1, 'clf__max_features': 0.2...           0.957620   \n",
              "4    {'clf__max_depth': 1, 'clf__max_features': 0.2...           0.957620   \n",
              "..                                                 ...                ...   \n",
              "115  {'clf__max_depth': 25, 'clf__max_features': 0....           0.950285   \n",
              "116  {'clf__max_depth': 25, 'clf__max_features': 0....           0.950285   \n",
              "117  {'clf__max_depth': 25, 'clf__max_features': 1....           0.947840   \n",
              "118  {'clf__max_depth': 25, 'clf__max_features': 1....           0.947025   \n",
              "119  {'clf__max_depth': 25, 'clf__max_features': 1....           0.948655   \n",
              "\n",
              "     split1_test_score  split2_test_score  mean_test_score  std_test_score  \\\n",
              "0             0.957620           0.956805         0.957349        0.000384   \n",
              "1             0.957620           0.956805         0.957349        0.000384   \n",
              "2             0.957620           0.956805         0.957349        0.000384   \n",
              "3             0.957620           0.956805         0.957349        0.000384   \n",
              "4             0.957620           0.956805         0.957349        0.000384   \n",
              "..                 ...                ...              ...             ...   \n",
              "115           0.946210           0.950285         0.948927        0.001921   \n",
              "116           0.947840           0.949470         0.949199        0.001016   \n",
              "117           0.947840           0.950285         0.948655        0.001153   \n",
              "118           0.945395           0.947840         0.946754        0.001016   \n",
              "119           0.946210           0.950285         0.948384        0.001675   \n",
              "\n",
              "     rank_test_score  \n",
              "0                  2  \n",
              "1                  2  \n",
              "2                  2  \n",
              "3                  2  \n",
              "4                  2  \n",
              "..               ...  \n",
              "115              105  \n",
              "116              103  \n",
              "117              108  \n",
              "118              119  \n",
              "119              110  \n",
              "\n",
              "[120 rows x 14 columns]"
            ],
            "text/html": [
              "\n",
              "  <div id=\"df-fce872db-bc51-4d44-ad00-288645b7d7e1\">\n",
              "    <div class=\"colab-df-container\">\n",
              "      <div>\n",
              "<style scoped>\n",
              "    .dataframe tbody tr th:only-of-type {\n",
              "        vertical-align: middle;\n",
              "    }\n",
              "\n",
              "    .dataframe tbody tr th {\n",
              "        vertical-align: top;\n",
              "    }\n",
              "\n",
              "    .dataframe thead th {\n",
              "        text-align: right;\n",
              "    }\n",
              "</style>\n",
              "<table border=\"1\" class=\"dataframe\">\n",
              "  <thead>\n",
              "    <tr style=\"text-align: right;\">\n",
              "      <th></th>\n",
              "      <th>mean_fit_time</th>\n",
              "      <th>std_fit_time</th>\n",
              "      <th>mean_score_time</th>\n",
              "      <th>std_score_time</th>\n",
              "      <th>param_clf__max_depth</th>\n",
              "      <th>param_clf__max_features</th>\n",
              "      <th>param_clf__n_estimators</th>\n",
              "      <th>params</th>\n",
              "      <th>split0_test_score</th>\n",
              "      <th>split1_test_score</th>\n",
              "      <th>split2_test_score</th>\n",
              "      <th>mean_test_score</th>\n",
              "      <th>std_test_score</th>\n",
              "      <th>rank_test_score</th>\n",
              "    </tr>\n",
              "  </thead>\n",
              "  <tbody>\n",
              "    <tr>\n",
              "      <th>0</th>\n",
              "      <td>0.222778</td>\n",
              "      <td>0.009439</td>\n",
              "      <td>0.033703</td>\n",
              "      <td>0.006502</td>\n",
              "      <td>1</td>\n",
              "      <td>0.1</td>\n",
              "      <td>100</td>\n",
              "      <td>{'clf__max_depth': 1, 'clf__max_features': 0.1...</td>\n",
              "      <td>0.957620</td>\n",
              "      <td>0.957620</td>\n",
              "      <td>0.956805</td>\n",
              "      <td>0.957349</td>\n",
              "      <td>0.000384</td>\n",
              "      <td>2</td>\n",
              "    </tr>\n",
              "    <tr>\n",
              "      <th>1</th>\n",
              "      <td>0.993587</td>\n",
              "      <td>0.014369</td>\n",
              "      <td>0.104692</td>\n",
              "      <td>0.004501</td>\n",
              "      <td>1</td>\n",
              "      <td>0.1</td>\n",
              "      <td>500</td>\n",
              "      <td>{'clf__max_depth': 1, 'clf__max_features': 0.1...</td>\n",
              "      <td>0.957620</td>\n",
              "      <td>0.957620</td>\n",
              "      <td>0.956805</td>\n",
              "      <td>0.957349</td>\n",
              "      <td>0.000384</td>\n",
              "      <td>2</td>\n",
              "    </tr>\n",
              "    <tr>\n",
              "      <th>2</th>\n",
              "      <td>2.376023</td>\n",
              "      <td>0.367946</td>\n",
              "      <td>0.276929</td>\n",
              "      <td>0.059383</td>\n",
              "      <td>1</td>\n",
              "      <td>0.1</td>\n",
              "      <td>1000</td>\n",
              "      <td>{'clf__max_depth': 1, 'clf__max_features': 0.1...</td>\n",
              "      <td>0.957620</td>\n",
              "      <td>0.957620</td>\n",
              "      <td>0.956805</td>\n",
              "      <td>0.957349</td>\n",
              "      <td>0.000384</td>\n",
              "      <td>2</td>\n",
              "    </tr>\n",
              "    <tr>\n",
              "      <th>3</th>\n",
              "      <td>0.303747</td>\n",
              "      <td>0.102455</td>\n",
              "      <td>0.037997</td>\n",
              "      <td>0.008546</td>\n",
              "      <td>1</td>\n",
              "      <td>0.2</td>\n",
              "      <td>100</td>\n",
              "      <td>{'clf__max_depth': 1, 'clf__max_features': 0.2...</td>\n",
              "      <td>0.957620</td>\n",
              "      <td>0.957620</td>\n",
              "      <td>0.956805</td>\n",
              "      <td>0.957349</td>\n",
              "      <td>0.000384</td>\n",
              "      <td>2</td>\n",
              "    </tr>\n",
              "    <tr>\n",
              "      <th>4</th>\n",
              "      <td>1.002759</td>\n",
              "      <td>0.007784</td>\n",
              "      <td>0.103838</td>\n",
              "      <td>0.000547</td>\n",
              "      <td>1</td>\n",
              "      <td>0.2</td>\n",
              "      <td>500</td>\n",
              "      <td>{'clf__max_depth': 1, 'clf__max_features': 0.2...</td>\n",
              "      <td>0.957620</td>\n",
              "      <td>0.957620</td>\n",
              "      <td>0.956805</td>\n",
              "      <td>0.957349</td>\n",
              "      <td>0.000384</td>\n",
              "      <td>2</td>\n",
              "    </tr>\n",
              "    <tr>\n",
              "      <th>...</th>\n",
              "      <td>...</td>\n",
              "      <td>...</td>\n",
              "      <td>...</td>\n",
              "      <td>...</td>\n",
              "      <td>...</td>\n",
              "      <td>...</td>\n",
              "      <td>...</td>\n",
              "      <td>...</td>\n",
              "      <td>...</td>\n",
              "      <td>...</td>\n",
              "      <td>...</td>\n",
              "      <td>...</td>\n",
              "      <td>...</td>\n",
              "      <td>...</td>\n",
              "    </tr>\n",
              "    <tr>\n",
              "      <th>115</th>\n",
              "      <td>2.900757</td>\n",
              "      <td>0.439462</td>\n",
              "      <td>0.184723</td>\n",
              "      <td>0.044044</td>\n",
              "      <td>25</td>\n",
              "      <td>0.9</td>\n",
              "      <td>500</td>\n",
              "      <td>{'clf__max_depth': 25, 'clf__max_features': 0....</td>\n",
              "      <td>0.950285</td>\n",
              "      <td>0.946210</td>\n",
              "      <td>0.950285</td>\n",
              "      <td>0.948927</td>\n",
              "      <td>0.001921</td>\n",
              "      <td>105</td>\n",
              "    </tr>\n",
              "    <tr>\n",
              "      <th>116</th>\n",
              "      <td>4.574105</td>\n",
              "      <td>0.084649</td>\n",
              "      <td>0.233970</td>\n",
              "      <td>0.006145</td>\n",
              "      <td>25</td>\n",
              "      <td>0.9</td>\n",
              "      <td>1000</td>\n",
              "      <td>{'clf__max_depth': 25, 'clf__max_features': 0....</td>\n",
              "      <td>0.950285</td>\n",
              "      <td>0.947840</td>\n",
              "      <td>0.949470</td>\n",
              "      <td>0.949199</td>\n",
              "      <td>0.001016</td>\n",
              "      <td>103</td>\n",
              "    </tr>\n",
              "    <tr>\n",
              "      <th>117</th>\n",
              "      <td>0.507476</td>\n",
              "      <td>0.017284</td>\n",
              "      <td>0.032986</td>\n",
              "      <td>0.001555</td>\n",
              "      <td>25</td>\n",
              "      <td>1.0</td>\n",
              "      <td>100</td>\n",
              "      <td>{'clf__max_depth': 25, 'clf__max_features': 1....</td>\n",
              "      <td>0.947840</td>\n",
              "      <td>0.947840</td>\n",
              "      <td>0.950285</td>\n",
              "      <td>0.948655</td>\n",
              "      <td>0.001153</td>\n",
              "      <td>108</td>\n",
              "    </tr>\n",
              "    <tr>\n",
              "      <th>118</th>\n",
              "      <td>3.092324</td>\n",
              "      <td>0.500659</td>\n",
              "      <td>0.120723</td>\n",
              "      <td>0.003202</td>\n",
              "      <td>25</td>\n",
              "      <td>1.0</td>\n",
              "      <td>500</td>\n",
              "      <td>{'clf__max_depth': 25, 'clf__max_features': 1....</td>\n",
              "      <td>0.947025</td>\n",
              "      <td>0.945395</td>\n",
              "      <td>0.947840</td>\n",
              "      <td>0.946754</td>\n",
              "      <td>0.001016</td>\n",
              "      <td>119</td>\n",
              "    </tr>\n",
              "    <tr>\n",
              "      <th>119</th>\n",
              "      <td>4.364548</td>\n",
              "      <td>0.635580</td>\n",
              "      <td>0.225922</td>\n",
              "      <td>0.050155</td>\n",
              "      <td>25</td>\n",
              "      <td>1.0</td>\n",
              "      <td>1000</td>\n",
              "      <td>{'clf__max_depth': 25, 'clf__max_features': 1....</td>\n",
              "      <td>0.948655</td>\n",
              "      <td>0.946210</td>\n",
              "      <td>0.950285</td>\n",
              "      <td>0.948384</td>\n",
              "      <td>0.001675</td>\n",
              "      <td>110</td>\n",
              "    </tr>\n",
              "  </tbody>\n",
              "</table>\n",
              "<p>120 rows × 14 columns</p>\n",
              "</div>\n",
              "      <button class=\"colab-df-convert\" onclick=\"convertToInteractive('df-fce872db-bc51-4d44-ad00-288645b7d7e1')\"\n",
              "              title=\"Convert this dataframe to an interactive table.\"\n",
              "              style=\"display:none;\">\n",
              "        \n",
              "  <svg xmlns=\"http://www.w3.org/2000/svg\" height=\"24px\"viewBox=\"0 0 24 24\"\n",
              "       width=\"24px\">\n",
              "    <path d=\"M0 0h24v24H0V0z\" fill=\"none\"/>\n",
              "    <path d=\"M18.56 5.44l.94 2.06.94-2.06 2.06-.94-2.06-.94-.94-2.06-.94 2.06-2.06.94zm-11 1L8.5 8.5l.94-2.06 2.06-.94-2.06-.94L8.5 2.5l-.94 2.06-2.06.94zm10 10l.94 2.06.94-2.06 2.06-.94-2.06-.94-.94-2.06-.94 2.06-2.06.94z\"/><path d=\"M17.41 7.96l-1.37-1.37c-.4-.4-.92-.59-1.43-.59-.52 0-1.04.2-1.43.59L10.3 9.45l-7.72 7.72c-.78.78-.78 2.05 0 2.83L4 21.41c.39.39.9.59 1.41.59.51 0 1.02-.2 1.41-.59l7.78-7.78 2.81-2.81c.8-.78.8-2.07 0-2.86zM5.41 20L4 18.59l7.72-7.72 1.47 1.35L5.41 20z\"/>\n",
              "  </svg>\n",
              "      </button>\n",
              "      \n",
              "  <style>\n",
              "    .colab-df-container {\n",
              "      display:flex;\n",
              "      flex-wrap:wrap;\n",
              "      gap: 12px;\n",
              "    }\n",
              "\n",
              "    .colab-df-convert {\n",
              "      background-color: #E8F0FE;\n",
              "      border: none;\n",
              "      border-radius: 50%;\n",
              "      cursor: pointer;\n",
              "      display: none;\n",
              "      fill: #1967D2;\n",
              "      height: 32px;\n",
              "      padding: 0 0 0 0;\n",
              "      width: 32px;\n",
              "    }\n",
              "\n",
              "    .colab-df-convert:hover {\n",
              "      background-color: #E2EBFA;\n",
              "      box-shadow: 0px 1px 2px rgba(60, 64, 67, 0.3), 0px 1px 3px 1px rgba(60, 64, 67, 0.15);\n",
              "      fill: #174EA6;\n",
              "    }\n",
              "\n",
              "    [theme=dark] .colab-df-convert {\n",
              "      background-color: #3B4455;\n",
              "      fill: #D2E3FC;\n",
              "    }\n",
              "\n",
              "    [theme=dark] .colab-df-convert:hover {\n",
              "      background-color: #434B5C;\n",
              "      box-shadow: 0px 1px 3px 1px rgba(0, 0, 0, 0.15);\n",
              "      filter: drop-shadow(0px 1px 2px rgba(0, 0, 0, 0.3));\n",
              "      fill: #FFFFFF;\n",
              "    }\n",
              "  </style>\n",
              "\n",
              "      <script>\n",
              "        const buttonEl =\n",
              "          document.querySelector('#df-fce872db-bc51-4d44-ad00-288645b7d7e1 button.colab-df-convert');\n",
              "        buttonEl.style.display =\n",
              "          google.colab.kernel.accessAllowed ? 'block' : 'none';\n",
              "\n",
              "        async function convertToInteractive(key) {\n",
              "          const element = document.querySelector('#df-fce872db-bc51-4d44-ad00-288645b7d7e1');\n",
              "          const dataTable =\n",
              "            await google.colab.kernel.invokeFunction('convertToInteractive',\n",
              "                                                     [key], {});\n",
              "          if (!dataTable) return;\n",
              "\n",
              "          const docLinkHtml = 'Like what you see? Visit the ' +\n",
              "            '<a target=\"_blank\" href=https://colab.research.google.com/notebooks/data_table.ipynb>data table notebook</a>'\n",
              "            + ' to learn more about interactive tables.';\n",
              "          element.innerHTML = '';\n",
              "          dataTable['output_type'] = 'display_data';\n",
              "          await google.colab.output.renderOutput(dataTable, element);\n",
              "          const docLink = document.createElement('div');\n",
              "          docLink.innerHTML = docLinkHtml;\n",
              "          element.appendChild(docLink);\n",
              "        }\n",
              "      </script>\n",
              "    </div>\n",
              "  </div>\n",
              "  "
            ]
          },
          "metadata": {},
          "execution_count": 150
        }
      ]
    },
    {
      "cell_type": "code",
      "source": [
        "grid_search_forest.classes_"
      ],
      "metadata": {
        "colab": {
          "base_uri": "https://localhost:8080/"
        },
        "id": "pP_ifB6jw8-R",
        "outputId": "a2ab5eb3-a229-4470-9452-1bd8afed07d5"
      },
      "execution_count": 151,
      "outputs": [
        {
          "output_type": "execute_result",
          "data": {
            "text/plain": [
              "array([0, 1])"
            ]
          },
          "metadata": {},
          "execution_count": 151
        }
      ]
    },
    {
      "cell_type": "code",
      "source": [
        "grid_search_forest.best_estimator_.named_steps['preproc'].transformers_"
      ],
      "metadata": {
        "colab": {
          "base_uri": "https://localhost:8080/"
        },
        "id": "qEZMMuR3xMam",
        "outputId": "96bdd13b-c754-4b53-ee85-d88a1785db92"
      },
      "execution_count": 152,
      "outputs": [
        {
          "output_type": "execute_result",
          "data": {
            "text/plain": [
              "[('cat_pipe',\n",
              "  Pipeline(steps=[('cat_impute', SimpleImputer(strategy='most_frequent')),\n",
              "                  ('onehot_cat', OneHotEncoder())]),\n",
              "  ['gender',\n",
              "   'hypertension',\n",
              "   'heart_disease',\n",
              "   'ever_married',\n",
              "   'work_type',\n",
              "   'Residence_type',\n",
              "   'smoking_status',\n",
              "   'bmi_cat',\n",
              "   'avg_glucose_level_cat']),\n",
              " ('num_pipe',\n",
              "  Pipeline(steps=[('impute_num', SimpleImputer()),\n",
              "                  ('scale_num', StandardScaler())]),\n",
              "  ['age'])]"
            ]
          },
          "metadata": {},
          "execution_count": 152
        }
      ]
    },
    {
      "cell_type": "code",
      "source": [
        "## Get the weights of our features used in the best model (estimator)\n",
        "#coefs_forest = grid_search.best_estimator_['clf'].coef_[0]\n",
        "#coefs_forest"
      ],
      "metadata": {
        "id": "W891f2wGweai"
      },
      "execution_count": 154,
      "outputs": []
    },
    {
      "cell_type": "code",
      "source": [
        "cm = confusion_matrix(y_test, grid_search_forest.best_estimator_.predict(X_test))\n",
        "disp = ConfusionMatrixDisplay(confusion_matrix=cm,\n",
        "                               display_labels=grid_search.classes_)\n",
        "\n",
        "disp.plot()\n",
        "\n",
        "plt.show()"
      ],
      "metadata": {
        "colab": {
          "base_uri": "https://localhost:8080/",
          "height": 449
        },
        "id": "9sAx7LHFwTPb",
        "outputId": "45de2afa-46e2-44de-8e9f-c519fbd795db"
      },
      "execution_count": 155,
      "outputs": [
        {
          "output_type": "display_data",
          "data": {
            "text/plain": [
              "<Figure size 640x480 with 2 Axes>"
            ],
            "image/png": "[encoded data removed]"
          },
          "metadata": {}
        }
      ]
    },
    {
      "cell_type": "markdown",
      "source": [
        "# Model Fit & Evaluation\n",
        "  \n",
        "*  I think age, hypertension, and heart disease will be the features the are most important.  BMI may have some factor, I'm curious to see. \n",
        "*  My hope is to have a model score of 80% or higher. \n",
        "*  Because the last step of my pipeline was to make it a model pipeline, I can use fit methods.  I plan to check it with\n",
        "fit(X[,y]).  This will iterate through and provide the appropriate methods for fitting.  \n",
        "*  I'll define a tuning grid.  It will create equally spaced parameters to explore.  A cross validation grid search will be setup.  \n",
        "*  I will only use my train data when fitting the model.\n",
        "*  I will only use my train data when exploring and tuning the hyperparameters.\n",
        "\n"
      ],
      "metadata": {
        "id": "uREcjYMBpZcN"
      }
    },
    {
      "cell_type": "markdown",
      "source": [
        "# References\n",
        "\n",
        "\n",
        "1.   https://www.cdc.gov/stroke/index.htm\n",
        "1.   https://www.who.int/news-room/fact-sheets/detail/the-top-10-causes-of-death\n",
        "1.   https://www.cdc.gov/stroke/facts.htm\n",
        "1.   https://www.cdc.gov/vitalsigns/stroke/\n",
        "1.   Strilciuc S, Grad DA, Radu C, Chira D, Stan A, Ungureanu M, Gheorghe A, Muresanu FD. The economic burden of stroke: a systematic review of cost of illness studies. J Med Life. 2021 Sep-Oct;14(5):606-619. doi: 10.25122/jml-2021-0361. PMID: 35027963; PMCID: PMC8742896.\n",
        "1.   https://www.cdc.gov/stroke/prevention.htm\n",
        "\n",
        "\n"
      ],
      "metadata": {
        "id": "Vjz5O4kLfgzF"
      }
    }
  ]
}