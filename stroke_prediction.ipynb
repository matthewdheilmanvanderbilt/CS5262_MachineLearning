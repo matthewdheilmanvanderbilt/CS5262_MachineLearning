{
  "nbformat": 4,
  "nbformat_minor": 0,
  "metadata": {
    "colab": {
      "provenance": [],
      "authorship_tag": "ABX9TyM9KLfTshyE4sifSc9AhU5j",
      "include_colab_link": true
    },
    "kernelspec": {
      "name": "python3",
      "display_name": "Python 3"
    },
    "language_info": {
      "name": "python"
    }
  },
  "cells": [
    {
      "cell_type": "markdown",
      "metadata": {
        "id": "view-in-github",
        "colab_type": "text"
      },
      "source": [
        "<a href=\"https://colab.research.google.com/github/matthewdheilmanvanderbilt/CS5262_MachineLearning/blob/establish-an-initial-pipeline-with-learning/stroke_prediction.ipynb\" target=\"_parent\"><img src=\"https://colab.research.google.com/assets/colab-badge.svg\" alt=\"Open In Colab\"/></a>"
      ]
    },
    {
      "cell_type": "markdown",
      "source": [
        "# Background\n",
        "This project will be used to fulfill the first set of assignments for the Vanderbilt CS5265-50 (Foundations of Machine Learning) class.  The project consists of delivering a machine learning application.  The building of the project will be done over the course of seven (7) weeks. \n",
        "\n",
        "The purpose of the project is to:\n",
        "1.   Setup the environment for the machine learning assignment\n",
        "1.   Learn how to setup and use Google Colab\n",
        "1.   Apply literate coding techniques in solving an analytical problem\n",
        "1.   Learn to use pandas to solve a data exploration problem\n",
        "\n",
        "The author of this project is Matt Heilman.  The professor is Dana Zheng.  The professor has asked the author to select a dataset will meet the following guidelines:\n",
        "*   Tabular/structured/2D (i.e., rows and columns)\n",
        "*   $\\geq$ 5000 samples/records/rows, but no more than 50k rows\n",
        "*   $\\geq$ 7 features/variables/columns, but no more than 25 columns\n",
        "*   Independence between data points (rows in your data)\n",
        "*   Identify a dataset that you can use for a binary classification task directly or after transformation\n",
        "*   Diverse data types for your columns:\n",
        "*   Continuous variables (e.g., measurements such as weight, temperature, etc.)\n",
        "*   Count variables (e.g., age, number of people in a classroom, etc.)\n",
        "*   Categorical variables (e.g., gender, type of Operating Systems, degrees of severity, etc.)\n",
        "\n",
        "## Introduction\n",
        "Stoke is the leading cause of death in the United States (1).  It is the second largest cause of death worldwide (2).  Strokes are a major cause of serious disability for adults (1).  Every year, more than 795,000 people have strokes int he US (3).  Stokes related costs in the US were nearly \\\\$56.6 billion between 2018 and 2019 (3).   The US has the highest average cost per patient for stroke treatment of \\\\$59,900 (5).\n",
        "\n",
        "The CDC estimates 80% of stokes are preventable (4).  High blood pressure is the single most important treatable factor (4).  Other factors include life-style changes and medicine (6). \n",
        "\n",
        "## Literature Review\n",
        "\n",
        "\n",
        "1.   The CDC website was consulted for high level statistics on strokes.\n",
        "2.   Publicly available journal articles from NIH were also used. \n",
        "\n",
        "All references/citations are listed in the References section (below).\n",
        "\n",
        "\n",
        "## Research Gap\n",
        "There are no gaps in the research of strokes, their causes, their prevention, and their costs.  There is a significant amount of peer reviewed journal articles available.   \n",
        "\n",
        "## Challenges\n",
        "The author of this project has no machine learning education or experience.  This project, and the author's knowledge of machine learning, will evolve over the next few weeks.  At this point, the author is too ignorant to know what research gaps exist and this section will be updated before the final deliverable.\n",
        "\n",
        "# Project Description\n",
        "\n",
        "## Project Topic (Problem Formulation)\n",
        "This project will attempt to predict if a person has a risk of a stroke.  Strokes are preventable and the monetary cost to prevent a stroke pail in comparison to the treatment cost after a person suffers a stroke.  If all strokes could be eliminated in the US, there is a potential savings of $56 billion per year.\n",
        "\n",
        "## Methodology\n",
        "\n",
        "The following methodology will use used:\n",
        "1.   Problem Definition - Define the problem to be solved.\n",
        "1.   Data Exploration - Exploratory Data Analysis and an investigation of what data is available and when it's available.\n",
        "1.   Feature Engineering - Take raw data and make alterations (combining, finding interactions, recasting it, etc.)\n",
        "1.   Modeling - Create the actual model.\n",
        "1.   Assessment - Determine if the model is worth the investment/cost.\n",
        "\n",
        "\n",
        "The following data science process will be used:\n",
        "1.   Collection\n",
        "1.   Cleaning\n",
        "1.   Exploratory Data Analysis\n",
        "1.   Model Building\n",
        "1.   Deployment\n",
        "\n",
        "I have not seen the future assignments and I'm not sure if we will be working all the way through #5 Deployment. \n",
        "\n",
        "\n",
        "## Anticipated Outcome(s)\n",
        "The author anticipates the model will reflect the research that as done by the CDC, specifically that high blood pressure will be the leading indicator of stroke risk.  \n",
        "\n",
        "The author anticipates he will be able to develop a model that allows him to determine which risks have higher weightings for stoke risk.\n",
        "\n",
        "## Questions to Answer in EDA\n",
        "Question 1 - Can I use EDA to predict the features that will have the highest weight/score when the machine learning finds the best model?\n",
        "\n",
        "Question 2 - How clean is the BMI?  BMI is notorious for being inaccurate because it relies on people to measure height and weight.  Issue arise when people use different units (i.e. cm and lbs.) and with people who can't measure well (wheelchairs, walkers, etc.).\n",
        "\n",
        "Question 3 - How much garbage data is out there (i.e. missing columns, bad data, etc.)?  \n",
        "\n",
        "Question 4 - Are there enough stroke victims to make a prediction?  The future lectures (or the professor) talked about balanced data.  This question may actually be: Do I have balanced data and if it, do I need to do something with it?  \n",
        "\n",
        "Question 5 - What Panda methods (graphs/plots/functions) represent that data the best?\n",
        "\n",
        "# Performance Metrics\n",
        "I've attempted to read ahead (Week 4) to determine if I could determine performance metrics that I could use.  The lectures were a little too advanced for me (area under the curve, model scores, F0, RMSC, confusion matrix, regression metrics, etc.).\n",
        "\n",
        "I found a page from neptune.ai that talked about metrics.  At this point it looks like I will be calculating True Positives, True Negatives, False Positives, and False Negatives. I. can use this information to form a confusion matrix, the precision, recall, and F1-score.  \n",
        "\n",
        "There appears to be some way of calculating the value of the model.  Professor Spencer-Smith lectured that value is the best metric to use (not F0, AUC, RMSC).  For this exercise a positive ROI would be a good goal for this initial assignment.  \n",
        "\n",
        "The value can be looked at from various stakeholders:\n",
        "\n",
        "\n",
        "*   Payers: Payers and insurance companies will want to significantly reduce the number of strokes.  If they can identify members (patients) with stroke risks, they can educate and incentivize the member to reduce their stroke.\n",
        "*   People (patients/members): Strokes can be fatal or debilitating.  People find value in staying healthy.  \n",
        "*   Providers: Providers make money from strokes.  They may be less likely to find value in preventing strokes as it will affect their revenue in a negative way.\n",
        "\n"
      ],
      "metadata": {
        "id": "ok06CYUp4d4o"
      }
    },
    {
      "cell_type": "markdown",
      "source": [
        "# Load Libraries\n",
        "Load the standard libraries for loading data and performing the exploratory data analysis"
      ],
      "metadata": {
        "id": "pefszpB3bCqA"
      }
    },
    {
      "cell_type": "code",
      "source": [
        "#tables and visualization\n",
        "import pandas as pd\n",
        "import numpy as np\n",
        "import seaborn as sns\n",
        "import matplotlib.pyplot as plt\n",
        "\n",
        "#machine learning lbs\n",
        "from sklearn.svm import SVC\n",
        "from sklearn import preprocessing\n",
        "from sklearn.preprocessing import StandardScaler, OneHotEncoder, LabelBinarizer\n",
        "from sklearn.compose import ColumnTransformer, make_column_selector\n",
        "from sklearn.impute import SimpleImputer\n",
        "from sklearn.datasets import make_classification\n",
        "from sklearn.model_selection import train_test_split, GridSearchCV\n",
        "from sklearn.pipeline import Pipeline\n",
        "from sklearn.linear_model import LogisticRegression\n",
        "from sklearn import config_context\n",
        "from sklearn.metrics import classification_report, confusion_matrix, ConfusionMatrixDisplay"
      ],
      "metadata": {
        "id": "eNNhOth8almG"
      },
      "execution_count": 133,
      "outputs": []
    },
    {
      "cell_type": "markdown",
      "source": [
        "# Load Data\n",
        "Load the data using pandas and read it as a pandas dataframe"
      ],
      "metadata": {
        "id": "Le5uVLK-bafu"
      }
    },
    {
      "cell_type": "code",
      "source": [
        "responses = pd.read_csv('https://raw.githubusercontent.com/matthewdheilmanvanderbilt/CS5262_MachineLearning/main/healthcare-dataset-stroke-data.csv')\n",
        "display(responses.head()) # prints the heading of the dataframe and 5 rows\n",
        "responses.info() # summary of the dataframe"
      ],
      "metadata": {
        "colab": {
          "base_uri": "https://localhost:8080/",
          "height": 536
        },
        "id": "P3sI2awpbp4z",
        "outputId": "add89516-95a9-442c-ec89-f9a4f8b7dabf"
      },
      "execution_count": 134,
      "outputs": [
        {
          "output_type": "display_data",
          "data": {
            "text/plain": [
              "      id  gender   age  hypertension  heart_disease ever_married  \\\n",
              "0   9046    Male  67.0             0              1          Yes   \n",
              "1  51676  Female  61.0             0              0          Yes   \n",
              "2  31112    Male  80.0             0              1          Yes   \n",
              "3  60182  Female  49.0             0              0          Yes   \n",
              "4   1665  Female  79.0             1              0          Yes   \n",
              "\n",
              "       work_type Residence_type  avg_glucose_level   bmi   smoking_status  \\\n",
              "0        Private          Urban             228.69  36.6  formerly smoked   \n",
              "1  Self-employed          Rural             202.21   NaN     never smoked   \n",
              "2        Private          Rural             105.92  32.5     never smoked   \n",
              "3        Private          Urban             171.23  34.4           smokes   \n",
              "4  Self-employed          Rural             174.12  24.0     never smoked   \n",
              "\n",
              "   stroke  \n",
              "0       1  \n",
              "1       1  \n",
              "2       1  \n",
              "3       1  \n",
              "4       1  "
            ],
            "text/html": [
              "\n",
              "  <div id=\"df-58d80183-5977-4055-a7c7-61a57d174e4b\">\n",
              "    <div class=\"colab-df-container\">\n",
              "      <div>\n",
              "<style scoped>\n",
              "    .dataframe tbody tr th:only-of-type {\n",
              "        vertical-align: middle;\n",
              "    }\n",
              "\n",
              "    .dataframe tbody tr th {\n",
              "        vertical-align: top;\n",
              "    }\n",
              "\n",
              "    .dataframe thead th {\n",
              "        text-align: right;\n",
              "    }\n",
              "</style>\n",
              "<table border=\"1\" class=\"dataframe\">\n",
              "  <thead>\n",
              "    <tr style=\"text-align: right;\">\n",
              "      <th></th>\n",
              "      <th>id</th>\n",
              "      <th>gender</th>\n",
              "      <th>age</th>\n",
              "      <th>hypertension</th>\n",
              "      <th>heart_disease</th>\n",
              "      <th>ever_married</th>\n",
              "      <th>work_type</th>\n",
              "      <th>Residence_type</th>\n",
              "      <th>avg_glucose_level</th>\n",
              "      <th>bmi</th>\n",
              "      <th>smoking_status</th>\n",
              "      <th>stroke</th>\n",
              "    </tr>\n",
              "  </thead>\n",
              "  <tbody>\n",
              "    <tr>\n",
              "      <th>0</th>\n",
              "      <td>9046</td>\n",
              "      <td>Male</td>\n",
              "      <td>67.0</td>\n",
              "      <td>0</td>\n",
              "      <td>1</td>\n",
              "      <td>Yes</td>\n",
              "      <td>Private</td>\n",
              "      <td>Urban</td>\n",
              "      <td>228.69</td>\n",
              "      <td>36.6</td>\n",
              "      <td>formerly smoked</td>\n",
              "      <td>1</td>\n",
              "    </tr>\n",
              "    <tr>\n",
              "      <th>1</th>\n",
              "      <td>51676</td>\n",
              "      <td>Female</td>\n",
              "      <td>61.0</td>\n",
              "      <td>0</td>\n",
              "      <td>0</td>\n",
              "      <td>Yes</td>\n",
              "      <td>Self-employed</td>\n",
              "      <td>Rural</td>\n",
              "      <td>202.21</td>\n",
              "      <td>NaN</td>\n",
              "      <td>never smoked</td>\n",
              "      <td>1</td>\n",
              "    </tr>\n",
              "    <tr>\n",
              "      <th>2</th>\n",
              "      <td>31112</td>\n",
              "      <td>Male</td>\n",
              "      <td>80.0</td>\n",
              "      <td>0</td>\n",
              "      <td>1</td>\n",
              "      <td>Yes</td>\n",
              "      <td>Private</td>\n",
              "      <td>Rural</td>\n",
              "      <td>105.92</td>\n",
              "      <td>32.5</td>\n",
              "      <td>never smoked</td>\n",
              "      <td>1</td>\n",
              "    </tr>\n",
              "    <tr>\n",
              "      <th>3</th>\n",
              "      <td>60182</td>\n",
              "      <td>Female</td>\n",
              "      <td>49.0</td>\n",
              "      <td>0</td>\n",
              "      <td>0</td>\n",
              "      <td>Yes</td>\n",
              "      <td>Private</td>\n",
              "      <td>Urban</td>\n",
              "      <td>171.23</td>\n",
              "      <td>34.4</td>\n",
              "      <td>smokes</td>\n",
              "      <td>1</td>\n",
              "    </tr>\n",
              "    <tr>\n",
              "      <th>4</th>\n",
              "      <td>1665</td>\n",
              "      <td>Female</td>\n",
              "      <td>79.0</td>\n",
              "      <td>1</td>\n",
              "      <td>0</td>\n",
              "      <td>Yes</td>\n",
              "      <td>Self-employed</td>\n",
              "      <td>Rural</td>\n",
              "      <td>174.12</td>\n",
              "      <td>24.0</td>\n",
              "      <td>never smoked</td>\n",
              "      <td>1</td>\n",
              "    </tr>\n",
              "  </tbody>\n",
              "</table>\n",
              "</div>\n",
              "      <button class=\"colab-df-convert\" onclick=\"convertToInteractive('df-58d80183-5977-4055-a7c7-61a57d174e4b')\"\n",
              "              title=\"Convert this dataframe to an interactive table.\"\n",
              "              style=\"display:none;\">\n",
              "        \n",
              "  <svg xmlns=\"http://www.w3.org/2000/svg\" height=\"24px\"viewBox=\"0 0 24 24\"\n",
              "       width=\"24px\">\n",
              "    <path d=\"M0 0h24v24H0V0z\" fill=\"none\"/>\n",
              "    <path d=\"M18.56 5.44l.94 2.06.94-2.06 2.06-.94-2.06-.94-.94-2.06-.94 2.06-2.06.94zm-11 1L8.5 8.5l.94-2.06 2.06-.94-2.06-.94L8.5 2.5l-.94 2.06-2.06.94zm10 10l.94 2.06.94-2.06 2.06-.94-2.06-.94-.94-2.06-.94 2.06-2.06.94z\"/><path d=\"M17.41 7.96l-1.37-1.37c-.4-.4-.92-.59-1.43-.59-.52 0-1.04.2-1.43.59L10.3 9.45l-7.72 7.72c-.78.78-.78 2.05 0 2.83L4 21.41c.39.39.9.59 1.41.59.51 0 1.02-.2 1.41-.59l7.78-7.78 2.81-2.81c.8-.78.8-2.07 0-2.86zM5.41 20L4 18.59l7.72-7.72 1.47 1.35L5.41 20z\"/>\n",
              "  </svg>\n",
              "      </button>\n",
              "      \n",
              "  <style>\n",
              "    .colab-df-container {\n",
              "      display:flex;\n",
              "      flex-wrap:wrap;\n",
              "      gap: 12px;\n",
              "    }\n",
              "\n",
              "    .colab-df-convert {\n",
              "      background-color: #E8F0FE;\n",
              "      border: none;\n",
              "      border-radius: 50%;\n",
              "      cursor: pointer;\n",
              "      display: none;\n",
              "      fill: #1967D2;\n",
              "      height: 32px;\n",
              "      padding: 0 0 0 0;\n",
              "      width: 32px;\n",
              "    }\n",
              "\n",
              "    .colab-df-convert:hover {\n",
              "      background-color: #E2EBFA;\n",
              "      box-shadow: 0px 1px 2px rgba(60, 64, 67, 0.3), 0px 1px 3px 1px rgba(60, 64, 67, 0.15);\n",
              "      fill: #174EA6;\n",
              "    }\n",
              "\n",
              "    [theme=dark] .colab-df-convert {\n",
              "      background-color: #3B4455;\n",
              "      fill: #D2E3FC;\n",
              "    }\n",
              "\n",
              "    [theme=dark] .colab-df-convert:hover {\n",
              "      background-color: #434B5C;\n",
              "      box-shadow: 0px 1px 3px 1px rgba(0, 0, 0, 0.15);\n",
              "      filter: drop-shadow(0px 1px 2px rgba(0, 0, 0, 0.3));\n",
              "      fill: #FFFFFF;\n",
              "    }\n",
              "  </style>\n",
              "\n",
              "      <script>\n",
              "        const buttonEl =\n",
              "          document.querySelector('#df-58d80183-5977-4055-a7c7-61a57d174e4b button.colab-df-convert');\n",
              "        buttonEl.style.display =\n",
              "          google.colab.kernel.accessAllowed ? 'block' : 'none';\n",
              "\n",
              "        async function convertToInteractive(key) {\n",
              "          const element = document.querySelector('#df-58d80183-5977-4055-a7c7-61a57d174e4b');\n",
              "          const dataTable =\n",
              "            await google.colab.kernel.invokeFunction('convertToInteractive',\n",
              "                                                     [key], {});\n",
              "          if (!dataTable) return;\n",
              "\n",
              "          const docLinkHtml = 'Like what you see? Visit the ' +\n",
              "            '<a target=\"_blank\" href=https://colab.research.google.com/notebooks/data_table.ipynb>data table notebook</a>'\n",
              "            + ' to learn more about interactive tables.';\n",
              "          element.innerHTML = '';\n",
              "          dataTable['output_type'] = 'display_data';\n",
              "          await google.colab.output.renderOutput(dataTable, element);\n",
              "          const docLink = document.createElement('div');\n",
              "          docLink.innerHTML = docLinkHtml;\n",
              "          element.appendChild(docLink);\n",
              "        }\n",
              "      </script>\n",
              "    </div>\n",
              "  </div>\n",
              "  "
            ]
          },
          "metadata": {}
        },
        {
          "output_type": "stream",
          "name": "stdout",
          "text": [
            "<class 'pandas.core.frame.DataFrame'>\n",
            "RangeIndex: 5110 entries, 0 to 5109\n",
            "Data columns (total 12 columns):\n",
            " #   Column             Non-Null Count  Dtype  \n",
            "---  ------             --------------  -----  \n",
            " 0   id                 5110 non-null   int64  \n",
            " 1   gender             5110 non-null   object \n",
            " 2   age                5110 non-null   float64\n",
            " 3   hypertension       5110 non-null   int64  \n",
            " 4   heart_disease      5110 non-null   int64  \n",
            " 5   ever_married       5110 non-null   object \n",
            " 6   work_type          5110 non-null   object \n",
            " 7   Residence_type     5110 non-null   object \n",
            " 8   avg_glucose_level  5110 non-null   float64\n",
            " 9   bmi                4909 non-null   float64\n",
            " 10  smoking_status     5110 non-null   object \n",
            " 11  stroke             5110 non-null   int64  \n",
            "dtypes: float64(3), int64(4), object(5)\n",
            "memory usage: 479.2+ KB\n"
          ]
        }
      ]
    },
    {
      "cell_type": "markdown",
      "source": [
        "# Exploratory Data Analysis\n",
        "Performing some simple exploratory data analysis."
      ],
      "metadata": {
        "id": "0JUoq7fHdaan"
      }
    },
    {
      "cell_type": "markdown",
      "source": [
        "### Look for missing values"
      ],
      "metadata": {
        "id": "vGBgdtxD6BqH"
      }
    },
    {
      "cell_type": "code",
      "source": [
        "responses.isna().sum()  # Check how many missing values are in each column\n",
        "\n"
      ],
      "metadata": {
        "colab": {
          "base_uri": "https://localhost:8080/"
        },
        "id": "6L4ZuS3uddWG",
        "outputId": "3d31b145-7885-45a3-ee9b-3d7437487b3d"
      },
      "execution_count": 135,
      "outputs": [
        {
          "output_type": "execute_result",
          "data": {
            "text/plain": [
              "id                     0\n",
              "gender                 0\n",
              "age                    0\n",
              "hypertension           0\n",
              "heart_disease          0\n",
              "ever_married           0\n",
              "work_type              0\n",
              "Residence_type         0\n",
              "avg_glucose_level      0\n",
              "bmi                  201\n",
              "smoking_status         0\n",
              "stroke                 0\n",
              "dtype: int64"
            ]
          },
          "metadata": {},
          "execution_count": 135
        }
      ]
    },
    {
      "cell_type": "markdown",
      "source": [
        "### Examine Stroke\n"
      ],
      "metadata": {
        "id": "a_MQlGWU6OhT"
      }
    },
    {
      "cell_type": "code",
      "source": [
        "display(responses['stroke'].value_counts())\n",
        "display(responses['stroke'].value_counts()[1] / responses['stroke'].value_counts()[0])"
      ],
      "metadata": {
        "id": "ynDD8wHKcvC9",
        "outputId": "a6ba4087-6bec-459f-fc8b-4ef490cefa65",
        "colab": {
          "base_uri": "https://localhost:8080/",
          "height": 86
        }
      },
      "execution_count": 136,
      "outputs": [
        {
          "output_type": "display_data",
          "data": {
            "text/plain": [
              "0    4861\n",
              "1     249\n",
              "Name: stroke, dtype: int64"
            ]
          },
          "metadata": {}
        },
        {
          "output_type": "display_data",
          "data": {
            "text/plain": [
              "0.051224027977782347"
            ]
          },
          "metadata": {}
        }
      ]
    },
    {
      "cell_type": "markdown",
      "source": [
        "Only 5% of patients have had a stroke.  This data is not well balanced.  "
      ],
      "metadata": {
        "id": "w_hjNNhVNf4k"
      }
    },
    {
      "cell_type": "markdown",
      "source": [
        "### Examine Gender"
      ],
      "metadata": {
        "id": "8HI5YL_pcqY0"
      }
    },
    {
      "cell_type": "code",
      "source": [
        "responses.gender.unique()\n",
        "\n",
        "# Creating a pie chart to visualize proportions of the genders in this data\n",
        "display(responses['gender'].value_counts())\n",
        "\n",
        "#plt.pie(gender_counts, labels=gender_counts.index, shadow = True)\n",
        "sns.countplot(data=responses, hue='stroke', x='gender', orient='h')\n"
      ],
      "metadata": {
        "colab": {
          "base_uri": "https://localhost:8080/",
          "height": 536
        },
        "id": "HeluZzWPeM5e",
        "outputId": "68e5a4fb-fbab-4794-8ffe-f5b494cd8037"
      },
      "execution_count": 137,
      "outputs": [
        {
          "output_type": "display_data",
          "data": {
            "text/plain": [
              "Female    2994\n",
              "Male      2115\n",
              "Other        1\n",
              "Name: gender, dtype: int64"
            ]
          },
          "metadata": {}
        },
        {
          "output_type": "execute_result",
          "data": {
            "text/plain": [
              "<Axes: xlabel='gender', ylabel='count'>"
            ]
          },
          "metadata": {},
          "execution_count": 137
        },
        {
          "output_type": "display_data",
          "data": {
            "text/plain": [
              "<Figure size 640x480 with 1 Axes>"
            ],
            "image/png": "[encoded data removed]"
          },
          "metadata": {}
        }
      ]
    },
    {
      "cell_type": "code",
      "source": [
        "male_strokes =  (len(responses[(responses['gender'] == 'Male') & (responses['stroke'] == 1) ]))\n",
        "all_males = (len(responses[(responses['gender'] == 'Male')]))\n",
        "female_strokes =  (len(responses[(responses['gender'] == 'Female') & (responses['stroke'] == 1) ]))\n",
        "all_females =  (len(responses[(responses['gender'] == 'Female')]))\n",
        "\n",
        "display (male_strokes/all_males)\n",
        "display (female_strokes/all_females)"
      ],
      "metadata": {
        "colab": {
          "base_uri": "https://localhost:8080/",
          "height": 52
        },
        "id": "nxmsP1KUY8DY",
        "outputId": "bb2ea817-7211-4204-e0f7-931acd01a31d"
      },
      "execution_count": 138,
      "outputs": [
        {
          "output_type": "display_data",
          "data": {
            "text/plain": [
              "0.05106382978723404"
            ]
          },
          "metadata": {}
        },
        {
          "output_type": "display_data",
          "data": {
            "text/plain": [
              "0.047094188376753505"
            ]
          },
          "metadata": {}
        }
      ]
    },
    {
      "cell_type": "markdown",
      "source": [
        "The percentage of men and women who have strokes are 5%."
      ],
      "metadata": {
        "id": "kGNYtkeGN6A1"
      }
    },
    {
      "cell_type": "markdown",
      "source": [
        "### Examine Age"
      ],
      "metadata": {
        "id": "Guuk3jrJ6X_Y"
      }
    },
    {
      "cell_type": "code",
      "source": [
        "age = responses.age.unique()\n",
        "print(sorted(age))"
      ],
      "metadata": {
        "colab": {
          "base_uri": "https://localhost:8080/"
        },
        "id": "VEOr9nU7eLzK",
        "outputId": "c0572e91-2e61-4b13-fcdf-75b441258c69"
      },
      "execution_count": 139,
      "outputs": [
        {
          "output_type": "stream",
          "name": "stdout",
          "text": [
            "[0.08, 0.16, 0.24, 0.32, 0.4, 0.48, 0.56, 0.64, 0.72, 0.8, 0.88, 1.0, 1.08, 1.16, 1.24, 1.32, 1.4, 1.48, 1.56, 1.64, 1.72, 1.8, 1.88, 2.0, 3.0, 4.0, 5.0, 6.0, 7.0, 8.0, 9.0, 10.0, 11.0, 12.0, 13.0, 14.0, 15.0, 16.0, 17.0, 18.0, 19.0, 20.0, 21.0, 22.0, 23.0, 24.0, 25.0, 26.0, 27.0, 28.0, 29.0, 30.0, 31.0, 32.0, 33.0, 34.0, 35.0, 36.0, 37.0, 38.0, 39.0, 40.0, 41.0, 42.0, 43.0, 44.0, 45.0, 46.0, 47.0, 48.0, 49.0, 50.0, 51.0, 52.0, 53.0, 54.0, 55.0, 56.0, 57.0, 58.0, 59.0, 60.0, 61.0, 62.0, 63.0, 64.0, 65.0, 66.0, 67.0, 68.0, 69.0, 70.0, 71.0, 72.0, 73.0, 74.0, 75.0, 76.0, 77.0, 78.0, 79.0, 80.0, 81.0, 82.0]\n"
          ]
        }
      ]
    },
    {
      "cell_type": "markdown",
      "source": [
        "Ages below 2 years have fractional/decimal values."
      ],
      "metadata": {
        "id": "7FUjjtMWOGvq"
      }
    },
    {
      "cell_type": "code",
      "source": [
        "#age_counts = responses['age'].value_counts()\n",
        "#display(age_counts)\n",
        "\n",
        "age_counts = responses[(responses['age'] < 1) | ( (responses['age'] > 1) & (responses['age'] < 2))]\n",
        "non_int_age_count = age_counts['age'].value_counts()\n",
        "display(non_int_age_count)\n",
        "non_int_age_count.sum()\n"
      ],
      "metadata": {
        "id": "ovP0Jxcs6_yG",
        "outputId": "8b8d9879-5ee9-4f73-c100-71683bc8506f",
        "colab": {
          "base_uri": "https://localhost:8080/",
          "height": 434
        }
      },
      "execution_count": 140,
      "outputs": [
        {
          "output_type": "display_data",
          "data": {
            "text/plain": [
              "1.80    9\n",
              "1.32    8\n",
              "1.24    8\n",
              "1.08    8\n",
              "1.64    8\n",
              "1.88    8\n",
              "1.48    6\n",
              "1.72    6\n",
              "0.88    5\n",
              "0.32    5\n",
              "0.56    5\n",
              "0.24    5\n",
              "0.72    5\n",
              "0.80    4\n",
              "1.56    4\n",
              "0.64    4\n",
              "1.16    4\n",
              "1.40    3\n",
              "0.48    3\n",
              "0.16    3\n",
              "0.40    2\n",
              "0.08    2\n",
              "Name: age, dtype: int64"
            ]
          },
          "metadata": {}
        },
        {
          "output_type": "execute_result",
          "data": {
            "text/plain": [
              "115"
            ]
          },
          "metadata": {},
          "execution_count": 140
        }
      ]
    },
    {
      "cell_type": "markdown",
      "source": [
        "There are 115 values that have decimal values.  I propose to round them.  I will verify with the professor."
      ],
      "metadata": {
        "id": "4b-pQAuGONux"
      }
    },
    {
      "cell_type": "code",
      "source": [
        "responses.hist(column=['age'])"
      ],
      "metadata": {
        "id": "qJ74i7SO8Bbc",
        "outputId": "937cc9c6-3d6d-4302-c0f9-896c10605acf",
        "colab": {
          "base_uri": "https://localhost:8080/",
          "height": 469
        }
      },
      "execution_count": 141,
      "outputs": [
        {
          "output_type": "execute_result",
          "data": {
            "text/plain": [
              "array([[<Axes: title={'center': 'age'}>]], dtype=object)"
            ]
          },
          "metadata": {},
          "execution_count": 141
        },
        {
          "output_type": "display_data",
          "data": {
            "text/plain": [
              "<Figure size 640x480 with 1 Axes>"
            ],
            "image/png": "[encoded data removed]"
          },
          "metadata": {}
        }
      ]
    },
    {
      "cell_type": "markdown",
      "source": [
        "There is pretty even distribution of ages in this data."
      ],
      "metadata": {
        "id": "GTpt7ksTOZjJ"
      }
    },
    {
      "cell_type": "code",
      "source": [
        "sns.stripplot(data=responses, x=\"stroke\", y=\"age\") #Do we see more stroke after a certain age?"
      ],
      "metadata": {
        "id": "8nCygCG5UC_o",
        "outputId": "f4e0e964-1770-46d9-ba2b-6ccaa529b65d",
        "colab": {
          "base_uri": "https://localhost:8080/",
          "height": 466
        }
      },
      "execution_count": 142,
      "outputs": [
        {
          "output_type": "execute_result",
          "data": {
            "text/plain": [
              "<Axes: xlabel='stroke', ylabel='age'>"
            ]
          },
          "metadata": {},
          "execution_count": 142
        },
        {
          "output_type": "display_data",
          "data": {
            "text/plain": [
              "<Figure size 640x480 with 1 Axes>"
            ],
            "image/png": "[encoded data removed]"
          },
          "metadata": {}
        }
      ]
    },
    {
      "cell_type": "code",
      "source": [
        "sns.boxplot(y='age', x='stroke', data=responses)"
      ],
      "metadata": {
        "colab": {
          "base_uri": "https://localhost:8080/",
          "height": 466
        },
        "id": "FTwv_Y3AEHbm",
        "outputId": "2b437117-b3c9-491f-f501-c61713ed622a"
      },
      "execution_count": 143,
      "outputs": [
        {
          "output_type": "execute_result",
          "data": {
            "text/plain": [
              "<Axes: xlabel='stroke', ylabel='age'>"
            ]
          },
          "metadata": {},
          "execution_count": 143
        },
        {
          "output_type": "display_data",
          "data": {
            "text/plain": [
              "<Figure size 640x480 with 1 Axes>"
            ],
            "image/png": "[encoded data removed]"
          },
          "metadata": {}
        }
      ]
    },
    {
      "cell_type": "markdown",
      "source": [
        "Older people appear to have a higher incidence of stroke.  The risk appears to start at 40 and become larger after 60.  There are 3 outliers (below 40).  I propose to drop these, but will verify with the professor."
      ],
      "metadata": {
        "id": "Td5D8wdOOecy"
      }
    },
    {
      "cell_type": "markdown",
      "source": [
        "### Examine Hypertension\n",
        "\n",
        "\n",
        "\n"
      ],
      "metadata": {
        "id": "dtAnRByIf9X3"
      }
    },
    {
      "cell_type": "code",
      "source": [
        "responses['hypertension'].value_counts()"
      ],
      "metadata": {
        "colab": {
          "base_uri": "https://localhost:8080/"
        },
        "id": "5C1QghzCgewr",
        "outputId": "ecba8945-185d-4796-c991-079e85be9320"
      },
      "execution_count": 144,
      "outputs": [
        {
          "output_type": "execute_result",
          "data": {
            "text/plain": [
              "0    4612\n",
              "1     498\n",
              "Name: hypertension, dtype: int64"
            ]
          },
          "metadata": {},
          "execution_count": 144
        }
      ]
    },
    {
      "cell_type": "code",
      "source": [
        "sns.countplot(data=responses, x='hypertension', hue='stroke')"
      ],
      "metadata": {
        "colab": {
          "base_uri": "https://localhost:8080/",
          "height": 466
        },
        "id": "sNOzF5sugrSb",
        "outputId": "b2ad95ae-3ace-49f9-f83c-df27b5aacccd"
      },
      "execution_count": 145,
      "outputs": [
        {
          "output_type": "execute_result",
          "data": {
            "text/plain": [
              "<Axes: xlabel='hypertension', ylabel='count'>"
            ]
          },
          "metadata": {},
          "execution_count": 145
        },
        {
          "output_type": "display_data",
          "data": {
            "text/plain": [
              "<Figure size 640x480 with 1 Axes>"
            ],
            "image/png": "[encoded data removed]"
          },
          "metadata": {}
        }
      ]
    },
    {
      "cell_type": "code",
      "source": [
        "strokes_by_hypertension_stroke = responses.groupby(['hypertension', 'stroke']).agg({'stroke': 'count'})\n",
        "strokes_by_hypertension = responses.groupby(['hypertension']).agg({'stroke': 'count'})\n",
        "display(strokes_by_hypertension_stroke)\n",
        "display (strokes_by_hypertension_stroke.div(strokes_by_hypertension, level='hypertension')*100)"
      ],
      "metadata": {
        "colab": {
          "base_uri": "https://localhost:8080/",
          "height": 395
        },
        "id": "Yc7q1jPcgy1B",
        "outputId": "3396ba4c-eb55-4d98-992e-273059d72265"
      },
      "execution_count": 146,
      "outputs": [
        {
          "output_type": "display_data",
          "data": {
            "text/plain": [
              "                     stroke\n",
              "hypertension stroke        \n",
              "0            0         4429\n",
              "             1          183\n",
              "1            0          432\n",
              "             1           66"
            ],
            "text/html": [
              "\n",
              "  <div id=\"df-58f83875-8b8d-46ba-b5c7-b7cbb527e0af\">\n",
              "    <div class=\"colab-df-container\">\n",
              "      <div>\n",
              "<style scoped>\n",
              "    .dataframe tbody tr th:only-of-type {\n",
              "        vertical-align: middle;\n",
              "    }\n",
              "\n",
              "    .dataframe tbody tr th {\n",
              "        vertical-align: top;\n",
              "    }\n",
              "\n",
              "    .dataframe thead th {\n",
              "        text-align: right;\n",
              "    }\n",
              "</style>\n",
              "<table border=\"1\" class=\"dataframe\">\n",
              "  <thead>\n",
              "    <tr style=\"text-align: right;\">\n",
              "      <th></th>\n",
              "      <th></th>\n",
              "      <th>stroke</th>\n",
              "    </tr>\n",
              "    <tr>\n",
              "      <th>hypertension</th>\n",
              "      <th>stroke</th>\n",
              "      <th></th>\n",
              "    </tr>\n",
              "  </thead>\n",
              "  <tbody>\n",
              "    <tr>\n",
              "      <th rowspan=\"2\" valign=\"top\">0</th>\n",
              "      <th>0</th>\n",
              "      <td>4429</td>\n",
              "    </tr>\n",
              "    <tr>\n",
              "      <th>1</th>\n",
              "      <td>183</td>\n",
              "    </tr>\n",
              "    <tr>\n",
              "      <th rowspan=\"2\" valign=\"top\">1</th>\n",
              "      <th>0</th>\n",
              "      <td>432</td>\n",
              "    </tr>\n",
              "    <tr>\n",
              "      <th>1</th>\n",
              "      <td>66</td>\n",
              "    </tr>\n",
              "  </tbody>\n",
              "</table>\n",
              "</div>\n",
              "      <button class=\"colab-df-convert\" onclick=\"convertToInteractive('df-58f83875-8b8d-46ba-b5c7-b7cbb527e0af')\"\n",
              "              title=\"Convert this dataframe to an interactive table.\"\n",
              "              style=\"display:none;\">\n",
              "        \n",
              "  <svg xmlns=\"http://www.w3.org/2000/svg\" height=\"24px\"viewBox=\"0 0 24 24\"\n",
              "       width=\"24px\">\n",
              "    <path d=\"M0 0h24v24H0V0z\" fill=\"none\"/>\n",
              "    <path d=\"M18.56 5.44l.94 2.06.94-2.06 2.06-.94-2.06-.94-.94-2.06-.94 2.06-2.06.94zm-11 1L8.5 8.5l.94-2.06 2.06-.94-2.06-.94L8.5 2.5l-.94 2.06-2.06.94zm10 10l.94 2.06.94-2.06 2.06-.94-2.06-.94-.94-2.06-.94 2.06-2.06.94z\"/><path d=\"M17.41 7.96l-1.37-1.37c-.4-.4-.92-.59-1.43-.59-.52 0-1.04.2-1.43.59L10.3 9.45l-7.72 7.72c-.78.78-.78 2.05 0 2.83L4 21.41c.39.39.9.59 1.41.59.51 0 1.02-.2 1.41-.59l7.78-7.78 2.81-2.81c.8-.78.8-2.07 0-2.86zM5.41 20L4 18.59l7.72-7.72 1.47 1.35L5.41 20z\"/>\n",
              "  </svg>\n",
              "      </button>\n",
              "      \n",
              "  <style>\n",
              "    .colab-df-container {\n",
              "      display:flex;\n",
              "      flex-wrap:wrap;\n",
              "      gap: 12px;\n",
              "    }\n",
              "\n",
              "    .colab-df-convert {\n",
              "      background-color: #E8F0FE;\n",
              "      border: none;\n",
              "      border-radius: 50%;\n",
              "      cursor: pointer;\n",
              "      display: none;\n",
              "      fill: #1967D2;\n",
              "      height: 32px;\n",
              "      padding: 0 0 0 0;\n",
              "      width: 32px;\n",
              "    }\n",
              "\n",
              "    .colab-df-convert:hover {\n",
              "      background-color: #E2EBFA;\n",
              "      box-shadow: 0px 1px 2px rgba(60, 64, 67, 0.3), 0px 1px 3px 1px rgba(60, 64, 67, 0.15);\n",
              "      fill: #174EA6;\n",
              "    }\n",
              "\n",
              "    [theme=dark] .colab-df-convert {\n",
              "      background-color: #3B4455;\n",
              "      fill: #D2E3FC;\n",
              "    }\n",
              "\n",
              "    [theme=dark] .colab-df-convert:hover {\n",
              "      background-color: #434B5C;\n",
              "      box-shadow: 0px 1px 3px 1px rgba(0, 0, 0, 0.15);\n",
              "      filter: drop-shadow(0px 1px 2px rgba(0, 0, 0, 0.3));\n",
              "      fill: #FFFFFF;\n",
              "    }\n",
              "  </style>\n",
              "\n",
              "      <script>\n",
              "        const buttonEl =\n",
              "          document.querySelector('#df-58f83875-8b8d-46ba-b5c7-b7cbb527e0af button.colab-df-convert');\n",
              "        buttonEl.style.display =\n",
              "          google.colab.kernel.accessAllowed ? 'block' : 'none';\n",
              "\n",
              "        async function convertToInteractive(key) {\n",
              "          const element = document.querySelector('#df-58f83875-8b8d-46ba-b5c7-b7cbb527e0af');\n",
              "          const dataTable =\n",
              "            await google.colab.kernel.invokeFunction('convertToInteractive',\n",
              "                                                     [key], {});\n",
              "          if (!dataTable) return;\n",
              "\n",
              "          const docLinkHtml = 'Like what you see? Visit the ' +\n",
              "            '<a target=\"_blank\" href=https://colab.research.google.com/notebooks/data_table.ipynb>data table notebook</a>'\n",
              "            + ' to learn more about interactive tables.';\n",
              "          element.innerHTML = '';\n",
              "          dataTable['output_type'] = 'display_data';\n",
              "          await google.colab.output.renderOutput(dataTable, element);\n",
              "          const docLink = document.createElement('div');\n",
              "          docLink.innerHTML = docLinkHtml;\n",
              "          element.appendChild(docLink);\n",
              "        }\n",
              "      </script>\n",
              "    </div>\n",
              "  </div>\n",
              "  "
            ]
          },
          "metadata": {}
        },
        {
          "output_type": "display_data",
          "data": {
            "text/plain": [
              "                        stroke\n",
              "hypertension stroke           \n",
              "0            0       96.032090\n",
              "             1        3.967910\n",
              "1            0       86.746988\n",
              "             1       13.253012"
            ],
            "text/html": [
              "\n",
              "  <div id=\"df-e4dfaea6-9928-4076-8702-35bd7b7a307d\">\n",
              "    <div class=\"colab-df-container\">\n",
              "      <div>\n",
              "<style scoped>\n",
              "    .dataframe tbody tr th:only-of-type {\n",
              "        vertical-align: middle;\n",
              "    }\n",
              "\n",
              "    .dataframe tbody tr th {\n",
              "        vertical-align: top;\n",
              "    }\n",
              "\n",
              "    .dataframe thead th {\n",
              "        text-align: right;\n",
              "    }\n",
              "</style>\n",
              "<table border=\"1\" class=\"dataframe\">\n",
              "  <thead>\n",
              "    <tr style=\"text-align: right;\">\n",
              "      <th></th>\n",
              "      <th></th>\n",
              "      <th>stroke</th>\n",
              "    </tr>\n",
              "    <tr>\n",
              "      <th>hypertension</th>\n",
              "      <th>stroke</th>\n",
              "      <th></th>\n",
              "    </tr>\n",
              "  </thead>\n",
              "  <tbody>\n",
              "    <tr>\n",
              "      <th rowspan=\"2\" valign=\"top\">0</th>\n",
              "      <th>0</th>\n",
              "      <td>96.032090</td>\n",
              "    </tr>\n",
              "    <tr>\n",
              "      <th>1</th>\n",
              "      <td>3.967910</td>\n",
              "    </tr>\n",
              "    <tr>\n",
              "      <th rowspan=\"2\" valign=\"top\">1</th>\n",
              "      <th>0</th>\n",
              "      <td>86.746988</td>\n",
              "    </tr>\n",
              "    <tr>\n",
              "      <th>1</th>\n",
              "      <td>13.253012</td>\n",
              "    </tr>\n",
              "  </tbody>\n",
              "</table>\n",
              "</div>\n",
              "      <button class=\"colab-df-convert\" onclick=\"convertToInteractive('df-e4dfaea6-9928-4076-8702-35bd7b7a307d')\"\n",
              "              title=\"Convert this dataframe to an interactive table.\"\n",
              "              style=\"display:none;\">\n",
              "        \n",
              "  <svg xmlns=\"http://www.w3.org/2000/svg\" height=\"24px\"viewBox=\"0 0 24 24\"\n",
              "       width=\"24px\">\n",
              "    <path d=\"M0 0h24v24H0V0z\" fill=\"none\"/>\n",
              "    <path d=\"M18.56 5.44l.94 2.06.94-2.06 2.06-.94-2.06-.94-.94-2.06-.94 2.06-2.06.94zm-11 1L8.5 8.5l.94-2.06 2.06-.94-2.06-.94L8.5 2.5l-.94 2.06-2.06.94zm10 10l.94 2.06.94-2.06 2.06-.94-2.06-.94-.94-2.06-.94 2.06-2.06.94z\"/><path d=\"M17.41 7.96l-1.37-1.37c-.4-.4-.92-.59-1.43-.59-.52 0-1.04.2-1.43.59L10.3 9.45l-7.72 7.72c-.78.78-.78 2.05 0 2.83L4 21.41c.39.39.9.59 1.41.59.51 0 1.02-.2 1.41-.59l7.78-7.78 2.81-2.81c.8-.78.8-2.07 0-2.86zM5.41 20L4 18.59l7.72-7.72 1.47 1.35L5.41 20z\"/>\n",
              "  </svg>\n",
              "      </button>\n",
              "      \n",
              "  <style>\n",
              "    .colab-df-container {\n",
              "      display:flex;\n",
              "      flex-wrap:wrap;\n",
              "      gap: 12px;\n",
              "    }\n",
              "\n",
              "    .colab-df-convert {\n",
              "      background-color: #E8F0FE;\n",
              "      border: none;\n",
              "      border-radius: 50%;\n",
              "      cursor: pointer;\n",
              "      display: none;\n",
              "      fill: #1967D2;\n",
              "      height: 32px;\n",
              "      padding: 0 0 0 0;\n",
              "      width: 32px;\n",
              "    }\n",
              "\n",
              "    .colab-df-convert:hover {\n",
              "      background-color: #E2EBFA;\n",
              "      box-shadow: 0px 1px 2px rgba(60, 64, 67, 0.3), 0px 1px 3px 1px rgba(60, 64, 67, 0.15);\n",
              "      fill: #174EA6;\n",
              "    }\n",
              "\n",
              "    [theme=dark] .colab-df-convert {\n",
              "      background-color: #3B4455;\n",
              "      fill: #D2E3FC;\n",
              "    }\n",
              "\n",
              "    [theme=dark] .colab-df-convert:hover {\n",
              "      background-color: #434B5C;\n",
              "      box-shadow: 0px 1px 3px 1px rgba(0, 0, 0, 0.15);\n",
              "      filter: drop-shadow(0px 1px 2px rgba(0, 0, 0, 0.3));\n",
              "      fill: #FFFFFF;\n",
              "    }\n",
              "  </style>\n",
              "\n",
              "      <script>\n",
              "        const buttonEl =\n",
              "          document.querySelector('#df-e4dfaea6-9928-4076-8702-35bd7b7a307d button.colab-df-convert');\n",
              "        buttonEl.style.display =\n",
              "          google.colab.kernel.accessAllowed ? 'block' : 'none';\n",
              "\n",
              "        async function convertToInteractive(key) {\n",
              "          const element = document.querySelector('#df-e4dfaea6-9928-4076-8702-35bd7b7a307d');\n",
              "          const dataTable =\n",
              "            await google.colab.kernel.invokeFunction('convertToInteractive',\n",
              "                                                     [key], {});\n",
              "          if (!dataTable) return;\n",
              "\n",
              "          const docLinkHtml = 'Like what you see? Visit the ' +\n",
              "            '<a target=\"_blank\" href=https://colab.research.google.com/notebooks/data_table.ipynb>data table notebook</a>'\n",
              "            + ' to learn more about interactive tables.';\n",
              "          element.innerHTML = '';\n",
              "          dataTable['output_type'] = 'display_data';\n",
              "          await google.colab.output.renderOutput(dataTable, element);\n",
              "          const docLink = document.createElement('div');\n",
              "          docLink.innerHTML = docLinkHtml;\n",
              "          element.appendChild(docLink);\n",
              "        }\n",
              "      </script>\n",
              "    </div>\n",
              "  </div>\n",
              "  "
            ]
          },
          "metadata": {}
        }
      ]
    },
    {
      "cell_type": "code",
      "source": [
        "sns.FacetGrid(responses, col = \"stroke\").map(plt.scatter, \"hypertension\", \"age\", alpha =0.6).add_legend()"
      ],
      "metadata": {
        "colab": {
          "base_uri": "https://localhost:8080/",
          "height": 324
        },
        "id": "1Rf0XNO2m_oI",
        "outputId": "a288867f-cc21-4fbb-a0cd-f77ebe294575"
      },
      "execution_count": 147,
      "outputs": [
        {
          "output_type": "execute_result",
          "data": {
            "text/plain": [
              "<seaborn.axisgrid.FacetGrid at 0x7fef646f5450>"
            ]
          },
          "metadata": {},
          "execution_count": 147
        },
        {
          "output_type": "display_data",
          "data": {
            "text/plain": [
              "<Figure size 611.111x300 with 2 Axes>"
            ],
            "image/png": "[encoded data removed]"
          },
          "metadata": {}
        }
      ]
    },
    {
      "cell_type": "code",
      "source": [],
      "metadata": {
        "id": "JJcZY3meliNS"
      },
      "execution_count": 147,
      "outputs": []
    },
    {
      "cell_type": "code",
      "source": [
        "sns.violinplot(x=\"hypertension\", y=\"age\",   data=responses)"
      ],
      "metadata": {
        "colab": {
          "base_uri": "https://localhost:8080/",
          "height": 466
        },
        "id": "GOVH10fOlue7",
        "outputId": "253eebb3-5aa4-4ce5-beaa-ff2c38a5d2c8"
      },
      "execution_count": 148,
      "outputs": [
        {
          "output_type": "execute_result",
          "data": {
            "text/plain": [
              "<Axes: xlabel='hypertension', ylabel='age'>"
            ]
          },
          "metadata": {},
          "execution_count": 148
        },
        {
          "output_type": "display_data",
          "data": {
            "text/plain": [
              "<Figure size 640x480 with 1 Axes>"
            ],
            "image/png": "[encoded data removed]"
          },
          "metadata": {}
        }
      ]
    },
    {
      "cell_type": "markdown",
      "source": [
        "### Examine Heart Disease"
      ],
      "metadata": {
        "id": "g_Xj8g7Df-CJ"
      }
    },
    {
      "cell_type": "code",
      "source": [
        "responses['heart_disease'].value_counts()"
      ],
      "metadata": {
        "colab": {
          "base_uri": "https://localhost:8080/"
        },
        "id": "eBOrs4DAlTeM",
        "outputId": "f6bdb307-b8dd-4ee7-fbc7-a57e01b71561"
      },
      "execution_count": 149,
      "outputs": [
        {
          "output_type": "execute_result",
          "data": {
            "text/plain": [
              "0    4834\n",
              "1     276\n",
              "Name: heart_disease, dtype: int64"
            ]
          },
          "metadata": {},
          "execution_count": 149
        }
      ]
    },
    {
      "cell_type": "code",
      "source": [
        "sns.countplot(data=responses, x='heart_disease', hue='stroke')"
      ],
      "metadata": {
        "colab": {
          "base_uri": "https://localhost:8080/",
          "height": 467
        },
        "id": "Ksk97dMZlYb6",
        "outputId": "7c66873c-887d-40c9-ccb9-bbd8b2d67133"
      },
      "execution_count": 150,
      "outputs": [
        {
          "output_type": "execute_result",
          "data": {
            "text/plain": [
              "<Axes: xlabel='heart_disease', ylabel='count'>"
            ]
          },
          "metadata": {},
          "execution_count": 150
        },
        {
          "output_type": "display_data",
          "data": {
            "text/plain": [
              "<Figure size 640x480 with 1 Axes>"
            ],
            "image/png": "[encoded data removed]"
          },
          "metadata": {}
        }
      ]
    },
    {
      "cell_type": "code",
      "source": [
        "strokes_by_heart_disease_stroke = responses.groupby(['heart_disease', 'stroke']).agg({'stroke': 'count'})\n",
        "strokes_by_heart_disease = responses.groupby(['heart_disease']).agg({'stroke': 'count'})\n",
        "display(strokes_by_heart_disease_stroke)\n",
        "display (strokes_by_heart_disease_stroke.div(strokes_by_heart_disease, level='heart_disease')*100)"
      ],
      "metadata": {
        "colab": {
          "base_uri": "https://localhost:8080/",
          "height": 395
        },
        "id": "v0SIXyvBnMtv",
        "outputId": "f6316308-7995-4947-89c8-a327e3281309"
      },
      "execution_count": 151,
      "outputs": [
        {
          "output_type": "display_data",
          "data": {
            "text/plain": [
              "                      stroke\n",
              "heart_disease stroke        \n",
              "0             0         4632\n",
              "              1          202\n",
              "1             0          229\n",
              "              1           47"
            ],
            "text/html": [
              "\n",
              "  <div id=\"df-8e96dd86-e6de-4d25-9f52-195708d8586d\">\n",
              "    <div class=\"colab-df-container\">\n",
              "      <div>\n",
              "<style scoped>\n",
              "    .dataframe tbody tr th:only-of-type {\n",
              "        vertical-align: middle;\n",
              "    }\n",
              "\n",
              "    .dataframe tbody tr th {\n",
              "        vertical-align: top;\n",
              "    }\n",
              "\n",
              "    .dataframe thead th {\n",
              "        text-align: right;\n",
              "    }\n",
              "</style>\n",
              "<table border=\"1\" class=\"dataframe\">\n",
              "  <thead>\n",
              "    <tr style=\"text-align: right;\">\n",
              "      <th></th>\n",
              "      <th></th>\n",
              "      <th>stroke</th>\n",
              "    </tr>\n",
              "    <tr>\n",
              "      <th>heart_disease</th>\n",
              "      <th>stroke</th>\n",
              "      <th></th>\n",
              "    </tr>\n",
              "  </thead>\n",
              "  <tbody>\n",
              "    <tr>\n",
              "      <th rowspan=\"2\" valign=\"top\">0</th>\n",
              "      <th>0</th>\n",
              "      <td>4632</td>\n",
              "    </tr>\n",
              "    <tr>\n",
              "      <th>1</th>\n",
              "      <td>202</td>\n",
              "    </tr>\n",
              "    <tr>\n",
              "      <th rowspan=\"2\" valign=\"top\">1</th>\n",
              "      <th>0</th>\n",
              "      <td>229</td>\n",
              "    </tr>\n",
              "    <tr>\n",
              "      <th>1</th>\n",
              "      <td>47</td>\n",
              "    </tr>\n",
              "  </tbody>\n",
              "</table>\n",
              "</div>\n",
              "      <button class=\"colab-df-convert\" onclick=\"convertToInteractive('df-8e96dd86-e6de-4d25-9f52-195708d8586d')\"\n",
              "              title=\"Convert this dataframe to an interactive table.\"\n",
              "              style=\"display:none;\">\n",
              "        \n",
              "  <svg xmlns=\"http://www.w3.org/2000/svg\" height=\"24px\"viewBox=\"0 0 24 24\"\n",
              "       width=\"24px\">\n",
              "    <path d=\"M0 0h24v24H0V0z\" fill=\"none\"/>\n",
              "    <path d=\"M18.56 5.44l.94 2.06.94-2.06 2.06-.94-2.06-.94-.94-2.06-.94 2.06-2.06.94zm-11 1L8.5 8.5l.94-2.06 2.06-.94-2.06-.94L8.5 2.5l-.94 2.06-2.06.94zm10 10l.94 2.06.94-2.06 2.06-.94-2.06-.94-.94-2.06-.94 2.06-2.06.94z\"/><path d=\"M17.41 7.96l-1.37-1.37c-.4-.4-.92-.59-1.43-.59-.52 0-1.04.2-1.43.59L10.3 9.45l-7.72 7.72c-.78.78-.78 2.05 0 2.83L4 21.41c.39.39.9.59 1.41.59.51 0 1.02-.2 1.41-.59l7.78-7.78 2.81-2.81c.8-.78.8-2.07 0-2.86zM5.41 20L4 18.59l7.72-7.72 1.47 1.35L5.41 20z\"/>\n",
              "  </svg>\n",
              "      </button>\n",
              "      \n",
              "  <style>\n",
              "    .colab-df-container {\n",
              "      display:flex;\n",
              "      flex-wrap:wrap;\n",
              "      gap: 12px;\n",
              "    }\n",
              "\n",
              "    .colab-df-convert {\n",
              "      background-color: #E8F0FE;\n",
              "      border: none;\n",
              "      border-radius: 50%;\n",
              "      cursor: pointer;\n",
              "      display: none;\n",
              "      fill: #1967D2;\n",
              "      height: 32px;\n",
              "      padding: 0 0 0 0;\n",
              "      width: 32px;\n",
              "    }\n",
              "\n",
              "    .colab-df-convert:hover {\n",
              "      background-color: #E2EBFA;\n",
              "      box-shadow: 0px 1px 2px rgba(60, 64, 67, 0.3), 0px 1px 3px 1px rgba(60, 64, 67, 0.15);\n",
              "      fill: #174EA6;\n",
              "    }\n",
              "\n",
              "    [theme=dark] .colab-df-convert {\n",
              "      background-color: #3B4455;\n",
              "      fill: #D2E3FC;\n",
              "    }\n",
              "\n",
              "    [theme=dark] .colab-df-convert:hover {\n",
              "      background-color: #434B5C;\n",
              "      box-shadow: 0px 1px 3px 1px rgba(0, 0, 0, 0.15);\n",
              "      filter: drop-shadow(0px 1px 2px rgba(0, 0, 0, 0.3));\n",
              "      fill: #FFFFFF;\n",
              "    }\n",
              "  </style>\n",
              "\n",
              "      <script>\n",
              "        const buttonEl =\n",
              "          document.querySelector('#df-8e96dd86-e6de-4d25-9f52-195708d8586d button.colab-df-convert');\n",
              "        buttonEl.style.display =\n",
              "          google.colab.kernel.accessAllowed ? 'block' : 'none';\n",
              "\n",
              "        async function convertToInteractive(key) {\n",
              "          const element = document.querySelector('#df-8e96dd86-e6de-4d25-9f52-195708d8586d');\n",
              "          const dataTable =\n",
              "            await google.colab.kernel.invokeFunction('convertToInteractive',\n",
              "                                                     [key], {});\n",
              "          if (!dataTable) return;\n",
              "\n",
              "          const docLinkHtml = 'Like what you see? Visit the ' +\n",
              "            '<a target=\"_blank\" href=https://colab.research.google.com/notebooks/data_table.ipynb>data table notebook</a>'\n",
              "            + ' to learn more about interactive tables.';\n",
              "          element.innerHTML = '';\n",
              "          dataTable['output_type'] = 'display_data';\n",
              "          await google.colab.output.renderOutput(dataTable, element);\n",
              "          const docLink = document.createElement('div');\n",
              "          docLink.innerHTML = docLinkHtml;\n",
              "          element.appendChild(docLink);\n",
              "        }\n",
              "      </script>\n",
              "    </div>\n",
              "  </div>\n",
              "  "
            ]
          },
          "metadata": {}
        },
        {
          "output_type": "display_data",
          "data": {
            "text/plain": [
              "                         stroke\n",
              "heart_disease stroke           \n",
              "0             0       95.821266\n",
              "              1        4.178734\n",
              "1             0       82.971014\n",
              "              1       17.028986"
            ],
            "text/html": [
              "\n",
              "  <div id=\"df-5353f0a0-7f7e-4bb0-9429-16fa4c494f88\">\n",
              "    <div class=\"colab-df-container\">\n",
              "      <div>\n",
              "<style scoped>\n",
              "    .dataframe tbody tr th:only-of-type {\n",
              "        vertical-align: middle;\n",
              "    }\n",
              "\n",
              "    .dataframe tbody tr th {\n",
              "        vertical-align: top;\n",
              "    }\n",
              "\n",
              "    .dataframe thead th {\n",
              "        text-align: right;\n",
              "    }\n",
              "</style>\n",
              "<table border=\"1\" class=\"dataframe\">\n",
              "  <thead>\n",
              "    <tr style=\"text-align: right;\">\n",
              "      <th></th>\n",
              "      <th></th>\n",
              "      <th>stroke</th>\n",
              "    </tr>\n",
              "    <tr>\n",
              "      <th>heart_disease</th>\n",
              "      <th>stroke</th>\n",
              "      <th></th>\n",
              "    </tr>\n",
              "  </thead>\n",
              "  <tbody>\n",
              "    <tr>\n",
              "      <th rowspan=\"2\" valign=\"top\">0</th>\n",
              "      <th>0</th>\n",
              "      <td>95.821266</td>\n",
              "    </tr>\n",
              "    <tr>\n",
              "      <th>1</th>\n",
              "      <td>4.178734</td>\n",
              "    </tr>\n",
              "    <tr>\n",
              "      <th rowspan=\"2\" valign=\"top\">1</th>\n",
              "      <th>0</th>\n",
              "      <td>82.971014</td>\n",
              "    </tr>\n",
              "    <tr>\n",
              "      <th>1</th>\n",
              "      <td>17.028986</td>\n",
              "    </tr>\n",
              "  </tbody>\n",
              "</table>\n",
              "</div>\n",
              "      <button class=\"colab-df-convert\" onclick=\"convertToInteractive('df-5353f0a0-7f7e-4bb0-9429-16fa4c494f88')\"\n",
              "              title=\"Convert this dataframe to an interactive table.\"\n",
              "              style=\"display:none;\">\n",
              "        \n",
              "  <svg xmlns=\"http://www.w3.org/2000/svg\" height=\"24px\"viewBox=\"0 0 24 24\"\n",
              "       width=\"24px\">\n",
              "    <path d=\"M0 0h24v24H0V0z\" fill=\"none\"/>\n",
              "    <path d=\"M18.56 5.44l.94 2.06.94-2.06 2.06-.94-2.06-.94-.94-2.06-.94 2.06-2.06.94zm-11 1L8.5 8.5l.94-2.06 2.06-.94-2.06-.94L8.5 2.5l-.94 2.06-2.06.94zm10 10l.94 2.06.94-2.06 2.06-.94-2.06-.94-.94-2.06-.94 2.06-2.06.94z\"/><path d=\"M17.41 7.96l-1.37-1.37c-.4-.4-.92-.59-1.43-.59-.52 0-1.04.2-1.43.59L10.3 9.45l-7.72 7.72c-.78.78-.78 2.05 0 2.83L4 21.41c.39.39.9.59 1.41.59.51 0 1.02-.2 1.41-.59l7.78-7.78 2.81-2.81c.8-.78.8-2.07 0-2.86zM5.41 20L4 18.59l7.72-7.72 1.47 1.35L5.41 20z\"/>\n",
              "  </svg>\n",
              "      </button>\n",
              "      \n",
              "  <style>\n",
              "    .colab-df-container {\n",
              "      display:flex;\n",
              "      flex-wrap:wrap;\n",
              "      gap: 12px;\n",
              "    }\n",
              "\n",
              "    .colab-df-convert {\n",
              "      background-color: #E8F0FE;\n",
              "      border: none;\n",
              "      border-radius: 50%;\n",
              "      cursor: pointer;\n",
              "      display: none;\n",
              "      fill: #1967D2;\n",
              "      height: 32px;\n",
              "      padding: 0 0 0 0;\n",
              "      width: 32px;\n",
              "    }\n",
              "\n",
              "    .colab-df-convert:hover {\n",
              "      background-color: #E2EBFA;\n",
              "      box-shadow: 0px 1px 2px rgba(60, 64, 67, 0.3), 0px 1px 3px 1px rgba(60, 64, 67, 0.15);\n",
              "      fill: #174EA6;\n",
              "    }\n",
              "\n",
              "    [theme=dark] .colab-df-convert {\n",
              "      background-color: #3B4455;\n",
              "      fill: #D2E3FC;\n",
              "    }\n",
              "\n",
              "    [theme=dark] .colab-df-convert:hover {\n",
              "      background-color: #434B5C;\n",
              "      box-shadow: 0px 1px 3px 1px rgba(0, 0, 0, 0.15);\n",
              "      filter: drop-shadow(0px 1px 2px rgba(0, 0, 0, 0.3));\n",
              "      fill: #FFFFFF;\n",
              "    }\n",
              "  </style>\n",
              "\n",
              "      <script>\n",
              "        const buttonEl =\n",
              "          document.querySelector('#df-5353f0a0-7f7e-4bb0-9429-16fa4c494f88 button.colab-df-convert');\n",
              "        buttonEl.style.display =\n",
              "          google.colab.kernel.accessAllowed ? 'block' : 'none';\n",
              "\n",
              "        async function convertToInteractive(key) {\n",
              "          const element = document.querySelector('#df-5353f0a0-7f7e-4bb0-9429-16fa4c494f88');\n",
              "          const dataTable =\n",
              "            await google.colab.kernel.invokeFunction('convertToInteractive',\n",
              "                                                     [key], {});\n",
              "          if (!dataTable) return;\n",
              "\n",
              "          const docLinkHtml = 'Like what you see? Visit the ' +\n",
              "            '<a target=\"_blank\" href=https://colab.research.google.com/notebooks/data_table.ipynb>data table notebook</a>'\n",
              "            + ' to learn more about interactive tables.';\n",
              "          element.innerHTML = '';\n",
              "          dataTable['output_type'] = 'display_data';\n",
              "          await google.colab.output.renderOutput(dataTable, element);\n",
              "          const docLink = document.createElement('div');\n",
              "          docLink.innerHTML = docLinkHtml;\n",
              "          element.appendChild(docLink);\n",
              "        }\n",
              "      </script>\n",
              "    </div>\n",
              "  </div>\n",
              "  "
            ]
          },
          "metadata": {}
        }
      ]
    },
    {
      "cell_type": "code",
      "source": [
        "sns.violinplot(x=\"heart_disease\", y=\"age\",   data=responses)"
      ],
      "metadata": {
        "colab": {
          "base_uri": "https://localhost:8080/",
          "height": 467
        },
        "id": "KfXg16C_nVb7",
        "outputId": "dd92d7dd-88b0-4f4a-d3ec-ca07b519b5b7"
      },
      "execution_count": 152,
      "outputs": [
        {
          "output_type": "execute_result",
          "data": {
            "text/plain": [
              "<Axes: xlabel='heart_disease', ylabel='age'>"
            ]
          },
          "metadata": {},
          "execution_count": 152
        },
        {
          "output_type": "display_data",
          "data": {
            "text/plain": [
              "<Figure size 640x480 with 1 Axes>"
            ],
            "image/png": "[encoded data removed]"
          },
          "metadata": {}
        }
      ]
    },
    {
      "cell_type": "code",
      "source": [
        "sns.FacetGrid(responses, col = \"stroke\").map(plt.scatter, \"heart_disease\", \"age\", alpha =0.6).add_legend()"
      ],
      "metadata": {
        "colab": {
          "base_uri": "https://localhost:8080/",
          "height": 324
        },
        "id": "-J_mO-ZFna24",
        "outputId": "ac133170-f418-4f4f-e5b1-4bf1ea63154b"
      },
      "execution_count": 153,
      "outputs": [
        {
          "output_type": "execute_result",
          "data": {
            "text/plain": [
              "<seaborn.axisgrid.FacetGrid at 0x7fef6493eef0>"
            ]
          },
          "metadata": {},
          "execution_count": 153
        },
        {
          "output_type": "display_data",
          "data": {
            "text/plain": [
              "<Figure size 611.111x300 with 2 Axes>"
            ],
            "image/png": "[encoded data removed]"
          },
          "metadata": {}
        }
      ]
    },
    {
      "cell_type": "markdown",
      "source": [
        "### Examine Work Type"
      ],
      "metadata": {
        "id": "l3E8V_8Wf5m2"
      }
    },
    {
      "cell_type": "code",
      "source": [
        "responses['work_type'].value_counts()"
      ],
      "metadata": {
        "id": "lH8WacY4Se7v",
        "outputId": "a3dd20d6-e87a-4d6a-9b2d-30732667843d",
        "colab": {
          "base_uri": "https://localhost:8080/"
        }
      },
      "execution_count": 154,
      "outputs": [
        {
          "output_type": "execute_result",
          "data": {
            "text/plain": [
              "Private          2925\n",
              "Self-employed     819\n",
              "children          687\n",
              "Govt_job          657\n",
              "Never_worked       22\n",
              "Name: work_type, dtype: int64"
            ]
          },
          "metadata": {},
          "execution_count": 154
        }
      ]
    },
    {
      "cell_type": "markdown",
      "source": [
        "These values appear to line up with the common workforce in America.  I am not sure if I should keep the never_worked feature because there is no such a small amount of data."
      ],
      "metadata": {
        "id": "xe48TLUaOwOn"
      }
    },
    {
      "cell_type": "code",
      "source": [
        "sns.stripplot(data=responses, x=\"stroke\", y=\"work_type\") "
      ],
      "metadata": {
        "id": "Q7nBZaZdTcKv",
        "outputId": "936bea9c-4b69-4152-e642-989fd220d6ea",
        "colab": {
          "base_uri": "https://localhost:8080/",
          "height": 466
        }
      },
      "execution_count": 155,
      "outputs": [
        {
          "output_type": "execute_result",
          "data": {
            "text/plain": [
              "<Axes: xlabel='stroke', ylabel='work_type'>"
            ]
          },
          "metadata": {},
          "execution_count": 155
        },
        {
          "output_type": "display_data",
          "data": {
            "text/plain": [
              "<Figure size 640x480 with 1 Axes>"
            ],
            "image/png": "[encoded data removed]"
          },
          "metadata": {}
        }
      ]
    },
    {
      "cell_type": "code",
      "source": [
        "sns.countplot(data=responses, x='work_type', hue='stroke')"
      ],
      "metadata": {
        "colab": {
          "base_uri": "https://localhost:8080/",
          "height": 467
        },
        "id": "YXUHbCoLhwtu",
        "outputId": "a1408ddf-8133-4294-adbb-675298763738"
      },
      "execution_count": 156,
      "outputs": [
        {
          "output_type": "execute_result",
          "data": {
            "text/plain": [
              "<Axes: xlabel='work_type', ylabel='count'>"
            ]
          },
          "metadata": {},
          "execution_count": 156
        },
        {
          "output_type": "display_data",
          "data": {
            "text/plain": [
              "<Figure size 640x480 with 1 Axes>"
            ],
            "image/png": "[encoded data removed]"
          },
          "metadata": {}
        }
      ]
    },
    {
      "cell_type": "markdown",
      "source": [
        "There appears to be a lower incidence of stroke amount individuals who raise children or have never worked."
      ],
      "metadata": {
        "id": "-MuRR6ebO94h"
      }
    },
    {
      "cell_type": "code",
      "source": [
        "strokes_by_work_type_stroke = responses.groupby(['work_type', 'stroke']).agg({'stroke': 'count'})\n",
        "strokes_by_work_type = responses.groupby(['work_type']).agg({'stroke': 'count'})\n",
        "display(strokes_by_work_type_stroke)\n",
        "display (strokes_by_work_type_stroke.div(strokes_by_work_type, level='work_type')*100)"
      ],
      "metadata": {
        "colab": {
          "base_uri": "https://localhost:8080/",
          "height": 709
        },
        "id": "ie4467xHFWBY",
        "outputId": "635cc236-989e-4f3c-b979-39e6b350fede"
      },
      "execution_count": 157,
      "outputs": [
        {
          "output_type": "display_data",
          "data": {
            "text/plain": [
              "                      stroke\n",
              "work_type     stroke        \n",
              "Govt_job      0          624\n",
              "              1           33\n",
              "Never_worked  0           22\n",
              "Private       0         2776\n",
              "              1          149\n",
              "Self-employed 0          754\n",
              "              1           65\n",
              "children      0          685\n",
              "              1            2"
            ],
            "text/html": [
              "\n",
              "  <div id=\"df-7ba69d93-8f00-4b54-8e8a-2eaca3fe14d5\">\n",
              "    <div class=\"colab-df-container\">\n",
              "      <div>\n",
              "<style scoped>\n",
              "    .dataframe tbody tr th:only-of-type {\n",
              "        vertical-align: middle;\n",
              "    }\n",
              "\n",
              "    .dataframe tbody tr th {\n",
              "        vertical-align: top;\n",
              "    }\n",
              "\n",
              "    .dataframe thead th {\n",
              "        text-align: right;\n",
              "    }\n",
              "</style>\n",
              "<table border=\"1\" class=\"dataframe\">\n",
              "  <thead>\n",
              "    <tr style=\"text-align: right;\">\n",
              "      <th></th>\n",
              "      <th></th>\n",
              "      <th>stroke</th>\n",
              "    </tr>\n",
              "    <tr>\n",
              "      <th>work_type</th>\n",
              "      <th>stroke</th>\n",
              "      <th></th>\n",
              "    </tr>\n",
              "  </thead>\n",
              "  <tbody>\n",
              "    <tr>\n",
              "      <th rowspan=\"2\" valign=\"top\">Govt_job</th>\n",
              "      <th>0</th>\n",
              "      <td>624</td>\n",
              "    </tr>\n",
              "    <tr>\n",
              "      <th>1</th>\n",
              "      <td>33</td>\n",
              "    </tr>\n",
              "    <tr>\n",
              "      <th>Never_worked</th>\n",
              "      <th>0</th>\n",
              "      <td>22</td>\n",
              "    </tr>\n",
              "    <tr>\n",
              "      <th rowspan=\"2\" valign=\"top\">Private</th>\n",
              "      <th>0</th>\n",
              "      <td>2776</td>\n",
              "    </tr>\n",
              "    <tr>\n",
              "      <th>1</th>\n",
              "      <td>149</td>\n",
              "    </tr>\n",
              "    <tr>\n",
              "      <th rowspan=\"2\" valign=\"top\">Self-employed</th>\n",
              "      <th>0</th>\n",
              "      <td>754</td>\n",
              "    </tr>\n",
              "    <tr>\n",
              "      <th>1</th>\n",
              "      <td>65</td>\n",
              "    </tr>\n",
              "    <tr>\n",
              "      <th rowspan=\"2\" valign=\"top\">children</th>\n",
              "      <th>0</th>\n",
              "      <td>685</td>\n",
              "    </tr>\n",
              "    <tr>\n",
              "      <th>1</th>\n",
              "      <td>2</td>\n",
              "    </tr>\n",
              "  </tbody>\n",
              "</table>\n",
              "</div>\n",
              "      <button class=\"colab-df-convert\" onclick=\"convertToInteractive('df-7ba69d93-8f00-4b54-8e8a-2eaca3fe14d5')\"\n",
              "              title=\"Convert this dataframe to an interactive table.\"\n",
              "              style=\"display:none;\">\n",
              "        \n",
              "  <svg xmlns=\"http://www.w3.org/2000/svg\" height=\"24px\"viewBox=\"0 0 24 24\"\n",
              "       width=\"24px\">\n",
              "    <path d=\"M0 0h24v24H0V0z\" fill=\"none\"/>\n",
              "    <path d=\"M18.56 5.44l.94 2.06.94-2.06 2.06-.94-2.06-.94-.94-2.06-.94 2.06-2.06.94zm-11 1L8.5 8.5l.94-2.06 2.06-.94-2.06-.94L8.5 2.5l-.94 2.06-2.06.94zm10 10l.94 2.06.94-2.06 2.06-.94-2.06-.94-.94-2.06-.94 2.06-2.06.94z\"/><path d=\"M17.41 7.96l-1.37-1.37c-.4-.4-.92-.59-1.43-.59-.52 0-1.04.2-1.43.59L10.3 9.45l-7.72 7.72c-.78.78-.78 2.05 0 2.83L4 21.41c.39.39.9.59 1.41.59.51 0 1.02-.2 1.41-.59l7.78-7.78 2.81-2.81c.8-.78.8-2.07 0-2.86zM5.41 20L4 18.59l7.72-7.72 1.47 1.35L5.41 20z\"/>\n",
              "  </svg>\n",
              "      </button>\n",
              "      \n",
              "  <style>\n",
              "    .colab-df-container {\n",
              "      display:flex;\n",
              "      flex-wrap:wrap;\n",
              "      gap: 12px;\n",
              "    }\n",
              "\n",
              "    .colab-df-convert {\n",
              "      background-color: #E8F0FE;\n",
              "      border: none;\n",
              "      border-radius: 50%;\n",
              "      cursor: pointer;\n",
              "      display: none;\n",
              "      fill: #1967D2;\n",
              "      height: 32px;\n",
              "      padding: 0 0 0 0;\n",
              "      width: 32px;\n",
              "    }\n",
              "\n",
              "    .colab-df-convert:hover {\n",
              "      background-color: #E2EBFA;\n",
              "      box-shadow: 0px 1px 2px rgba(60, 64, 67, 0.3), 0px 1px 3px 1px rgba(60, 64, 67, 0.15);\n",
              "      fill: #174EA6;\n",
              "    }\n",
              "\n",
              "    [theme=dark] .colab-df-convert {\n",
              "      background-color: #3B4455;\n",
              "      fill: #D2E3FC;\n",
              "    }\n",
              "\n",
              "    [theme=dark] .colab-df-convert:hover {\n",
              "      background-color: #434B5C;\n",
              "      box-shadow: 0px 1px 3px 1px rgba(0, 0, 0, 0.15);\n",
              "      filter: drop-shadow(0px 1px 2px rgba(0, 0, 0, 0.3));\n",
              "      fill: #FFFFFF;\n",
              "    }\n",
              "  </style>\n",
              "\n",
              "      <script>\n",
              "        const buttonEl =\n",
              "          document.querySelector('#df-7ba69d93-8f00-4b54-8e8a-2eaca3fe14d5 button.colab-df-convert');\n",
              "        buttonEl.style.display =\n",
              "          google.colab.kernel.accessAllowed ? 'block' : 'none';\n",
              "\n",
              "        async function convertToInteractive(key) {\n",
              "          const element = document.querySelector('#df-7ba69d93-8f00-4b54-8e8a-2eaca3fe14d5');\n",
              "          const dataTable =\n",
              "            await google.colab.kernel.invokeFunction('convertToInteractive',\n",
              "                                                     [key], {});\n",
              "          if (!dataTable) return;\n",
              "\n",
              "          const docLinkHtml = 'Like what you see? Visit the ' +\n",
              "            '<a target=\"_blank\" href=https://colab.research.google.com/notebooks/data_table.ipynb>data table notebook</a>'\n",
              "            + ' to learn more about interactive tables.';\n",
              "          element.innerHTML = '';\n",
              "          dataTable['output_type'] = 'display_data';\n",
              "          await google.colab.output.renderOutput(dataTable, element);\n",
              "          const docLink = document.createElement('div');\n",
              "          docLink.innerHTML = docLinkHtml;\n",
              "          element.appendChild(docLink);\n",
              "        }\n",
              "      </script>\n",
              "    </div>\n",
              "  </div>\n",
              "  "
            ]
          },
          "metadata": {}
        },
        {
          "output_type": "display_data",
          "data": {
            "text/plain": [
              "                          stroke\n",
              "work_type     stroke            \n",
              "Govt_job      0        94.977169\n",
              "              1         5.022831\n",
              "Never_worked  0       100.000000\n",
              "Private       0        94.905983\n",
              "              1         5.094017\n",
              "Self-employed 0        92.063492\n",
              "              1         7.936508\n",
              "children      0        99.708879\n",
              "              1         0.291121"
            ],
            "text/html": [
              "\n",
              "  <div id=\"df-bb8d9842-3bdf-4b31-a2a3-9fe62eb61eb8\">\n",
              "    <div class=\"colab-df-container\">\n",
              "      <div>\n",
              "<style scoped>\n",
              "    .dataframe tbody tr th:only-of-type {\n",
              "        vertical-align: middle;\n",
              "    }\n",
              "\n",
              "    .dataframe tbody tr th {\n",
              "        vertical-align: top;\n",
              "    }\n",
              "\n",
              "    .dataframe thead th {\n",
              "        text-align: right;\n",
              "    }\n",
              "</style>\n",
              "<table border=\"1\" class=\"dataframe\">\n",
              "  <thead>\n",
              "    <tr style=\"text-align: right;\">\n",
              "      <th></th>\n",
              "      <th></th>\n",
              "      <th>stroke</th>\n",
              "    </tr>\n",
              "    <tr>\n",
              "      <th>work_type</th>\n",
              "      <th>stroke</th>\n",
              "      <th></th>\n",
              "    </tr>\n",
              "  </thead>\n",
              "  <tbody>\n",
              "    <tr>\n",
              "      <th rowspan=\"2\" valign=\"top\">Govt_job</th>\n",
              "      <th>0</th>\n",
              "      <td>94.977169</td>\n",
              "    </tr>\n",
              "    <tr>\n",
              "      <th>1</th>\n",
              "      <td>5.022831</td>\n",
              "    </tr>\n",
              "    <tr>\n",
              "      <th>Never_worked</th>\n",
              "      <th>0</th>\n",
              "      <td>100.000000</td>\n",
              "    </tr>\n",
              "    <tr>\n",
              "      <th rowspan=\"2\" valign=\"top\">Private</th>\n",
              "      <th>0</th>\n",
              "      <td>94.905983</td>\n",
              "    </tr>\n",
              "    <tr>\n",
              "      <th>1</th>\n",
              "      <td>5.094017</td>\n",
              "    </tr>\n",
              "    <tr>\n",
              "      <th rowspan=\"2\" valign=\"top\">Self-employed</th>\n",
              "      <th>0</th>\n",
              "      <td>92.063492</td>\n",
              "    </tr>\n",
              "    <tr>\n",
              "      <th>1</th>\n",
              "      <td>7.936508</td>\n",
              "    </tr>\n",
              "    <tr>\n",
              "      <th rowspan=\"2\" valign=\"top\">children</th>\n",
              "      <th>0</th>\n",
              "      <td>99.708879</td>\n",
              "    </tr>\n",
              "    <tr>\n",
              "      <th>1</th>\n",
              "      <td>0.291121</td>\n",
              "    </tr>\n",
              "  </tbody>\n",
              "</table>\n",
              "</div>\n",
              "      <button class=\"colab-df-convert\" onclick=\"convertToInteractive('df-bb8d9842-3bdf-4b31-a2a3-9fe62eb61eb8')\"\n",
              "              title=\"Convert this dataframe to an interactive table.\"\n",
              "              style=\"display:none;\">\n",
              "        \n",
              "  <svg xmlns=\"http://www.w3.org/2000/svg\" height=\"24px\"viewBox=\"0 0 24 24\"\n",
              "       width=\"24px\">\n",
              "    <path d=\"M0 0h24v24H0V0z\" fill=\"none\"/>\n",
              "    <path d=\"M18.56 5.44l.94 2.06.94-2.06 2.06-.94-2.06-.94-.94-2.06-.94 2.06-2.06.94zm-11 1L8.5 8.5l.94-2.06 2.06-.94-2.06-.94L8.5 2.5l-.94 2.06-2.06.94zm10 10l.94 2.06.94-2.06 2.06-.94-2.06-.94-.94-2.06-.94 2.06-2.06.94z\"/><path d=\"M17.41 7.96l-1.37-1.37c-.4-.4-.92-.59-1.43-.59-.52 0-1.04.2-1.43.59L10.3 9.45l-7.72 7.72c-.78.78-.78 2.05 0 2.83L4 21.41c.39.39.9.59 1.41.59.51 0 1.02-.2 1.41-.59l7.78-7.78 2.81-2.81c.8-.78.8-2.07 0-2.86zM5.41 20L4 18.59l7.72-7.72 1.47 1.35L5.41 20z\"/>\n",
              "  </svg>\n",
              "      </button>\n",
              "      \n",
              "  <style>\n",
              "    .colab-df-container {\n",
              "      display:flex;\n",
              "      flex-wrap:wrap;\n",
              "      gap: 12px;\n",
              "    }\n",
              "\n",
              "    .colab-df-convert {\n",
              "      background-color: #E8F0FE;\n",
              "      border: none;\n",
              "      border-radius: 50%;\n",
              "      cursor: pointer;\n",
              "      display: none;\n",
              "      fill: #1967D2;\n",
              "      height: 32px;\n",
              "      padding: 0 0 0 0;\n",
              "      width: 32px;\n",
              "    }\n",
              "\n",
              "    .colab-df-convert:hover {\n",
              "      background-color: #E2EBFA;\n",
              "      box-shadow: 0px 1px 2px rgba(60, 64, 67, 0.3), 0px 1px 3px 1px rgba(60, 64, 67, 0.15);\n",
              "      fill: #174EA6;\n",
              "    }\n",
              "\n",
              "    [theme=dark] .colab-df-convert {\n",
              "      background-color: #3B4455;\n",
              "      fill: #D2E3FC;\n",
              "    }\n",
              "\n",
              "    [theme=dark] .colab-df-convert:hover {\n",
              "      background-color: #434B5C;\n",
              "      box-shadow: 0px 1px 3px 1px rgba(0, 0, 0, 0.15);\n",
              "      filter: drop-shadow(0px 1px 2px rgba(0, 0, 0, 0.3));\n",
              "      fill: #FFFFFF;\n",
              "    }\n",
              "  </style>\n",
              "\n",
              "      <script>\n",
              "        const buttonEl =\n",
              "          document.querySelector('#df-bb8d9842-3bdf-4b31-a2a3-9fe62eb61eb8 button.colab-df-convert');\n",
              "        buttonEl.style.display =\n",
              "          google.colab.kernel.accessAllowed ? 'block' : 'none';\n",
              "\n",
              "        async function convertToInteractive(key) {\n",
              "          const element = document.querySelector('#df-bb8d9842-3bdf-4b31-a2a3-9fe62eb61eb8');\n",
              "          const dataTable =\n",
              "            await google.colab.kernel.invokeFunction('convertToInteractive',\n",
              "                                                     [key], {});\n",
              "          if (!dataTable) return;\n",
              "\n",
              "          const docLinkHtml = 'Like what you see? Visit the ' +\n",
              "            '<a target=\"_blank\" href=https://colab.research.google.com/notebooks/data_table.ipynb>data table notebook</a>'\n",
              "            + ' to learn more about interactive tables.';\n",
              "          element.innerHTML = '';\n",
              "          dataTable['output_type'] = 'display_data';\n",
              "          await google.colab.output.renderOutput(dataTable, element);\n",
              "          const docLink = document.createElement('div');\n",
              "          docLink.innerHTML = docLinkHtml;\n",
              "          element.appendChild(docLink);\n",
              "        }\n",
              "      </script>\n",
              "    </div>\n",
              "  </div>\n",
              "  "
            ]
          },
          "metadata": {}
        }
      ]
    },
    {
      "cell_type": "code",
      "source": [
        "sns.stripplot(data=responses, x=\"work_type\", y=\"age\") #Do we see more stroke after a certain age?"
      ],
      "metadata": {
        "id": "fxTITIXQUm4n",
        "outputId": "283428f9-8079-452f-b667-035ae58403ff",
        "colab": {
          "base_uri": "https://localhost:8080/",
          "height": 467
        }
      },
      "execution_count": 158,
      "outputs": [
        {
          "output_type": "execute_result",
          "data": {
            "text/plain": [
              "<Axes: xlabel='work_type', ylabel='age'>"
            ]
          },
          "metadata": {},
          "execution_count": 158
        },
        {
          "output_type": "display_data",
          "data": {
            "text/plain": [
              "<Figure size 640x480 with 1 Axes>"
            ],
            "image/png": "[encoded data removed]"
          },
          "metadata": {}
        }
      ]
    },
    {
      "cell_type": "markdown",
      "source": [
        "The relationship between not having a stroke and either not having children or never worked appears to be a function of age, not work type.  People who don't work, or are raising children, are 20 or younger, which is a group already identified as not being at risk for a stroke."
      ],
      "metadata": {
        "id": "qtSsldG6PFnO"
      }
    },
    {
      "cell_type": "markdown",
      "source": [
        "### Examine BMI"
      ],
      "metadata": {
        "id": "7XswtcBEU7Cn"
      }
    },
    {
      "cell_type": "code",
      "source": [
        "responses.hist(column=['bmi'])"
      ],
      "metadata": {
        "colab": {
          "base_uri": "https://localhost:8080/",
          "height": 469
        },
        "id": "KxLEvptvnhPa",
        "outputId": "835b2943-c5c2-4392-8643-826e4b0d1c4f"
      },
      "execution_count": 159,
      "outputs": [
        {
          "output_type": "execute_result",
          "data": {
            "text/plain": [
              "array([[<Axes: title={'center': 'bmi'}>]], dtype=object)"
            ]
          },
          "metadata": {},
          "execution_count": 159
        },
        {
          "output_type": "display_data",
          "data": {
            "text/plain": [
              "<Figure size 640x480 with 1 Axes>"
            ],
            "image/png": "[encoded data removed]"
          },
          "metadata": {}
        }
      ]
    },
    {
      "cell_type": "code",
      "source": [
        "sns.boxplot(y='bmi', data=responses)"
      ],
      "metadata": {
        "colab": {
          "base_uri": "https://localhost:8080/",
          "height": 428
        },
        "id": "3G-KDMKFpFHw",
        "outputId": "74ee4123-0a75-4e8e-cff8-c1fb88720322"
      },
      "execution_count": 160,
      "outputs": [
        {
          "output_type": "execute_result",
          "data": {
            "text/plain": [
              "<Axes: ylabel='bmi'>"
            ]
          },
          "metadata": {},
          "execution_count": 160
        },
        {
          "output_type": "display_data",
          "data": {
            "text/plain": [
              "<Figure size 640x480 with 1 Axes>"
            ],
            "image/png": "[encoded data removed]"
          },
          "metadata": {}
        }
      ]
    },
    {
      "cell_type": "code",
      "source": [
        "sns.boxplot(y='bmi', x='stroke', data=responses)"
      ],
      "metadata": {
        "colab": {
          "base_uri": "https://localhost:8080/",
          "height": 466
        },
        "id": "oMa55Qn3hWMn",
        "outputId": "296ef595-7a6a-403e-e9f5-3f8e199ee95e"
      },
      "execution_count": 161,
      "outputs": [
        {
          "output_type": "execute_result",
          "data": {
            "text/plain": [
              "<Axes: xlabel='stroke', ylabel='bmi'>"
            ]
          },
          "metadata": {},
          "execution_count": 161
        },
        {
          "output_type": "display_data",
          "data": {
            "text/plain": [
              "<Figure size 640x480 with 1 Axes>"
            ],
            "image/png": "[encoded data removed]"
          },
          "metadata": {}
        }
      ]
    },
    {
      "cell_type": "code",
      "source": [
        "sns.histplot(responses, x='bmi', kde=True)"
      ],
      "metadata": {
        "colab": {
          "base_uri": "https://localhost:8080/",
          "height": 466
        },
        "id": "jlcC_hiapFAK",
        "outputId": "92d6bf70-716f-40d9-d67d-5b7cd94e4edd"
      },
      "execution_count": 162,
      "outputs": [
        {
          "output_type": "execute_result",
          "data": {
            "text/plain": [
              "<Axes: xlabel='bmi', ylabel='Count'>"
            ]
          },
          "metadata": {},
          "execution_count": 162
        },
        {
          "output_type": "display_data",
          "data": {
            "text/plain": [
              "<Figure size 640x480 with 1 Axes>"
            ],
            "image/png": "[encoded data removed]"
          },
          "metadata": {}
        }
      ]
    },
    {
      "cell_type": "markdown",
      "source": [
        "### Calculate the mean, standard deviation, 3sd's, and 2sd's."
      ],
      "metadata": {
        "id": "vqqtWREaR-_o"
      }
    },
    {
      "cell_type": "code",
      "source": [
        "\n",
        "bmi_mean = (responses['bmi'].mean())\n",
        "bmi_stddev = ( responses['bmi'].std())\n",
        "bmi_3_stddev =  (responses['bmi'].mean() + (responses['bmi'].std() * 3), responses['bmi'].mean() + (responses['bmi'].std() * -3))\n",
        "bmi_2_stddev =  (responses['bmi'].mean() + (responses['bmi'].std() * 2), responses['bmi'].mean() + (responses['bmi'].std() * -2))\n",
        "display (bmi_mean, bmi_stddev, bmi_3_stddev, bmi_2_stddev)"
      ],
      "metadata": {
        "colab": {
          "base_uri": "https://localhost:8080/",
          "height": 86
        },
        "id": "pXGQx7dnpvzj",
        "outputId": "22401040-9ae8-40f1-9a6f-417cb3d799c6"
      },
      "execution_count": 163,
      "outputs": [
        {
          "output_type": "display_data",
          "data": {
            "text/plain": [
              "28.893236911794666"
            ]
          },
          "metadata": {}
        },
        {
          "output_type": "display_data",
          "data": {
            "text/plain": [
              "7.854066729680164"
            ]
          },
          "metadata": {}
        },
        {
          "output_type": "display_data",
          "data": {
            "text/plain": [
              "(52.455437100835155, 5.331036722754174)"
            ]
          },
          "metadata": {}
        },
        {
          "output_type": "display_data",
          "data": {
            "text/plain": [
              "(44.60137037115499, 13.185103452434339)"
            ]
          },
          "metadata": {}
        }
      ]
    },
    {
      "cell_type": "markdown",
      "source": [
        "### Evaluate Residence Type"
      ],
      "metadata": {
        "id": "5jHpcPWTVEhl"
      }
    },
    {
      "cell_type": "markdown",
      "source": [],
      "metadata": {
        "id": "AeYbBeFvjLe4"
      }
    },
    {
      "cell_type": "code",
      "source": [
        "responses['Residence_type'].value_counts()"
      ],
      "metadata": {
        "colab": {
          "base_uri": "https://localhost:8080/"
        },
        "id": "dvUO9THmjQ3j",
        "outputId": "cf4c9686-51d4-4ba6-af73-d2b1b65c1b4e"
      },
      "execution_count": 164,
      "outputs": [
        {
          "output_type": "execute_result",
          "data": {
            "text/plain": [
              "Urban    2596\n",
              "Rural    2514\n",
              "Name: Residence_type, dtype: int64"
            ]
          },
          "metadata": {},
          "execution_count": 164
        }
      ]
    },
    {
      "cell_type": "code",
      "source": [
        "responses.groupby([\"Residence_type\", \"stroke\"]).size()"
      ],
      "metadata": {
        "colab": {
          "base_uri": "https://localhost:8080/"
        },
        "id": "GlEyWDWujmkA",
        "outputId": "026e8695-fa7b-4431-e7e5-6826497b37e7"
      },
      "execution_count": 165,
      "outputs": [
        {
          "output_type": "execute_result",
          "data": {
            "text/plain": [
              "Residence_type  stroke\n",
              "Rural           0         2400\n",
              "                1          114\n",
              "Urban           0         2461\n",
              "                1          135\n",
              "dtype: int64"
            ]
          },
          "metadata": {},
          "execution_count": 165
        }
      ]
    },
    {
      "cell_type": "code",
      "source": [
        "sns.countplot(data=responses, x='Residence_type', hue='stroke')"
      ],
      "metadata": {
        "id": "f3_ksHpxVFLo",
        "outputId": "ae8f59f0-19da-4428-e567-dcd0b9ac6149",
        "colab": {
          "base_uri": "https://localhost:8080/",
          "height": 467
        }
      },
      "execution_count": 166,
      "outputs": [
        {
          "output_type": "execute_result",
          "data": {
            "text/plain": [
              "<Axes: xlabel='Residence_type', ylabel='count'>"
            ]
          },
          "metadata": {},
          "execution_count": 166
        },
        {
          "output_type": "display_data",
          "data": {
            "text/plain": [
              "<Figure size 640x480 with 1 Axes>"
            ],
            "image/png": "[encoded data removed]"
          },
          "metadata": {}
        }
      ]
    },
    {
      "cell_type": "markdown",
      "source": [
        "### Examine Average Blood Glucose Levels"
      ],
      "metadata": {
        "id": "wKPxr6HekEi1"
      }
    },
    {
      "cell_type": "code",
      "source": [
        "responses.hist(column=['avg_glucose_level'])"
      ],
      "metadata": {
        "colab": {
          "base_uri": "https://localhost:8080/",
          "height": 469
        },
        "id": "XVV8u37Yj2Y-",
        "outputId": "d706f8fa-8cfd-415e-d2f7-0b8abf441a31"
      },
      "execution_count": 167,
      "outputs": [
        {
          "output_type": "execute_result",
          "data": {
            "text/plain": [
              "array([[<Axes: title={'center': 'avg_glucose_level'}>]], dtype=object)"
            ]
          },
          "metadata": {},
          "execution_count": 167
        },
        {
          "output_type": "display_data",
          "data": {
            "text/plain": [
              "<Figure size 640x480 with 1 Axes>"
            ],
            "image/png": "[encoded data removed]"
          },
          "metadata": {}
        }
      ]
    },
    {
      "cell_type": "code",
      "source": [
        "sns.boxplot(y='avg_glucose_level', x='stroke', data=responses)"
      ],
      "metadata": {
        "colab": {
          "base_uri": "https://localhost:8080/",
          "height": 466
        },
        "id": "gRf-N6IWkQrQ",
        "outputId": "888a3849-8049-4d58-88cb-61b71e8e67bd"
      },
      "execution_count": 168,
      "outputs": [
        {
          "output_type": "execute_result",
          "data": {
            "text/plain": [
              "<Axes: xlabel='stroke', ylabel='avg_glucose_level'>"
            ]
          },
          "metadata": {},
          "execution_count": 168
        },
        {
          "output_type": "display_data",
          "data": {
            "text/plain": [
              "<Figure size 640x480 with 1 Axes>"
            ],
            "image/png": "[encoded data removed]"
          },
          "metadata": {}
        }
      ]
    },
    {
      "cell_type": "markdown",
      "source": [
        "### Examine Smoking Status"
      ],
      "metadata": {
        "id": "H9k7VdiokpyW"
      }
    },
    {
      "cell_type": "code",
      "source": [
        "responses['smoking_status'].value_counts()"
      ],
      "metadata": {
        "colab": {
          "base_uri": "https://localhost:8080/"
        },
        "id": "Lk0b2cftlD0v",
        "outputId": "4c0999e0-2b12-449f-fb74-35588a3d5643"
      },
      "execution_count": 169,
      "outputs": [
        {
          "output_type": "execute_result",
          "data": {
            "text/plain": [
              "never smoked       1892\n",
              "Unknown            1544\n",
              "formerly smoked     885\n",
              "smokes              789\n",
              "Name: smoking_status, dtype: int64"
            ]
          },
          "metadata": {},
          "execution_count": 169
        }
      ]
    },
    {
      "cell_type": "code",
      "source": [
        "sns.countplot(data=responses, x='smoking_status')"
      ],
      "metadata": {
        "colab": {
          "base_uri": "https://localhost:8080/",
          "height": 467
        },
        "id": "R8BjaPyblDlZ",
        "outputId": "a4fc6fa1-d137-4c6c-cb3b-ffd4fb5284e2"
      },
      "execution_count": 170,
      "outputs": [
        {
          "output_type": "execute_result",
          "data": {
            "text/plain": [
              "<Axes: xlabel='smoking_status', ylabel='count'>"
            ]
          },
          "metadata": {},
          "execution_count": 170
        },
        {
          "output_type": "display_data",
          "data": {
            "text/plain": [
              "<Figure size 640x480 with 1 Axes>"
            ],
            "image/png": "[encoded data removed]"
          },
          "metadata": {}
        }
      ]
    },
    {
      "cell_type": "code",
      "source": [
        "\n",
        "\n",
        "strokes_by_smoking_status_stroke = responses.groupby(['smoking_status', 'stroke']).agg({'stroke': 'count'})\n",
        "strokes_by_smoking_status = responses.groupby(['smoking_status']).agg({'stroke': 'count'})\n",
        "display(strokes_by_smoking_status_stroke)\n",
        "display (strokes_by_smoking_status_stroke.div(strokes_by_smoking_status, level='smoking_status')*100)\n",
        "\n"
      ],
      "metadata": {
        "colab": {
          "base_uri": "https://localhost:8080/",
          "height": 646
        },
        "id": "oq_VPGSLkw0Q",
        "outputId": "22a74ae9-3a7a-476d-fdc9-25080045517d"
      },
      "execution_count": 171,
      "outputs": [
        {
          "output_type": "display_data",
          "data": {
            "text/plain": [
              "                        stroke\n",
              "smoking_status  stroke        \n",
              "Unknown         0         1497\n",
              "                1           47\n",
              "formerly smoked 0          815\n",
              "                1           70\n",
              "never smoked    0         1802\n",
              "                1           90\n",
              "smokes          0          747\n",
              "                1           42"
            ],
            "text/html": [
              "\n",
              "  <div id=\"df-38a50bbb-aa2a-426d-8aa9-0f1a64c7273c\">\n",
              "    <div class=\"colab-df-container\">\n",
              "      <div>\n",
              "<style scoped>\n",
              "    .dataframe tbody tr th:only-of-type {\n",
              "        vertical-align: middle;\n",
              "    }\n",
              "\n",
              "    .dataframe tbody tr th {\n",
              "        vertical-align: top;\n",
              "    }\n",
              "\n",
              "    .dataframe thead th {\n",
              "        text-align: right;\n",
              "    }\n",
              "</style>\n",
              "<table border=\"1\" class=\"dataframe\">\n",
              "  <thead>\n",
              "    <tr style=\"text-align: right;\">\n",
              "      <th></th>\n",
              "      <th></th>\n",
              "      <th>stroke</th>\n",
              "    </tr>\n",
              "    <tr>\n",
              "      <th>smoking_status</th>\n",
              "      <th>stroke</th>\n",
              "      <th></th>\n",
              "    </tr>\n",
              "  </thead>\n",
              "  <tbody>\n",
              "    <tr>\n",
              "      <th rowspan=\"2\" valign=\"top\">Unknown</th>\n",
              "      <th>0</th>\n",
              "      <td>1497</td>\n",
              "    </tr>\n",
              "    <tr>\n",
              "      <th>1</th>\n",
              "      <td>47</td>\n",
              "    </tr>\n",
              "    <tr>\n",
              "      <th rowspan=\"2\" valign=\"top\">formerly smoked</th>\n",
              "      <th>0</th>\n",
              "      <td>815</td>\n",
              "    </tr>\n",
              "    <tr>\n",
              "      <th>1</th>\n",
              "      <td>70</td>\n",
              "    </tr>\n",
              "    <tr>\n",
              "      <th rowspan=\"2\" valign=\"top\">never smoked</th>\n",
              "      <th>0</th>\n",
              "      <td>1802</td>\n",
              "    </tr>\n",
              "    <tr>\n",
              "      <th>1</th>\n",
              "      <td>90</td>\n",
              "    </tr>\n",
              "    <tr>\n",
              "      <th rowspan=\"2\" valign=\"top\">smokes</th>\n",
              "      <th>0</th>\n",
              "      <td>747</td>\n",
              "    </tr>\n",
              "    <tr>\n",
              "      <th>1</th>\n",
              "      <td>42</td>\n",
              "    </tr>\n",
              "  </tbody>\n",
              "</table>\n",
              "</div>\n",
              "      <button class=\"colab-df-convert\" onclick=\"convertToInteractive('df-38a50bbb-aa2a-426d-8aa9-0f1a64c7273c')\"\n",
              "              title=\"Convert this dataframe to an interactive table.\"\n",
              "              style=\"display:none;\">\n",
              "        \n",
              "  <svg xmlns=\"http://www.w3.org/2000/svg\" height=\"24px\"viewBox=\"0 0 24 24\"\n",
              "       width=\"24px\">\n",
              "    <path d=\"M0 0h24v24H0V0z\" fill=\"none\"/>\n",
              "    <path d=\"M18.56 5.44l.94 2.06.94-2.06 2.06-.94-2.06-.94-.94-2.06-.94 2.06-2.06.94zm-11 1L8.5 8.5l.94-2.06 2.06-.94-2.06-.94L8.5 2.5l-.94 2.06-2.06.94zm10 10l.94 2.06.94-2.06 2.06-.94-2.06-.94-.94-2.06-.94 2.06-2.06.94z\"/><path d=\"M17.41 7.96l-1.37-1.37c-.4-.4-.92-.59-1.43-.59-.52 0-1.04.2-1.43.59L10.3 9.45l-7.72 7.72c-.78.78-.78 2.05 0 2.83L4 21.41c.39.39.9.59 1.41.59.51 0 1.02-.2 1.41-.59l7.78-7.78 2.81-2.81c.8-.78.8-2.07 0-2.86zM5.41 20L4 18.59l7.72-7.72 1.47 1.35L5.41 20z\"/>\n",
              "  </svg>\n",
              "      </button>\n",
              "      \n",
              "  <style>\n",
              "    .colab-df-container {\n",
              "      display:flex;\n",
              "      flex-wrap:wrap;\n",
              "      gap: 12px;\n",
              "    }\n",
              "\n",
              "    .colab-df-convert {\n",
              "      background-color: #E8F0FE;\n",
              "      border: none;\n",
              "      border-radius: 50%;\n",
              "      cursor: pointer;\n",
              "      display: none;\n",
              "      fill: #1967D2;\n",
              "      height: 32px;\n",
              "      padding: 0 0 0 0;\n",
              "      width: 32px;\n",
              "    }\n",
              "\n",
              "    .colab-df-convert:hover {\n",
              "      background-color: #E2EBFA;\n",
              "      box-shadow: 0px 1px 2px rgba(60, 64, 67, 0.3), 0px 1px 3px 1px rgba(60, 64, 67, 0.15);\n",
              "      fill: #174EA6;\n",
              "    }\n",
              "\n",
              "    [theme=dark] .colab-df-convert {\n",
              "      background-color: #3B4455;\n",
              "      fill: #D2E3FC;\n",
              "    }\n",
              "\n",
              "    [theme=dark] .colab-df-convert:hover {\n",
              "      background-color: #434B5C;\n",
              "      box-shadow: 0px 1px 3px 1px rgba(0, 0, 0, 0.15);\n",
              "      filter: drop-shadow(0px 1px 2px rgba(0, 0, 0, 0.3));\n",
              "      fill: #FFFFFF;\n",
              "    }\n",
              "  </style>\n",
              "\n",
              "      <script>\n",
              "        const buttonEl =\n",
              "          document.querySelector('#df-38a50bbb-aa2a-426d-8aa9-0f1a64c7273c button.colab-df-convert');\n",
              "        buttonEl.style.display =\n",
              "          google.colab.kernel.accessAllowed ? 'block' : 'none';\n",
              "\n",
              "        async function convertToInteractive(key) {\n",
              "          const element = document.querySelector('#df-38a50bbb-aa2a-426d-8aa9-0f1a64c7273c');\n",
              "          const dataTable =\n",
              "            await google.colab.kernel.invokeFunction('convertToInteractive',\n",
              "                                                     [key], {});\n",
              "          if (!dataTable) return;\n",
              "\n",
              "          const docLinkHtml = 'Like what you see? Visit the ' +\n",
              "            '<a target=\"_blank\" href=https://colab.research.google.com/notebooks/data_table.ipynb>data table notebook</a>'\n",
              "            + ' to learn more about interactive tables.';\n",
              "          element.innerHTML = '';\n",
              "          dataTable['output_type'] = 'display_data';\n",
              "          await google.colab.output.renderOutput(dataTable, element);\n",
              "          const docLink = document.createElement('div');\n",
              "          docLink.innerHTML = docLinkHtml;\n",
              "          element.appendChild(docLink);\n",
              "        }\n",
              "      </script>\n",
              "    </div>\n",
              "  </div>\n",
              "  "
            ]
          },
          "metadata": {}
        },
        {
          "output_type": "display_data",
          "data": {
            "text/plain": [
              "                           stroke\n",
              "smoking_status  stroke           \n",
              "Unknown         0       96.955959\n",
              "                1        3.044041\n",
              "formerly smoked 0       92.090395\n",
              "                1        7.909605\n",
              "never smoked    0       95.243129\n",
              "                1        4.756871\n",
              "smokes          0       94.676806\n",
              "                1        5.323194"
            ],
            "text/html": [
              "\n",
              "  <div id=\"df-aeb428cb-51aa-4220-8374-831fbfb8ebbf\">\n",
              "    <div class=\"colab-df-container\">\n",
              "      <div>\n",
              "<style scoped>\n",
              "    .dataframe tbody tr th:only-of-type {\n",
              "        vertical-align: middle;\n",
              "    }\n",
              "\n",
              "    .dataframe tbody tr th {\n",
              "        vertical-align: top;\n",
              "    }\n",
              "\n",
              "    .dataframe thead th {\n",
              "        text-align: right;\n",
              "    }\n",
              "</style>\n",
              "<table border=\"1\" class=\"dataframe\">\n",
              "  <thead>\n",
              "    <tr style=\"text-align: right;\">\n",
              "      <th></th>\n",
              "      <th></th>\n",
              "      <th>stroke</th>\n",
              "    </tr>\n",
              "    <tr>\n",
              "      <th>smoking_status</th>\n",
              "      <th>stroke</th>\n",
              "      <th></th>\n",
              "    </tr>\n",
              "  </thead>\n",
              "  <tbody>\n",
              "    <tr>\n",
              "      <th rowspan=\"2\" valign=\"top\">Unknown</th>\n",
              "      <th>0</th>\n",
              "      <td>96.955959</td>\n",
              "    </tr>\n",
              "    <tr>\n",
              "      <th>1</th>\n",
              "      <td>3.044041</td>\n",
              "    </tr>\n",
              "    <tr>\n",
              "      <th rowspan=\"2\" valign=\"top\">formerly smoked</th>\n",
              "      <th>0</th>\n",
              "      <td>92.090395</td>\n",
              "    </tr>\n",
              "    <tr>\n",
              "      <th>1</th>\n",
              "      <td>7.909605</td>\n",
              "    </tr>\n",
              "    <tr>\n",
              "      <th rowspan=\"2\" valign=\"top\">never smoked</th>\n",
              "      <th>0</th>\n",
              "      <td>95.243129</td>\n",
              "    </tr>\n",
              "    <tr>\n",
              "      <th>1</th>\n",
              "      <td>4.756871</td>\n",
              "    </tr>\n",
              "    <tr>\n",
              "      <th rowspan=\"2\" valign=\"top\">smokes</th>\n",
              "      <th>0</th>\n",
              "      <td>94.676806</td>\n",
              "    </tr>\n",
              "    <tr>\n",
              "      <th>1</th>\n",
              "      <td>5.323194</td>\n",
              "    </tr>\n",
              "  </tbody>\n",
              "</table>\n",
              "</div>\n",
              "      <button class=\"colab-df-convert\" onclick=\"convertToInteractive('df-aeb428cb-51aa-4220-8374-831fbfb8ebbf')\"\n",
              "              title=\"Convert this dataframe to an interactive table.\"\n",
              "              style=\"display:none;\">\n",
              "        \n",
              "  <svg xmlns=\"http://www.w3.org/2000/svg\" height=\"24px\"viewBox=\"0 0 24 24\"\n",
              "       width=\"24px\">\n",
              "    <path d=\"M0 0h24v24H0V0z\" fill=\"none\"/>\n",
              "    <path d=\"M18.56 5.44l.94 2.06.94-2.06 2.06-.94-2.06-.94-.94-2.06-.94 2.06-2.06.94zm-11 1L8.5 8.5l.94-2.06 2.06-.94-2.06-.94L8.5 2.5l-.94 2.06-2.06.94zm10 10l.94 2.06.94-2.06 2.06-.94-2.06-.94-.94-2.06-.94 2.06-2.06.94z\"/><path d=\"M17.41 7.96l-1.37-1.37c-.4-.4-.92-.59-1.43-.59-.52 0-1.04.2-1.43.59L10.3 9.45l-7.72 7.72c-.78.78-.78 2.05 0 2.83L4 21.41c.39.39.9.59 1.41.59.51 0 1.02-.2 1.41-.59l7.78-7.78 2.81-2.81c.8-.78.8-2.07 0-2.86zM5.41 20L4 18.59l7.72-7.72 1.47 1.35L5.41 20z\"/>\n",
              "  </svg>\n",
              "      </button>\n",
              "      \n",
              "  <style>\n",
              "    .colab-df-container {\n",
              "      display:flex;\n",
              "      flex-wrap:wrap;\n",
              "      gap: 12px;\n",
              "    }\n",
              "\n",
              "    .colab-df-convert {\n",
              "      background-color: #E8F0FE;\n",
              "      border: none;\n",
              "      border-radius: 50%;\n",
              "      cursor: pointer;\n",
              "      display: none;\n",
              "      fill: #1967D2;\n",
              "      height: 32px;\n",
              "      padding: 0 0 0 0;\n",
              "      width: 32px;\n",
              "    }\n",
              "\n",
              "    .colab-df-convert:hover {\n",
              "      background-color: #E2EBFA;\n",
              "      box-shadow: 0px 1px 2px rgba(60, 64, 67, 0.3), 0px 1px 3px 1px rgba(60, 64, 67, 0.15);\n",
              "      fill: #174EA6;\n",
              "    }\n",
              "\n",
              "    [theme=dark] .colab-df-convert {\n",
              "      background-color: #3B4455;\n",
              "      fill: #D2E3FC;\n",
              "    }\n",
              "\n",
              "    [theme=dark] .colab-df-convert:hover {\n",
              "      background-color: #434B5C;\n",
              "      box-shadow: 0px 1px 3px 1px rgba(0, 0, 0, 0.15);\n",
              "      filter: drop-shadow(0px 1px 2px rgba(0, 0, 0, 0.3));\n",
              "      fill: #FFFFFF;\n",
              "    }\n",
              "  </style>\n",
              "\n",
              "      <script>\n",
              "        const buttonEl =\n",
              "          document.querySelector('#df-aeb428cb-51aa-4220-8374-831fbfb8ebbf button.colab-df-convert');\n",
              "        buttonEl.style.display =\n",
              "          google.colab.kernel.accessAllowed ? 'block' : 'none';\n",
              "\n",
              "        async function convertToInteractive(key) {\n",
              "          const element = document.querySelector('#df-aeb428cb-51aa-4220-8374-831fbfb8ebbf');\n",
              "          const dataTable =\n",
              "            await google.colab.kernel.invokeFunction('convertToInteractive',\n",
              "                                                     [key], {});\n",
              "          if (!dataTable) return;\n",
              "\n",
              "          const docLinkHtml = 'Like what you see? Visit the ' +\n",
              "            '<a target=\"_blank\" href=https://colab.research.google.com/notebooks/data_table.ipynb>data table notebook</a>'\n",
              "            + ' to learn more about interactive tables.';\n",
              "          element.innerHTML = '';\n",
              "          dataTable['output_type'] = 'display_data';\n",
              "          await google.colab.output.renderOutput(dataTable, element);\n",
              "          const docLink = document.createElement('div');\n",
              "          docLink.innerHTML = docLinkHtml;\n",
              "          element.appendChild(docLink);\n",
              "        }\n",
              "      </script>\n",
              "    </div>\n",
              "  </div>\n",
              "  "
            ]
          },
          "metadata": {}
        }
      ]
    },
    {
      "cell_type": "code",
      "source": [
        "sns.countplot(data=responses, x='smoking_status', hue='stroke')"
      ],
      "metadata": {
        "colab": {
          "base_uri": "https://localhost:8080/",
          "height": 467
        },
        "id": "cJsPoEvSk5Ty",
        "outputId": "0838227a-caf8-4918-cfc2-2fb476871d78"
      },
      "execution_count": 172,
      "outputs": [
        {
          "output_type": "execute_result",
          "data": {
            "text/plain": [
              "<Axes: xlabel='smoking_status', ylabel='count'>"
            ]
          },
          "metadata": {},
          "execution_count": 172
        },
        {
          "output_type": "display_data",
          "data": {
            "text/plain": [
              "<Figure size 640x480 with 1 Axes>"
            ],
            "image/png": "[encoded data removed]"
          },
          "metadata": {}
        }
      ]
    },
    {
      "cell_type": "markdown",
      "source": [
        "### Evaluate Ever Married\n"
      ],
      "metadata": {
        "id": "RIfZjtchldnY"
      }
    },
    {
      "cell_type": "code",
      "source": [
        "responses['ever_married'].value_counts()"
      ],
      "metadata": {
        "colab": {
          "base_uri": "https://localhost:8080/"
        },
        "id": "quikg466li0q",
        "outputId": "1fb3fded-d6b3-4297-9b7b-a767caf00160"
      },
      "execution_count": 173,
      "outputs": [
        {
          "output_type": "execute_result",
          "data": {
            "text/plain": [
              "Yes    3353\n",
              "No     1757\n",
              "Name: ever_married, dtype: int64"
            ]
          },
          "metadata": {},
          "execution_count": 173
        }
      ]
    },
    {
      "cell_type": "code",
      "source": [
        "\n",
        "\n",
        "strokes_by_ever_smoked_stroke = responses.groupby(['ever_married', 'stroke']).agg({'stroke': 'count'})\n",
        "strokes_by_ever_smoked = responses.groupby(['ever_married']).agg({'stroke': 'count'})\n",
        "display(strokes_by_ever_smoked_stroke)\n",
        "display (strokes_by_ever_smoked_stroke.div(strokes_by_ever_smoked, level='ever_married')*100)"
      ],
      "metadata": {
        "colab": {
          "base_uri": "https://localhost:8080/",
          "height": 395
        },
        "id": "EbmZ3-cIloFx",
        "outputId": "ddaed12f-db16-40de-df85-a6e88025da68"
      },
      "execution_count": 174,
      "outputs": [
        {
          "output_type": "display_data",
          "data": {
            "text/plain": [
              "                     stroke\n",
              "ever_married stroke        \n",
              "No           0         1728\n",
              "             1           29\n",
              "Yes          0         3133\n",
              "             1          220"
            ],
            "text/html": [
              "\n",
              "  <div id=\"df-e576760c-fed5-492f-b8c6-474aebf76151\">\n",
              "    <div class=\"colab-df-container\">\n",
              "      <div>\n",
              "<style scoped>\n",
              "    .dataframe tbody tr th:only-of-type {\n",
              "        vertical-align: middle;\n",
              "    }\n",
              "\n",
              "    .dataframe tbody tr th {\n",
              "        vertical-align: top;\n",
              "    }\n",
              "\n",
              "    .dataframe thead th {\n",
              "        text-align: right;\n",
              "    }\n",
              "</style>\n",
              "<table border=\"1\" class=\"dataframe\">\n",
              "  <thead>\n",
              "    <tr style=\"text-align: right;\">\n",
              "      <th></th>\n",
              "      <th></th>\n",
              "      <th>stroke</th>\n",
              "    </tr>\n",
              "    <tr>\n",
              "      <th>ever_married</th>\n",
              "      <th>stroke</th>\n",
              "      <th></th>\n",
              "    </tr>\n",
              "  </thead>\n",
              "  <tbody>\n",
              "    <tr>\n",
              "      <th rowspan=\"2\" valign=\"top\">No</th>\n",
              "      <th>0</th>\n",
              "      <td>1728</td>\n",
              "    </tr>\n",
              "    <tr>\n",
              "      <th>1</th>\n",
              "      <td>29</td>\n",
              "    </tr>\n",
              "    <tr>\n",
              "      <th rowspan=\"2\" valign=\"top\">Yes</th>\n",
              "      <th>0</th>\n",
              "      <td>3133</td>\n",
              "    </tr>\n",
              "    <tr>\n",
              "      <th>1</th>\n",
              "      <td>220</td>\n",
              "    </tr>\n",
              "  </tbody>\n",
              "</table>\n",
              "</div>\n",
              "      <button class=\"colab-df-convert\" onclick=\"convertToInteractive('df-e576760c-fed5-492f-b8c6-474aebf76151')\"\n",
              "              title=\"Convert this dataframe to an interactive table.\"\n",
              "              style=\"display:none;\">\n",
              "        \n",
              "  <svg xmlns=\"http://www.w3.org/2000/svg\" height=\"24px\"viewBox=\"0 0 24 24\"\n",
              "       width=\"24px\">\n",
              "    <path d=\"M0 0h24v24H0V0z\" fill=\"none\"/>\n",
              "    <path d=\"M18.56 5.44l.94 2.06.94-2.06 2.06-.94-2.06-.94-.94-2.06-.94 2.06-2.06.94zm-11 1L8.5 8.5l.94-2.06 2.06-.94-2.06-.94L8.5 2.5l-.94 2.06-2.06.94zm10 10l.94 2.06.94-2.06 2.06-.94-2.06-.94-.94-2.06-.94 2.06-2.06.94z\"/><path d=\"M17.41 7.96l-1.37-1.37c-.4-.4-.92-.59-1.43-.59-.52 0-1.04.2-1.43.59L10.3 9.45l-7.72 7.72c-.78.78-.78 2.05 0 2.83L4 21.41c.39.39.9.59 1.41.59.51 0 1.02-.2 1.41-.59l7.78-7.78 2.81-2.81c.8-.78.8-2.07 0-2.86zM5.41 20L4 18.59l7.72-7.72 1.47 1.35L5.41 20z\"/>\n",
              "  </svg>\n",
              "      </button>\n",
              "      \n",
              "  <style>\n",
              "    .colab-df-container {\n",
              "      display:flex;\n",
              "      flex-wrap:wrap;\n",
              "      gap: 12px;\n",
              "    }\n",
              "\n",
              "    .colab-df-convert {\n",
              "      background-color: #E8F0FE;\n",
              "      border: none;\n",
              "      border-radius: 50%;\n",
              "      cursor: pointer;\n",
              "      display: none;\n",
              "      fill: #1967D2;\n",
              "      height: 32px;\n",
              "      padding: 0 0 0 0;\n",
              "      width: 32px;\n",
              "    }\n",
              "\n",
              "    .colab-df-convert:hover {\n",
              "      background-color: #E2EBFA;\n",
              "      box-shadow: 0px 1px 2px rgba(60, 64, 67, 0.3), 0px 1px 3px 1px rgba(60, 64, 67, 0.15);\n",
              "      fill: #174EA6;\n",
              "    }\n",
              "\n",
              "    [theme=dark] .colab-df-convert {\n",
              "      background-color: #3B4455;\n",
              "      fill: #D2E3FC;\n",
              "    }\n",
              "\n",
              "    [theme=dark] .colab-df-convert:hover {\n",
              "      background-color: #434B5C;\n",
              "      box-shadow: 0px 1px 3px 1px rgba(0, 0, 0, 0.15);\n",
              "      filter: drop-shadow(0px 1px 2px rgba(0, 0, 0, 0.3));\n",
              "      fill: #FFFFFF;\n",
              "    }\n",
              "  </style>\n",
              "\n",
              "      <script>\n",
              "        const buttonEl =\n",
              "          document.querySelector('#df-e576760c-fed5-492f-b8c6-474aebf76151 button.colab-df-convert');\n",
              "        buttonEl.style.display =\n",
              "          google.colab.kernel.accessAllowed ? 'block' : 'none';\n",
              "\n",
              "        async function convertToInteractive(key) {\n",
              "          const element = document.querySelector('#df-e576760c-fed5-492f-b8c6-474aebf76151');\n",
              "          const dataTable =\n",
              "            await google.colab.kernel.invokeFunction('convertToInteractive',\n",
              "                                                     [key], {});\n",
              "          if (!dataTable) return;\n",
              "\n",
              "          const docLinkHtml = 'Like what you see? Visit the ' +\n",
              "            '<a target=\"_blank\" href=https://colab.research.google.com/notebooks/data_table.ipynb>data table notebook</a>'\n",
              "            + ' to learn more about interactive tables.';\n",
              "          element.innerHTML = '';\n",
              "          dataTable['output_type'] = 'display_data';\n",
              "          await google.colab.output.renderOutput(dataTable, element);\n",
              "          const docLink = document.createElement('div');\n",
              "          docLink.innerHTML = docLinkHtml;\n",
              "          element.appendChild(docLink);\n",
              "        }\n",
              "      </script>\n",
              "    </div>\n",
              "  </div>\n",
              "  "
            ]
          },
          "metadata": {}
        },
        {
          "output_type": "display_data",
          "data": {
            "text/plain": [
              "                        stroke\n",
              "ever_married stroke           \n",
              "No           0       98.349459\n",
              "             1        1.650541\n",
              "Yes          0       93.438712\n",
              "             1        6.561288"
            ],
            "text/html": [
              "\n",
              "  <div id=\"df-cb880a32-b9db-4056-a214-9712db5e7657\">\n",
              "    <div class=\"colab-df-container\">\n",
              "      <div>\n",
              "<style scoped>\n",
              "    .dataframe tbody tr th:only-of-type {\n",
              "        vertical-align: middle;\n",
              "    }\n",
              "\n",
              "    .dataframe tbody tr th {\n",
              "        vertical-align: top;\n",
              "    }\n",
              "\n",
              "    .dataframe thead th {\n",
              "        text-align: right;\n",
              "    }\n",
              "</style>\n",
              "<table border=\"1\" class=\"dataframe\">\n",
              "  <thead>\n",
              "    <tr style=\"text-align: right;\">\n",
              "      <th></th>\n",
              "      <th></th>\n",
              "      <th>stroke</th>\n",
              "    </tr>\n",
              "    <tr>\n",
              "      <th>ever_married</th>\n",
              "      <th>stroke</th>\n",
              "      <th></th>\n",
              "    </tr>\n",
              "  </thead>\n",
              "  <tbody>\n",
              "    <tr>\n",
              "      <th rowspan=\"2\" valign=\"top\">No</th>\n",
              "      <th>0</th>\n",
              "      <td>98.349459</td>\n",
              "    </tr>\n",
              "    <tr>\n",
              "      <th>1</th>\n",
              "      <td>1.650541</td>\n",
              "    </tr>\n",
              "    <tr>\n",
              "      <th rowspan=\"2\" valign=\"top\">Yes</th>\n",
              "      <th>0</th>\n",
              "      <td>93.438712</td>\n",
              "    </tr>\n",
              "    <tr>\n",
              "      <th>1</th>\n",
              "      <td>6.561288</td>\n",
              "    </tr>\n",
              "  </tbody>\n",
              "</table>\n",
              "</div>\n",
              "      <button class=\"colab-df-convert\" onclick=\"convertToInteractive('df-cb880a32-b9db-4056-a214-9712db5e7657')\"\n",
              "              title=\"Convert this dataframe to an interactive table.\"\n",
              "              style=\"display:none;\">\n",
              "        \n",
              "  <svg xmlns=\"http://www.w3.org/2000/svg\" height=\"24px\"viewBox=\"0 0 24 24\"\n",
              "       width=\"24px\">\n",
              "    <path d=\"M0 0h24v24H0V0z\" fill=\"none\"/>\n",
              "    <path d=\"M18.56 5.44l.94 2.06.94-2.06 2.06-.94-2.06-.94-.94-2.06-.94 2.06-2.06.94zm-11 1L8.5 8.5l.94-2.06 2.06-.94-2.06-.94L8.5 2.5l-.94 2.06-2.06.94zm10 10l.94 2.06.94-2.06 2.06-.94-2.06-.94-.94-2.06-.94 2.06-2.06.94z\"/><path d=\"M17.41 7.96l-1.37-1.37c-.4-.4-.92-.59-1.43-.59-.52 0-1.04.2-1.43.59L10.3 9.45l-7.72 7.72c-.78.78-.78 2.05 0 2.83L4 21.41c.39.39.9.59 1.41.59.51 0 1.02-.2 1.41-.59l7.78-7.78 2.81-2.81c.8-.78.8-2.07 0-2.86zM5.41 20L4 18.59l7.72-7.72 1.47 1.35L5.41 20z\"/>\n",
              "  </svg>\n",
              "      </button>\n",
              "      \n",
              "  <style>\n",
              "    .colab-df-container {\n",
              "      display:flex;\n",
              "      flex-wrap:wrap;\n",
              "      gap: 12px;\n",
              "    }\n",
              "\n",
              "    .colab-df-convert {\n",
              "      background-color: #E8F0FE;\n",
              "      border: none;\n",
              "      border-radius: 50%;\n",
              "      cursor: pointer;\n",
              "      display: none;\n",
              "      fill: #1967D2;\n",
              "      height: 32px;\n",
              "      padding: 0 0 0 0;\n",
              "      width: 32px;\n",
              "    }\n",
              "\n",
              "    .colab-df-convert:hover {\n",
              "      background-color: #E2EBFA;\n",
              "      box-shadow: 0px 1px 2px rgba(60, 64, 67, 0.3), 0px 1px 3px 1px rgba(60, 64, 67, 0.15);\n",
              "      fill: #174EA6;\n",
              "    }\n",
              "\n",
              "    [theme=dark] .colab-df-convert {\n",
              "      background-color: #3B4455;\n",
              "      fill: #D2E3FC;\n",
              "    }\n",
              "\n",
              "    [theme=dark] .colab-df-convert:hover {\n",
              "      background-color: #434B5C;\n",
              "      box-shadow: 0px 1px 3px 1px rgba(0, 0, 0, 0.15);\n",
              "      filter: drop-shadow(0px 1px 2px rgba(0, 0, 0, 0.3));\n",
              "      fill: #FFFFFF;\n",
              "    }\n",
              "  </style>\n",
              "\n",
              "      <script>\n",
              "        const buttonEl =\n",
              "          document.querySelector('#df-cb880a32-b9db-4056-a214-9712db5e7657 button.colab-df-convert');\n",
              "        buttonEl.style.display =\n",
              "          google.colab.kernel.accessAllowed ? 'block' : 'none';\n",
              "\n",
              "        async function convertToInteractive(key) {\n",
              "          const element = document.querySelector('#df-cb880a32-b9db-4056-a214-9712db5e7657');\n",
              "          const dataTable =\n",
              "            await google.colab.kernel.invokeFunction('convertToInteractive',\n",
              "                                                     [key], {});\n",
              "          if (!dataTable) return;\n",
              "\n",
              "          const docLinkHtml = 'Like what you see? Visit the ' +\n",
              "            '<a target=\"_blank\" href=https://colab.research.google.com/notebooks/data_table.ipynb>data table notebook</a>'\n",
              "            + ' to learn more about interactive tables.';\n",
              "          element.innerHTML = '';\n",
              "          dataTable['output_type'] = 'display_data';\n",
              "          await google.colab.output.renderOutput(dataTable, element);\n",
              "          const docLink = document.createElement('div');\n",
              "          docLink.innerHTML = docLinkHtml;\n",
              "          element.appendChild(docLink);\n",
              "        }\n",
              "      </script>\n",
              "    </div>\n",
              "  </div>\n",
              "  "
            ]
          },
          "metadata": {}
        }
      ]
    },
    {
      "cell_type": "code",
      "source": [
        "sns.countplot(data=responses, x='ever_married', hue='stroke')"
      ],
      "metadata": {
        "colab": {
          "base_uri": "https://localhost:8080/",
          "height": 467
        },
        "id": "fPdFnb2Plu9h",
        "outputId": "4178ba17-45ac-4ecc-cab8-27c5fd2f2077"
      },
      "execution_count": 175,
      "outputs": [
        {
          "output_type": "execute_result",
          "data": {
            "text/plain": [
              "<Axes: xlabel='ever_married', ylabel='count'>"
            ]
          },
          "metadata": {},
          "execution_count": 175
        },
        {
          "output_type": "display_data",
          "data": {
            "text/plain": [
              "<Figure size 640x480 with 1 Axes>"
            ],
            "image/png": "[encoded data removed]"
          },
          "metadata": {}
        }
      ]
    },
    {
      "cell_type": "code",
      "source": [
        "sns.stripplot(data=responses, x=\"ever_married\", y=\"age\") #Do we see more stroke after a certain age?"
      ],
      "metadata": {
        "colab": {
          "base_uri": "https://localhost:8080/",
          "height": 467
        },
        "id": "nw01107Ll1W5",
        "outputId": "c951ea65-b0b6-4fc3-cc0d-672b648e5b1c"
      },
      "execution_count": 176,
      "outputs": [
        {
          "output_type": "execute_result",
          "data": {
            "text/plain": [
              "<Axes: xlabel='ever_married', ylabel='age'>"
            ]
          },
          "metadata": {},
          "execution_count": 176
        },
        {
          "output_type": "display_data",
          "data": {
            "text/plain": [
              "<Figure size 640x480 with 1 Axes>"
            ],
            "image/png": "[encoded data removed]"
          },
          "metadata": {}
        }
      ]
    },
    {
      "cell_type": "markdown",
      "source": [
        "## EDA Findings & Answered Questions\n",
        "### Question 1 - Can I use EDA to predict the features that will have the highest weight/score when the machine learning finds the best model?\n",
        "\n",
        "Here are my guesses:\n",
        "\n",
        "\n",
        "1. The patient's gender appears to have no bearing on the risk of stroke.  Both sexes have a 5% chance of having a stroke. \n",
        "1.  The patient's residence type appears to have no bearing on the risk of stroke.  \n",
        "1.  The BMI seems to have no bearing on the risk of stroke.  The boxplot shows that the people with strokes are within the same Q1 to Q3 quartiles as those without stroke.  \n",
        "1. Age appears to have a bearing on stroke risk.  Patients generally older than 40 have strokes.  There are 3 outliers of patients under 40 having strokes.  The boxplot shows patients between 60 & 80 generally have strokes.  It also shoes patients between 21 & 59 generally do not have strokes.\n",
        "1. Hypertension seems to be an indicator for stroke.  4% of patients that do not have hypertension had a stroke.  13% of patients that have hypertension had a stroke.  Hypertension is more prevalent among older people, but there seems to be a higher group of people who had strokes that are older and have hypertension, compared to anyone else.  It looks like the combination of age and hypertension may be a factor when considering stroke.\n",
        "1. Heart disease seems to be an indicator for stroke.  4% of patients that do not have heart disease had a stroke.  17% of patients that have heart disease  had a stroke.  Heart disease  is more prevalent among older people, but there seems to be a higher group of people who had strokes that are older and have heart disease , compared to anyone else.  It looks like the combination of age and heart disease  may be a factor when considering stroke.\n",
        "1. Initially it appears that work_type of children and no work was associated with a low risk of stroke.  Upon further investigation, it became clear the ages of those people who aren't working, or raising children, was 20 or under.  This finding appears to be related to age and not work type.  If I remove those two values it appears that those working in government and private sector both have a 5% chance of having a stroke.  9% of self employed patients have had a stroke.  There appears to be a correlation between work type and the probability of having a stroke.  This could be stress related.\n",
        "1. Patients with higher average blood glucose levels have a higher percentage of strokes. \n",
        "1.  Only 2% of patients that are not married have had a stroke. 7% of married patients had a stroke.  That's a 5% higher incidence of stroke.  The issue I see with this assumption is that married people are generally older individuals and unmarried people are generally younger.  I need help on this to determine how to determine if this is a meaningful datapoint. \n",
        "\n",
        "\n",
        "### Question 2 - How clean is the BMI?  BMI is notorious for being inaccurate because it relies on people to measure height and weight.  Issue arise when people use different units (i.e. cm and lbs.) and with people who can't measure well (wheelchairs, walkers, etc.).\n",
        "\n",
        "*   The BMI has a of outliers.  I'm going to go with 2 standard deviations.  This brings the values to 13 to 47.\n",
        "*   The BMI is missing from 210 patients.\n",
        "\n",
        "\n",
        "### Question 3 - How much garbage data is out there (i.e. missing columns, bad data, etc.)?  Suggest ways to deal with it and validate with professor.\n",
        "1. BMI has 201 missing values.  BMI is a problem besides the missing values.  There are values which really cannot be accurate.  \n",
        "1. ever_smoked appears to be bad data.  The 'unknown' values are present in 30% of the records.   5% of patients who never smoked and who currently smoke have had a stroke.  That fact alone suggests smoking has no bearing on strokes.  It's interesting that 8% of patients that quit smoking had a stroke and 3% of patients that didn't answer the question never had a stroke.  This seems like garbage data to me.  Unknown should be somewhere between never smoked and currently smokes.  It also seems unlikely that those who quit smoking are worse off then those who currently smoke.\n",
        "1. There is one 'Other' value in the gender feature.  The entire row/record will be removed.\n",
        "\n",
        "### Question 4 - Are there enough stroke victims to make a prediction?  The future lectures (or the professor) talked about balanced data.  This question may actually be: Do I have balanced data and if it, do I need to do something with it?  \n",
        "\n",
        "The data does not appear to be balanced.  Only 5% of the patients have had a stroke (249 strokes / 4861 non-strokes).  I will stratify the dataframe when I split the train/test data.\n",
        "\n",
        "### Question 5 - What Panda methods (graphs/plots/functions) represent that data the best?\n",
        "\n",
        "I've only researched a subset of the pandas, seaborn, and matplotlib, but I've already found a few trends.\n",
        "1. For hard counts, I use pandas: info and value_counts.  I want to see the actual numbers.  The pie charts and bar graphs are don't show the detail I need.  It's hard to tell that 5% of both genders had a stroke.  Looking at the graphs, it almost looks like females had more strokes.\n",
        "2. For categorical variables, I found using the countplot, with a hue of stroke, really helped to show high level relationships between the feature in question and the incident of stroke.  Having this picture is a great visualization and helps identify trends.  It seemed that I always had to follow up with the textual computation of the data.  I feel both methods are necessary to get a clear picture.  as\n",
        "3. For continuous variables, I found using a histogram showed me how evenly the data was spaced out.   I also found the combination of the stripplot (scatter plot) and the boxplot effective at looking at the data.  I think the boxplot would have worked fine, except for I was not as familiar with the boxplot.  The scatter plot helped me understand the boxplot more.  \n",
        "4. I also found the groupby method extremely effective in finding the percentages of values for categorical variables.\n",
        "5. I found the violin plot interesting to look at hypertension.  Hypertension was observed across all ages.  I wanted to see if hypertension existed more in the upper age groups and this plot was able to show me that."
      ],
      "metadata": {
        "id": "OFcHFTkMmRiT"
      }
    },
    {
      "cell_type": "markdown",
      "source": [
        "# Feature Engineering\n",
        "Create a final list of features from the dataset, based on the EDA.\n"
      ],
      "metadata": {
        "id": "5ADRC7YKdT2g"
      }
    },
    {
      "cell_type": "code",
      "source": [
        "# For testing only: responses = pd.read_csv('https://raw.githubusercontent.com/matthewdheilmanvanderbilt/CS5262_MachineLearning/main/healthcare-dataset-stroke-data.csv')\n",
        "\n",
        "display(responses.shape)"
      ],
      "metadata": {
        "colab": {
          "base_uri": "https://localhost:8080/",
          "height": 34
        },
        "id": "P76C-nwVzuhb",
        "outputId": "3e077a5b-d113-4c36-8b38-6c356338d452"
      },
      "execution_count": 177,
      "outputs": [
        {
          "output_type": "display_data",
          "data": {
            "text/plain": [
              "(5110, 12)"
            ]
          },
          "metadata": {}
        }
      ]
    },
    {
      "cell_type": "markdown",
      "source": [
        "## Remove the unique identifier (id) feature.  It is a unique identifier that overspecifies the data. "
      ],
      "metadata": {
        "id": "1SfHp9fpzyQr"
      }
    },
    {
      "cell_type": "code",
      "source": [
        "responses = responses.drop(columns=['id'])"
      ],
      "metadata": {
        "id": "gEwt8e0qVNIF"
      },
      "execution_count": 178,
      "outputs": []
    },
    {
      "cell_type": "markdown",
      "source": [
        "## Remove the 'Other' gender.  There is only one 'Other' gender and it can be considered an outlier and not needed.  "
      ],
      "metadata": {
        "id": "hBVIAEd9zrNm"
      }
    },
    {
      "cell_type": "code",
      "source": [
        "responses.drop(responses[responses['gender'] == 'Other'].index, inplace = True)"
      ],
      "metadata": {
        "id": "0KQpcn2c0CVm"
      },
      "execution_count": 179,
      "outputs": []
    },
    {
      "cell_type": "markdown",
      "source": [
        "## Drop the records with a null/nan BMI"
      ],
      "metadata": {
        "id": "ccu07wqk0Fzt"
      }
    },
    {
      "cell_type": "code",
      "source": [
        "responses = responses.dropna(subset=['bmi'])"
      ],
      "metadata": {
        "id": "WqF1e8J60I4U"
      },
      "execution_count": 180,
      "outputs": []
    },
    {
      "cell_type": "markdown",
      "source": [
        "## Categorize BMI to make it more conducive to machine learning (using CDC values)\n",
        "*  less than 18.5 = underweight\n",
        "*  18.5 to < 25 = healthy\n",
        "*  25.0 to < 30 = overweight\n",
        "*  30 or higher = obese\n"
      ],
      "metadata": {
        "id": "Y0yz3HFP0O4l"
      }
    },
    {
      "cell_type": "code",
      "source": [
        "bmi_bins = [-np.inf,18.5, 25, 30, np.inf]\n",
        "bmi_labels = [\"underweight\",\"healthy\",\"overweight\",\"obese\"]\n",
        "responses['bmi_cat'] = pd.cut(responses['bmi'], bins=bmi_bins, labels=bmi_labels)\n",
        "\n",
        "## Drop the original bmi feature (replaced with categories)\n",
        "responses = responses.drop(columns=['bmi'])"
      ],
      "metadata": {
        "id": "0fLPf8X-0P2a",
        "outputId": "6e2b1881-1454-44a8-f64f-ad3aded379bd",
        "colab": {
          "base_uri": "https://localhost:8080/"
        }
      },
      "execution_count": 181,
      "outputs": [
        {
          "output_type": "stream",
          "name": "stderr",
          "text": [
            "<ipython-input-181-51ebecc0519c>:3: SettingWithCopyWarning: \n",
            "A value is trying to be set on a copy of a slice from a DataFrame.\n",
            "Try using .loc[row_indexer,col_indexer] = value instead\n",
            "\n",
            "See the caveats in the documentation: https://pandas.pydata.org/pandas-docs/stable/user_guide/indexing.html#returning-a-view-versus-a-copy\n",
            "  responses['bmi_cat'] = pd.cut(responses['bmi'], bins=bmi_bins, labels=bmi_labels)\n"
          ]
        }
      ]
    },
    {
      "cell_type": "markdown",
      "source": [
        "## Categorize blood glucose levels to make it more conducive to machine learning (using CDC values)\n",
        "* less than or equal to 99 mg/dl = normal\n",
        "* 100 to <= 125 = prediabetes\n",
        "* 126 or higher = diabetes\n"
      ],
      "metadata": {
        "id": "d-QFHXSe1BgQ"
      }
    },
    {
      "cell_type": "code",
      "source": [
        "abl_bins = [-np.inf,100, 126, np.inf]\n",
        "abl_labels = [\"normal\",\"prediabetes\",\"diabetes\"]\n",
        "responses['avg_glucose_level_cat'] = pd.cut(responses['avg_glucose_level'], bins=abl_bins, labels=abl_labels)\n",
        "\n",
        "## Drop original average blood level feature (replaced with categories)\n",
        "responses = responses.drop(columns=['avg_glucose_level'])"
      ],
      "metadata": {
        "id": "jRVnLM361IEY"
      },
      "execution_count": 182,
      "outputs": []
    },
    {
      "cell_type": "markdown",
      "source": [
        "## Convert age to integer, rounding the ages below 2 which have decimal values"
      ],
      "metadata": {
        "id": "CPFqKes13iDl"
      }
    },
    {
      "cell_type": "code",
      "source": [
        "responses['age'] = responses['age'].astype(int)"
      ],
      "metadata": {
        "id": "uLDbxoyF77Ua"
      },
      "execution_count": 183,
      "outputs": []
    },
    {
      "cell_type": "markdown",
      "source": [
        "## Display top 5 records to look at the transformed data.  Also look at shape to validate 202 records were removed and one feature removed"
      ],
      "metadata": {
        "id": "1xdbRg1M3mp-"
      }
    },
    {
      "cell_type": "code",
      "source": [
        "display(responses.head())\n",
        "display(responses.shape)"
      ],
      "metadata": {
        "colab": {
          "base_uri": "https://localhost:8080/",
          "height": 224
        },
        "id": "muRp9QZC4Kg-",
        "outputId": "b4f42599-53de-47c6-8811-70a426c82ca0"
      },
      "execution_count": 184,
      "outputs": [
        {
          "output_type": "display_data",
          "data": {
            "text/plain": [
              "   gender  age  hypertension  heart_disease ever_married      work_type  \\\n",
              "0    Male   67             0              1          Yes        Private   \n",
              "2    Male   80             0              1          Yes        Private   \n",
              "3  Female   49             0              0          Yes        Private   \n",
              "4  Female   79             1              0          Yes  Self-employed   \n",
              "5    Male   81             0              0          Yes        Private   \n",
              "\n",
              "  Residence_type   smoking_status  stroke     bmi_cat avg_glucose_level_cat  \n",
              "0          Urban  formerly smoked       1       obese              diabetes  \n",
              "2          Rural     never smoked       1       obese           prediabetes  \n",
              "3          Urban           smokes       1       obese              diabetes  \n",
              "4          Rural     never smoked       1     healthy              diabetes  \n",
              "5          Urban  formerly smoked       1  overweight              diabetes  "
            ],
            "text/html": [
              "\n",
              "  <div id=\"df-699ae125-8707-47c2-b3a1-f2bbe2c98bdd\">\n",
              "    <div class=\"colab-df-container\">\n",
              "      <div>\n",
              "<style scoped>\n",
              "    .dataframe tbody tr th:only-of-type {\n",
              "        vertical-align: middle;\n",
              "    }\n",
              "\n",
              "    .dataframe tbody tr th {\n",
              "        vertical-align: top;\n",
              "    }\n",
              "\n",
              "    .dataframe thead th {\n",
              "        text-align: right;\n",
              "    }\n",
              "</style>\n",
              "<table border=\"1\" class=\"dataframe\">\n",
              "  <thead>\n",
              "    <tr style=\"text-align: right;\">\n",
              "      <th></th>\n",
              "      <th>gender</th>\n",
              "      <th>age</th>\n",
              "      <th>hypertension</th>\n",
              "      <th>heart_disease</th>\n",
              "      <th>ever_married</th>\n",
              "      <th>work_type</th>\n",
              "      <th>Residence_type</th>\n",
              "      <th>smoking_status</th>\n",
              "      <th>stroke</th>\n",
              "      <th>bmi_cat</th>\n",
              "      <th>avg_glucose_level_cat</th>\n",
              "    </tr>\n",
              "  </thead>\n",
              "  <tbody>\n",
              "    <tr>\n",
              "      <th>0</th>\n",
              "      <td>Male</td>\n",
              "      <td>67</td>\n",
              "      <td>0</td>\n",
              "      <td>1</td>\n",
              "      <td>Yes</td>\n",
              "      <td>Private</td>\n",
              "      <td>Urban</td>\n",
              "      <td>formerly smoked</td>\n",
              "      <td>1</td>\n",
              "      <td>obese</td>\n",
              "      <td>diabetes</td>\n",
              "    </tr>\n",
              "    <tr>\n",
              "      <th>2</th>\n",
              "      <td>Male</td>\n",
              "      <td>80</td>\n",
              "      <td>0</td>\n",
              "      <td>1</td>\n",
              "      <td>Yes</td>\n",
              "      <td>Private</td>\n",
              "      <td>Rural</td>\n",
              "      <td>never smoked</td>\n",
              "      <td>1</td>\n",
              "      <td>obese</td>\n",
              "      <td>prediabetes</td>\n",
              "    </tr>\n",
              "    <tr>\n",
              "      <th>3</th>\n",
              "      <td>Female</td>\n",
              "      <td>49</td>\n",
              "      <td>0</td>\n",
              "      <td>0</td>\n",
              "      <td>Yes</td>\n",
              "      <td>Private</td>\n",
              "      <td>Urban</td>\n",
              "      <td>smokes</td>\n",
              "      <td>1</td>\n",
              "      <td>obese</td>\n",
              "      <td>diabetes</td>\n",
              "    </tr>\n",
              "    <tr>\n",
              "      <th>4</th>\n",
              "      <td>Female</td>\n",
              "      <td>79</td>\n",
              "      <td>1</td>\n",
              "      <td>0</td>\n",
              "      <td>Yes</td>\n",
              "      <td>Self-employed</td>\n",
              "      <td>Rural</td>\n",
              "      <td>never smoked</td>\n",
              "      <td>1</td>\n",
              "      <td>healthy</td>\n",
              "      <td>diabetes</td>\n",
              "    </tr>\n",
              "    <tr>\n",
              "      <th>5</th>\n",
              "      <td>Male</td>\n",
              "      <td>81</td>\n",
              "      <td>0</td>\n",
              "      <td>0</td>\n",
              "      <td>Yes</td>\n",
              "      <td>Private</td>\n",
              "      <td>Urban</td>\n",
              "      <td>formerly smoked</td>\n",
              "      <td>1</td>\n",
              "      <td>overweight</td>\n",
              "      <td>diabetes</td>\n",
              "    </tr>\n",
              "  </tbody>\n",
              "</table>\n",
              "</div>\n",
              "      <button class=\"colab-df-convert\" onclick=\"convertToInteractive('df-699ae125-8707-47c2-b3a1-f2bbe2c98bdd')\"\n",
              "              title=\"Convert this dataframe to an interactive table.\"\n",
              "              style=\"display:none;\">\n",
              "        \n",
              "  <svg xmlns=\"http://www.w3.org/2000/svg\" height=\"24px\"viewBox=\"0 0 24 24\"\n",
              "       width=\"24px\">\n",
              "    <path d=\"M0 0h24v24H0V0z\" fill=\"none\"/>\n",
              "    <path d=\"M18.56 5.44l.94 2.06.94-2.06 2.06-.94-2.06-.94-.94-2.06-.94 2.06-2.06.94zm-11 1L8.5 8.5l.94-2.06 2.06-.94-2.06-.94L8.5 2.5l-.94 2.06-2.06.94zm10 10l.94 2.06.94-2.06 2.06-.94-2.06-.94-.94-2.06-.94 2.06-2.06.94z\"/><path d=\"M17.41 7.96l-1.37-1.37c-.4-.4-.92-.59-1.43-.59-.52 0-1.04.2-1.43.59L10.3 9.45l-7.72 7.72c-.78.78-.78 2.05 0 2.83L4 21.41c.39.39.9.59 1.41.59.51 0 1.02-.2 1.41-.59l7.78-7.78 2.81-2.81c.8-.78.8-2.07 0-2.86zM5.41 20L4 18.59l7.72-7.72 1.47 1.35L5.41 20z\"/>\n",
              "  </svg>\n",
              "      </button>\n",
              "      \n",
              "  <style>\n",
              "    .colab-df-container {\n",
              "      display:flex;\n",
              "      flex-wrap:wrap;\n",
              "      gap: 12px;\n",
              "    }\n",
              "\n",
              "    .colab-df-convert {\n",
              "      background-color: #E8F0FE;\n",
              "      border: none;\n",
              "      border-radius: 50%;\n",
              "      cursor: pointer;\n",
              "      display: none;\n",
              "      fill: #1967D2;\n",
              "      height: 32px;\n",
              "      padding: 0 0 0 0;\n",
              "      width: 32px;\n",
              "    }\n",
              "\n",
              "    .colab-df-convert:hover {\n",
              "      background-color: #E2EBFA;\n",
              "      box-shadow: 0px 1px 2px rgba(60, 64, 67, 0.3), 0px 1px 3px 1px rgba(60, 64, 67, 0.15);\n",
              "      fill: #174EA6;\n",
              "    }\n",
              "\n",
              "    [theme=dark] .colab-df-convert {\n",
              "      background-color: #3B4455;\n",
              "      fill: #D2E3FC;\n",
              "    }\n",
              "\n",
              "    [theme=dark] .colab-df-convert:hover {\n",
              "      background-color: #434B5C;\n",
              "      box-shadow: 0px 1px 3px 1px rgba(0, 0, 0, 0.15);\n",
              "      filter: drop-shadow(0px 1px 2px rgba(0, 0, 0, 0.3));\n",
              "      fill: #FFFFFF;\n",
              "    }\n",
              "  </style>\n",
              "\n",
              "      <script>\n",
              "        const buttonEl =\n",
              "          document.querySelector('#df-699ae125-8707-47c2-b3a1-f2bbe2c98bdd button.colab-df-convert');\n",
              "        buttonEl.style.display =\n",
              "          google.colab.kernel.accessAllowed ? 'block' : 'none';\n",
              "\n",
              "        async function convertToInteractive(key) {\n",
              "          const element = document.querySelector('#df-699ae125-8707-47c2-b3a1-f2bbe2c98bdd');\n",
              "          const dataTable =\n",
              "            await google.colab.kernel.invokeFunction('convertToInteractive',\n",
              "                                                     [key], {});\n",
              "          if (!dataTable) return;\n",
              "\n",
              "          const docLinkHtml = 'Like what you see? Visit the ' +\n",
              "            '<a target=\"_blank\" href=https://colab.research.google.com/notebooks/data_table.ipynb>data table notebook</a>'\n",
              "            + ' to learn more about interactive tables.';\n",
              "          element.innerHTML = '';\n",
              "          dataTable['output_type'] = 'display_data';\n",
              "          await google.colab.output.renderOutput(dataTable, element);\n",
              "          const docLink = document.createElement('div');\n",
              "          docLink.innerHTML = docLinkHtml;\n",
              "          element.appendChild(docLink);\n",
              "        }\n",
              "      </script>\n",
              "    </div>\n",
              "  </div>\n",
              "  "
            ]
          },
          "metadata": {}
        },
        {
          "output_type": "display_data",
          "data": {
            "text/plain": [
              "(4908, 11)"
            ]
          },
          "metadata": {}
        }
      ]
    },
    {
      "cell_type": "markdown",
      "source": [
        "# Train-Test Split\n",
        "* Split the data 75% train and 25% split.  The dataset is small so I'm staying on the lower side of the 25% - 35% train recommendation.\n",
        "* There will be no golden holdout.  I don't have any raw data that I can feed into this later to validate the model.  A holdout is good practice and could be employted before deploying the model to production if raw data could be obtained.\n",
        "* Stratisfy the outcome (stroke) because the data is unbalanced (90%/10%)."
      ],
      "metadata": {
        "id": "mitAvuQ8obdZ"
      }
    },
    {
      "cell_type": "code",
      "source": [
        "class_column = ['stroke']\n",
        "random_seed = 1234\n",
        "\n",
        "X_train, X_test, y_train, y_test = train_test_split(responses.drop(columns=class_column),responses[class_column], test_size=0.25, random_state=random_seed, stratify=responses[class_column])"
      ],
      "metadata": {
        "id": "02YNXzEDoMdv"
      },
      "execution_count": 185,
      "outputs": []
    },
    {
      "cell_type": "markdown",
      "source": [
        "## Santity Check\n",
        "Quick look to see if the split looks correct"
      ],
      "metadata": {
        "id": "uGtFPANd5XV-"
      }
    },
    {
      "cell_type": "code",
      "source": [
        "display('On X train:')\n",
        "display('X train dimensions: ', X_train.shape)\n",
        "display(X_train.head)\n",
        "X_train.info()\n",
        "\n",
        "\n",
        "display('On X test:')\n",
        "display('X test dimensions: ', X_test.shape)\n",
        "display(X_test.head)\n",
        "X_test.info()\n",
        "\n",
        "display('On y train:')\n",
        "display('y train dimensions: ', y_train.shape)\n",
        "display(y_train.head)\n",
        "y_train.info()\n",
        "\n",
        "display('On y test:')\n",
        "display('X test dimensions: ', y_test.shape)\n",
        "display(y_test.head)\n",
        "y_test.info()\n",
        "\n"
      ],
      "metadata": {
        "colab": {
          "base_uri": "https://localhost:8080/",
          "height": 1000
        },
        "id": "9rlrSo5REHgD",
        "outputId": "9554e21c-18fa-4913-de76-253b37cfd8c4"
      },
      "execution_count": 186,
      "outputs": [
        {
          "output_type": "display_data",
          "data": {
            "text/plain": [
              "'On X train:'"
            ],
            "application/vnd.google.colaboratory.intrinsic+json": {
              "type": "string"
            }
          },
          "metadata": {}
        },
        {
          "output_type": "display_data",
          "data": {
            "text/plain": [
              "'X train dimensions: '"
            ],
            "application/vnd.google.colaboratory.intrinsic+json": {
              "type": "string"
            }
          },
          "metadata": {}
        },
        {
          "output_type": "display_data",
          "data": {
            "text/plain": [
              "(3681, 10)"
            ]
          },
          "metadata": {}
        },
        {
          "output_type": "display_data",
          "data": {
            "text/plain": [
              "<bound method NDFrame.head of       gender  age  hypertension  heart_disease ever_married      work_type  \\\n",
              "457   Female   33             1              0          Yes        Private   \n",
              "1072  Female   66             0              0          Yes       Govt_job   \n",
              "4867    Male   49             0              0          Yes  Self-employed   \n",
              "4981    Male   15             0              0           No        Private   \n",
              "1905    Male   38             0              0          Yes       Govt_job   \n",
              "...      ...  ...           ...            ...          ...            ...   \n",
              "1068  Female   82             0              0          Yes        Private   \n",
              "3208    Male   15             0              0           No       children   \n",
              "1803    Male   35             0              0          Yes        Private   \n",
              "4930    Male    9             0              0           No       children   \n",
              "107   Female   54             0              0          Yes  Self-employed   \n",
              "\n",
              "     Residence_type   smoking_status      bmi_cat avg_glucose_level_cat  \n",
              "457           Urban           smokes        obese                normal  \n",
              "1072          Rural     never smoked   overweight                normal  \n",
              "4867          Urban  formerly smoked   overweight                normal  \n",
              "4981          Urban          Unknown      healthy                normal  \n",
              "1905          Rural     never smoked      healthy              diabetes  \n",
              "...             ...              ...          ...                   ...  \n",
              "1068          Rural          Unknown   overweight                normal  \n",
              "3208          Rural     never smoked        obese                normal  \n",
              "1803          Urban     never smoked      healthy                normal  \n",
              "4930          Urban          Unknown  underweight                normal  \n",
              "107           Rural           smokes        obese              diabetes  \n",
              "\n",
              "[3681 rows x 10 columns]>"
            ]
          },
          "metadata": {}
        },
        {
          "output_type": "stream",
          "name": "stdout",
          "text": [
            "<class 'pandas.core.frame.DataFrame'>\n",
            "Int64Index: 3681 entries, 457 to 107\n",
            "Data columns (total 10 columns):\n",
            " #   Column                 Non-Null Count  Dtype   \n",
            "---  ------                 --------------  -----   \n",
            " 0   gender                 3681 non-null   object  \n",
            " 1   age                    3681 non-null   int64   \n",
            " 2   hypertension           3681 non-null   int64   \n",
            " 3   heart_disease          3681 non-null   int64   \n",
            " 4   ever_married           3681 non-null   object  \n",
            " 5   work_type              3681 non-null   object  \n",
            " 6   Residence_type         3681 non-null   object  \n",
            " 7   smoking_status         3681 non-null   object  \n",
            " 8   bmi_cat                3681 non-null   category\n",
            " 9   avg_glucose_level_cat  3681 non-null   category\n",
            "dtypes: category(2), int64(3), object(5)\n",
            "memory usage: 266.3+ KB\n"
          ]
        },
        {
          "output_type": "display_data",
          "data": {
            "text/plain": [
              "'On X test:'"
            ],
            "application/vnd.google.colaboratory.intrinsic+json": {
              "type": "string"
            }
          },
          "metadata": {}
        },
        {
          "output_type": "display_data",
          "data": {
            "text/plain": [
              "'X test dimensions: '"
            ],
            "application/vnd.google.colaboratory.intrinsic+json": {
              "type": "string"
            }
          },
          "metadata": {}
        },
        {
          "output_type": "display_data",
          "data": {
            "text/plain": [
              "(1227, 10)"
            ]
          },
          "metadata": {}
        },
        {
          "output_type": "display_data",
          "data": {
            "text/plain": [
              "<bound method NDFrame.head of       gender  age  hypertension  heart_disease ever_married work_type  \\\n",
              "4072  Female   61             0              0          Yes   Private   \n",
              "687   Female   35             0              0          Yes   Private   \n",
              "2786    Male   78             0              0          Yes  Govt_job   \n",
              "264     Male   35             0              0           No   Private   \n",
              "4247    Male   23             0              0           No   Private   \n",
              "...      ...  ...           ...            ...          ...       ...   \n",
              "762   Female   17             0              0           No   Private   \n",
              "3786  Female    1             0              0           No  children   \n",
              "4032  Female   79             0              0          Yes   Private   \n",
              "601     Male   53             0              0          Yes   Private   \n",
              "1576  Female   77             0              0          Yes   Private   \n",
              "\n",
              "     Residence_type   smoking_status      bmi_cat avg_glucose_level_cat  \n",
              "4072          Rural  formerly smoked   overweight                normal  \n",
              "687           Urban  formerly smoked      healthy           prediabetes  \n",
              "2786          Urban  formerly smoked   overweight              diabetes  \n",
              "264           Rural     never smoked        obese                normal  \n",
              "4247          Rural          Unknown   overweight                normal  \n",
              "...             ...              ...          ...                   ...  \n",
              "762           Rural           smokes   overweight              diabetes  \n",
              "3786          Rural          Unknown  underweight                normal  \n",
              "4032          Urban          Unknown        obese                normal  \n",
              "601           Rural     never smoked        obese                normal  \n",
              "1576          Rural  formerly smoked   overweight                normal  \n",
              "\n",
              "[1227 rows x 10 columns]>"
            ]
          },
          "metadata": {}
        },
        {
          "output_type": "stream",
          "name": "stdout",
          "text": [
            "<class 'pandas.core.frame.DataFrame'>\n",
            "Int64Index: 1227 entries, 4072 to 1576\n",
            "Data columns (total 10 columns):\n",
            " #   Column                 Non-Null Count  Dtype   \n",
            "---  ------                 --------------  -----   \n",
            " 0   gender                 1227 non-null   object  \n",
            " 1   age                    1227 non-null   int64   \n",
            " 2   hypertension           1227 non-null   int64   \n",
            " 3   heart_disease          1227 non-null   int64   \n",
            " 4   ever_married           1227 non-null   object  \n",
            " 5   work_type              1227 non-null   object  \n",
            " 6   Residence_type         1227 non-null   object  \n",
            " 7   smoking_status         1227 non-null   object  \n",
            " 8   bmi_cat                1227 non-null   category\n",
            " 9   avg_glucose_level_cat  1227 non-null   category\n",
            "dtypes: category(2), int64(3), object(5)\n",
            "memory usage: 89.0+ KB\n"
          ]
        },
        {
          "output_type": "display_data",
          "data": {
            "text/plain": [
              "'On y train:'"
            ],
            "application/vnd.google.colaboratory.intrinsic+json": {
              "type": "string"
            }
          },
          "metadata": {}
        },
        {
          "output_type": "display_data",
          "data": {
            "text/plain": [
              "'y train dimensions: '"
            ],
            "application/vnd.google.colaboratory.intrinsic+json": {
              "type": "string"
            }
          },
          "metadata": {}
        },
        {
          "output_type": "display_data",
          "data": {
            "text/plain": [
              "(3681, 1)"
            ]
          },
          "metadata": {}
        },
        {
          "output_type": "display_data",
          "data": {
            "text/plain": [
              "<bound method NDFrame.head of       stroke\n",
              "457        0\n",
              "1072       0\n",
              "4867       0\n",
              "4981       0\n",
              "1905       0\n",
              "...      ...\n",
              "1068       0\n",
              "3208       0\n",
              "1803       0\n",
              "4930       0\n",
              "107        1\n",
              "\n",
              "[3681 rows x 1 columns]>"
            ]
          },
          "metadata": {}
        },
        {
          "output_type": "stream",
          "name": "stdout",
          "text": [
            "<class 'pandas.core.frame.DataFrame'>\n",
            "Int64Index: 3681 entries, 457 to 107\n",
            "Data columns (total 1 columns):\n",
            " #   Column  Non-Null Count  Dtype\n",
            "---  ------  --------------  -----\n",
            " 0   stroke  3681 non-null   int64\n",
            "dtypes: int64(1)\n",
            "memory usage: 57.5 KB\n"
          ]
        },
        {
          "output_type": "display_data",
          "data": {
            "text/plain": [
              "'On y test:'"
            ],
            "application/vnd.google.colaboratory.intrinsic+json": {
              "type": "string"
            }
          },
          "metadata": {}
        },
        {
          "output_type": "display_data",
          "data": {
            "text/plain": [
              "'X test dimensions: '"
            ],
            "application/vnd.google.colaboratory.intrinsic+json": {
              "type": "string"
            }
          },
          "metadata": {}
        },
        {
          "output_type": "display_data",
          "data": {
            "text/plain": [
              "(1227, 1)"
            ]
          },
          "metadata": {}
        },
        {
          "output_type": "display_data",
          "data": {
            "text/plain": [
              "<bound method NDFrame.head of       stroke\n",
              "4072       0\n",
              "687        0\n",
              "2786       0\n",
              "264        0\n",
              "4247       0\n",
              "...      ...\n",
              "762        0\n",
              "3786       0\n",
              "4032       0\n",
              "601        0\n",
              "1576       0\n",
              "\n",
              "[1227 rows x 1 columns]>"
            ]
          },
          "metadata": {}
        },
        {
          "output_type": "stream",
          "name": "stdout",
          "text": [
            "<class 'pandas.core.frame.DataFrame'>\n",
            "Int64Index: 1227 entries, 4072 to 1576\n",
            "Data columns (total 1 columns):\n",
            " #   Column  Non-Null Count  Dtype\n",
            "---  ------  --------------  -----\n",
            " 0   stroke  1227 non-null   int64\n",
            "dtypes: int64(1)\n",
            "memory usage: 19.2 KB\n"
          ]
        }
      ]
    },
    {
      "cell_type": "markdown",
      "source": [
        "# Pipeline\n",
        "1.  I have no values to impute.  I've removed all missing values.\n",
        "1.  I'll need two different pipelines (categorical & numeric). \n",
        "*  I will use a onehot processor for my categorical variables/pipeline (hypertension, heart_disease\tever_married, work_type, Residence_type, smoking_status, stroke, bmi_cat, avg_glucose_level_cat)   \n",
        "*  I will use a standard scaler for my numerical variable/pipeline (age).\n",
        "3. The last step of the pipeline will be to create a model.  This will change from a processing pipeline to a model pipeline.  I'll use the method of Logistic Regression so I can do model fitting.  \n"
      ],
      "metadata": {
        "id": "RpzNmPDxpQES"
      }
    },
    {
      "cell_type": "code",
      "source": [
        "responses.info()\n",
        "\n",
        "# individual pipelines for categorical variables and count variables\n",
        "#cat_pipeline = Pipeline(steps=['onehot_cat', preprocessing.OneHotEncoder(drop='if_binary')])\n",
        "#num_pipeline = Pipeline(steps=['scale_num', preprocessing.StandardScaler()])\n",
        "\n",
        "cat_pipeline = Pipeline(steps=[('cat_impute', SimpleImputer(strategy='most_frequent')),\n",
        "                               ('onehot_cat', OneHotEncoder())])\n",
        "\n",
        "num_pipeline = Pipeline(steps=[('impute_num', SimpleImputer(strategy='mean')),\n",
        "                               ('scale_num', StandardScaler())])\n",
        "\n",
        "#establish preprocessing on the data\n",
        "\n",
        "cat_cols = ['gender', 'hypertension', 'heart_disease', 'ever_married', 'work_type', 'Residence_type', 'smoking_status', 'bmi_cat', 'avg_glucose_level_cat']\n",
        "num_cols = ['age']\n",
        "\n",
        "preproc = ColumnTransformer([('cat_pipe', cat_pipeline, cat_cols),\n",
        "                             ('num_pipe', num_pipeline, num_cols)],\n",
        "                             remainder='passthrough')\n",
        "\n",
        "\n",
        "\n",
        "#generate the whole modeling pipeline with preprossing\n",
        "pipe = Pipeline(steps=[('preproc', preproc),\n",
        "                       ('mdl', LogisticRegression(penalty='elasticnet', solver='saga', tol=0.01))])\n",
        "\n",
        "# visualization for the steps\n",
        "with config_context(display='diagram'):\n",
        "  display(pipe)\n",
        "\n"
      ],
      "metadata": {
        "colab": {
          "base_uri": "https://localhost:8080/",
          "height": 539
        },
        "id": "K4tPxn8fp0lR",
        "outputId": "17a09079-9e83-4fb5-bcda-b5b0d789b29c"
      },
      "execution_count": 187,
      "outputs": [
        {
          "output_type": "stream",
          "name": "stdout",
          "text": [
            "<class 'pandas.core.frame.DataFrame'>\n",
            "Int64Index: 4908 entries, 0 to 5109\n",
            "Data columns (total 11 columns):\n",
            " #   Column                 Non-Null Count  Dtype   \n",
            "---  ------                 --------------  -----   \n",
            " 0   gender                 4908 non-null   object  \n",
            " 1   age                    4908 non-null   int64   \n",
            " 2   hypertension           4908 non-null   int64   \n",
            " 3   heart_disease          4908 non-null   int64   \n",
            " 4   ever_married           4908 non-null   object  \n",
            " 5   work_type              4908 non-null   object  \n",
            " 6   Residence_type         4908 non-null   object  \n",
            " 7   smoking_status         4908 non-null   object  \n",
            " 8   stroke                 4908 non-null   int64   \n",
            " 9   bmi_cat                4908 non-null   category\n",
            " 10  avg_glucose_level_cat  4908 non-null   category\n",
            "dtypes: category(2), int64(4), object(5)\n",
            "memory usage: 393.4+ KB\n"
          ]
        },
        {
          "output_type": "display_data",
          "data": {
            "text/plain": [
              "Pipeline(steps=[('preproc',\n",
              "                 ColumnTransformer(remainder='passthrough',\n",
              "                                   transformers=[('cat_pipe',\n",
              "                                                  Pipeline(steps=[('cat_impute',\n",
              "                                                                   SimpleImputer(strategy='most_frequent')),\n",
              "                                                                  ('onehot_cat',\n",
              "                                                                   OneHotEncoder())]),\n",
              "                                                  ['gender', 'hypertension',\n",
              "                                                   'heart_disease',\n",
              "                                                   'ever_married', 'work_type',\n",
              "                                                   'Residence_type',\n",
              "                                                   'smoking_status', 'bmi_cat',\n",
              "                                                   'avg_glucose_level_cat']),\n",
              "                                                 ('num_pipe',\n",
              "                                                  Pipeline(steps=[('impute_num',\n",
              "                                                                   SimpleImputer()),\n",
              "                                                                  ('scale_num',\n",
              "                                                                   StandardScaler())]),\n",
              "                                                  ['age'])])),\n",
              "                ('mdl',\n",
              "                 LogisticRegression(penalty='elasticnet', solver='saga',\n",
              "                                    tol=0.01))])"
            ],
            "text/html": [
              "<style>#sk-container-id-10 {color: black;background-color: white;}#sk-container-id-10 pre{padding: 0;}#sk-container-id-10 div.sk-toggleable {background-color: white;}#sk-container-id-10 label.sk-toggleable__label {cursor: pointer;display: block;width: 100%;margin-bottom: 0;padding: 0.3em;box-sizing: border-box;text-align: center;}#sk-container-id-10 label.sk-toggleable__label-arrow:before {content: \"▸\";float: left;margin-right: 0.25em;color: #696969;}#sk-container-id-10 label.sk-toggleable__label-arrow:hover:before {color: black;}#sk-container-id-10 div.sk-estimator:hover label.sk-toggleable__label-arrow:before {color: black;}#sk-container-id-10 div.sk-toggleable__content {max-height: 0;max-width: 0;overflow: hidden;text-align: left;background-color: #f0f8ff;}#sk-container-id-10 div.sk-toggleable__content pre {margin: 0.2em;color: black;border-radius: 0.25em;background-color: #f0f8ff;}#sk-container-id-10 input.sk-toggleable__control:checked~div.sk-toggleable__content {max-height: 200px;max-width: 100%;overflow: auto;}#sk-container-id-10 input.sk-toggleable__control:checked~label.sk-toggleable__label-arrow:before {content: \"▾\";}#sk-container-id-10 div.sk-estimator input.sk-toggleable__control:checked~label.sk-toggleable__label {background-color: #d4ebff;}#sk-container-id-10 div.sk-label input.sk-toggleable__control:checked~label.sk-toggleable__label {background-color: #d4ebff;}#sk-container-id-10 input.sk-hidden--visually {border: 0;clip: rect(1px 1px 1px 1px);clip: rect(1px, 1px, 1px, 1px);height: 1px;margin: -1px;overflow: hidden;padding: 0;position: absolute;width: 1px;}#sk-container-id-10 div.sk-estimator {font-family: monospace;background-color: #f0f8ff;border: 1px dotted black;border-radius: 0.25em;box-sizing: border-box;margin-bottom: 0.5em;}#sk-container-id-10 div.sk-estimator:hover {background-color: #d4ebff;}#sk-container-id-10 div.sk-parallel-item::after {content: \"\";width: 100%;border-bottom: 1px solid gray;flex-grow: 1;}#sk-container-id-10 div.sk-label:hover label.sk-toggleable__label {background-color: #d4ebff;}#sk-container-id-10 div.sk-serial::before {content: \"\";position: absolute;border-left: 1px solid gray;box-sizing: border-box;top: 0;bottom: 0;left: 50%;z-index: 0;}#sk-container-id-10 div.sk-serial {display: flex;flex-direction: column;align-items: center;background-color: white;padding-right: 0.2em;padding-left: 0.2em;position: relative;}#sk-container-id-10 div.sk-item {position: relative;z-index: 1;}#sk-container-id-10 div.sk-parallel {display: flex;align-items: stretch;justify-content: center;background-color: white;position: relative;}#sk-container-id-10 div.sk-item::before, #sk-container-id-10 div.sk-parallel-item::before {content: \"\";position: absolute;border-left: 1px solid gray;box-sizing: border-box;top: 0;bottom: 0;left: 50%;z-index: -1;}#sk-container-id-10 div.sk-parallel-item {display: flex;flex-direction: column;z-index: 1;position: relative;background-color: white;}#sk-container-id-10 div.sk-parallel-item:first-child::after {align-self: flex-end;width: 50%;}#sk-container-id-10 div.sk-parallel-item:last-child::after {align-self: flex-start;width: 50%;}#sk-container-id-10 div.sk-parallel-item:only-child::after {width: 0;}#sk-container-id-10 div.sk-dashed-wrapped {border: 1px dashed gray;margin: 0 0.4em 0.5em 0.4em;box-sizing: border-box;padding-bottom: 0.4em;background-color: white;}#sk-container-id-10 div.sk-label label {font-family: monospace;font-weight: bold;display: inline-block;line-height: 1.2em;}#sk-container-id-10 div.sk-label-container {text-align: center;}#sk-container-id-10 div.sk-container {/* jupyter's `normalize.less` sets `[hidden] { display: none; }` but bootstrap.min.css set `[hidden] { display: none !important; }` so we also need the `!important` here to be able to override the default hidden behavior on the sphinx rendered scikit-learn.org. See: https://github.com/scikit-learn/scikit-learn/issues/21755 */display: inline-block !important;position: relative;}#sk-container-id-10 div.sk-text-repr-fallback {display: none;}</style><div id=\"sk-container-id-10\" class=\"sk-top-container\"><div class=\"sk-text-repr-fallback\"><pre>Pipeline(steps=[(&#x27;preproc&#x27;,\n",
              "                 ColumnTransformer(remainder=&#x27;passthrough&#x27;,\n",
              "                                   transformers=[(&#x27;cat_pipe&#x27;,\n",
              "                                                  Pipeline(steps=[(&#x27;cat_impute&#x27;,\n",
              "                                                                   SimpleImputer(strategy=&#x27;most_frequent&#x27;)),\n",
              "                                                                  (&#x27;onehot_cat&#x27;,\n",
              "                                                                   OneHotEncoder())]),\n",
              "                                                  [&#x27;gender&#x27;, &#x27;hypertension&#x27;,\n",
              "                                                   &#x27;heart_disease&#x27;,\n",
              "                                                   &#x27;ever_married&#x27;, &#x27;work_type&#x27;,\n",
              "                                                   &#x27;Residence_type&#x27;,\n",
              "                                                   &#x27;smoking_status&#x27;, &#x27;bmi_cat&#x27;,\n",
              "                                                   &#x27;avg_glucose_level_cat&#x27;]),\n",
              "                                                 (&#x27;num_pipe&#x27;,\n",
              "                                                  Pipeline(steps=[(&#x27;impute_num&#x27;,\n",
              "                                                                   SimpleImputer()),\n",
              "                                                                  (&#x27;scale_num&#x27;,\n",
              "                                                                   StandardScaler())]),\n",
              "                                                  [&#x27;age&#x27;])])),\n",
              "                (&#x27;mdl&#x27;,\n",
              "                 LogisticRegression(penalty=&#x27;elasticnet&#x27;, solver=&#x27;saga&#x27;,\n",
              "                                    tol=0.01))])</pre><b>In a Jupyter environment, please rerun this cell to show the HTML representation or trust the notebook. <br />On GitHub, the HTML representation is unable to render, please try loading this page with nbviewer.org.</b></div><div class=\"sk-container\" hidden><div class=\"sk-item sk-dashed-wrapped\"><div class=\"sk-label-container\"><div class=\"sk-label sk-toggleable\"><input class=\"sk-toggleable__control sk-hidden--visually\" id=\"sk-estimator-id-93\" type=\"checkbox\" ><label for=\"sk-estimator-id-93\" class=\"sk-toggleable__label sk-toggleable__label-arrow\">Pipeline</label><div class=\"sk-toggleable__content\"><pre>Pipeline(steps=[(&#x27;preproc&#x27;,\n",
              "                 ColumnTransformer(remainder=&#x27;passthrough&#x27;,\n",
              "                                   transformers=[(&#x27;cat_pipe&#x27;,\n",
              "                                                  Pipeline(steps=[(&#x27;cat_impute&#x27;,\n",
              "                                                                   SimpleImputer(strategy=&#x27;most_frequent&#x27;)),\n",
              "                                                                  (&#x27;onehot_cat&#x27;,\n",
              "                                                                   OneHotEncoder())]),\n",
              "                                                  [&#x27;gender&#x27;, &#x27;hypertension&#x27;,\n",
              "                                                   &#x27;heart_disease&#x27;,\n",
              "                                                   &#x27;ever_married&#x27;, &#x27;work_type&#x27;,\n",
              "                                                   &#x27;Residence_type&#x27;,\n",
              "                                                   &#x27;smoking_status&#x27;, &#x27;bmi_cat&#x27;,\n",
              "                                                   &#x27;avg_glucose_level_cat&#x27;]),\n",
              "                                                 (&#x27;num_pipe&#x27;,\n",
              "                                                  Pipeline(steps=[(&#x27;impute_num&#x27;,\n",
              "                                                                   SimpleImputer()),\n",
              "                                                                  (&#x27;scale_num&#x27;,\n",
              "                                                                   StandardScaler())]),\n",
              "                                                  [&#x27;age&#x27;])])),\n",
              "                (&#x27;mdl&#x27;,\n",
              "                 LogisticRegression(penalty=&#x27;elasticnet&#x27;, solver=&#x27;saga&#x27;,\n",
              "                                    tol=0.01))])</pre></div></div></div><div class=\"sk-serial\"><div class=\"sk-item sk-dashed-wrapped\"><div class=\"sk-label-container\"><div class=\"sk-label sk-toggleable\"><input class=\"sk-toggleable__control sk-hidden--visually\" id=\"sk-estimator-id-94\" type=\"checkbox\" ><label for=\"sk-estimator-id-94\" class=\"sk-toggleable__label sk-toggleable__label-arrow\">preproc: ColumnTransformer</label><div class=\"sk-toggleable__content\"><pre>ColumnTransformer(remainder=&#x27;passthrough&#x27;,\n",
              "                  transformers=[(&#x27;cat_pipe&#x27;,\n",
              "                                 Pipeline(steps=[(&#x27;cat_impute&#x27;,\n",
              "                                                  SimpleImputer(strategy=&#x27;most_frequent&#x27;)),\n",
              "                                                 (&#x27;onehot_cat&#x27;,\n",
              "                                                  OneHotEncoder())]),\n",
              "                                 [&#x27;gender&#x27;, &#x27;hypertension&#x27;, &#x27;heart_disease&#x27;,\n",
              "                                  &#x27;ever_married&#x27;, &#x27;work_type&#x27;, &#x27;Residence_type&#x27;,\n",
              "                                  &#x27;smoking_status&#x27;, &#x27;bmi_cat&#x27;,\n",
              "                                  &#x27;avg_glucose_level_cat&#x27;]),\n",
              "                                (&#x27;num_pipe&#x27;,\n",
              "                                 Pipeline(steps=[(&#x27;impute_num&#x27;,\n",
              "                                                  SimpleImputer()),\n",
              "                                                 (&#x27;scale_num&#x27;,\n",
              "                                                  StandardScaler())]),\n",
              "                                 [&#x27;age&#x27;])])</pre></div></div></div><div class=\"sk-parallel\"><div class=\"sk-parallel-item\"><div class=\"sk-item\"><div class=\"sk-label-container\"><div class=\"sk-label sk-toggleable\"><input class=\"sk-toggleable__control sk-hidden--visually\" id=\"sk-estimator-id-95\" type=\"checkbox\" ><label for=\"sk-estimator-id-95\" class=\"sk-toggleable__label sk-toggleable__label-arrow\">cat_pipe</label><div class=\"sk-toggleable__content\"><pre>[&#x27;gender&#x27;, &#x27;hypertension&#x27;, &#x27;heart_disease&#x27;, &#x27;ever_married&#x27;, &#x27;work_type&#x27;, &#x27;Residence_type&#x27;, &#x27;smoking_status&#x27;, &#x27;bmi_cat&#x27;, &#x27;avg_glucose_level_cat&#x27;]</pre></div></div></div><div class=\"sk-serial\"><div class=\"sk-item\"><div class=\"sk-serial\"><div class=\"sk-item\"><div class=\"sk-estimator sk-toggleable\"><input class=\"sk-toggleable__control sk-hidden--visually\" id=\"sk-estimator-id-96\" type=\"checkbox\" ><label for=\"sk-estimator-id-96\" class=\"sk-toggleable__label sk-toggleable__label-arrow\">SimpleImputer</label><div class=\"sk-toggleable__content\"><pre>SimpleImputer(strategy=&#x27;most_frequent&#x27;)</pre></div></div></div><div class=\"sk-item\"><div class=\"sk-estimator sk-toggleable\"><input class=\"sk-toggleable__control sk-hidden--visually\" id=\"sk-estimator-id-97\" type=\"checkbox\" ><label for=\"sk-estimator-id-97\" class=\"sk-toggleable__label sk-toggleable__label-arrow\">OneHotEncoder</label><div class=\"sk-toggleable__content\"><pre>OneHotEncoder()</pre></div></div></div></div></div></div></div></div><div class=\"sk-parallel-item\"><div class=\"sk-item\"><div class=\"sk-label-container\"><div class=\"sk-label sk-toggleable\"><input class=\"sk-toggleable__control sk-hidden--visually\" id=\"sk-estimator-id-98\" type=\"checkbox\" ><label for=\"sk-estimator-id-98\" class=\"sk-toggleable__label sk-toggleable__label-arrow\">num_pipe</label><div class=\"sk-toggleable__content\"><pre>[&#x27;age&#x27;]</pre></div></div></div><div class=\"sk-serial\"><div class=\"sk-item\"><div class=\"sk-serial\"><div class=\"sk-item\"><div class=\"sk-estimator sk-toggleable\"><input class=\"sk-toggleable__control sk-hidden--visually\" id=\"sk-estimator-id-99\" type=\"checkbox\" ><label for=\"sk-estimator-id-99\" class=\"sk-toggleable__label sk-toggleable__label-arrow\">SimpleImputer</label><div class=\"sk-toggleable__content\"><pre>SimpleImputer()</pre></div></div></div><div class=\"sk-item\"><div class=\"sk-estimator sk-toggleable\"><input class=\"sk-toggleable__control sk-hidden--visually\" id=\"sk-estimator-id-100\" type=\"checkbox\" ><label for=\"sk-estimator-id-100\" class=\"sk-toggleable__label sk-toggleable__label-arrow\">StandardScaler</label><div class=\"sk-toggleable__content\"><pre>StandardScaler()</pre></div></div></div></div></div></div></div></div><div class=\"sk-parallel-item\"><div class=\"sk-item\"><div class=\"sk-label-container\"><div class=\"sk-label sk-toggleable\"><input class=\"sk-toggleable__control sk-hidden--visually\" id=\"sk-estimator-id-101\" type=\"checkbox\" ><label for=\"sk-estimator-id-101\" class=\"sk-toggleable__label sk-toggleable__label-arrow\">remainder</label><div class=\"sk-toggleable__content\"><pre></pre></div></div></div><div class=\"sk-serial\"><div class=\"sk-item\"><div class=\"sk-estimator sk-toggleable\"><input class=\"sk-toggleable__control sk-hidden--visually\" id=\"sk-estimator-id-102\" type=\"checkbox\" ><label for=\"sk-estimator-id-102\" class=\"sk-toggleable__label sk-toggleable__label-arrow\">passthrough</label><div class=\"sk-toggleable__content\"><pre>passthrough</pre></div></div></div></div></div></div></div></div><div class=\"sk-item\"><div class=\"sk-estimator sk-toggleable\"><input class=\"sk-toggleable__control sk-hidden--visually\" id=\"sk-estimator-id-103\" type=\"checkbox\" ><label for=\"sk-estimator-id-103\" class=\"sk-toggleable__label sk-toggleable__label-arrow\">LogisticRegression</label><div class=\"sk-toggleable__content\"><pre>LogisticRegression(penalty=&#x27;elasticnet&#x27;, solver=&#x27;saga&#x27;, tol=0.01)</pre></div></div></div></div></div></div></div>"
            ]
          },
          "metadata": {}
        }
      ]
    },
    {
      "cell_type": "markdown",
      "source": [
        "## Cross-validation with hyperparameter tuning"
      ],
      "metadata": {
        "id": "vTFJhoBy8JP0"
      }
    },
    {
      "cell_type": "code",
      "source": [
        "# Use the pipeline for cross validation and hyperparameter tuning\n",
        "tuning_grid = {'mdl__l1_ratio' : np.linspace(0,1,5),\n",
        "               'mdl__C': np.logspace(-1, 6, 3) }\n",
        "\n",
        "# y = f1(x): f1 = 1.2x1 + 2.5x2 + 3.1x3 + 10\n",
        "# y = f2(x): f2 = -1.2x1 + 0.5x2 + 3.1x3 + 10\n",
        "# TODO: choose your cv folds\n",
        "grid_search = GridSearchCV(pipe, param_grid = tuning_grid, cv = 5, return_train_score=True, n_jobs=-1)"
      ],
      "metadata": {
        "id": "-4vSkHY88GME"
      },
      "execution_count": 188,
      "outputs": []
    },
    {
      "cell_type": "code",
      "source": [
        "tuning_grid"
      ],
      "metadata": {
        "id": "FEl7En-k8o0E",
        "outputId": "0a9ed76d-2fc5-4c9d-9fdf-94472bcb0caf",
        "colab": {
          "base_uri": "https://localhost:8080/"
        }
      },
      "execution_count": 189,
      "outputs": [
        {
          "output_type": "execute_result",
          "data": {
            "text/plain": [
              "{'mdl__l1_ratio': array([0.  , 0.25, 0.5 , 0.75, 1.  ]),\n",
              " 'mdl__C': array([1.00000000e-01, 3.16227766e+02, 1.00000000e+06])}"
            ]
          },
          "metadata": {},
          "execution_count": 189
        }
      ]
    },
    {
      "cell_type": "code",
      "source": [
        "# Feed the training set to our training pipeline\n",
        "grid_search.fit(X_train, y_train.values.ravel()) # bulk of training"
      ],
      "metadata": {
        "id": "OcvHTE3y8rUr",
        "outputId": "9b6d9a82-d9fe-4a68-c514-5525040f0be3",
        "colab": {
          "base_uri": "https://localhost:8080/",
          "height": 253
        }
      },
      "execution_count": 190,
      "outputs": [
        {
          "output_type": "execute_result",
          "data": {
            "text/plain": [
              "GridSearchCV(cv=5,\n",
              "             estimator=Pipeline(steps=[('preproc',\n",
              "                                        ColumnTransformer(remainder='passthrough',\n",
              "                                                          transformers=[('cat_pipe',\n",
              "                                                                         Pipeline(steps=[('cat_impute',\n",
              "                                                                                          SimpleImputer(strategy='most_frequent')),\n",
              "                                                                                         ('onehot_cat',\n",
              "                                                                                          OneHotEncoder())]),\n",
              "                                                                         ['gender',\n",
              "                                                                          'hypertension',\n",
              "                                                                          'heart_disease',\n",
              "                                                                          'ever_married',\n",
              "                                                                          'work_type',\n",
              "                                                                          'Residence_type',\n",
              "                                                                          'smoking_status',\n",
              "                                                                          'bmi_cat',\n",
              "                                                                          'avg_glucose_level_cat']),\n",
              "                                                                        ('num_pipe',\n",
              "                                                                         Pipeline(steps=[('impute_num',\n",
              "                                                                                          SimpleImputer()),\n",
              "                                                                                         ('scale_num',\n",
              "                                                                                          StandardScaler())]),\n",
              "                                                                         ['age'])])),\n",
              "                                       ('mdl',\n",
              "                                        LogisticRegression(penalty='elasticnet',\n",
              "                                                           solver='saga',\n",
              "                                                           tol=0.01))]),\n",
              "             n_jobs=-1,\n",
              "             param_grid={'mdl__C': array([1.00000000e-01, 3.16227766e+02, 1.00000000e+06]),\n",
              "                         'mdl__l1_ratio': array([0.  , 0.25, 0.5 , 0.75, 1.  ])},\n",
              "             return_train_score=True)"
            ],
            "text/html": [
              "<style>#sk-container-id-11 {color: black;background-color: white;}#sk-container-id-11 pre{padding: 0;}#sk-container-id-11 div.sk-toggleable {background-color: white;}#sk-container-id-11 label.sk-toggleable__label {cursor: pointer;display: block;width: 100%;margin-bottom: 0;padding: 0.3em;box-sizing: border-box;text-align: center;}#sk-container-id-11 label.sk-toggleable__label-arrow:before {content: \"▸\";float: left;margin-right: 0.25em;color: #696969;}#sk-container-id-11 label.sk-toggleable__label-arrow:hover:before {color: black;}#sk-container-id-11 div.sk-estimator:hover label.sk-toggleable__label-arrow:before {color: black;}#sk-container-id-11 div.sk-toggleable__content {max-height: 0;max-width: 0;overflow: hidden;text-align: left;background-color: #f0f8ff;}#sk-container-id-11 div.sk-toggleable__content pre {margin: 0.2em;color: black;border-radius: 0.25em;background-color: #f0f8ff;}#sk-container-id-11 input.sk-toggleable__control:checked~div.sk-toggleable__content {max-height: 200px;max-width: 100%;overflow: auto;}#sk-container-id-11 input.sk-toggleable__control:checked~label.sk-toggleable__label-arrow:before {content: \"▾\";}#sk-container-id-11 div.sk-estimator input.sk-toggleable__control:checked~label.sk-toggleable__label {background-color: #d4ebff;}#sk-container-id-11 div.sk-label input.sk-toggleable__control:checked~label.sk-toggleable__label {background-color: #d4ebff;}#sk-container-id-11 input.sk-hidden--visually {border: 0;clip: rect(1px 1px 1px 1px);clip: rect(1px, 1px, 1px, 1px);height: 1px;margin: -1px;overflow: hidden;padding: 0;position: absolute;width: 1px;}#sk-container-id-11 div.sk-estimator {font-family: monospace;background-color: #f0f8ff;border: 1px dotted black;border-radius: 0.25em;box-sizing: border-box;margin-bottom: 0.5em;}#sk-container-id-11 div.sk-estimator:hover {background-color: #d4ebff;}#sk-container-id-11 div.sk-parallel-item::after {content: \"\";width: 100%;border-bottom: 1px solid gray;flex-grow: 1;}#sk-container-id-11 div.sk-label:hover label.sk-toggleable__label {background-color: #d4ebff;}#sk-container-id-11 div.sk-serial::before {content: \"\";position: absolute;border-left: 1px solid gray;box-sizing: border-box;top: 0;bottom: 0;left: 50%;z-index: 0;}#sk-container-id-11 div.sk-serial {display: flex;flex-direction: column;align-items: center;background-color: white;padding-right: 0.2em;padding-left: 0.2em;position: relative;}#sk-container-id-11 div.sk-item {position: relative;z-index: 1;}#sk-container-id-11 div.sk-parallel {display: flex;align-items: stretch;justify-content: center;background-color: white;position: relative;}#sk-container-id-11 div.sk-item::before, #sk-container-id-11 div.sk-parallel-item::before {content: \"\";position: absolute;border-left: 1px solid gray;box-sizing: border-box;top: 0;bottom: 0;left: 50%;z-index: -1;}#sk-container-id-11 div.sk-parallel-item {display: flex;flex-direction: column;z-index: 1;position: relative;background-color: white;}#sk-container-id-11 div.sk-parallel-item:first-child::after {align-self: flex-end;width: 50%;}#sk-container-id-11 div.sk-parallel-item:last-child::after {align-self: flex-start;width: 50%;}#sk-container-id-11 div.sk-parallel-item:only-child::after {width: 0;}#sk-container-id-11 div.sk-dashed-wrapped {border: 1px dashed gray;margin: 0 0.4em 0.5em 0.4em;box-sizing: border-box;padding-bottom: 0.4em;background-color: white;}#sk-container-id-11 div.sk-label label {font-family: monospace;font-weight: bold;display: inline-block;line-height: 1.2em;}#sk-container-id-11 div.sk-label-container {text-align: center;}#sk-container-id-11 div.sk-container {/* jupyter's `normalize.less` sets `[hidden] { display: none; }` but bootstrap.min.css set `[hidden] { display: none !important; }` so we also need the `!important` here to be able to override the default hidden behavior on the sphinx rendered scikit-learn.org. See: https://github.com/scikit-learn/scikit-learn/issues/21755 */display: inline-block !important;position: relative;}#sk-container-id-11 div.sk-text-repr-fallback {display: none;}</style><div id=\"sk-container-id-11\" class=\"sk-top-container\"><div class=\"sk-text-repr-fallback\"><pre>GridSearchCV(cv=5,\n",
              "             estimator=Pipeline(steps=[(&#x27;preproc&#x27;,\n",
              "                                        ColumnTransformer(remainder=&#x27;passthrough&#x27;,\n",
              "                                                          transformers=[(&#x27;cat_pipe&#x27;,\n",
              "                                                                         Pipeline(steps=[(&#x27;cat_impute&#x27;,\n",
              "                                                                                          SimpleImputer(strategy=&#x27;most_frequent&#x27;)),\n",
              "                                                                                         (&#x27;onehot_cat&#x27;,\n",
              "                                                                                          OneHotEncoder())]),\n",
              "                                                                         [&#x27;gender&#x27;,\n",
              "                                                                          &#x27;hypertension&#x27;,\n",
              "                                                                          &#x27;heart_disease&#x27;,\n",
              "                                                                          &#x27;ever_married&#x27;,\n",
              "                                                                          &#x27;work_type&#x27;,\n",
              "                                                                          &#x27;Residence_type&#x27;,\n",
              "                                                                          &#x27;smoking_status&#x27;,\n",
              "                                                                          &#x27;bmi_cat&#x27;,\n",
              "                                                                          &#x27;avg_glucose_level_cat&#x27;]),\n",
              "                                                                        (&#x27;num_pipe&#x27;,\n",
              "                                                                         Pipeline(steps=[(&#x27;impute_num&#x27;,\n",
              "                                                                                          SimpleImputer()),\n",
              "                                                                                         (&#x27;scale_num&#x27;,\n",
              "                                                                                          StandardScaler())]),\n",
              "                                                                         [&#x27;age&#x27;])])),\n",
              "                                       (&#x27;mdl&#x27;,\n",
              "                                        LogisticRegression(penalty=&#x27;elasticnet&#x27;,\n",
              "                                                           solver=&#x27;saga&#x27;,\n",
              "                                                           tol=0.01))]),\n",
              "             n_jobs=-1,\n",
              "             param_grid={&#x27;mdl__C&#x27;: array([1.00000000e-01, 3.16227766e+02, 1.00000000e+06]),\n",
              "                         &#x27;mdl__l1_ratio&#x27;: array([0.  , 0.25, 0.5 , 0.75, 1.  ])},\n",
              "             return_train_score=True)</pre><b>In a Jupyter environment, please rerun this cell to show the HTML representation or trust the notebook. <br />On GitHub, the HTML representation is unable to render, please try loading this page with nbviewer.org.</b></div><div class=\"sk-container\" hidden><div class=\"sk-item sk-dashed-wrapped\"><div class=\"sk-label-container\"><div class=\"sk-label sk-toggleable\"><input class=\"sk-toggleable__control sk-hidden--visually\" id=\"sk-estimator-id-104\" type=\"checkbox\" ><label for=\"sk-estimator-id-104\" class=\"sk-toggleable__label sk-toggleable__label-arrow\">GridSearchCV</label><div class=\"sk-toggleable__content\"><pre>GridSearchCV(cv=5,\n",
              "             estimator=Pipeline(steps=[(&#x27;preproc&#x27;,\n",
              "                                        ColumnTransformer(remainder=&#x27;passthrough&#x27;,\n",
              "                                                          transformers=[(&#x27;cat_pipe&#x27;,\n",
              "                                                                         Pipeline(steps=[(&#x27;cat_impute&#x27;,\n",
              "                                                                                          SimpleImputer(strategy=&#x27;most_frequent&#x27;)),\n",
              "                                                                                         (&#x27;onehot_cat&#x27;,\n",
              "                                                                                          OneHotEncoder())]),\n",
              "                                                                         [&#x27;gender&#x27;,\n",
              "                                                                          &#x27;hypertension&#x27;,\n",
              "                                                                          &#x27;heart_disease&#x27;,\n",
              "                                                                          &#x27;ever_married&#x27;,\n",
              "                                                                          &#x27;work_type&#x27;,\n",
              "                                                                          &#x27;Residence_type&#x27;,\n",
              "                                                                          &#x27;smoking_status&#x27;,\n",
              "                                                                          &#x27;bmi_cat&#x27;,\n",
              "                                                                          &#x27;avg_glucose_level_cat&#x27;]),\n",
              "                                                                        (&#x27;num_pipe&#x27;,\n",
              "                                                                         Pipeline(steps=[(&#x27;impute_num&#x27;,\n",
              "                                                                                          SimpleImputer()),\n",
              "                                                                                         (&#x27;scale_num&#x27;,\n",
              "                                                                                          StandardScaler())]),\n",
              "                                                                         [&#x27;age&#x27;])])),\n",
              "                                       (&#x27;mdl&#x27;,\n",
              "                                        LogisticRegression(penalty=&#x27;elasticnet&#x27;,\n",
              "                                                           solver=&#x27;saga&#x27;,\n",
              "                                                           tol=0.01))]),\n",
              "             n_jobs=-1,\n",
              "             param_grid={&#x27;mdl__C&#x27;: array([1.00000000e-01, 3.16227766e+02, 1.00000000e+06]),\n",
              "                         &#x27;mdl__l1_ratio&#x27;: array([0.  , 0.25, 0.5 , 0.75, 1.  ])},\n",
              "             return_train_score=True)</pre></div></div></div><div class=\"sk-parallel\"><div class=\"sk-parallel-item\"><div class=\"sk-item\"><div class=\"sk-label-container\"><div class=\"sk-label sk-toggleable\"><input class=\"sk-toggleable__control sk-hidden--visually\" id=\"sk-estimator-id-105\" type=\"checkbox\" ><label for=\"sk-estimator-id-105\" class=\"sk-toggleable__label sk-toggleable__label-arrow\">estimator: Pipeline</label><div class=\"sk-toggleable__content\"><pre>Pipeline(steps=[(&#x27;preproc&#x27;,\n",
              "                 ColumnTransformer(remainder=&#x27;passthrough&#x27;,\n",
              "                                   transformers=[(&#x27;cat_pipe&#x27;,\n",
              "                                                  Pipeline(steps=[(&#x27;cat_impute&#x27;,\n",
              "                                                                   SimpleImputer(strategy=&#x27;most_frequent&#x27;)),\n",
              "                                                                  (&#x27;onehot_cat&#x27;,\n",
              "                                                                   OneHotEncoder())]),\n",
              "                                                  [&#x27;gender&#x27;, &#x27;hypertension&#x27;,\n",
              "                                                   &#x27;heart_disease&#x27;,\n",
              "                                                   &#x27;ever_married&#x27;, &#x27;work_type&#x27;,\n",
              "                                                   &#x27;Residence_type&#x27;,\n",
              "                                                   &#x27;smoking_status&#x27;, &#x27;bmi_cat&#x27;,\n",
              "                                                   &#x27;avg_glucose_level_cat&#x27;]),\n",
              "                                                 (&#x27;num_pipe&#x27;,\n",
              "                                                  Pipeline(steps=[(&#x27;impute_num&#x27;,\n",
              "                                                                   SimpleImputer()),\n",
              "                                                                  (&#x27;scale_num&#x27;,\n",
              "                                                                   StandardScaler())]),\n",
              "                                                  [&#x27;age&#x27;])])),\n",
              "                (&#x27;mdl&#x27;,\n",
              "                 LogisticRegression(penalty=&#x27;elasticnet&#x27;, solver=&#x27;saga&#x27;,\n",
              "                                    tol=0.01))])</pre></div></div></div><div class=\"sk-serial\"><div class=\"sk-item\"><div class=\"sk-serial\"><div class=\"sk-item sk-dashed-wrapped\"><div class=\"sk-label-container\"><div class=\"sk-label sk-toggleable\"><input class=\"sk-toggleable__control sk-hidden--visually\" id=\"sk-estimator-id-106\" type=\"checkbox\" ><label for=\"sk-estimator-id-106\" class=\"sk-toggleable__label sk-toggleable__label-arrow\">preproc: ColumnTransformer</label><div class=\"sk-toggleable__content\"><pre>ColumnTransformer(remainder=&#x27;passthrough&#x27;,\n",
              "                  transformers=[(&#x27;cat_pipe&#x27;,\n",
              "                                 Pipeline(steps=[(&#x27;cat_impute&#x27;,\n",
              "                                                  SimpleImputer(strategy=&#x27;most_frequent&#x27;)),\n",
              "                                                 (&#x27;onehot_cat&#x27;,\n",
              "                                                  OneHotEncoder())]),\n",
              "                                 [&#x27;gender&#x27;, &#x27;hypertension&#x27;, &#x27;heart_disease&#x27;,\n",
              "                                  &#x27;ever_married&#x27;, &#x27;work_type&#x27;, &#x27;Residence_type&#x27;,\n",
              "                                  &#x27;smoking_status&#x27;, &#x27;bmi_cat&#x27;,\n",
              "                                  &#x27;avg_glucose_level_cat&#x27;]),\n",
              "                                (&#x27;num_pipe&#x27;,\n",
              "                                 Pipeline(steps=[(&#x27;impute_num&#x27;,\n",
              "                                                  SimpleImputer()),\n",
              "                                                 (&#x27;scale_num&#x27;,\n",
              "                                                  StandardScaler())]),\n",
              "                                 [&#x27;age&#x27;])])</pre></div></div></div><div class=\"sk-parallel\"><div class=\"sk-parallel-item\"><div class=\"sk-item\"><div class=\"sk-label-container\"><div class=\"sk-label sk-toggleable\"><input class=\"sk-toggleable__control sk-hidden--visually\" id=\"sk-estimator-id-107\" type=\"checkbox\" ><label for=\"sk-estimator-id-107\" class=\"sk-toggleable__label sk-toggleable__label-arrow\">cat_pipe</label><div class=\"sk-toggleable__content\"><pre>[&#x27;gender&#x27;, &#x27;hypertension&#x27;, &#x27;heart_disease&#x27;, &#x27;ever_married&#x27;, &#x27;work_type&#x27;, &#x27;Residence_type&#x27;, &#x27;smoking_status&#x27;, &#x27;bmi_cat&#x27;, &#x27;avg_glucose_level_cat&#x27;]</pre></div></div></div><div class=\"sk-serial\"><div class=\"sk-item\"><div class=\"sk-serial\"><div class=\"sk-item\"><div class=\"sk-estimator sk-toggleable\"><input class=\"sk-toggleable__control sk-hidden--visually\" id=\"sk-estimator-id-108\" type=\"checkbox\" ><label for=\"sk-estimator-id-108\" class=\"sk-toggleable__label sk-toggleable__label-arrow\">SimpleImputer</label><div class=\"sk-toggleable__content\"><pre>SimpleImputer(strategy=&#x27;most_frequent&#x27;)</pre></div></div></div><div class=\"sk-item\"><div class=\"sk-estimator sk-toggleable\"><input class=\"sk-toggleable__control sk-hidden--visually\" id=\"sk-estimator-id-109\" type=\"checkbox\" ><label for=\"sk-estimator-id-109\" class=\"sk-toggleable__label sk-toggleable__label-arrow\">OneHotEncoder</label><div class=\"sk-toggleable__content\"><pre>OneHotEncoder()</pre></div></div></div></div></div></div></div></div><div class=\"sk-parallel-item\"><div class=\"sk-item\"><div class=\"sk-label-container\"><div class=\"sk-label sk-toggleable\"><input class=\"sk-toggleable__control sk-hidden--visually\" id=\"sk-estimator-id-110\" type=\"checkbox\" ><label for=\"sk-estimator-id-110\" class=\"sk-toggleable__label sk-toggleable__label-arrow\">num_pipe</label><div class=\"sk-toggleable__content\"><pre>[&#x27;age&#x27;]</pre></div></div></div><div class=\"sk-serial\"><div class=\"sk-item\"><div class=\"sk-serial\"><div class=\"sk-item\"><div class=\"sk-estimator sk-toggleable\"><input class=\"sk-toggleable__control sk-hidden--visually\" id=\"sk-estimator-id-111\" type=\"checkbox\" ><label for=\"sk-estimator-id-111\" class=\"sk-toggleable__label sk-toggleable__label-arrow\">SimpleImputer</label><div class=\"sk-toggleable__content\"><pre>SimpleImputer()</pre></div></div></div><div class=\"sk-item\"><div class=\"sk-estimator sk-toggleable\"><input class=\"sk-toggleable__control sk-hidden--visually\" id=\"sk-estimator-id-112\" type=\"checkbox\" ><label for=\"sk-estimator-id-112\" class=\"sk-toggleable__label sk-toggleable__label-arrow\">StandardScaler</label><div class=\"sk-toggleable__content\"><pre>StandardScaler()</pre></div></div></div></div></div></div></div></div><div class=\"sk-parallel-item\"><div class=\"sk-item\"><div class=\"sk-label-container\"><div class=\"sk-label sk-toggleable\"><input class=\"sk-toggleable__control sk-hidden--visually\" id=\"sk-estimator-id-113\" type=\"checkbox\" ><label for=\"sk-estimator-id-113\" class=\"sk-toggleable__label sk-toggleable__label-arrow\">remainder</label><div class=\"sk-toggleable__content\"><pre></pre></div></div></div><div class=\"sk-serial\"><div class=\"sk-item\"><div class=\"sk-estimator sk-toggleable\"><input class=\"sk-toggleable__control sk-hidden--visually\" id=\"sk-estimator-id-114\" type=\"checkbox\" ><label for=\"sk-estimator-id-114\" class=\"sk-toggleable__label sk-toggleable__label-arrow\">passthrough</label><div class=\"sk-toggleable__content\"><pre>passthrough</pre></div></div></div></div></div></div></div></div><div class=\"sk-item\"><div class=\"sk-estimator sk-toggleable\"><input class=\"sk-toggleable__control sk-hidden--visually\" id=\"sk-estimator-id-115\" type=\"checkbox\" ><label for=\"sk-estimator-id-115\" class=\"sk-toggleable__label sk-toggleable__label-arrow\">LogisticRegression</label><div class=\"sk-toggleable__content\"><pre>LogisticRegression(penalty=&#x27;elasticnet&#x27;, solver=&#x27;saga&#x27;, tol=0.01)</pre></div></div></div></div></div></div></div></div></div></div></div></div>"
            ]
          },
          "metadata": {},
          "execution_count": 190
        }
      ]
    },
    {
      "cell_type": "code",
      "source": [
        "print(grid_search.best_score_)\n",
        "grid_search.best_params_"
      ],
      "metadata": {
        "id": "lrElWGsS88gQ",
        "outputId": "7d452034-1d12-4352-b0b9-4c538773bb57",
        "colab": {
          "base_uri": "https://localhost:8080/"
        }
      },
      "execution_count": 191,
      "outputs": [
        {
          "output_type": "stream",
          "name": "stdout",
          "text": [
            "0.9576204943661141\n"
          ]
        },
        {
          "output_type": "execute_result",
          "data": {
            "text/plain": [
              "{'mdl__C': 316.22776601683796, 'mdl__l1_ratio': 0.0}"
            ]
          },
          "metadata": {},
          "execution_count": 191
        }
      ]
    },
    {
      "cell_type": "code",
      "source": [
        "pd.DataFrame(grid_search.cv_results_)"
      ],
      "metadata": {
        "id": "Ec8nYGct9ALb",
        "outputId": "d20737bb-1018-4dc9-8d61-905d04264016",
        "colab": {
          "base_uri": "https://localhost:8080/",
          "height": 960
        }
      },
      "execution_count": 192,
      "outputs": [
        {
          "output_type": "execute_result",
          "data": {
            "text/plain": [
              "    mean_fit_time  std_fit_time  mean_score_time  std_score_time param_mdl__C  \\\n",
              "0        0.079086      0.012265         0.014647        0.001467          0.1   \n",
              "1        0.111640      0.025060         0.022077        0.008875          0.1   \n",
              "2        0.163066      0.006412         0.026083        0.004389          0.1   \n",
              "3        0.149033      0.008658         0.026018        0.006089          0.1   \n",
              "4        0.120665      0.022932         0.027515        0.008350          0.1   \n",
              "5        0.203358      0.034209         0.027398        0.004821   316.227766   \n",
              "6        0.220076      0.054057         0.022150        0.008820   316.227766   \n",
              "7        0.108933      0.028946         0.017306        0.006407   316.227766   \n",
              "8        0.110578      0.021808         0.013792        0.000791   316.227766   \n",
              "9        0.104579      0.026169         0.013452        0.000458   316.227766   \n",
              "10       0.095963      0.016095         0.015492        0.002738    1000000.0   \n",
              "11       0.103687      0.024045         0.013895        0.000578    1000000.0   \n",
              "12       0.116879      0.024085         0.014610        0.000833    1000000.0   \n",
              "13       0.106984      0.029726         0.014476        0.001370    1000000.0   \n",
              "14       0.111511      0.022400         0.014203        0.000577    1000000.0   \n",
              "\n",
              "   param_mdl__l1_ratio                                             params  \\\n",
              "0                  0.0              {'mdl__C': 0.1, 'mdl__l1_ratio': 0.0}   \n",
              "1                 0.25             {'mdl__C': 0.1, 'mdl__l1_ratio': 0.25}   \n",
              "2                  0.5              {'mdl__C': 0.1, 'mdl__l1_ratio': 0.5}   \n",
              "3                 0.75             {'mdl__C': 0.1, 'mdl__l1_ratio': 0.75}   \n",
              "4                  1.0              {'mdl__C': 0.1, 'mdl__l1_ratio': 1.0}   \n",
              "5                  0.0  {'mdl__C': 316.22776601683796, 'mdl__l1_ratio'...   \n",
              "6                 0.25  {'mdl__C': 316.22776601683796, 'mdl__l1_ratio'...   \n",
              "7                  0.5  {'mdl__C': 316.22776601683796, 'mdl__l1_ratio'...   \n",
              "8                 0.75  {'mdl__C': 316.22776601683796, 'mdl__l1_ratio'...   \n",
              "9                  1.0  {'mdl__C': 316.22776601683796, 'mdl__l1_ratio'...   \n",
              "10                 0.0        {'mdl__C': 1000000.0, 'mdl__l1_ratio': 0.0}   \n",
              "11                0.25       {'mdl__C': 1000000.0, 'mdl__l1_ratio': 0.25}   \n",
              "12                 0.5        {'mdl__C': 1000000.0, 'mdl__l1_ratio': 0.5}   \n",
              "13                0.75       {'mdl__C': 1000000.0, 'mdl__l1_ratio': 0.75}   \n",
              "14                 1.0        {'mdl__C': 1000000.0, 'mdl__l1_ratio': 1.0}   \n",
              "\n",
              "    split0_test_score  split1_test_score  split2_test_score  ...  \\\n",
              "0            0.956581            0.95788           0.957880  ...   \n",
              "1            0.956581            0.95788           0.957880  ...   \n",
              "2            0.956581            0.95788           0.957880  ...   \n",
              "3            0.956581            0.95788           0.957880  ...   \n",
              "4            0.956581            0.95788           0.957880  ...   \n",
              "5            0.956581            0.95788           0.959239  ...   \n",
              "6            0.956581            0.95788           0.959239  ...   \n",
              "7            0.956581            0.95788           0.959239  ...   \n",
              "8            0.956581            0.95788           0.959239  ...   \n",
              "9            0.956581            0.95788           0.959239  ...   \n",
              "10           0.956581            0.95788           0.959239  ...   \n",
              "11           0.956581            0.95788           0.959239  ...   \n",
              "12           0.956581            0.95788           0.959239  ...   \n",
              "13           0.956581            0.95788           0.959239  ...   \n",
              "14           0.956581            0.95788           0.959239  ...   \n",
              "\n",
              "    mean_test_score  std_test_score  rank_test_score  split0_train_score  \\\n",
              "0          0.957349        0.000651               11            0.957541   \n",
              "1          0.957349        0.000651               11            0.957541   \n",
              "2          0.957349        0.000651               11            0.957541   \n",
              "3          0.957349        0.000651               11            0.957541   \n",
              "4          0.957349        0.000651               11            0.957541   \n",
              "5          0.957620        0.001004                1            0.957880   \n",
              "6          0.957620        0.001004                1            0.957880   \n",
              "7          0.957620        0.001004                1            0.957880   \n",
              "8          0.957620        0.001004                1            0.957880   \n",
              "9          0.957620        0.001004                1            0.957880   \n",
              "10         0.957620        0.001004                1            0.957880   \n",
              "11         0.957620        0.001004                1            0.957880   \n",
              "12         0.957620        0.001004                1            0.957880   \n",
              "13         0.957620        0.001004                1            0.957880   \n",
              "14         0.957620        0.001004                1            0.957880   \n",
              "\n",
              "    split1_train_score  split2_train_score  split3_train_score  \\\n",
              "0             0.957216            0.957216            0.957216   \n",
              "1             0.957216            0.957216            0.957216   \n",
              "2             0.957216            0.957216            0.957216   \n",
              "3             0.957216            0.957216            0.957216   \n",
              "4             0.957216            0.957216            0.957216   \n",
              "5             0.957895            0.957216            0.957555   \n",
              "6             0.957895            0.957216            0.957555   \n",
              "7             0.957895            0.957216            0.957555   \n",
              "8             0.957895            0.957216            0.957555   \n",
              "9             0.957895            0.957216            0.957555   \n",
              "10            0.957895            0.957216            0.957555   \n",
              "11            0.957895            0.957216            0.957555   \n",
              "12            0.957895            0.957216            0.957555   \n",
              "13            0.957895            0.957216            0.957555   \n",
              "14            0.957895            0.957216            0.957555   \n",
              "\n",
              "    split4_train_score  mean_train_score  std_train_score  \n",
              "0             0.957555          0.957349         0.000163  \n",
              "1             0.957555          0.957349         0.000163  \n",
              "2             0.957555          0.957349         0.000163  \n",
              "3             0.957555          0.957349         0.000163  \n",
              "4             0.957555          0.957349         0.000163  \n",
              "5             0.958234          0.957756         0.000345  \n",
              "6             0.958234          0.957756         0.000345  \n",
              "7             0.958234          0.957756         0.000345  \n",
              "8             0.958234          0.957756         0.000345  \n",
              "9             0.958234          0.957756         0.000345  \n",
              "10            0.958234          0.957756         0.000345  \n",
              "11            0.958234          0.957756         0.000345  \n",
              "12            0.958234          0.957756         0.000345  \n",
              "13            0.958234          0.957756         0.000345  \n",
              "14            0.958234          0.957756         0.000345  \n",
              "\n",
              "[15 rows x 22 columns]"
            ],
            "text/html": [
              "\n",
              "  <div id=\"df-74f55ff3-15c3-4209-8c08-d2d9a8712d8e\">\n",
              "    <div class=\"colab-df-container\">\n",
              "      <div>\n",
              "<style scoped>\n",
              "    .dataframe tbody tr th:only-of-type {\n",
              "        vertical-align: middle;\n",
              "    }\n",
              "\n",
              "    .dataframe tbody tr th {\n",
              "        vertical-align: top;\n",
              "    }\n",
              "\n",
              "    .dataframe thead th {\n",
              "        text-align: right;\n",
              "    }\n",
              "</style>\n",
              "<table border=\"1\" class=\"dataframe\">\n",
              "  <thead>\n",
              "    <tr style=\"text-align: right;\">\n",
              "      <th></th>\n",
              "      <th>mean_fit_time</th>\n",
              "      <th>std_fit_time</th>\n",
              "      <th>mean_score_time</th>\n",
              "      <th>std_score_time</th>\n",
              "      <th>param_mdl__C</th>\n",
              "      <th>param_mdl__l1_ratio</th>\n",
              "      <th>params</th>\n",
              "      <th>split0_test_score</th>\n",
              "      <th>split1_test_score</th>\n",
              "      <th>split2_test_score</th>\n",
              "      <th>...</th>\n",
              "      <th>mean_test_score</th>\n",
              "      <th>std_test_score</th>\n",
              "      <th>rank_test_score</th>\n",
              "      <th>split0_train_score</th>\n",
              "      <th>split1_train_score</th>\n",
              "      <th>split2_train_score</th>\n",
              "      <th>split3_train_score</th>\n",
              "      <th>split4_train_score</th>\n",
              "      <th>mean_train_score</th>\n",
              "      <th>std_train_score</th>\n",
              "    </tr>\n",
              "  </thead>\n",
              "  <tbody>\n",
              "    <tr>\n",
              "      <th>0</th>\n",
              "      <td>0.079086</td>\n",
              "      <td>0.012265</td>\n",
              "      <td>0.014647</td>\n",
              "      <td>0.001467</td>\n",
              "      <td>0.1</td>\n",
              "      <td>0.0</td>\n",
              "      <td>{'mdl__C': 0.1, 'mdl__l1_ratio': 0.0}</td>\n",
              "      <td>0.956581</td>\n",
              "      <td>0.95788</td>\n",
              "      <td>0.957880</td>\n",
              "      <td>...</td>\n",
              "      <td>0.957349</td>\n",
              "      <td>0.000651</td>\n",
              "      <td>11</td>\n",
              "      <td>0.957541</td>\n",
              "      <td>0.957216</td>\n",
              "      <td>0.957216</td>\n",
              "      <td>0.957216</td>\n",
              "      <td>0.957555</td>\n",
              "      <td>0.957349</td>\n",
              "      <td>0.000163</td>\n",
              "    </tr>\n",
              "    <tr>\n",
              "      <th>1</th>\n",
              "      <td>0.111640</td>\n",
              "      <td>0.025060</td>\n",
              "      <td>0.022077</td>\n",
              "      <td>0.008875</td>\n",
              "      <td>0.1</td>\n",
              "      <td>0.25</td>\n",
              "      <td>{'mdl__C': 0.1, 'mdl__l1_ratio': 0.25}</td>\n",
              "      <td>0.956581</td>\n",
              "      <td>0.95788</td>\n",
              "      <td>0.957880</td>\n",
              "      <td>...</td>\n",
              "      <td>0.957349</td>\n",
              "      <td>0.000651</td>\n",
              "      <td>11</td>\n",
              "      <td>0.957541</td>\n",
              "      <td>0.957216</td>\n",
              "      <td>0.957216</td>\n",
              "      <td>0.957216</td>\n",
              "      <td>0.957555</td>\n",
              "      <td>0.957349</td>\n",
              "      <td>0.000163</td>\n",
              "    </tr>\n",
              "    <tr>\n",
              "      <th>2</th>\n",
              "      <td>0.163066</td>\n",
              "      <td>0.006412</td>\n",
              "      <td>0.026083</td>\n",
              "      <td>0.004389</td>\n",
              "      <td>0.1</td>\n",
              "      <td>0.5</td>\n",
              "      <td>{'mdl__C': 0.1, 'mdl__l1_ratio': 0.5}</td>\n",
              "      <td>0.956581</td>\n",
              "      <td>0.95788</td>\n",
              "      <td>0.957880</td>\n",
              "      <td>...</td>\n",
              "      <td>0.957349</td>\n",
              "      <td>0.000651</td>\n",
              "      <td>11</td>\n",
              "      <td>0.957541</td>\n",
              "      <td>0.957216</td>\n",
              "      <td>0.957216</td>\n",
              "      <td>0.957216</td>\n",
              "      <td>0.957555</td>\n",
              "      <td>0.957349</td>\n",
              "      <td>0.000163</td>\n",
              "    </tr>\n",
              "    <tr>\n",
              "      <th>3</th>\n",
              "      <td>0.149033</td>\n",
              "      <td>0.008658</td>\n",
              "      <td>0.026018</td>\n",
              "      <td>0.006089</td>\n",
              "      <td>0.1</td>\n",
              "      <td>0.75</td>\n",
              "      <td>{'mdl__C': 0.1, 'mdl__l1_ratio': 0.75}</td>\n",
              "      <td>0.956581</td>\n",
              "      <td>0.95788</td>\n",
              "      <td>0.957880</td>\n",
              "      <td>...</td>\n",
              "      <td>0.957349</td>\n",
              "      <td>0.000651</td>\n",
              "      <td>11</td>\n",
              "      <td>0.957541</td>\n",
              "      <td>0.957216</td>\n",
              "      <td>0.957216</td>\n",
              "      <td>0.957216</td>\n",
              "      <td>0.957555</td>\n",
              "      <td>0.957349</td>\n",
              "      <td>0.000163</td>\n",
              "    </tr>\n",
              "    <tr>\n",
              "      <th>4</th>\n",
              "      <td>0.120665</td>\n",
              "      <td>0.022932</td>\n",
              "      <td>0.027515</td>\n",
              "      <td>0.008350</td>\n",
              "      <td>0.1</td>\n",
              "      <td>1.0</td>\n",
              "      <td>{'mdl__C': 0.1, 'mdl__l1_ratio': 1.0}</td>\n",
              "      <td>0.956581</td>\n",
              "      <td>0.95788</td>\n",
              "      <td>0.957880</td>\n",
              "      <td>...</td>\n",
              "      <td>0.957349</td>\n",
              "      <td>0.000651</td>\n",
              "      <td>11</td>\n",
              "      <td>0.957541</td>\n",
              "      <td>0.957216</td>\n",
              "      <td>0.957216</td>\n",
              "      <td>0.957216</td>\n",
              "      <td>0.957555</td>\n",
              "      <td>0.957349</td>\n",
              "      <td>0.000163</td>\n",
              "    </tr>\n",
              "    <tr>\n",
              "      <th>5</th>\n",
              "      <td>0.203358</td>\n",
              "      <td>0.034209</td>\n",
              "      <td>0.027398</td>\n",
              "      <td>0.004821</td>\n",
              "      <td>316.227766</td>\n",
              "      <td>0.0</td>\n",
              "      <td>{'mdl__C': 316.22776601683796, 'mdl__l1_ratio'...</td>\n",
              "      <td>0.956581</td>\n",
              "      <td>0.95788</td>\n",
              "      <td>0.959239</td>\n",
              "      <td>...</td>\n",
              "      <td>0.957620</td>\n",
              "      <td>0.001004</td>\n",
              "      <td>1</td>\n",
              "      <td>0.957880</td>\n",
              "      <td>0.957895</td>\n",
              "      <td>0.957216</td>\n",
              "      <td>0.957555</td>\n",
              "      <td>0.958234</td>\n",
              "      <td>0.957756</td>\n",
              "      <td>0.000345</td>\n",
              "    </tr>\n",
              "    <tr>\n",
              "      <th>6</th>\n",
              "      <td>0.220076</td>\n",
              "      <td>0.054057</td>\n",
              "      <td>0.022150</td>\n",
              "      <td>0.008820</td>\n",
              "      <td>316.227766</td>\n",
              "      <td>0.25</td>\n",
              "      <td>{'mdl__C': 316.22776601683796, 'mdl__l1_ratio'...</td>\n",
              "      <td>0.956581</td>\n",
              "      <td>0.95788</td>\n",
              "      <td>0.959239</td>\n",
              "      <td>...</td>\n",
              "      <td>0.957620</td>\n",
              "      <td>0.001004</td>\n",
              "      <td>1</td>\n",
              "      <td>0.957880</td>\n",
              "      <td>0.957895</td>\n",
              "      <td>0.957216</td>\n",
              "      <td>0.957555</td>\n",
              "      <td>0.958234</td>\n",
              "      <td>0.957756</td>\n",
              "      <td>0.000345</td>\n",
              "    </tr>\n",
              "    <tr>\n",
              "      <th>7</th>\n",
              "      <td>0.108933</td>\n",
              "      <td>0.028946</td>\n",
              "      <td>0.017306</td>\n",
              "      <td>0.006407</td>\n",
              "      <td>316.227766</td>\n",
              "      <td>0.5</td>\n",
              "      <td>{'mdl__C': 316.22776601683796, 'mdl__l1_ratio'...</td>\n",
              "      <td>0.956581</td>\n",
              "      <td>0.95788</td>\n",
              "      <td>0.959239</td>\n",
              "      <td>...</td>\n",
              "      <td>0.957620</td>\n",
              "      <td>0.001004</td>\n",
              "      <td>1</td>\n",
              "      <td>0.957880</td>\n",
              "      <td>0.957895</td>\n",
              "      <td>0.957216</td>\n",
              "      <td>0.957555</td>\n",
              "      <td>0.958234</td>\n",
              "      <td>0.957756</td>\n",
              "      <td>0.000345</td>\n",
              "    </tr>\n",
              "    <tr>\n",
              "      <th>8</th>\n",
              "      <td>0.110578</td>\n",
              "      <td>0.021808</td>\n",
              "      <td>0.013792</td>\n",
              "      <td>0.000791</td>\n",
              "      <td>316.227766</td>\n",
              "      <td>0.75</td>\n",
              "      <td>{'mdl__C': 316.22776601683796, 'mdl__l1_ratio'...</td>\n",
              "      <td>0.956581</td>\n",
              "      <td>0.95788</td>\n",
              "      <td>0.959239</td>\n",
              "      <td>...</td>\n",
              "      <td>0.957620</td>\n",
              "      <td>0.001004</td>\n",
              "      <td>1</td>\n",
              "      <td>0.957880</td>\n",
              "      <td>0.957895</td>\n",
              "      <td>0.957216</td>\n",
              "      <td>0.957555</td>\n",
              "      <td>0.958234</td>\n",
              "      <td>0.957756</td>\n",
              "      <td>0.000345</td>\n",
              "    </tr>\n",
              "    <tr>\n",
              "      <th>9</th>\n",
              "      <td>0.104579</td>\n",
              "      <td>0.026169</td>\n",
              "      <td>0.013452</td>\n",
              "      <td>0.000458</td>\n",
              "      <td>316.227766</td>\n",
              "      <td>1.0</td>\n",
              "      <td>{'mdl__C': 316.22776601683796, 'mdl__l1_ratio'...</td>\n",
              "      <td>0.956581</td>\n",
              "      <td>0.95788</td>\n",
              "      <td>0.959239</td>\n",
              "      <td>...</td>\n",
              "      <td>0.957620</td>\n",
              "      <td>0.001004</td>\n",
              "      <td>1</td>\n",
              "      <td>0.957880</td>\n",
              "      <td>0.957895</td>\n",
              "      <td>0.957216</td>\n",
              "      <td>0.957555</td>\n",
              "      <td>0.958234</td>\n",
              "      <td>0.957756</td>\n",
              "      <td>0.000345</td>\n",
              "    </tr>\n",
              "    <tr>\n",
              "      <th>10</th>\n",
              "      <td>0.095963</td>\n",
              "      <td>0.016095</td>\n",
              "      <td>0.015492</td>\n",
              "      <td>0.002738</td>\n",
              "      <td>1000000.0</td>\n",
              "      <td>0.0</td>\n",
              "      <td>{'mdl__C': 1000000.0, 'mdl__l1_ratio': 0.0}</td>\n",
              "      <td>0.956581</td>\n",
              "      <td>0.95788</td>\n",
              "      <td>0.959239</td>\n",
              "      <td>...</td>\n",
              "      <td>0.957620</td>\n",
              "      <td>0.001004</td>\n",
              "      <td>1</td>\n",
              "      <td>0.957880</td>\n",
              "      <td>0.957895</td>\n",
              "      <td>0.957216</td>\n",
              "      <td>0.957555</td>\n",
              "      <td>0.958234</td>\n",
              "      <td>0.957756</td>\n",
              "      <td>0.000345</td>\n",
              "    </tr>\n",
              "    <tr>\n",
              "      <th>11</th>\n",
              "      <td>0.103687</td>\n",
              "      <td>0.024045</td>\n",
              "      <td>0.013895</td>\n",
              "      <td>0.000578</td>\n",
              "      <td>1000000.0</td>\n",
              "      <td>0.25</td>\n",
              "      <td>{'mdl__C': 1000000.0, 'mdl__l1_ratio': 0.25}</td>\n",
              "      <td>0.956581</td>\n",
              "      <td>0.95788</td>\n",
              "      <td>0.959239</td>\n",
              "      <td>...</td>\n",
              "      <td>0.957620</td>\n",
              "      <td>0.001004</td>\n",
              "      <td>1</td>\n",
              "      <td>0.957880</td>\n",
              "      <td>0.957895</td>\n",
              "      <td>0.957216</td>\n",
              "      <td>0.957555</td>\n",
              "      <td>0.958234</td>\n",
              "      <td>0.957756</td>\n",
              "      <td>0.000345</td>\n",
              "    </tr>\n",
              "    <tr>\n",
              "      <th>12</th>\n",
              "      <td>0.116879</td>\n",
              "      <td>0.024085</td>\n",
              "      <td>0.014610</td>\n",
              "      <td>0.000833</td>\n",
              "      <td>1000000.0</td>\n",
              "      <td>0.5</td>\n",
              "      <td>{'mdl__C': 1000000.0, 'mdl__l1_ratio': 0.5}</td>\n",
              "      <td>0.956581</td>\n",
              "      <td>0.95788</td>\n",
              "      <td>0.959239</td>\n",
              "      <td>...</td>\n",
              "      <td>0.957620</td>\n",
              "      <td>0.001004</td>\n",
              "      <td>1</td>\n",
              "      <td>0.957880</td>\n",
              "      <td>0.957895</td>\n",
              "      <td>0.957216</td>\n",
              "      <td>0.957555</td>\n",
              "      <td>0.958234</td>\n",
              "      <td>0.957756</td>\n",
              "      <td>0.000345</td>\n",
              "    </tr>\n",
              "    <tr>\n",
              "      <th>13</th>\n",
              "      <td>0.106984</td>\n",
              "      <td>0.029726</td>\n",
              "      <td>0.014476</td>\n",
              "      <td>0.001370</td>\n",
              "      <td>1000000.0</td>\n",
              "      <td>0.75</td>\n",
              "      <td>{'mdl__C': 1000000.0, 'mdl__l1_ratio': 0.75}</td>\n",
              "      <td>0.956581</td>\n",
              "      <td>0.95788</td>\n",
              "      <td>0.959239</td>\n",
              "      <td>...</td>\n",
              "      <td>0.957620</td>\n",
              "      <td>0.001004</td>\n",
              "      <td>1</td>\n",
              "      <td>0.957880</td>\n",
              "      <td>0.957895</td>\n",
              "      <td>0.957216</td>\n",
              "      <td>0.957555</td>\n",
              "      <td>0.958234</td>\n",
              "      <td>0.957756</td>\n",
              "      <td>0.000345</td>\n",
              "    </tr>\n",
              "    <tr>\n",
              "      <th>14</th>\n",
              "      <td>0.111511</td>\n",
              "      <td>0.022400</td>\n",
              "      <td>0.014203</td>\n",
              "      <td>0.000577</td>\n",
              "      <td>1000000.0</td>\n",
              "      <td>1.0</td>\n",
              "      <td>{'mdl__C': 1000000.0, 'mdl__l1_ratio': 1.0}</td>\n",
              "      <td>0.956581</td>\n",
              "      <td>0.95788</td>\n",
              "      <td>0.959239</td>\n",
              "      <td>...</td>\n",
              "      <td>0.957620</td>\n",
              "      <td>0.001004</td>\n",
              "      <td>1</td>\n",
              "      <td>0.957880</td>\n",
              "      <td>0.957895</td>\n",
              "      <td>0.957216</td>\n",
              "      <td>0.957555</td>\n",
              "      <td>0.958234</td>\n",
              "      <td>0.957756</td>\n",
              "      <td>0.000345</td>\n",
              "    </tr>\n",
              "  </tbody>\n",
              "</table>\n",
              "<p>15 rows × 22 columns</p>\n",
              "</div>\n",
              "      <button class=\"colab-df-convert\" onclick=\"convertToInteractive('df-74f55ff3-15c3-4209-8c08-d2d9a8712d8e')\"\n",
              "              title=\"Convert this dataframe to an interactive table.\"\n",
              "              style=\"display:none;\">\n",
              "        \n",
              "  <svg xmlns=\"http://www.w3.org/2000/svg\" height=\"24px\"viewBox=\"0 0 24 24\"\n",
              "       width=\"24px\">\n",
              "    <path d=\"M0 0h24v24H0V0z\" fill=\"none\"/>\n",
              "    <path d=\"M18.56 5.44l.94 2.06.94-2.06 2.06-.94-2.06-.94-.94-2.06-.94 2.06-2.06.94zm-11 1L8.5 8.5l.94-2.06 2.06-.94-2.06-.94L8.5 2.5l-.94 2.06-2.06.94zm10 10l.94 2.06.94-2.06 2.06-.94-2.06-.94-.94-2.06-.94 2.06-2.06.94z\"/><path d=\"M17.41 7.96l-1.37-1.37c-.4-.4-.92-.59-1.43-.59-.52 0-1.04.2-1.43.59L10.3 9.45l-7.72 7.72c-.78.78-.78 2.05 0 2.83L4 21.41c.39.39.9.59 1.41.59.51 0 1.02-.2 1.41-.59l7.78-7.78 2.81-2.81c.8-.78.8-2.07 0-2.86zM5.41 20L4 18.59l7.72-7.72 1.47 1.35L5.41 20z\"/>\n",
              "  </svg>\n",
              "      </button>\n",
              "      \n",
              "  <style>\n",
              "    .colab-df-container {\n",
              "      display:flex;\n",
              "      flex-wrap:wrap;\n",
              "      gap: 12px;\n",
              "    }\n",
              "\n",
              "    .colab-df-convert {\n",
              "      background-color: #E8F0FE;\n",
              "      border: none;\n",
              "      border-radius: 50%;\n",
              "      cursor: pointer;\n",
              "      display: none;\n",
              "      fill: #1967D2;\n",
              "      height: 32px;\n",
              "      padding: 0 0 0 0;\n",
              "      width: 32px;\n",
              "    }\n",
              "\n",
              "    .colab-df-convert:hover {\n",
              "      background-color: #E2EBFA;\n",
              "      box-shadow: 0px 1px 2px rgba(60, 64, 67, 0.3), 0px 1px 3px 1px rgba(60, 64, 67, 0.15);\n",
              "      fill: #174EA6;\n",
              "    }\n",
              "\n",
              "    [theme=dark] .colab-df-convert {\n",
              "      background-color: #3B4455;\n",
              "      fill: #D2E3FC;\n",
              "    }\n",
              "\n",
              "    [theme=dark] .colab-df-convert:hover {\n",
              "      background-color: #434B5C;\n",
              "      box-shadow: 0px 1px 3px 1px rgba(0, 0, 0, 0.15);\n",
              "      filter: drop-shadow(0px 1px 2px rgba(0, 0, 0, 0.3));\n",
              "      fill: #FFFFFF;\n",
              "    }\n",
              "  </style>\n",
              "\n",
              "      <script>\n",
              "        const buttonEl =\n",
              "          document.querySelector('#df-74f55ff3-15c3-4209-8c08-d2d9a8712d8e button.colab-df-convert');\n",
              "        buttonEl.style.display =\n",
              "          google.colab.kernel.accessAllowed ? 'block' : 'none';\n",
              "\n",
              "        async function convertToInteractive(key) {\n",
              "          const element = document.querySelector('#df-74f55ff3-15c3-4209-8c08-d2d9a8712d8e');\n",
              "          const dataTable =\n",
              "            await google.colab.kernel.invokeFunction('convertToInteractive',\n",
              "                                                     [key], {});\n",
              "          if (!dataTable) return;\n",
              "\n",
              "          const docLinkHtml = 'Like what you see? Visit the ' +\n",
              "            '<a target=\"_blank\" href=https://colab.research.google.com/notebooks/data_table.ipynb>data table notebook</a>'\n",
              "            + ' to learn more about interactive tables.';\n",
              "          element.innerHTML = '';\n",
              "          dataTable['output_type'] = 'display_data';\n",
              "          await google.colab.output.renderOutput(dataTable, element);\n",
              "          const docLink = document.createElement('div');\n",
              "          docLink.innerHTML = docLinkHtml;\n",
              "          element.appendChild(docLink);\n",
              "        }\n",
              "      </script>\n",
              "    </div>\n",
              "  </div>\n",
              "  "
            ]
          },
          "metadata": {},
          "execution_count": 192
        }
      ]
    },
    {
      "cell_type": "markdown",
      "source": [
        "## Final Fit\n",
        "The final fit here is already present in the generated model due to the way we set our parameters in the grid search. If we want to look at the performance, we can do so. Here is a non-helpful description of the best model:"
      ],
      "metadata": {
        "id": "rshuE1hC9Cs2"
      }
    },
    {
      "cell_type": "code",
      "source": [
        "grid_search.best_estimator_"
      ],
      "metadata": {
        "id": "WgZbcbvx9Pbu",
        "outputId": "4b1843dd-7211-41c7-f9b3-e6d212cfb6a7",
        "colab": {
          "base_uri": "https://localhost:8080/",
          "height": 227
        }
      },
      "execution_count": 193,
      "outputs": [
        {
          "output_type": "execute_result",
          "data": {
            "text/plain": [
              "Pipeline(steps=[('preproc',\n",
              "                 ColumnTransformer(remainder='passthrough',\n",
              "                                   transformers=[('cat_pipe',\n",
              "                                                  Pipeline(steps=[('cat_impute',\n",
              "                                                                   SimpleImputer(strategy='most_frequent')),\n",
              "                                                                  ('onehot_cat',\n",
              "                                                                   OneHotEncoder())]),\n",
              "                                                  ['gender', 'hypertension',\n",
              "                                                   'heart_disease',\n",
              "                                                   'ever_married', 'work_type',\n",
              "                                                   'Residence_type',\n",
              "                                                   'smoking_status', 'bmi_cat',\n",
              "                                                   'avg_glucose_level_cat']),\n",
              "                                                 ('num_pipe',\n",
              "                                                  Pipeline(steps=[('impute_num',\n",
              "                                                                   SimpleImputer()),\n",
              "                                                                  ('scale_num',\n",
              "                                                                   StandardScaler())]),\n",
              "                                                  ['age'])])),\n",
              "                ('mdl',\n",
              "                 LogisticRegression(C=316.22776601683796, l1_ratio=0.0,\n",
              "                                    penalty='elasticnet', solver='saga',\n",
              "                                    tol=0.01))])"
            ],
            "text/html": [
              "<style>#sk-container-id-12 {color: black;background-color: white;}#sk-container-id-12 pre{padding: 0;}#sk-container-id-12 div.sk-toggleable {background-color: white;}#sk-container-id-12 label.sk-toggleable__label {cursor: pointer;display: block;width: 100%;margin-bottom: 0;padding: 0.3em;box-sizing: border-box;text-align: center;}#sk-container-id-12 label.sk-toggleable__label-arrow:before {content: \"▸\";float: left;margin-right: 0.25em;color: #696969;}#sk-container-id-12 label.sk-toggleable__label-arrow:hover:before {color: black;}#sk-container-id-12 div.sk-estimator:hover label.sk-toggleable__label-arrow:before {color: black;}#sk-container-id-12 div.sk-toggleable__content {max-height: 0;max-width: 0;overflow: hidden;text-align: left;background-color: #f0f8ff;}#sk-container-id-12 div.sk-toggleable__content pre {margin: 0.2em;color: black;border-radius: 0.25em;background-color: #f0f8ff;}#sk-container-id-12 input.sk-toggleable__control:checked~div.sk-toggleable__content {max-height: 200px;max-width: 100%;overflow: auto;}#sk-container-id-12 input.sk-toggleable__control:checked~label.sk-toggleable__label-arrow:before {content: \"▾\";}#sk-container-id-12 div.sk-estimator input.sk-toggleable__control:checked~label.sk-toggleable__label {background-color: #d4ebff;}#sk-container-id-12 div.sk-label input.sk-toggleable__control:checked~label.sk-toggleable__label {background-color: #d4ebff;}#sk-container-id-12 input.sk-hidden--visually {border: 0;clip: rect(1px 1px 1px 1px);clip: rect(1px, 1px, 1px, 1px);height: 1px;margin: -1px;overflow: hidden;padding: 0;position: absolute;width: 1px;}#sk-container-id-12 div.sk-estimator {font-family: monospace;background-color: #f0f8ff;border: 1px dotted black;border-radius: 0.25em;box-sizing: border-box;margin-bottom: 0.5em;}#sk-container-id-12 div.sk-estimator:hover {background-color: #d4ebff;}#sk-container-id-12 div.sk-parallel-item::after {content: \"\";width: 100%;border-bottom: 1px solid gray;flex-grow: 1;}#sk-container-id-12 div.sk-label:hover label.sk-toggleable__label {background-color: #d4ebff;}#sk-container-id-12 div.sk-serial::before {content: \"\";position: absolute;border-left: 1px solid gray;box-sizing: border-box;top: 0;bottom: 0;left: 50%;z-index: 0;}#sk-container-id-12 div.sk-serial {display: flex;flex-direction: column;align-items: center;background-color: white;padding-right: 0.2em;padding-left: 0.2em;position: relative;}#sk-container-id-12 div.sk-item {position: relative;z-index: 1;}#sk-container-id-12 div.sk-parallel {display: flex;align-items: stretch;justify-content: center;background-color: white;position: relative;}#sk-container-id-12 div.sk-item::before, #sk-container-id-12 div.sk-parallel-item::before {content: \"\";position: absolute;border-left: 1px solid gray;box-sizing: border-box;top: 0;bottom: 0;left: 50%;z-index: -1;}#sk-container-id-12 div.sk-parallel-item {display: flex;flex-direction: column;z-index: 1;position: relative;background-color: white;}#sk-container-id-12 div.sk-parallel-item:first-child::after {align-self: flex-end;width: 50%;}#sk-container-id-12 div.sk-parallel-item:last-child::after {align-self: flex-start;width: 50%;}#sk-container-id-12 div.sk-parallel-item:only-child::after {width: 0;}#sk-container-id-12 div.sk-dashed-wrapped {border: 1px dashed gray;margin: 0 0.4em 0.5em 0.4em;box-sizing: border-box;padding-bottom: 0.4em;background-color: white;}#sk-container-id-12 div.sk-label label {font-family: monospace;font-weight: bold;display: inline-block;line-height: 1.2em;}#sk-container-id-12 div.sk-label-container {text-align: center;}#sk-container-id-12 div.sk-container {/* jupyter's `normalize.less` sets `[hidden] { display: none; }` but bootstrap.min.css set `[hidden] { display: none !important; }` so we also need the `!important` here to be able to override the default hidden behavior on the sphinx rendered scikit-learn.org. See: https://github.com/scikit-learn/scikit-learn/issues/21755 */display: inline-block !important;position: relative;}#sk-container-id-12 div.sk-text-repr-fallback {display: none;}</style><div id=\"sk-container-id-12\" class=\"sk-top-container\"><div class=\"sk-text-repr-fallback\"><pre>Pipeline(steps=[(&#x27;preproc&#x27;,\n",
              "                 ColumnTransformer(remainder=&#x27;passthrough&#x27;,\n",
              "                                   transformers=[(&#x27;cat_pipe&#x27;,\n",
              "                                                  Pipeline(steps=[(&#x27;cat_impute&#x27;,\n",
              "                                                                   SimpleImputer(strategy=&#x27;most_frequent&#x27;)),\n",
              "                                                                  (&#x27;onehot_cat&#x27;,\n",
              "                                                                   OneHotEncoder())]),\n",
              "                                                  [&#x27;gender&#x27;, &#x27;hypertension&#x27;,\n",
              "                                                   &#x27;heart_disease&#x27;,\n",
              "                                                   &#x27;ever_married&#x27;, &#x27;work_type&#x27;,\n",
              "                                                   &#x27;Residence_type&#x27;,\n",
              "                                                   &#x27;smoking_status&#x27;, &#x27;bmi_cat&#x27;,\n",
              "                                                   &#x27;avg_glucose_level_cat&#x27;]),\n",
              "                                                 (&#x27;num_pipe&#x27;,\n",
              "                                                  Pipeline(steps=[(&#x27;impute_num&#x27;,\n",
              "                                                                   SimpleImputer()),\n",
              "                                                                  (&#x27;scale_num&#x27;,\n",
              "                                                                   StandardScaler())]),\n",
              "                                                  [&#x27;age&#x27;])])),\n",
              "                (&#x27;mdl&#x27;,\n",
              "                 LogisticRegression(C=316.22776601683796, l1_ratio=0.0,\n",
              "                                    penalty=&#x27;elasticnet&#x27;, solver=&#x27;saga&#x27;,\n",
              "                                    tol=0.01))])</pre><b>In a Jupyter environment, please rerun this cell to show the HTML representation or trust the notebook. <br />On GitHub, the HTML representation is unable to render, please try loading this page with nbviewer.org.</b></div><div class=\"sk-container\" hidden><div class=\"sk-item sk-dashed-wrapped\"><div class=\"sk-label-container\"><div class=\"sk-label sk-toggleable\"><input class=\"sk-toggleable__control sk-hidden--visually\" id=\"sk-estimator-id-116\" type=\"checkbox\" ><label for=\"sk-estimator-id-116\" class=\"sk-toggleable__label sk-toggleable__label-arrow\">Pipeline</label><div class=\"sk-toggleable__content\"><pre>Pipeline(steps=[(&#x27;preproc&#x27;,\n",
              "                 ColumnTransformer(remainder=&#x27;passthrough&#x27;,\n",
              "                                   transformers=[(&#x27;cat_pipe&#x27;,\n",
              "                                                  Pipeline(steps=[(&#x27;cat_impute&#x27;,\n",
              "                                                                   SimpleImputer(strategy=&#x27;most_frequent&#x27;)),\n",
              "                                                                  (&#x27;onehot_cat&#x27;,\n",
              "                                                                   OneHotEncoder())]),\n",
              "                                                  [&#x27;gender&#x27;, &#x27;hypertension&#x27;,\n",
              "                                                   &#x27;heart_disease&#x27;,\n",
              "                                                   &#x27;ever_married&#x27;, &#x27;work_type&#x27;,\n",
              "                                                   &#x27;Residence_type&#x27;,\n",
              "                                                   &#x27;smoking_status&#x27;, &#x27;bmi_cat&#x27;,\n",
              "                                                   &#x27;avg_glucose_level_cat&#x27;]),\n",
              "                                                 (&#x27;num_pipe&#x27;,\n",
              "                                                  Pipeline(steps=[(&#x27;impute_num&#x27;,\n",
              "                                                                   SimpleImputer()),\n",
              "                                                                  (&#x27;scale_num&#x27;,\n",
              "                                                                   StandardScaler())]),\n",
              "                                                  [&#x27;age&#x27;])])),\n",
              "                (&#x27;mdl&#x27;,\n",
              "                 LogisticRegression(C=316.22776601683796, l1_ratio=0.0,\n",
              "                                    penalty=&#x27;elasticnet&#x27;, solver=&#x27;saga&#x27;,\n",
              "                                    tol=0.01))])</pre></div></div></div><div class=\"sk-serial\"><div class=\"sk-item sk-dashed-wrapped\"><div class=\"sk-label-container\"><div class=\"sk-label sk-toggleable\"><input class=\"sk-toggleable__control sk-hidden--visually\" id=\"sk-estimator-id-117\" type=\"checkbox\" ><label for=\"sk-estimator-id-117\" class=\"sk-toggleable__label sk-toggleable__label-arrow\">preproc: ColumnTransformer</label><div class=\"sk-toggleable__content\"><pre>ColumnTransformer(remainder=&#x27;passthrough&#x27;,\n",
              "                  transformers=[(&#x27;cat_pipe&#x27;,\n",
              "                                 Pipeline(steps=[(&#x27;cat_impute&#x27;,\n",
              "                                                  SimpleImputer(strategy=&#x27;most_frequent&#x27;)),\n",
              "                                                 (&#x27;onehot_cat&#x27;,\n",
              "                                                  OneHotEncoder())]),\n",
              "                                 [&#x27;gender&#x27;, &#x27;hypertension&#x27;, &#x27;heart_disease&#x27;,\n",
              "                                  &#x27;ever_married&#x27;, &#x27;work_type&#x27;, &#x27;Residence_type&#x27;,\n",
              "                                  &#x27;smoking_status&#x27;, &#x27;bmi_cat&#x27;,\n",
              "                                  &#x27;avg_glucose_level_cat&#x27;]),\n",
              "                                (&#x27;num_pipe&#x27;,\n",
              "                                 Pipeline(steps=[(&#x27;impute_num&#x27;,\n",
              "                                                  SimpleImputer()),\n",
              "                                                 (&#x27;scale_num&#x27;,\n",
              "                                                  StandardScaler())]),\n",
              "                                 [&#x27;age&#x27;])])</pre></div></div></div><div class=\"sk-parallel\"><div class=\"sk-parallel-item\"><div class=\"sk-item\"><div class=\"sk-label-container\"><div class=\"sk-label sk-toggleable\"><input class=\"sk-toggleable__control sk-hidden--visually\" id=\"sk-estimator-id-118\" type=\"checkbox\" ><label for=\"sk-estimator-id-118\" class=\"sk-toggleable__label sk-toggleable__label-arrow\">cat_pipe</label><div class=\"sk-toggleable__content\"><pre>[&#x27;gender&#x27;, &#x27;hypertension&#x27;, &#x27;heart_disease&#x27;, &#x27;ever_married&#x27;, &#x27;work_type&#x27;, &#x27;Residence_type&#x27;, &#x27;smoking_status&#x27;, &#x27;bmi_cat&#x27;, &#x27;avg_glucose_level_cat&#x27;]</pre></div></div></div><div class=\"sk-serial\"><div class=\"sk-item\"><div class=\"sk-serial\"><div class=\"sk-item\"><div class=\"sk-estimator sk-toggleable\"><input class=\"sk-toggleable__control sk-hidden--visually\" id=\"sk-estimator-id-119\" type=\"checkbox\" ><label for=\"sk-estimator-id-119\" class=\"sk-toggleable__label sk-toggleable__label-arrow\">SimpleImputer</label><div class=\"sk-toggleable__content\"><pre>SimpleImputer(strategy=&#x27;most_frequent&#x27;)</pre></div></div></div><div class=\"sk-item\"><div class=\"sk-estimator sk-toggleable\"><input class=\"sk-toggleable__control sk-hidden--visually\" id=\"sk-estimator-id-120\" type=\"checkbox\" ><label for=\"sk-estimator-id-120\" class=\"sk-toggleable__label sk-toggleable__label-arrow\">OneHotEncoder</label><div class=\"sk-toggleable__content\"><pre>OneHotEncoder()</pre></div></div></div></div></div></div></div></div><div class=\"sk-parallel-item\"><div class=\"sk-item\"><div class=\"sk-label-container\"><div class=\"sk-label sk-toggleable\"><input class=\"sk-toggleable__control sk-hidden--visually\" id=\"sk-estimator-id-121\" type=\"checkbox\" ><label for=\"sk-estimator-id-121\" class=\"sk-toggleable__label sk-toggleable__label-arrow\">num_pipe</label><div class=\"sk-toggleable__content\"><pre>[&#x27;age&#x27;]</pre></div></div></div><div class=\"sk-serial\"><div class=\"sk-item\"><div class=\"sk-serial\"><div class=\"sk-item\"><div class=\"sk-estimator sk-toggleable\"><input class=\"sk-toggleable__control sk-hidden--visually\" id=\"sk-estimator-id-122\" type=\"checkbox\" ><label for=\"sk-estimator-id-122\" class=\"sk-toggleable__label sk-toggleable__label-arrow\">SimpleImputer</label><div class=\"sk-toggleable__content\"><pre>SimpleImputer()</pre></div></div></div><div class=\"sk-item\"><div class=\"sk-estimator sk-toggleable\"><input class=\"sk-toggleable__control sk-hidden--visually\" id=\"sk-estimator-id-123\" type=\"checkbox\" ><label for=\"sk-estimator-id-123\" class=\"sk-toggleable__label sk-toggleable__label-arrow\">StandardScaler</label><div class=\"sk-toggleable__content\"><pre>StandardScaler()</pre></div></div></div></div></div></div></div></div><div class=\"sk-parallel-item\"><div class=\"sk-item\"><div class=\"sk-label-container\"><div class=\"sk-label sk-toggleable\"><input class=\"sk-toggleable__control sk-hidden--visually\" id=\"sk-estimator-id-124\" type=\"checkbox\" ><label for=\"sk-estimator-id-124\" class=\"sk-toggleable__label sk-toggleable__label-arrow\">remainder</label><div class=\"sk-toggleable__content\"><pre>[]</pre></div></div></div><div class=\"sk-serial\"><div class=\"sk-item\"><div class=\"sk-estimator sk-toggleable\"><input class=\"sk-toggleable__control sk-hidden--visually\" id=\"sk-estimator-id-125\" type=\"checkbox\" ><label for=\"sk-estimator-id-125\" class=\"sk-toggleable__label sk-toggleable__label-arrow\">passthrough</label><div class=\"sk-toggleable__content\"><pre>passthrough</pre></div></div></div></div></div></div></div></div><div class=\"sk-item\"><div class=\"sk-estimator sk-toggleable\"><input class=\"sk-toggleable__control sk-hidden--visually\" id=\"sk-estimator-id-126\" type=\"checkbox\" ><label for=\"sk-estimator-id-126\" class=\"sk-toggleable__label sk-toggleable__label-arrow\">LogisticRegression</label><div class=\"sk-toggleable__content\"><pre>LogisticRegression(C=316.22776601683796, l1_ratio=0.0, penalty=&#x27;elasticnet&#x27;,\n",
              "                   solver=&#x27;saga&#x27;, tol=0.01)</pre></div></div></div></div></div></div></div>"
            ]
          },
          "metadata": {},
          "execution_count": 193
        }
      ]
    },
    {
      "cell_type": "markdown",
      "source": [
        "## Variable importance\n",
        "Assess the importance in the selected model to reveal any potential insights."
      ],
      "metadata": {
        "id": "ek3ZXrG-9Sob"
      }
    },
    {
      "cell_type": "code",
      "source": [
        "# Printing our target classes\n",
        "grid_search.classes_"
      ],
      "metadata": {
        "id": "yq86orgw9f-L",
        "outputId": "01f2e47a-878b-4325-baa2-6f1d869dfb54",
        "colab": {
          "base_uri": "https://localhost:8080/"
        }
      },
      "execution_count": 194,
      "outputs": [
        {
          "output_type": "execute_result",
          "data": {
            "text/plain": [
              "array([0, 1])"
            ]
          },
          "metadata": {},
          "execution_count": 194
        }
      ]
    },
    {
      "cell_type": "code",
      "source": [
        "# Get the weights of our features used in the best model (estimator)\n",
        "coefs = grid_search.best_estimator_['mdl'].coef_[0]\n",
        "coefs"
      ],
      "metadata": {
        "id": "S5i3L0iR9mjt",
        "outputId": "343b8c2f-8d5a-499c-9e13-40b61cc533dd",
        "colab": {
          "base_uri": "https://localhost:8080/"
        }
      },
      "execution_count": 195,
      "outputs": [
        {
          "output_type": "execute_result",
          "data": {
            "text/plain": [
              "array([-0.43150391, -0.42241934, -0.67543835, -0.1784849 , -0.58694109,\n",
              "       -0.26698216, -0.34782482, -0.50609843, -0.54348667, -0.13142409,\n",
              "       -0.18450798, -0.60945007,  0.61494556, -0.48767881, -0.36624443,\n",
              "       -0.3933615 , -0.18347556, -0.24551053, -0.03157567, -0.05981677,\n",
              "       -0.05664355,  0.13558608, -0.87304901,  0.09467845, -0.4225455 ,\n",
              "       -0.52605619,  1.68069587])"
            ]
          },
          "metadata": {},
          "execution_count": 195
        }
      ]
    },
    {
      "cell_type": "code",
      "source": [
        "grid_search.best_estimator_.named_steps['preproc'].transformers_"
      ],
      "metadata": {
        "id": "tPWP7Mdf9oos",
        "outputId": "9f09ab89-f8f4-48bc-b0fd-98d0f38c7960",
        "colab": {
          "base_uri": "https://localhost:8080/"
        }
      },
      "execution_count": 196,
      "outputs": [
        {
          "output_type": "execute_result",
          "data": {
            "text/plain": [
              "[('cat_pipe',\n",
              "  Pipeline(steps=[('cat_impute', SimpleImputer(strategy='most_frequent')),\n",
              "                  ('onehot_cat', OneHotEncoder())]),\n",
              "  ['gender',\n",
              "   'hypertension',\n",
              "   'heart_disease',\n",
              "   'ever_married',\n",
              "   'work_type',\n",
              "   'Residence_type',\n",
              "   'smoking_status',\n",
              "   'bmi_cat',\n",
              "   'avg_glucose_level_cat']),\n",
              " ('num_pipe',\n",
              "  Pipeline(steps=[('impute_num', SimpleImputer()),\n",
              "                  ('scale_num', StandardScaler())]),\n",
              "  ['age'])]"
            ]
          },
          "metadata": {},
          "execution_count": 196
        }
      ]
    },
    {
      "cell_type": "code",
      "source": [
        "# get back the categorical features' original categories - recall that index 0 had the cat_pipe\n",
        "cat_names = grid_search.best_estimator_.named_steps['preproc'].transformers_[0][1].named_steps['onehot_cat'].get_feature_names_out()\n",
        "\n",
        "# get back the numerical features - recall that index 1 was the num_pipe\n",
        "num_names = grid_search.best_estimator_.named_steps['preproc'].transformers_[1][2]\n",
        "\n",
        "# score coefficients into a new dataframe\n",
        "coef_info = pd.DataFrame({'feature_names': np.hstack([cat_names, num_names]), 'feature_imp': coefs})\n",
        "\n",
        "# get sign and magnitude of the weights (coefs)\n",
        "coef_info = coef_info.assign(coef_mag = abs(coef_info['feature_imp']),\n",
        "                             coef_sign = np.sign(coef_info['feature_imp']))\n",
        "\n",
        "# sort the coef_info dataframe and plot with a barplot! \n",
        "coef_info = coef_info.set_index('feature_names').sort_values(by='coef_mag', ascending=False)\n",
        "sns.barplot(y=coef_info.index, x='coef_mag', hue='coef_sign', data=coef_info, orient='h', dodge=False);"
      ],
      "metadata": {
        "id": "20CncaqZ9rkk",
        "outputId": "a9e23284-fc4e-4e84-8870-c355b7f1069e",
        "colab": {
          "base_uri": "https://localhost:8080/",
          "height": 450
        }
      },
      "execution_count": 198,
      "outputs": [
        {
          "output_type": "display_data",
          "data": {
            "text/plain": [
              "<Figure size 640x480 with 1 Axes>"
            ],
            "image/png": "[encoded data removed]"
          },
          "metadata": {}
        }
      ]
    },
    {
      "cell_type": "markdown",
      "source": [
        "## Performance metrics on test data\n",
        "Here, we can see the performance of the model, which is pretty good, at least for Radial Velocity and Transit! We can also look into different scores specifically for more insight into the performance."
      ],
      "metadata": {
        "id": "MkF1LRDF97IA"
      }
    },
    {
      "cell_type": "markdown",
      "source": [],
      "metadata": {
        "id": "2rpM5SsT-Agz"
      }
    },
    {
      "cell_type": "code",
      "source": [
        "print(classification_report(y_test, grid_search.best_estimator_.predict(X_test))) # prediction on test set"
      ],
      "metadata": {
        "id": "d0QiZMW091MW",
        "outputId": "66f996ec-901b-4034-8d70-a8db10f5e9e5",
        "colab": {
          "base_uri": "https://localhost:8080/"
        }
      },
      "execution_count": 199,
      "outputs": [
        {
          "output_type": "stream",
          "name": "stdout",
          "text": [
            "              precision    recall  f1-score   support\n",
            "\n",
            "           0       0.96      1.00      0.98      1175\n",
            "           1       0.00      0.00      0.00        52\n",
            "\n",
            "    accuracy                           0.96      1227\n",
            "   macro avg       0.48      0.50      0.49      1227\n",
            "weighted avg       0.92      0.96      0.94      1227\n",
            "\n"
          ]
        }
      ]
    },
    {
      "cell_type": "code",
      "source": [
        "cm = confusion_matrix(y_test, grid_search.best_estimator_.predict(X_test))\n",
        "disp = ConfusionMatrixDisplay(confusion_matrix=cm,\n",
        "                               display_labels=grid_search.classes_)\n",
        "disp.plot()\n",
        "\n",
        "plt.show()"
      ],
      "metadata": {
        "id": "QoYM6sgW-B8d",
        "outputId": "bfd3a19f-9980-40f5-8f58-3e70913cfb6a",
        "colab": {
          "base_uri": "https://localhost:8080/",
          "height": 449
        }
      },
      "execution_count": 200,
      "outputs": [
        {
          "output_type": "display_data",
          "data": {
            "text/plain": [
              "<Figure size 640x480 with 2 Axes>"
            ],
            "image/png": "[encoded data removed]"
          },
          "metadata": {}
        }
      ]
    },
    {
      "cell_type": "markdown",
      "source": [
        "# Model Fit & Evaluation\n",
        "  \n",
        "*  I think age, hypertension, and heart disease will be the features the are most important.  BMI may have some factor, I'm curious to see. \n",
        "*  My hope is to have a model score of 80% or higher. \n",
        "*  Because the last step of my pipeline was to make it a model pipeline, I can use fit methods.  I plan to check it with\n",
        "fit(X[,y]).  This will iterate through and provide the appropriate methods for fitting.  \n",
        "*  I'll define a tuning grid.  It will create equally spaced parameters to explore.  A cross validation grid search will be setup.  \n",
        "*  I will only use my train data when fitting the model.\n",
        "*  I will only use my train data when exploring and tuning the hyperparameters.\n",
        "\n"
      ],
      "metadata": {
        "id": "uREcjYMBpZcN"
      }
    },
    {
      "cell_type": "markdown",
      "source": [
        "# References\n",
        "\n",
        "\n",
        "1.   https://www.cdc.gov/stroke/index.htm\n",
        "1.   https://www.who.int/news-room/fact-sheets/detail/the-top-10-causes-of-death\n",
        "1.   https://www.cdc.gov/stroke/facts.htm\n",
        "1.   https://www.cdc.gov/vitalsigns/stroke/\n",
        "1.   Strilciuc S, Grad DA, Radu C, Chira D, Stan A, Ungureanu M, Gheorghe A, Muresanu FD. The economic burden of stroke: a systematic review of cost of illness studies. J Med Life. 2021 Sep-Oct;14(5):606-619. doi: 10.25122/jml-2021-0361. PMID: 35027963; PMCID: PMC8742896.\n",
        "1.   https://www.cdc.gov/stroke/prevention.htm\n",
        "\n",
        "\n"
      ],
      "metadata": {
        "id": "Vjz5O4kLfgzF"
      }
    }
  ]
}